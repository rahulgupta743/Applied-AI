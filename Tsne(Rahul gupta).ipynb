{
 "cells": [
  {
   "cell_type": "markdown",
   "metadata": {
    "colab_type": "text",
    "id": "1T9aMPXGQcOL"
   },
   "source": [
    "# TSNE visualization of amazon food review"
   ]
  },
  {
   "cell_type": "code",
   "execution_count": 0,
   "metadata": {
    "colab": {},
    "colab_type": "code",
    "id": "CPcFLxA23e5H"
   },
   "outputs": [],
   "source": [
    "from sklearn.manifold import TSNE\n",
    "import sqlite3\n",
    "import pandas as pd\n",
    "import numpy as np\n",
    "import nltk\n",
    "import string"
   ]
  },
  {
   "cell_type": "code",
   "execution_count": 0,
   "metadata": {
    "colab": {},
    "colab_type": "code",
    "id": "tZNwBSdsQcOl"
   },
   "outputs": [],
   "source": [
    "import matplotlib.pyplot as plt\n",
    "import seaborn as sns\n",
    "from sklearn.feature_extraction.text import TfidfTransformer\n",
    "from sklearn.feature_extraction.text import TfidfVectorizer\n",
    "\n",
    "from sklearn.feature_extraction.text import CountVectorizer\n",
    "from sklearn.metrics import confusion_matrix\n",
    "from sklearn import metrics\n",
    "from sklearn.metrics import roc_curve, auc\n",
    "from nltk.stem.porter import PorterStemmer\n",
    "\n",
    "\n",
    "\n",
    "# using the SQLite Table to read data.\n",
    "\n"
   ]
  },
  {
   "cell_type": "code",
   "execution_count": 0,
   "metadata": {
    "colab": {},
    "colab_type": "code",
    "id": "0miCE3TgQcOq"
   },
   "outputs": [],
   "source": [
    "\n",
    "con = sqlite3.connect('database.sqlite') \n",
    "filtered_data=pd.read_sql_query(\"SELECT * FROM Reviews WHERE Score!=3\",con)\n"
   ]
  },
  {
   "cell_type": "code",
   "execution_count": 16,
   "metadata": {
    "colab": {
     "base_uri": "https://localhost:8080/",
     "height": 34
    },
    "colab_type": "code",
    "id": "1stLtw0pV04_",
    "outputId": "2b07c202-9d05-4de9-8780-c2c8ae1efc27"
   },
   "outputs": [
    {
     "data": {
      "text/plain": [
       "(525814, 10)"
      ]
     },
     "execution_count": 16,
     "metadata": {
      "tags": []
     },
     "output_type": "execute_result"
    }
   ],
   "source": [
    "filtered_data.shape"
   ]
  },
  {
   "cell_type": "code",
   "execution_count": 17,
   "metadata": {
    "colab": {
     "base_uri": "https://localhost:8080/",
     "height": 5326
    },
    "colab_type": "code",
    "id": "t9_9so1dV-ph",
    "outputId": "71b0519c-33ce-4f2b-fd35-eeed349d2ade"
   },
   "outputs": [
    {
     "data": {
      "text/plain": [
       "<bound method NDFrame.head of             Id   ProductId          UserId  \\\n",
       "0            1  B001E4KFG0  A3SGXH7AUHU8GW   \n",
       "1            2  B00813GRG4  A1D87F6ZCVE5NK   \n",
       "2            3  B000LQOCH0   ABXLMWJIXXAIN   \n",
       "3            4  B000UA0QIQ  A395BORC6FGVXV   \n",
       "4            5  B006K2ZZ7K  A1UQRSCLF8GW1T   \n",
       "5            6  B006K2ZZ7K   ADT0SRK1MGOEU   \n",
       "6            7  B006K2ZZ7K  A1SP2KVKFXXRU1   \n",
       "7            8  B006K2ZZ7K  A3JRGQVEQN31IQ   \n",
       "8            9  B000E7L2R4  A1MZYO9TZK0BBI   \n",
       "9           10  B00171APVA  A21BT40VZCCYT4   \n",
       "10          11  B0001PB9FE  A3HDKO7OW0QNK4   \n",
       "11          12  B0009XLVG0  A2725IB4YY9JEB   \n",
       "12          13  B0009XLVG0   A327PCT23YH90   \n",
       "13          14  B001GVISJM  A18ECVX2RJ7HUE   \n",
       "14          15  B001GVISJM  A2MUGFV2TDQ47K   \n",
       "15          16  B001GVISJM  A1CZX3CP8IKQIJ   \n",
       "16          17  B001GVISJM  A3KLWF6WQ5BNYO   \n",
       "17          18  B001GVISJM   AFKW14U97Z6QO   \n",
       "18          19  B001GVISJM  A2A9X58G2GTBLP   \n",
       "19          20  B001GVISJM  A3IV7CL2C13K2U   \n",
       "20          21  B001GVISJM  A1WO0KGLPR5PV6   \n",
       "21          22  B001GVISJM   AZOF9E17RGZH8   \n",
       "22          23  B001GVISJM   ARYVQL4N737A1   \n",
       "23          24  B001GVISJM   AJ613OLZZUG7V   \n",
       "24          25  B001GVISJM  A22P2J09NJ9HKE   \n",
       "25          26  B001GVISJM  A3FONPR03H3PJS   \n",
       "26          27  B001GVISJM  A3RXAU2N8KV45G   \n",
       "27          28  B001GVISJM   AAAS38B98HMIK   \n",
       "28          29  B00144C10S  A2F4LZVGFLD1OB   \n",
       "29          30  B0001PB9FY  A3HDKO7OW0QNK4   \n",
       "...        ...         ...             ...   \n",
       "525784  568425  B001FPT1WM  A291HTT117RVS9   \n",
       "525785  568426  B001FPT1WM   A1TRJQBYQFZW4   \n",
       "525786  568427  B001FPT1WM  A2F25C6QCKJ3HL   \n",
       "525787  568428  B001FPT1WM   A7VLVCQJIROTF   \n",
       "525788  568429  B001FPT1WM  A1YGG6T4YJZWC1   \n",
       "525789  568430  B001FPT1WM   AW7HIV8I53FE4   \n",
       "525790  568431  B001FPT1WM   A1XDMZMMOAMR7   \n",
       "525791  568432  B003XUL27E  A32Y0419QFGVHM   \n",
       "525792  568433  B003XUL27E  A1YKXVGAIA8952   \n",
       "525793  568434  B003XUL27E  A1JUG9WCN1A52Z   \n",
       "525794  568435  B003XUL27E   ABGQPE97ZVYJ3   \n",
       "525795  568436  B003XUL27E  A2PSB4WQHH46HN   \n",
       "525796  568437  B000NY4SAG  A3ODWHC3EMMWTT   \n",
       "525797  568438  B000NY4SAG  A1RKKPSXF9QIZF   \n",
       "525798  568439  B000NY4SAG  A3M89SF0SSOGBK   \n",
       "525799  568440  B000NY4SAG  A34GDV49ZZQKXG   \n",
       "525800  568441  B005ZC0RRO  A2TO5R8QLIITEF   \n",
       "525801  568442  B000NY8O9M   AZRHU8CP5XKMF   \n",
       "525802  568443  B006T7TKZO  A3BOURUK79CYY5   \n",
       "525803  568444  B000H7K114  A2AGSSZR9V7XST   \n",
       "525804  568445  B001EO7N10  A2SD7TY3IOX69B   \n",
       "525805  568446  B001EO7N10  A2E5C8TTAED4CQ   \n",
       "525806  568447  B001EO7N10  A2P9W8T7NTLG2Z   \n",
       "525807  568448  B001EO7N10   APWCOAVILK94B   \n",
       "525808  568449  B001EO7N10  A1F6BHEYB7R6R7   \n",
       "525809  568450  B001EO7N10  A28KG5XORO54AY   \n",
       "525810  568451  B003S1WTCU  A3I8AFVPEE8KI5   \n",
       "525811  568452  B004I613EE  A121AA1GQV751Z   \n",
       "525812  568453  B004I613EE   A3IBEVCTXKNOH   \n",
       "525813  568454  B001LR2CU2  A3LGQPJCZVL9UC   \n",
       "\n",
       "                                 ProfileName  HelpfulnessNumerator  \\\n",
       "0                                 delmartian                     1   \n",
       "1                                     dll pa                     0   \n",
       "2            Natalia Corres \"Natalia Corres\"                     1   \n",
       "3                                       Karl                     3   \n",
       "4              Michael D. Bigham \"M. Wassir\"                     0   \n",
       "5                             Twoapennything                     0   \n",
       "6                          David C. Sullivan                     0   \n",
       "7                         Pamela G. Williams                     0   \n",
       "8                                   R. James                     1   \n",
       "9                              Carol A. Reed                     0   \n",
       "10                              Canadian Fan                     1   \n",
       "11                    A Poeng \"SparkyGoHome\"                     4   \n",
       "12                                        LT                     1   \n",
       "13                           willie \"roadie\"                     2   \n",
       "14                       Lynrie \"Oh HELL no\"                     4   \n",
       "15                              Brian A. Lee                     4   \n",
       "16                            Erica Neathery                     0   \n",
       "17                                     Becca                     0   \n",
       "18                                   Wolfee1                     0   \n",
       "19                                      Greg                     0   \n",
       "20                                  mom2emma                     0   \n",
       "21                            Tammy Anderson                     0   \n",
       "22                             Charles Brown                     0   \n",
       "23                                    Mare's                     0   \n",
       "24               S. Cabanaugh \"jilly pepper\"                     0   \n",
       "25              Deborah S. Linzer \"Cat Lady\"                     0   \n",
       "26                                    lady21                     0   \n",
       "27                              Heather Dube                     0   \n",
       "28                                    DaisyH                     0   \n",
       "29                              Canadian Fan                     1   \n",
       "...                                      ...                   ...   \n",
       "525784  MadisonVeggie \"Lynette in Wisconsin\"                     2   \n",
       "525785                                  Brad                     2   \n",
       "525786                                  Jill                     1   \n",
       "525787                  Lorraine \"DamnSwank\"                     1   \n",
       "525788        bethany \"birds and more birds\"                     1   \n",
       "525789      Herb Schulsinger \"Bach Because!\"                     1   \n",
       "525790                               nyxport                     0   \n",
       "525791                        Kevin Mitchell                     0   \n",
       "525792                                  NC65                     0   \n",
       "525793                            maudlin666                     0   \n",
       "525794                       Katherine Kelly                     0   \n",
       "525795                              carlyowu                     0   \n",
       "525796              K. Brennan \"Baking fool\"                    10   \n",
       "525797                      Allen \"RcDriver\"                     4   \n",
       "525798                Robert Goode \"GrampaG\"                     3   \n",
       "525799                        Donald M. Cook                     0   \n",
       "525800                                   SAK                     1   \n",
       "525801                        David L. Brown                     0   \n",
       "525802                                   BIH                     0   \n",
       "525803                                 Peter                     0   \n",
       "525804            BayBay \"BayBay Knows Best\"                     3   \n",
       "525805                         S. Linkletter                     2   \n",
       "525806                                  Andy                     0   \n",
       "525807            Real Named Person \"wowzee\"                     0   \n",
       "525808                          James Braley                     0   \n",
       "525809                      Lettie D. Carter                     0   \n",
       "525810                             R. Sawyer                     0   \n",
       "525811                         pksd \"pk_007\"                     2   \n",
       "525812               Kathy A. Welch \"katwel\"                     1   \n",
       "525813                              srfell17                     0   \n",
       "\n",
       "        HelpfulnessDenominator  Score        Time  \\\n",
       "0                            1      5  1303862400   \n",
       "1                            0      1  1346976000   \n",
       "2                            1      4  1219017600   \n",
       "3                            3      2  1307923200   \n",
       "4                            0      5  1350777600   \n",
       "5                            0      4  1342051200   \n",
       "6                            0      5  1340150400   \n",
       "7                            0      5  1336003200   \n",
       "8                            1      5  1322006400   \n",
       "9                            0      5  1351209600   \n",
       "10                           1      5  1107820800   \n",
       "11                           4      5  1282867200   \n",
       "12                           1      1  1339545600   \n",
       "13                           2      4  1288915200   \n",
       "14                           5      5  1268352000   \n",
       "15                           5      5  1262044800   \n",
       "16                           0      2  1348099200   \n",
       "17                           0      5  1345075200   \n",
       "18                           0      5  1324598400   \n",
       "19                           0      5  1318032000   \n",
       "20                           0      5  1313452800   \n",
       "21                           0      5  1308960000   \n",
       "22                           0      5  1304899200   \n",
       "23                           0      5  1304467200   \n",
       "24                           0      5  1295481600   \n",
       "25                           0      5  1288310400   \n",
       "26                           1      1  1332633600   \n",
       "27                           1      4  1331856000   \n",
       "28                           0      5  1338854400   \n",
       "29                           1      5  1107820800   \n",
       "...                        ...    ...         ...   \n",
       "525784                       2      5  1333411200   \n",
       "525785                       2      5  1325376000   \n",
       "525786                       1      1  1341532800   \n",
       "525787                       1      5  1340323200   \n",
       "525788                       1      5  1340236800   \n",
       "525789                       1      5  1338508800   \n",
       "525790                       0      5  1345161600   \n",
       "525791                       0      1  1319673600   \n",
       "525792                       0      1  1319500800   \n",
       "525793                       0      1  1311638400   \n",
       "525794                       0      2  1306368000   \n",
       "525795                       2      2  1285718400   \n",
       "525796                      10      5  1229731200   \n",
       "525797                       4      5  1233792000   \n",
       "525798                       3      5  1316995200   \n",
       "525799                       5      4  1280102400   \n",
       "525800                       1      5  1323734400   \n",
       "525801                       0      5  1264204800   \n",
       "525802                       0      5  1338854400   \n",
       "525803                       0      5  1281744000   \n",
       "525804                       3      5  1245369600   \n",
       "525805                       2      5  1268006400   \n",
       "525806                       0      2  1328918400   \n",
       "525807                       0      5  1322524800   \n",
       "525808                       0      5  1308096000   \n",
       "525809                       0      5  1299628800   \n",
       "525810                       0      2  1331251200   \n",
       "525811                       2      5  1329782400   \n",
       "525812                       1      5  1331596800   \n",
       "525813                       0      5  1338422400   \n",
       "\n",
       "                                                  Summary  \\\n",
       "0                                   Good Quality Dog Food   \n",
       "1                                       Not as Advertised   \n",
       "2                                   \"Delight\" says it all   \n",
       "3                                          Cough Medicine   \n",
       "4                                             Great taffy   \n",
       "5                                              Nice Taffy   \n",
       "6           Great!  Just as good as the expensive brands!   \n",
       "7                                  Wonderful, tasty taffy   \n",
       "8                                              Yay Barley   \n",
       "9                                        Healthy Dog Food   \n",
       "10                        The Best Hot Sauce in the World   \n",
       "11      My cats LOVE this \"diet\" food better than thei...   \n",
       "12                   My Cats Are Not Fans of the New Food   \n",
       "13                                      fresh and greasy!   \n",
       "14                           Strawberry Twizzlers - Yummy   \n",
       "15               Lots of twizzlers, just what you expect.   \n",
       "16                                             poor taste   \n",
       "17                                               Love it!   \n",
       "18                                     GREAT SWEET CANDY!   \n",
       "19                                Home delivered twizlers   \n",
       "20                                           Always fresh   \n",
       "21                                              TWIZZLERS   \n",
       "22                                     Delicious product!   \n",
       "23                                              Twizzlers   \n",
       "24                          Please sell these in Mexico!!   \n",
       "25                                 Twizzlers - Strawberry   \n",
       "26                                        Nasty No flavor   \n",
       "27                            Great Bargain for the Price   \n",
       "28                                                 YUMMY!   \n",
       "29                        The Best Hot Sauce in the World   \n",
       "...                                                   ...   \n",
       "525784                   Unusual, even for a violet candy   \n",
       "525785                                          Very good   \n",
       "525786                                            rip off   \n",
       "525787                              The search has ended!   \n",
       "525788                                         very tasty   \n",
       "525789                           Violet French Hard Candy   \n",
       "525790                                          delicious   \n",
       "525791                                       Mostly water   \n",
       "525792                                            No Good   \n",
       "525793                                   Tastes horrible!   \n",
       "525794                                        Not so good   \n",
       "525795                            Where's the tortellini?   \n",
       "525796                     Baker's Ammonia Small quantity   \n",
       "525797                                          Good buy.   \n",
       "525798                          Baking Ammonia that Works   \n",
       "525799                                               a-ok   \n",
       "525800    Delicious, all natural and allergy free treats!   \n",
       "525801                            Great For Fast Gulasch!   \n",
       "525802                                   Great Cafe Latte   \n",
       "525803                                      Excellent Tea   \n",
       "525804                     Best Value for Chinese 5 Spice   \n",
       "525805                                  Five Spice Powder   \n",
       "525806                                        Mixed wrong   \n",
       "525807  If its all natural, this is like panacea of Sp...   \n",
       "525808                      Very large ground spice jars.   \n",
       "525809                                Will not do without   \n",
       "525810                                       disappointed   \n",
       "525811                           Perfect for our maltipoo   \n",
       "525812                 Favorite Training and reward treat   \n",
       "525813                                        Great Honey   \n",
       "\n",
       "                                                     Text  \n",
       "0       I have bought several of the Vitality canned d...  \n",
       "1       Product arrived labeled as Jumbo Salted Peanut...  \n",
       "2       This is a confection that has been around a fe...  \n",
       "3       If you are looking for the secret ingredient i...  \n",
       "4       Great taffy at a great price.  There was a wid...  \n",
       "5       I got a wild hair for taffy and ordered this f...  \n",
       "6       This saltwater taffy had great flavors and was...  \n",
       "7       This taffy is so good.  It is very soft and ch...  \n",
       "8       Right now I'm mostly just sprouting this so my...  \n",
       "9       This is a very healthy dog food. Good for thei...  \n",
       "10      I don't know if it's the cactus or the tequila...  \n",
       "11      One of my boys needed to lose some weight and ...  \n",
       "12      My cats have been happily eating Felidae Plati...  \n",
       "13      good flavor! these came securely packed... the...  \n",
       "14      The Strawberry Twizzlers are my guilty pleasur...  \n",
       "15      My daughter loves twizzlers and this shipment ...  \n",
       "16      I love eating them and they are good for watch...  \n",
       "17      I am very satisfied with my Twizzler purchase....  \n",
       "18      Twizzlers, Strawberry my childhood favorite ca...  \n",
       "19      Candy was delivered very fast and was purchase...  \n",
       "20      My husband is a Twizzlers addict.  We've bough...  \n",
       "21      I bought these for my husband who is currently...  \n",
       "22      I can remember buying this candy as a kid and ...  \n",
       "23      I love this candy.  After weight watchers I ha...  \n",
       "24      I have lived out of the US for over 7 yrs now,...  \n",
       "25      Product received is as advertised.<br /><br />...  \n",
       "26      The candy is just red , No flavor . Just  plan...  \n",
       "27      I was so glad Amazon carried these batteries. ...  \n",
       "28      I got this for my Mum who is not diabetic but ...  \n",
       "29      I don't know if it's the cactus or the tequila...  \n",
       "...                                                   ...  \n",
       "525784  I've tried several violet flavored candies in ...  \n",
       "525785  This candy has a very good flavor. It is quite...  \n",
       "525786  The candy is tasty, but they totally scam you ...  \n",
       "525787  I had been looking for the violet candy with t...  \n",
       "525788  these are very pricey so i only enjoy them now...  \n",
       "525789  These candies have a mild flavor, when compare...  \n",
       "525790  This product is a bit pricey for the amt. rece...  \n",
       "525791  Definitely not worth buying flavored water wit...  \n",
       "525792  I thought this soup would be more like a chill...  \n",
       "525793  I just bought this soup today at my local groc...  \n",
       "525794  This soup is mostly broth. Although it has a k...  \n",
       "525795  It is mostly broth, with the advertised 3/4 cu...  \n",
       "525796  In the past, I would have to buy a large quant...  \n",
       "525797  Ammonium bicarbonate in a nice little package....  \n",
       "525798  If you haven't ever used Ammonium Bicarbonate ...  \n",
       "525799  We need this for a recipe my wife is intereste...  \n",
       "525800  Indie Candy's gummies are absolutely delicious...  \n",
       "525801  Quick and easy! Had similar Gulasch in Guest H...  \n",
       "525802  This product is great.  Gives you so much ener...  \n",
       "525803  I love this tea.  I first discovered the pleas...  \n",
       "525804  As a foodie, I use a lot of Chinese 5 Spice po...  \n",
       "525805  You can make this mix yourself, but the Star A...  \n",
       "525806  I had ordered some of these a few months back ...  \n",
       "525807  Hoping there is no MSG in this, this tastes ex...  \n",
       "525808  My only complaint is that there's so much of i...  \n",
       "525809  Great for sesame chicken..this is a good if no...  \n",
       "525810  I'm disappointed with the flavor. The chocolat...  \n",
       "525811  These stars are small, so you can give 10-15 o...  \n",
       "525812  These are the BEST treats for training and rew...  \n",
       "525813  I am very satisfied ,product is as advertised,...  \n",
       "\n",
       "[525814 rows x 10 columns]>"
      ]
     },
     "execution_count": 17,
     "metadata": {
      "tags": []
     },
     "output_type": "execute_result"
    }
   ],
   "source": [
    "filtered_data.head"
   ]
  },
  {
   "cell_type": "markdown",
   "metadata": {
    "colab_type": "text",
    "id": "J63L_d8Hg3-i"
   },
   "source": []
  },
  {
   "cell_type": "code",
   "execution_count": 0,
   "metadata": {
    "colab": {},
    "colab_type": "code",
    "id": "7bPAJIJBQcOv"
   },
   "outputs": [],
   "source": [
    "def partition(X):\n",
    "    if X<3:\n",
    "        return 'negative'\n",
    "    if X>3:\n",
    "        return 'positive'"
   ]
  },
  {
   "cell_type": "code",
   "execution_count": 19,
   "metadata": {
    "colab": {
     "base_uri": "https://localhost:8080/",
     "height": 118
    },
    "colab_type": "code",
    "id": "abBzgnZUQcO2",
    "outputId": "aa3ab575-8ef1-4c00-d59f-2bd9e0d8b84f"
   },
   "outputs": [
    {
     "name": "stdout",
     "output_type": "stream",
     "text": [
      "0    positive\n",
      "1    negative\n",
      "2    positive\n",
      "3    negative\n",
      "4    positive\n",
      "Name: Score, dtype: object\n"
     ]
    }
   ],
   "source": [
    "actualScore= filtered_data['Score']\n",
    "positivenegative=actualScore.map(partition)\n",
    "filtered_data['Score']=positivenegative\n",
    "print(positivenegative.head())"
   ]
  },
  {
   "cell_type": "code",
   "execution_count": 20,
   "metadata": {
    "colab": {
     "base_uri": "https://localhost:8080/",
     "height": 121
    },
    "colab_type": "code",
    "id": "CAr8-cbiQcPB",
    "outputId": "38d4cd9b-61f0-442c-c2d0-d7bad5598843"
   },
   "outputs": [
    {
     "name": "stdout",
     "output_type": "stream",
     "text": [
      "[nltk_data] Downloading package stopwords to /content/nltk_data...\n",
      "[nltk_data]   Unzipping corpora/stopwords.zip.\n",
      "{'being', 'doing', 'between', 'these', 'again', \"doesn't\", 'ma', 'itself', 'should', 'needn', 'can', 'out', 'won', 'who', 'only', \"hadn't\", 'up', 'during', 'does', 'very', \"should've\", 'your', 'most', 'to', 'yours', 'for', 'in', \"you'll\", 'shouldn', 'theirs', \"aren't\", 'will', 'both', \"you've\", \"needn't\", 'a', \"she's\", 'above', \"couldn't\", 'all', 'hasn', 'because', 'didn', 'weren', 'against', 'its', 'while', 'couldn', 'yourselves', 'has', 'each', 'm', 'what', 'below', \"you're\", 'herself', 'why', 'll', 'this', 'not', 'them', 'through', 'that', 'isn', 'i', 'had', 'with', \"wasn't\", 'whom', 'me', \"shan't\", 'further', 'then', \"isn't\", 'and', 'more', \"you'd\", 'few', 'their', 'until', 'how', 'himself', 'the', 'did', 'be', 'there', 'mustn', \"mustn't\", 'doesn', 'other', 'hers', 'were', 'or', 'under', 'do', 'o', 'hadn', 'her', 'by', \"that'll\", \"shouldn't\", 'an', 'mightn', 'aren', 'we', 'he', 'is', 'into', 'wasn', 'myself', \"hasn't\", 'some', 'over', 'than', 'was', 'she', 'about', 'from', 'here', 'if', 's', 'those', 'where', 'just', 'having', 'on', 'at', 'ain', 'been', 've', 'no', \"haven't\", 'down', 'so', 'same', 'too', 'it', \"weren't\", 'themselves', 'after', 'you', 'his', 'which', 'have', 'as', 'before', 'are', 'once', 't', 're', \"it's\", 'haven', \"mightn't\", 'when', 'off', 'ourselves', 'our', 'nor', \"won't\", \"didn't\", 'am', 'such', 'ours', 'wouldn', 'my', 'don', 'yourself', 'any', 'they', 'd', 'of', \"wouldn't\", 'own', \"don't\", 'now', 'y', 'but', 'shan', 'him'}\n",
      "************************************\n",
      "tasti\n"
     ]
    }
   ],
   "source": [
    "import re\n",
    "\n",
    "import string\n",
    "import nltk\n",
    "from nltk.corpus import stopwords\n",
    "from nltk.stem import PorterStemmer\n",
    "from nltk.stem.wordnet import WordNetLemmatizer\n",
    "nltk.download('stopwords')\n",
    "stop = set(stopwords.words('english')) \n",
    "sno = nltk.stem.SnowballStemmer('english')\n",
    "\n",
    "def cleanhtml(sentence):\n",
    "    cleanr = re.compile('<.*?>')\n",
    "    cleantext = re.sub(cleanr, ' ', sentence)\n",
    "    return cleantext\n",
    "def cleanpunc(sentence):\n",
    "    cleaned = re.sub(r'[?|!|\\'|\"|#]',r'',sentence)\n",
    "    cleaned = re.sub(r'[.|,|)|(|\\|/]',r' ',cleaned)\n",
    "    return  cleaned\n",
    "print(stop)\n",
    "print('************************************')\n",
    "print(sno.stem('tasty'))"
   ]
  },
  {
   "cell_type": "code",
   "execution_count": 0,
   "metadata": {
    "colab": {},
    "colab_type": "code",
    "id": "CDCcsOt4QcPe"
   },
   "outputs": [],
   "source": [
    "sorted_data=filtered_data.sort_values('ProductId', axis=0, ascending=True, inplace=False, kind='quicksort', na_position='last')\n"
   ]
  },
  {
   "cell_type": "code",
   "execution_count": 0,
   "metadata": {
    "colab": {},
    "colab_type": "code",
    "id": "J0tjeimnQcPp"
   },
   "outputs": [],
   "source": [
    "final=sorted_data.drop_duplicates(subset={\"UserId\",\"ProfileName\",\"Time\",\"Text\"}, keep='first', inplace=False)\n"
   ]
  },
  {
   "cell_type": "code",
   "execution_count": 0,
   "metadata": {
    "colab": {},
    "colab_type": "code",
    "id": "lzLsNtmjQcPx"
   },
   "outputs": [],
   "source": [
    "final=final[final.HelpfulnessNumerator<=final.HelpfulnessDenominator]\n"
   ]
  },
  {
   "cell_type": "code",
   "execution_count": 0,
   "metadata": {
    "colab": {},
    "colab_type": "code",
    "id": "S8Aoajnv7EgB"
   },
   "outputs": [],
   "source": [
    "i=0\n",
    "str1=' '\n",
    "final_string=[]\n",
    "all_positive_words=[] # store words from +ve reviews here\n",
    "all_negative_words=[] # store words from -ve reviews here.\n",
    "s=''\n",
    "for sent in final['Text'].values:\n",
    "    filtered_sentence=[]\n",
    "    #print(sent);\n",
    "    sent=cleanhtml(sent) # remove HTMl tags\n",
    "    for w in sent.split():\n",
    "        for cleaned_words in cleanpunc(w).split():\n",
    "            if((cleaned_words.isalpha()) & (len(cleaned_words)>2)):    \n",
    "                if(cleaned_words.lower() not in stop):\n",
    "                    s=(sno.stem(cleaned_words.lower())).encode('utf8')\n",
    "                    filtered_sentence.append(s)\n",
    "                    if (final['Score'].values)[i] == 'positive': \n",
    "                        all_positive_words.append(s) #list of all words used to describe positive reviews\n",
    "                    if(final['Score'].values)[i] == 'negative':\n",
    "                        all_negative_words.append(s) #list of all words used to describe negative reviews reviews\n",
    "                else:\n",
    "                    continue\n",
    "            else:\n",
    "                continue \n",
    "    #print(filtered_sentence)\n",
    "    str1 = b\" \".join(filtered_sentence) #final string of cleaned words\n",
    "    #print(\"***********************************************************************\")\n",
    "    \n",
    "    final_string.append(str1)\n",
    "    i+=1"
   ]
  },
  {
   "cell_type": "code",
   "execution_count": 0,
   "metadata": {
    "colab": {},
    "colab_type": "code",
    "id": "D68apfbm2vnn"
   },
   "outputs": [],
   "source": [
    "final['CleanedText']=final_string #adding a column of CleanedText which displays the data after pre-processing of the review \n",
    "final['CleanedText']=final['CleanedText'].str.decode(\"utf-8\")"
   ]
  },
  {
   "cell_type": "markdown",
   "metadata": {
    "colab_type": "text",
    "id": "kwjVBIgVQcP3"
   },
   "source": [
    "# BOW\n"
   ]
  },
  {
   "cell_type": "code",
   "execution_count": 0,
   "metadata": {
    "colab": {},
    "colab_type": "code",
    "id": "cP0yZ84myuyZ"
   },
   "outputs": [],
   "source": [
    "import warnings\n",
    "warnings.filterwarnings(\"ignore\")"
   ]
  },
  {
   "cell_type": "code",
   "execution_count": 0,
   "metadata": {
    "colab": {},
    "colab_type": "code",
    "id": "oYZXwY21QcP4"
   },
   "outputs": [],
   "source": [
    "\n",
    "count_vect = CountVectorizer(min_df=5,ngram_range=(1,2))\n",
    "final_counts = count_vect.fit_transform(final['CleanedText'].values[0:20000])"
   ]
  },
  {
   "cell_type": "code",
   "execution_count": 0,
   "metadata": {
    "colab": {},
    "colab_type": "code",
    "id": "oRRaaL_6QcQJ"
   },
   "outputs": [],
   "source": [
    "from sklearn.preprocessing import StandardScaler\n",
    "standardized_data = StandardScaler(with_mean=False).fit_transform(final_counts)\n",
    "final_counts=standardized_data"
   ]
  },
  {
   "cell_type": "code",
   "execution_count": 0,
   "metadata": {
    "colab": {},
    "colab_type": "code",
    "id": "9YV8JVhND-bI"
   },
   "outputs": [],
   "source": [
    "from sklearn.manifold import TSNE\n",
    "from sklearn.decomposition import TruncatedSVD\n",
    "import random\n",
    "trunc_bow= TruncatedSVD(n_components=2)\n",
    "trunc_bow_final= trunc_bow.fit_transform(final_counts)\n",
    "n_samples = 19999\n",
    "sample_cols = random.sample(range(1, trunc_bow_final.shape[0]), n_samples) \n",
    "sample_features = trunc_bow_final[sample_cols]\n",
    "sample_class = final['Score'][sample_cols] \n",
    "sample_class = sample_class[:,np.newaxis]\n",
    "model =TSNE(n_components=2,random_state=0)\n",
    "sample_cols\n",
    "tsne_data = model.fit_transform(sample_features)\n",
    "tsne_data = np.concatenate((tsne_data, sample_class),axis=1)\n",
    "tsne_df = pd.DataFrame(data=tsne_data, columns=(\"dim1\",\"dim2\", \"label\"))\n",
    "\n"
   ]
  },
  {
   "cell_type": "code",
   "execution_count": 32,
   "metadata": {
    "colab": {
     "base_uri": "https://localhost:8080/",
     "height": 437
    },
    "colab_type": "code",
    "id": "Aq7qXfT8QcRC",
    "outputId": "cfa4580d-2364-4d2f-89a0-1e05eb058162"
   },
   "outputs": [
    {
     "data": {
      "image/png": "[encoded data removed]",
      "text/plain": [
       "<matplotlib.figure.Figure at 0x7f2d9fdeeb00>"
      ]
     },
     "metadata": {
      "tags": []
     },
     "output_type": "display_data"
    }
   ],
   "source": [
    "import seaborn as sn\n",
    "sn.FacetGrid(tsne_df,hue=\"label\",size=6).map(plt.scatter,\"dim1\",\"dim2\").add_legend() \n",
    "plt.show()\n"
   ]
  },
  {
   "cell_type": "code",
   "execution_count": 0,
   "metadata": {
    "colab": {
     "base_uri": "https://localhost:8080/",
     "height": 34
    },
    "colab_type": "code",
    "id": "_y6XP-qNQcRV",
    "outputId": "cdf61e30-eeb6-4536-c98f-5cf6cda715ae"
   },
   "outputs": [
    {
     "data": {
      "text/plain": [
       "(20000, 2)"
      ]
     },
     "execution_count": 31,
     "metadata": {
      "tags": []
     },
     "output_type": "execute_result"
    }
   ],
   "source": [
    "trunc_bow_final.shape"
   ]
  },
  {
   "cell_type": "code",
   "execution_count": 0,
   "metadata": {
    "colab": {
     "base_uri": "https://localhost:8080/",
     "height": 34
    },
    "colab_type": "code",
    "id": "j-TaXhjKEWrL",
    "outputId": "1aa1d5d9-6ae1-4370-a02d-950d050fd494"
   },
   "outputs": [
    {
     "data": {
      "text/plain": [
       "(19999, 2)"
      ]
     },
     "execution_count": 32,
     "metadata": {
      "tags": []
     },
     "output_type": "execute_result"
    }
   ],
   "source": [
    "sample_features.shape"
   ]
  },
  {
   "cell_type": "code",
   "execution_count": 0,
   "metadata": {
    "colab": {
     "base_uri": "https://localhost:8080/",
     "height": 34
    },
    "colab_type": "code",
    "id": "YvgQ_nu9FNed",
    "outputId": "62b3078f-a73e-470d-b565-3a209bc10996"
   },
   "outputs": [
    {
     "data": {
      "text/plain": [
       "(19999, 3)"
      ]
     },
     "execution_count": 33,
     "metadata": {
      "tags": []
     },
     "output_type": "execute_result"
    }
   ],
   "source": [
    "tsne_data.shape"
   ]
  },
  {
   "cell_type": "code",
   "execution_count": 0,
   "metadata": {
    "colab": {},
    "colab_type": "code",
    "id": "eo06RPFuFcVW"
   },
   "outputs": [],
   "source": [
    "sample_class.shape"
   ]
  },
  {
   "cell_type": "code",
   "execution_count": 0,
   "metadata": {
    "colab": {},
    "colab_type": "code",
    "id": "2ZfRKPZL0S26"
   },
   "outputs": [],
   "source": []
  },
  {
   "cell_type": "markdown",
   "metadata": {
    "colab_type": "text",
    "id": "qfC83A7x0TYO"
   },
   "source": [
    "OBSERVATION-\n"
   ]
  },
  {
   "cell_type": "markdown",
   "metadata": {
    "colab_type": "text",
    "id": "QjJOkSG_QcRZ"
   },
   "source": [
    "# Tf-Idf \n"
   ]
  },
  {
   "cell_type": "code",
   "execution_count": 0,
   "metadata": {
    "colab": {},
    "colab_type": "code",
    "id": "urSWX2GNQcRa"
   },
   "outputs": [],
   "source": [
    "from sklearn.feature_extraction.text import TfidfTransformer\n",
    "from sklearn.feature_extraction.text import TfidfVectorizer\n",
    "\n",
    "tf_idf_vect = TfidfVectorizer(ngram_range=(1,2),min_df=5)\n",
    "final_tf_idf = tf_idf_vect.fit_transform(final['CleanedText'].values[0:20001])\n"
   ]
  },
  {
   "cell_type": "code",
   "execution_count": 79,
   "metadata": {
    "colab": {
     "base_uri": "https://localhost:8080/",
     "height": 34
    },
    "colab_type": "code",
    "id": "S0ZlDkPDQcRd",
    "outputId": "0d1f5cb8-a440-4271-de84-a80404746c09"
   },
   "outputs": [
    {
     "data": {
      "text/plain": [
       "(20001, 27253)"
      ]
     },
     "execution_count": 79,
     "metadata": {
      "tags": []
     },
     "output_type": "execute_result"
    }
   ],
   "source": [
    "final_tf_idf.get_shape()\n"
   ]
  },
  {
   "cell_type": "code",
   "execution_count": 0,
   "metadata": {
    "colab": {},
    "colab_type": "code",
    "id": "pFNOcKu5QcRh"
   },
   "outputs": [],
   "source": [
    "from sklearn.manifold import TSNE\n",
    "from sklearn.preprocessing import StandardScaler\n",
    "\n",
    "\n",
    "standardized_data = StandardScaler(with_mean=False).fit_transform(final_tf_idf)\n",
    "final_tfidf=standardized_data"
   ]
  },
  {
   "cell_type": "code",
   "execution_count": 0,
   "metadata": {
    "colab": {},
    "colab_type": "code",
    "id": "LKJ6T2MeQcRn"
   },
   "outputs": [],
   "source": [
    "from sklearn.decomposition import TruncatedSVD\n",
    "import random\n",
    "trunc_tfidf= TruncatedSVD(n_components=2)\n",
    "trunc_tfidf_final= trunc_tfidf.fit_transform(final_tf_idf)\n",
    "n_samples = 19999\n",
    "sample_cols = random.sample(range(1, trunc_tfidf_final.shape[0]), n_samples) \n",
    "sample_features = trunc_tfidf_final[sample_cols]\n",
    "sample_class = final['Score'][sample_cols] \n",
    "sample_class = sample_class[:,np.newaxis]\n",
    "model =TSNE(n_components=2,random_state=0,perplexity=30)\n",
    "tsne_data = model.fit_transform(sample_features)\n",
    "tsne_data = np.concatenate((tsne_data,sample_class),axis=1)\n",
    "tsne_df = pd.DataFrame(data=tsne_data, columns=( \"dim1\",\"dim2\",\"label\"))\n"
   ]
  },
  {
   "cell_type": "code",
   "execution_count": 82,
   "metadata": {
    "colab": {
     "base_uri": "https://localhost:8080/",
     "height": 437
    },
    "colab_type": "code",
    "id": "vIKXOfINQcRp",
    "outputId": "e6b46ae0-d7aa-4aad-8a7c-1d641cc94002"
   },
   "outputs": [
    {
     "data": {
      "image/png": "[encoded data removed]",
      "text/plain": [
       "<matplotlib.figure.Figure at 0x7f2d9e5fe588>"
      ]
     },
     "metadata": {
      "tags": []
     },
     "output_type": "display_data"
    }
   ],
   "source": [
    "import seaborn as sn\n",
    "sn.FacetGrid(tsne_df, hue=\"label\", size=6).map(plt.scatter, 'dim1', 'dim2').add_legend()\n",
    "plt.show()"
   ]
  },
  {
   "cell_type": "markdown",
   "metadata": {
    "colab_type": "text",
    "id": "nY7ZeoBMQcRr"
   },
   "source": [
    "# word 2 vec"
   ]
  },
  {
   "cell_type": "code",
   "execution_count": 0,
   "metadata": {
    "colab": {},
    "colab_type": "code",
    "id": "7kL-lkDIQcRs"
   },
   "outputs": [],
   "source": [
    "\n",
    "i=0\n",
    "list_of_sent=[]\n",
    "for sent in final['CleanedText'].values[0:20000]:\n",
    "    list_of_sent.append(sent.split())"
   ]
  },
  {
   "cell_type": "code",
   "execution_count": 61,
   "metadata": {
    "colab": {
     "base_uri": "https://localhost:8080/",
     "height": 605
    },
    "colab_type": "code",
    "id": "rjr5luu4Ul04",
    "outputId": "65d82599-9ea7-4f3e-af63-4d287cf8eeec"
   },
   "outputs": [
    {
     "data": {
      "text/plain": [
       "['witti',\n",
       " 'littl',\n",
       " 'book',\n",
       " 'make',\n",
       " 'son',\n",
       " 'laugh',\n",
       " 'loud',\n",
       " 'recit',\n",
       " 'car',\n",
       " 'drive',\n",
       " 'along',\n",
       " 'alway',\n",
       " 'sing',\n",
       " 'refrain',\n",
       " 'hes',\n",
       " 'learn',\n",
       " 'whale',\n",
       " 'india',\n",
       " 'droop',\n",
       " 'love',\n",
       " 'new',\n",
       " 'word',\n",
       " 'book',\n",
       " 'introduc',\n",
       " 'silli',\n",
       " 'classic',\n",
       " 'book',\n",
       " 'will',\n",
       " 'bet',\n",
       " 'son',\n",
       " 'still',\n",
       " 'abl',\n",
       " 'recit',\n",
       " 'memori',\n",
       " 'colleg']"
      ]
     },
     "execution_count": 61,
     "metadata": {
      "tags": []
     },
     "output_type": "execute_result"
    }
   ],
   "source": [
    "list_of_sent[0]"
   ]
  },
  {
   "cell_type": "code",
   "execution_count": 0,
   "metadata": {
    "colab": {},
    "colab_type": "code",
    "id": "H5phx8ZKQcRu"
   },
   "outputs": [],
   "source": [
    "w2v_model=gensim.models.Word2Vec(list_of_sent,min_count=5,size=50, workers=4)    \n"
   ]
  },
  {
   "cell_type": "code",
   "execution_count": 63,
   "metadata": {
    "colab": {
     "base_uri": "https://localhost:8080/",
     "height": 34
    },
    "colab_type": "code",
    "id": "t77MP2mxCMQS",
    "outputId": "3d2fac31-7733-40ce-e696-7ae17795019a"
   },
   "outputs": [
    {
     "data": {
      "text/plain": [
       "20000"
      ]
     },
     "execution_count": 63,
     "metadata": {
      "tags": []
     },
     "output_type": "execute_result"
    }
   ],
   "source": [
    "len(list_of_sent)"
   ]
  },
  {
   "cell_type": "code",
   "execution_count": 64,
   "metadata": {
    "colab": {
     "base_uri": "https://localhost:8080/",
     "height": 185
    },
    "colab_type": "code",
    "id": "jcZD9-JoXW-h",
    "outputId": "630d5417-ca66-4c7a-a787-be4671b6cc54"
   },
   "outputs": [
    {
     "data": {
      "text/plain": [
       "[('aw', 0.7506529688835144),\n",
       " ('weird', 0.7278627753257751),\n",
       " ('horribl', 0.6965175271034241),\n",
       " ('nasti', 0.6893648505210876),\n",
       " ('bubblegum', 0.6853265762329102),\n",
       " ('real', 0.6733386516571045),\n",
       " ('bland', 0.6683714389801025),\n",
       " ('kind', 0.6594334244728088),\n",
       " ('acrid', 0.6587443947792053),\n",
       " ('strang', 0.6582820415496826)]"
      ]
     },
     "execution_count": 64,
     "metadata": {
      "tags": []
     },
     "output_type": "execute_result"
    }
   ],
   "source": [
    "w2v_model.most_similar(\"like\")"
   ]
  },
  {
   "cell_type": "code",
   "execution_count": 65,
   "metadata": {
    "colab": {
     "base_uri": "https://localhost:8080/",
     "height": 185
    },
    "colab_type": "code",
    "id": "hpc3g7DjXpW7",
    "outputId": "68c5b11d-9eba-4b90-b763-9c67f974805d"
   },
   "outputs": [
    {
     "data": {
      "text/plain": [
       "[('articl', 0.8943080306053162),\n",
       " ('link', 0.8841751217842102),\n",
       " ('video', 0.881554901599884),\n",
       " ('post', 0.8671865463256836),\n",
       " ('copi', 0.8595406413078308),\n",
       " ('report', 0.8527452945709229),\n",
       " ('advic', 0.844360888004303),\n",
       " ('question', 0.8437384963035583),\n",
       " ('wrote', 0.8408682346343994),\n",
       " ('suspicion', 0.8405642509460449)]"
      ]
     },
     "execution_count": 65,
     "metadata": {
      "tags": []
     },
     "output_type": "execute_result"
    }
   ],
   "source": [
    "w2v_model.most_similar(\"book\")"
   ]
  },
  {
   "cell_type": "code",
   "execution_count": 0,
   "metadata": {
    "colab": {},
    "colab_type": "code",
    "id": "S7Qlt63lQcRx"
   },
   "outputs": [],
   "source": [
    "from sklearn.manifold import TSNE\n",
    "from sklearn.preprocessing import StandardScaler\n",
    "\n",
    "w2v_counts = w2v_model[0:2000]\n",
    "standardized_data = StandardScaler(with_mean=False).fit_transform(w2v_counts)\n",
    "w2v_counts=standardized_data"
   ]
  },
  {
   "cell_type": "markdown",
   "metadata": {
    "colab_type": "text",
    "id": "VhhpfzkcY7gF"
   },
   "source": [
    "# AVERAGE WORD2V"
   ]
  },
  {
   "cell_type": "code",
   "execution_count": 66,
   "metadata": {
    "colab": {
     "base_uri": "https://localhost:8080/",
     "height": 50
    },
    "colab_type": "code",
    "id": "-zg089vHQcR2",
    "outputId": "3672520d-1760-4c8b-ce79-9813c5c1216c"
   },
   "outputs": [
    {
     "name": "stdout",
     "output_type": "stream",
     "text": [
      "20000\n",
      "50\n"
     ]
    }
   ],
   "source": [
    "w2v_words=list(w2v_model.wv.vocab)\n",
    "sent_vectors = [];\n",
    "for sent in list_of_sent:\n",
    "    sent_vec = np.zeros(50)\n",
    "    cnt_words =0;\n",
    "    for word in sent:\n",
    "        if word in w2v_words:\n",
    "            vec = w2v_model.wv[word]\n",
    "            sent_vec += vec\n",
    "            cnt_words += 1\n",
    "    if cnt_words != 0:\n",
    "        sent_vec /= cnt_words\n",
    "    sent_vectors.append(sent_vec)\n",
    "print(len(sent_vectors))\n",
    "print(len(sent_vectors[0]))"
   ]
  },
  {
   "cell_type": "markdown",
   "metadata": {
    "colab_type": "text",
    "id": "rfK6m8XByXjr"
   },
   "source": []
  },
  {
   "cell_type": "code",
   "execution_count": 67,
   "metadata": {
    "colab": {
     "base_uri": "https://localhost:8080/",
     "height": 34
    },
    "colab_type": "code",
    "id": "OT5DNcspyX8O",
    "outputId": "8f0d3e08-a127-4b7e-9b29-920ad70452cc"
   },
   "outputs": [
    {
     "data": {
      "text/plain": [
       "(20000, 50)"
      ]
     },
     "execution_count": 67,
     "metadata": {
      "tags": []
     },
     "output_type": "execute_result"
    }
   ],
   "source": [
    "avg_vec=np.array(sent_vectors)\n",
    "avg_vec.shape"
   ]
  },
  {
   "cell_type": "code",
   "execution_count": 68,
   "metadata": {
    "colab": {
     "base_uri": "https://localhost:8080/",
     "height": 235
    },
    "colab_type": "code",
    "id": "0bUcSddR6t37",
    "outputId": "d3b698a4-192e-4400-b095-7111e1dcb4c1"
   },
   "outputs": [
    {
     "data": {
      "text/plain": [
       "array([[ 0.36056581, -0.32367865, -0.14431032, ...,  0.21612545,\n",
       "         0.14090347,  0.27925599],\n",
       "       [ 0.39599962, -0.07236069, -0.28957694, ...,  0.0356816 ,\n",
       "         0.16553407,  0.53437812],\n",
       "       [ 0.61361941, -0.4954891 ,  0.16243031, ...,  0.09629869,\n",
       "         0.47564111, -0.04970616],\n",
       "       ...,\n",
       "       [ 0.24431243, -0.59934745,  0.18896536, ...,  0.19792746,\n",
       "         0.59906827,  1.11698867],\n",
       "       [ 0.25529306, -0.33319333,  0.23859675, ...,  0.48504997,\n",
       "         0.60797849,  0.92721298],\n",
       "       [ 0.11679881, -0.21081117, -0.36389758, ..., -0.06137068,\n",
       "        -0.15442981,  0.68871788]])"
      ]
     },
     "execution_count": 68,
     "metadata": {
      "tags": []
     },
     "output_type": "execute_result"
    }
   ],
   "source": [
    "avg_vec"
   ]
  },
  {
   "cell_type": "code",
   "execution_count": 0,
   "metadata": {
    "colab": {},
    "colab_type": "code",
    "id": "065EvaB_6HWs"
   },
   "outputs": [],
   "source": [
    "from sklearn.manifold import TSNE\n",
    "from sklearn.preprocessing import StandardScaler\n",
    "\n",
    "\n",
    "standardized_data = StandardScaler(with_mean=False).fit_transform(avg_vec)\n",
    "avg_vec=standardized_data"
   ]
  },
  {
   "cell_type": "code",
   "execution_count": 0,
   "metadata": {
    "colab": {},
    "colab_type": "code",
    "id": "xZL3lFpesqk_"
   },
   "outputs": [],
   "source": [
    "import random\n",
    "\n",
    "n_samples = 9999\n",
    "sample_cols = random.sample(range(1, avg_vec.shape[0]), n_samples) \n",
    "sample_features = avg_vec[sample_cols] \n",
    "sample_class = final['Score'][sample_cols] \n",
    "sample_class = sample_class[:,np.newaxis]\n",
    "model =TSNE(n_components=2,random_state=0,perplexity=30)\n",
    "tsne_data = model.fit_transform(sample_features)\n",
    "tsne_data = np.concatenate((tsne_data,sample_class),axis=1)\n",
    "tsne_df = pd.DataFrame(data=tsne_data, columns=( \"dim1\",\"dim2\",\"label\"))\n"
   ]
  },
  {
   "cell_type": "code",
   "execution_count": 77,
   "metadata": {
    "colab": {
     "base_uri": "https://localhost:8080/",
     "height": 437
    },
    "colab_type": "code",
    "id": "hde0UzWiz_tt",
    "outputId": "eb2e27b2-bf96-4155-c6d7-0fa8298145fb"
   },
   "outputs": [
    {
     "data": {
      "image/png": "[encoded data removed]",
      "text/plain": [
       "<matplotlib.figure.Figure at 0x7f2da069e390>"
      ]
     },
     "metadata": {
      "tags": []
     },
     "output_type": "display_data"
    }
   ],
   "source": [
    "import seaborn as sn\n",
    "sn.FacetGrid(tsne_df, hue=\"label\", size=6).map(plt.scatter, 'dim1', 'dim2').add_legend()\n",
    "plt.show()"
   ]
  },
  {
   "cell_type": "markdown",
   "metadata": {
    "colab_type": "text",
    "id": "YS1iluu4-wKa"
   },
   "source": [
    "# TFIDF _ WORD 2 vec"
   ]
  },
  {
   "cell_type": "code",
   "execution_count": 72,
   "metadata": {
    "colab": {
     "base_uri": "https://localhost:8080/",
     "height": 34
    },
    "colab_type": "code",
    "id": "T-OA5uDe-8kb",
    "outputId": "5d571827-b4fb-42a1-811d-2d26bb213334"
   },
   "outputs": [
    {
     "data": {
      "text/plain": [
       "(20001, 400510)"
      ]
     },
     "execution_count": 72,
     "metadata": {
      "tags": []
     },
     "output_type": "execute_result"
    }
   ],
   "source": [
    "\n",
    "import random\n",
    "tf_idf_vect=TfidfVectorizer(ngram_range=(1,2))\n",
    "sample_cols=random.sample(range(1,364170),20001)\n",
    "tfidf_w2v= tf_idf_vect.fit_transform(final['CleanedText'].values[sample_cols])\n",
    "tfidf_w2v.shape"
   ]
  },
  {
   "cell_type": "code",
   "execution_count": 0,
   "metadata": {
    "colab": {},
    "colab_type": "code",
    "id": "eDUjKI4J1xzQ"
   },
   "outputs": [],
   "source": [
    "features = tf_idf_vect.get_feature_names()"
   ]
  },
  {
   "cell_type": "code",
   "execution_count": 74,
   "metadata": {
    "colab": {
     "base_uri": "https://localhost:8080/",
     "height": 34
    },
    "colab_type": "code",
    "id": "gcYE65gV19mK",
    "outputId": "a9ed74c2-7218-4e0a-a3e6-b7baf12af48a"
   },
   "outputs": [
    {
     "data": {
      "text/plain": [
       "400510"
      ]
     },
     "execution_count": 74,
     "metadata": {
      "tags": []
     },
     "output_type": "execute_result"
    }
   ],
   "source": [
    "len(features)"
   ]
  },
  {
   "cell_type": "code",
   "execution_count": 75,
   "metadata": {
    "colab": {
     "base_uri": "https://localhost:8080/",
     "height": 16834
    },
    "colab_type": "code",
    "id": "5KC5Lz84jAXC",
    "outputId": "c60c5172-992f-4f81-ca58-dece3b4fcb67"
   },
   "outputs": [
    {
     "data": {
      "text/plain": [
       "['aaa',\n",
       " 'aaa dont',\n",
       " 'aaa rate',\n",
       " 'aaaand',\n",
       " 'aaaand theyr',\n",
       " 'aaah',\n",
       " 'aaah inhal',\n",
       " 'aafco',\n",
       " 'aafco definit',\n",
       " 'aafco set',\n",
       " 'aafco somewher',\n",
       " 'aafco standard',\n",
       " 'aafco unless',\n",
       " 'aappubl',\n",
       " 'aappubl org',\n",
       " 'aback',\n",
       " 'aback paid',\n",
       " 'aback rise',\n",
       " 'abalon',\n",
       " 'abalon like',\n",
       " 'abalon want',\n",
       " 'abandon',\n",
       " 'abandon buri',\n",
       " 'abandon cannot',\n",
       " 'abandon forego',\n",
       " 'abandon keurig',\n",
       " 'abandon like',\n",
       " 'abandon morn',\n",
       " 'abandon premium',\n",
       " 'abbott',\n",
       " 'abbott lab',\n",
       " 'abbrevi',\n",
       " 'abbrevi compani',\n",
       " 'abc',\n",
       " 'abc store',\n",
       " 'abd',\n",
       " 'abd healthi',\n",
       " 'abdomen',\n",
       " 'abdomen hard',\n",
       " 'abdomen throat',\n",
       " 'abdomin',\n",
       " 'abdomin cramp',\n",
       " 'abdomin discomfort',\n",
       " 'abdomin exploratori',\n",
       " 'abdomin pain',\n",
       " 'abdomin surgeri',\n",
       " 'aberr',\n",
       " 'aberr bean',\n",
       " 'abil',\n",
       " 'abil allevi',\n",
       " 'abil besid',\n",
       " 'abil bite',\n",
       " 'abil brew',\n",
       " 'abil cope',\n",
       " 'abil diet',\n",
       " 'abil dog',\n",
       " 'abil eat',\n",
       " 'abil enjoy',\n",
       " 'abil fill',\n",
       " 'abil get',\n",
       " 'abil good',\n",
       " 'abil heal',\n",
       " 'abil hold',\n",
       " 'abil honey',\n",
       " 'abil induc',\n",
       " 'abil knaw',\n",
       " 'abil make',\n",
       " 'abil mimic',\n",
       " 'abil one',\n",
       " 'abil pod',\n",
       " 'abil pump',\n",
       " 'abil render',\n",
       " 'abil reorder',\n",
       " 'abil swallow',\n",
       " 'abil tug',\n",
       " 'abl',\n",
       " 'abl add',\n",
       " 'abl adjust',\n",
       " 'abl afford',\n",
       " 'abl anyth',\n",
       " 'abl avoid',\n",
       " 'abl back',\n",
       " 'abl bake',\n",
       " 'abl beat',\n",
       " 'abl bite',\n",
       " 'abl blend',\n",
       " 'abl blow',\n",
       " 'abl break',\n",
       " 'abl breastfe',\n",
       " 'abl brew',\n",
       " 'abl bring',\n",
       " 'abl burn',\n",
       " 'abl buy',\n",
       " 'abl case',\n",
       " 'abl chew',\n",
       " 'abl choos',\n",
       " 'abl coffe',\n",
       " 'abl come',\n",
       " 'abl compar',\n",
       " 'abl complet',\n",
       " 'abl consid',\n",
       " 'abl continu',\n",
       " 'abl control',\n",
       " 'abl convinc',\n",
       " 'abl cook',\n",
       " 'abl cough',\n",
       " 'abl creat',\n",
       " 'abl crush',\n",
       " 'abl custard',\n",
       " 'abl cut',\n",
       " 'abl deal',\n",
       " 'abl delic',\n",
       " 'abl deliv',\n",
       " 'abl depend',\n",
       " 'abl destroy',\n",
       " 'abl determin',\n",
       " 'abl diabet',\n",
       " 'abl dig',\n",
       " 'abl dodg',\n",
       " 'abl drink',\n",
       " 'abl duplic',\n",
       " 'abl easili',\n",
       " 'abl eat',\n",
       " 'abl eaten',\n",
       " 'abl elimin',\n",
       " 'abl enjoy',\n",
       " 'abl enjoyem',\n",
       " 'abl enough',\n",
       " 'abl evalu',\n",
       " 'abl even',\n",
       " 'abl expect',\n",
       " 'abl experi',\n",
       " 'abl extract',\n",
       " 'abl fall',\n",
       " 'abl feed',\n",
       " 'abl feel',\n",
       " 'abl figur',\n",
       " 'abl find',\n",
       " 'abl finish',\n",
       " 'abl fit',\n",
       " 'abl flavor',\n",
       " 'abl focus',\n",
       " 'abl follow',\n",
       " 'abl forc',\n",
       " 'abl freez',\n",
       " 'abl fresh',\n",
       " 'abl get',\n",
       " 'abl give',\n",
       " 'abl good',\n",
       " 'abl grab',\n",
       " 'abl grind',\n",
       " 'abl grip',\n",
       " 'abl grow',\n",
       " 'abl guess',\n",
       " 'abl handl',\n",
       " 'abl health',\n",
       " 'abl help',\n",
       " 'abl hold',\n",
       " 'abl hous',\n",
       " 'abl identifi',\n",
       " 'abl immedi',\n",
       " 'abl investig',\n",
       " 'abl job',\n",
       " 'abl join',\n",
       " 'abl justifi',\n",
       " 'abl keep',\n",
       " 'abl knead',\n",
       " 'abl know',\n",
       " 'abl last',\n",
       " 'abl let',\n",
       " 'abl lighten',\n",
       " 'abl locat',\n",
       " 'abl longer',\n",
       " 'abl lose',\n",
       " 'abl lure',\n",
       " 'abl make',\n",
       " 'abl margarita',\n",
       " 'abl mimic',\n",
       " 'abl mix',\n",
       " 'abl nice',\n",
       " 'abl notic',\n",
       " 'abl nurs',\n",
       " 'abl obtain',\n",
       " 'abl offer',\n",
       " 'abl open',\n",
       " 'abl oral',\n",
       " 'abl order',\n",
       " 'abl overlook',\n",
       " 'abl pay',\n",
       " 'abl pepper',\n",
       " 'abl pet',\n",
       " 'abl pick',\n",
       " 'abl pictur',\n",
       " 'abl pop',\n",
       " 'abl post',\n",
       " 'abl pour',\n",
       " 'abl previous',\n",
       " 'abl price',\n",
       " 'abl produc',\n",
       " 'abl protect',\n",
       " 'abl prove',\n",
       " 'abl provid',\n",
       " 'abl pull',\n",
       " 'abl pump',\n",
       " 'abl purchac',\n",
       " 'abl purchas',\n",
       " 'abl push',\n",
       " 'abl put',\n",
       " 'abl read',\n",
       " 'abl readi',\n",
       " 'abl realli',\n",
       " 'abl renew',\n",
       " 'abl reorder',\n",
       " 'abl replac',\n",
       " 'abl request',\n",
       " 'abl reseal',\n",
       " 'abl resist',\n",
       " 'abl return',\n",
       " 'abl reus',\n",
       " 'abl reviv',\n",
       " 'abl salvag',\n",
       " 'abl sampl',\n",
       " 'abl satisfi',\n",
       " 'abl save',\n",
       " 'abl say',\n",
       " 'abl see',\n",
       " 'abl select',\n",
       " 'abl sell',\n",
       " 'abl send',\n",
       " 'abl separ',\n",
       " 'abl set',\n",
       " 'abl settl',\n",
       " 'abl shake',\n",
       " 'abl share',\n",
       " 'abl shatter',\n",
       " 'abl ship',\n",
       " 'abl shop',\n",
       " 'abl sit',\n",
       " 'abl slay',\n",
       " 'abl sleep',\n",
       " 'abl smell',\n",
       " 'abl smoke',\n",
       " 'abl son',\n",
       " 'abl specif',\n",
       " 'abl split',\n",
       " 'abl squeez',\n",
       " 'abl start',\n",
       " 'abl stay',\n",
       " 'abl steak',\n",
       " 'abl stick',\n",
       " 'abl still',\n",
       " 'abl stock',\n",
       " 'abl stop',\n",
       " 'abl store',\n",
       " 'abl stuff',\n",
       " 'abl subscrib',\n",
       " 'abl success',\n",
       " 'abl swallow',\n",
       " 'abl swear',\n",
       " 'abl switch',\n",
       " 'abl take',\n",
       " 'abl taken',\n",
       " 'abl tast',\n",
       " 'abl teach',\n",
       " 'abl tell',\n",
       " 'abl test',\n",
       " 'abl thank',\n",
       " 'abl throw',\n",
       " 'abl toler',\n",
       " 'abl toss',\n",
       " 'abl touch',\n",
       " 'abl train',\n",
       " 'abl trap',\n",
       " 'abl tri',\n",
       " 'abl upon',\n",
       " 'abl use',\n",
       " 'abl vacat',\n",
       " 'abl verifi',\n",
       " 'abl view',\n",
       " 'abl walk',\n",
       " 'abl wash',\n",
       " 'abl wean',\n",
       " 'abl well',\n",
       " 'abl whenev',\n",
       " 'abl without',\n",
       " 'abl withstand',\n",
       " 'abnorm',\n",
       " 'abnorm ground',\n",
       " 'abnorm red',\n",
       " 'abnormalti',\n",
       " 'abnormalti prevent',\n",
       " 'aboard',\n",
       " 'aboard give',\n",
       " 'abod',\n",
       " 'abomin',\n",
       " 'abomin expect',\n",
       " 'abomin run',\n",
       " 'abort',\n",
       " 'abort end',\n",
       " 'aboslut',\n",
       " 'aboslut love',\n",
       " 'abosolut',\n",
       " 'abosolut nasti',\n",
       " 'abosolut superb',\n",
       " 'aboth',\n",
       " 'aboth review',\n",
       " 'abou',\n",
       " 'abou valu',\n",
       " 'abouit',\n",
       " 'abouit take',\n",
       " 'abound',\n",
       " 'abound last',\n",
       " 'abour',\n",
       " 'abour pound',\n",
       " 'abouyt',\n",
       " 'abouyt second',\n",
       " 'abowt',\n",
       " 'abowt kat',\n",
       " 'abraham',\n",
       " 'abraham lincoln',\n",
       " 'abras',\n",
       " 'abreva',\n",
       " 'abreva done',\n",
       " 'abroad',\n",
       " 'abroad camp',\n",
       " 'abroad purchas',\n",
       " 'abroad rome',\n",
       " 'abroad think',\n",
       " 'abrupt',\n",
       " 'abrupt shrivel',\n",
       " 'abscond',\n",
       " 'abscond full',\n",
       " 'abscond room',\n",
       " 'absenc',\n",
       " 'absenc process',\n",
       " 'absenc senseo',\n",
       " 'absenc want',\n",
       " 'absenc written',\n",
       " 'absent',\n",
       " 'absent islay',\n",
       " 'absent use',\n",
       " 'absolet',\n",
       " 'absolet amaz',\n",
       " 'absolultey',\n",
       " 'absolultey amaz',\n",
       " 'absolut',\n",
       " 'absolut absolut',\n",
       " 'absolut accur',\n",
       " 'absolut addict',\n",
       " 'absolut adopt',\n",
       " 'absolut ador',\n",
       " 'absolut amaz',\n",
       " 'absolut anyth',\n",
       " 'absolut appal',\n",
       " 'absolut astonish',\n",
       " 'absolut authent',\n",
       " 'absolut aw',\n",
       " 'absolut awesom',\n",
       " 'absolut beauti',\n",
       " 'absolut best',\n",
       " 'absolut bitter',\n",
       " 'absolut bonker',\n",
       " 'absolut bottom',\n",
       " 'absolut buy',\n",
       " 'absolut caffein',\n",
       " 'absolut caramel',\n",
       " 'absolut certain',\n",
       " 'absolut cholesterol',\n",
       " 'absolut closest',\n",
       " 'absolut coffe',\n",
       " 'absolut complaint',\n",
       " 'absolut crazi',\n",
       " 'absolut crucial',\n",
       " 'absolut crumbl',\n",
       " 'absolut crunch',\n",
       " 'absolut cure',\n",
       " 'absolut decaf',\n",
       " 'absolut delect',\n",
       " 'absolut delici',\n",
       " 'absolut delight',\n",
       " 'absolut detect',\n",
       " 'absolut detest',\n",
       " 'absolut diffen',\n",
       " 'absolut differ',\n",
       " 'absolut digust',\n",
       " 'absolut direct',\n",
       " 'absolut disappoint',\n",
       " 'absolut disast',\n",
       " 'absolut disgust',\n",
       " 'absolut divin',\n",
       " 'absolut dont',\n",
       " 'absolut doubt',\n",
       " 'absolut ecstat',\n",
       " 'absolut enjoy',\n",
       " 'absolut everi',\n",
       " 'absolut everyth',\n",
       " 'absolut except',\n",
       " 'absolut expens',\n",
       " 'absolut extent',\n",
       " 'absolut extra',\n",
       " 'absolut fabul',\n",
       " 'absolut fair',\n",
       " 'absolut faith',\n",
       " 'absolut fals',\n",
       " 'absolut fantast',\n",
       " 'absolut far',\n",
       " 'absolut favorit',\n",
       " 'absolut fell',\n",
       " 'absolut fine',\n",
       " 'absolut finest',\n",
       " 'absolut flavor',\n",
       " 'absolut flop',\n",
       " 'absolut foul',\n",
       " 'absolut freak',\n",
       " 'absolut fresh',\n",
       " 'absolut freshest',\n",
       " 'absolut goe',\n",
       " 'absolut gorgeous',\n",
       " 'absolut gourmet',\n",
       " 'absolut great',\n",
       " 'absolut gross',\n",
       " 'absolut habit',\n",
       " 'absolut hardest',\n",
       " 'absolut hate',\n",
       " 'absolut heaven',\n",
       " 'absolut hesit',\n",
       " 'absolut highest',\n",
       " 'absolut hook',\n",
       " 'absolut horrend',\n",
       " 'absolut horribl',\n",
       " 'absolut inaccuraci',\n",
       " 'absolut incid',\n",
       " 'absolut insan',\n",
       " 'absolut interest',\n",
       " 'absolut ive',\n",
       " 'absolut junki',\n",
       " 'absolut kick',\n",
       " 'absolut knockout',\n",
       " 'absolut leak',\n",
       " 'absolut like',\n",
       " 'absolut love',\n",
       " 'absolut made',\n",
       " 'absolut marvel',\n",
       " 'absolut matter',\n",
       " 'absolut melt',\n",
       " 'absolut mess',\n",
       " 'absolut miracl',\n",
       " 'absolut miser',\n",
       " 'absolut mortifi',\n",
       " 'absolut mouth',\n",
       " 'absolut much',\n",
       " 'absolut must',\n",
       " 'absolut nasti',\n",
       " 'absolut necessari',\n",
       " 'absolut need',\n",
       " 'absolut never',\n",
       " 'absolut none',\n",
       " 'absolut normal',\n",
       " 'absolut noth',\n",
       " 'absolut one',\n",
       " 'absolut order',\n",
       " 'absolut outstand',\n",
       " 'absolut pay',\n",
       " 'absolut perfect',\n",
       " 'absolut phenomen',\n",
       " 'absolut posit',\n",
       " 'absolut preserv',\n",
       " 'absolut problem',\n",
       " 'absolut product',\n",
       " 'absolut recommend',\n",
       " 'absolut refus',\n",
       " 'absolut requir',\n",
       " 'absolut resound',\n",
       " 'absolut revolt',\n",
       " 'absolut right',\n",
       " 'absolut ruin',\n",
       " 'absolut scrumptious',\n",
       " 'absolut sea',\n",
       " 'absolut shite',\n",
       " 'absolut shock',\n",
       " 'absolut standout',\n",
       " 'absolut stapl',\n",
       " 'absolut stun',\n",
       " 'absolut sugar',\n",
       " 'absolut superb',\n",
       " 'absolut superl',\n",
       " 'absolut tast',\n",
       " 'absolut tasteless',\n",
       " 'absolut tea',\n",
       " 'absolut tell',\n",
       " 'absolut terribl',\n",
       " 'absolut theater',\n",
       " 'absolut thrill',\n",
       " 'absolut trace',\n",
       " 'absolut unaccept',\n",
       " 'absolut unbear',\n",
       " 'absolut unbeliev',\n",
       " 'absolut unfortun',\n",
       " 'absolut unpleas',\n",
       " 'absolut use',\n",
       " 'absolut vanilla',\n",
       " 'absolut vegan',\n",
       " 'absolut vitamini',\n",
       " 'absolut walk',\n",
       " 'absolut want',\n",
       " 'absolut wast',\n",
       " 'absolut wonder',\n",
       " 'absolut wont',\n",
       " 'absolut wors',\n",
       " 'absolut worst',\n",
       " 'absolut worth',\n",
       " 'absolut would',\n",
       " 'absolut yummi',\n",
       " 'absolutley',\n",
       " 'absolutley awesom',\n",
       " 'absolutley incred',\n",
       " 'absolutley love',\n",
       " 'absolutley loveeess',\n",
       " 'absorb',\n",
       " 'absorb add',\n",
       " 'absorb appear',\n",
       " 'absorb asian',\n",
       " 'absorb bad',\n",
       " 'absorb bodi',\n",
       " 'absorb butter',\n",
       " 'absorb chug',\n",
       " 'absorb continu',\n",
       " 'absorb cook',\n",
       " 'absorb creami',\n",
       " 'absorb extra',\n",
       " 'absorb fast',\n",
       " 'absorb flavor',\n",
       " 'absorb food',\n",
       " 'absorb fruit',\n",
       " 'absorb gone',\n",
       " 'absorb good',\n",
       " 'absorb gradual',\n",
       " 'absorb hair',\n",
       " 'absorb heat',\n",
       " 'absorb human',\n",
       " 'absorb least',\n",
       " 'absorb liquid',\n",
       " 'absorb littl',\n",
       " 'absorb lot',\n",
       " 'absorb make',\n",
       " 'absorb milk',\n",
       " 'absorb moistur',\n",
       " 'absorb nice',\n",
       " 'absorb nutrient',\n",
       " 'absorb oil',\n",
       " 'absorb quick',\n",
       " 'absorb realli',\n",
       " 'absorb rice',\n",
       " 'absorb sauc',\n",
       " 'absorb scalp',\n",
       " 'absorb serious',\n",
       " 'absorb skin',\n",
       " 'absorb small',\n",
       " 'absorb smooth',\n",
       " 'absorb spew',\n",
       " 'absorb stomach',\n",
       " 'absorb ten',\n",
       " 'absorb terribl',\n",
       " 'absorb ton',\n",
       " 'absorb urin',\n",
       " 'absorb vitamin',\n",
       " 'absorb water',\n",
       " 'absorb well',\n",
       " 'absorb zinc',\n",
       " 'absorpt',\n",
       " 'absorpt calcium',\n",
       " 'absorpt electrolyt',\n",
       " 'absorpt formul',\n",
       " 'absorpt nutrient',\n",
       " 'absorpt petguard',\n",
       " 'absorpt therefor',\n",
       " 'absorpt vitamin',\n",
       " 'absorpt yacon',\n",
       " 'absoult',\n",
       " 'absoult fun',\n",
       " 'absoulut',\n",
       " 'absoulut love',\n",
       " 'absoulut wonder',\n",
       " 'absout',\n",
       " 'absout perfect',\n",
       " 'absurd',\n",
       " 'absurd actual',\n",
       " 'absurd addict',\n",
       " 'absurd amount',\n",
       " 'absurd buy',\n",
       " 'absurd kid',\n",
       " 'absurd know',\n",
       " 'absurd mark',\n",
       " 'absurd polici',\n",
       " 'absurd price',\n",
       " 'absurd salti',\n",
       " 'absurd tast',\n",
       " 'absurd time',\n",
       " 'abt',\n",
       " 'abt elsewher',\n",
       " 'abt take',\n",
       " 'abuela',\n",
       " 'abuela green',\n",
       " 'abuelita',\n",
       " 'abuelita abl',\n",
       " 'abuelita bed',\n",
       " 'abuelita mexican',\n",
       " 'abuelita put',\n",
       " 'abund',\n",
       " 'abund chincoteagu',\n",
       " 'abund delici',\n",
       " 'abund flavor',\n",
       " 'abund last',\n",
       " 'abund milk',\n",
       " 'abund miner',\n",
       " 'abund nut',\n",
       " 'abund outcrop',\n",
       " 'abund sphagnum',\n",
       " 'abund wild',\n",
       " 'abus',\n",
       " 'abus also',\n",
       " 'abus bodi',\n",
       " 'abus full',\n",
       " 'abus immedi',\n",
       " 'abus laugh',\n",
       " 'abus overdos',\n",
       " 'abus put',\n",
       " 'abus transit',\n",
       " 'abus trust',\n",
       " 'abv',\n",
       " 'abv numb',\n",
       " 'abysm',\n",
       " 'abysm mayb',\n",
       " 'abysm poor',\n",
       " 'abysm terribl',\n",
       " 'acacia',\n",
       " 'acacia flower',\n",
       " 'acacia heartbreak',\n",
       " 'acadami',\n",
       " 'acadami pediatr',\n",
       " 'academi',\n",
       " 'academi chocol',\n",
       " 'academi scienc',\n",
       " 'acai',\n",
       " 'acai actual',\n",
       " 'acai amazon',\n",
       " 'acai berri',\n",
       " 'acai blueberri',\n",
       " 'acai coconut',\n",
       " 'acai combin',\n",
       " 'acai flavor',\n",
       " 'acai grape',\n",
       " 'acai havent',\n",
       " 'acai help',\n",
       " 'acai juic',\n",
       " 'acai lemonad',\n",
       " 'acai mangosteen',\n",
       " 'acai much',\n",
       " 'acai one',\n",
       " 'acai organ',\n",
       " 'acai pomegran',\n",
       " 'acai pomegranit',\n",
       " 'acai pretti',\n",
       " 'acai seen',\n",
       " 'acai tast',\n",
       " 'acai tea',\n",
       " 'acai tri',\n",
       " 'acai your',\n",
       " 'acana',\n",
       " 'acana california',\n",
       " 'acana exclus',\n",
       " 'acana food',\n",
       " 'acana hes',\n",
       " 'acana saw',\n",
       " 'acana well',\n",
       " 'acc',\n",
       " 'acc websit',\n",
       " 'acceler',\n",
       " 'acceler colon',\n",
       " 'accelerad',\n",
       " 'accelerad recommend',\n",
       " 'accent',\n",
       " 'accent bit',\n",
       " 'accent cocktail',\n",
       " 'accent coffe',\n",
       " 'accent contain',\n",
       " 'accent fig',\n",
       " 'accent flavor',\n",
       " 'accent like',\n",
       " 'accent mild',\n",
       " 'accent natur',\n",
       " 'accent order',\n",
       " 'accent overpow',\n",
       " 'accent room',\n",
       " 'accent son',\n",
       " 'accent take',\n",
       " 'accent tea',\n",
       " 'accent way',\n",
       " 'accent well',\n",
       " 'accentu',\n",
       " 'accentu garlic',\n",
       " 'accentu lessen',\n",
       " 'accentu whatev',\n",
       " 'accept',\n",
       " 'accept aftertast',\n",
       " 'accept also',\n",
       " 'accept altern',\n",
       " 'accept amount',\n",
       " 'accept anyth',\n",
       " 'accept babi',\n",
       " 'accept back',\n",
       " 'accept bar',\n",
       " 'accept burger',\n",
       " 'accept came',\n",
       " 'accept checkup',\n",
       " 'accept chocol',\n",
       " 'accept clam',\n",
       " 'accept cup',\n",
       " 'accept deliveri',\n",
       " 'accept differ',\n",
       " 'accept dog',\n",
       " 'accept edibl',\n",
       " 'accept enjoy',\n",
       " 'accept entirelypet',\n",
       " 'accept even',\n",
       " 'accept except',\n",
       " 'accept fact',\n",
       " 'accept feb',\n",
       " 'accept flavor',\n",
       " 'accept food',\n",
       " 'accept gift',\n",
       " 'accept green',\n",
       " 'accept groceri',\n",
       " 'accept healthi',\n",
       " 'accept huge',\n",
       " 'accept level',\n",
       " 'accept limit',\n",
       " 'accept littl',\n",
       " 'accept manufactur',\n",
       " 'accept method',\n",
       " 'accept munch',\n",
       " 'accept never',\n",
       " 'accept nutrit',\n",
       " 'accept offer',\n",
       " 'accept opinion',\n",
       " 'accept pasta',\n",
       " 'accept payment',\n",
       " 'accept pinch',\n",
       " 'accept plant',\n",
       " 'accept plus',\n",
       " 'accept pretti',\n",
       " 'accept price',\n",
       " 'accept procedur',\n",
       " 'accept purchas',\n",
       " 'accept qualiti',\n",
       " 'accept ratio',\n",
       " 'accept real',\n",
       " 'accept receiv',\n",
       " 'accept reluct',\n",
       " 'accept respons',\n",
       " 'accept return',\n",
       " 'accept rubberi',\n",
       " 'accept run',\n",
       " 'accept say',\n",
       " 'accept solid',\n",
       " 'accept substitut',\n",
       " 'accept tast',\n",
       " 'accept teeth',\n",
       " 'accept throughout',\n",
       " 'accept treat',\n",
       " 'accept two',\n",
       " 'accept wake',\n",
       " 'accept xylosweet',\n",
       " 'acceptd',\n",
       " 'acceptd regan',\n",
       " 'acces',\n",
       " 'acces stuff',\n",
       " 'access',\n",
       " 'access adequ',\n",
       " 'access afford',\n",
       " 'access amazon',\n",
       " 'access anyon',\n",
       " 'access anyth',\n",
       " 'access arriv',\n",
       " 'access bjs',\n",
       " 'access bodi',\n",
       " 'access coupl',\n",
       " 'access decent',\n",
       " 'access differ',\n",
       " 'access dog',\n",
       " 'access eagl',\n",
       " 'access exot',\n",
       " 'access extra',\n",
       " 'access fish',\n",
       " 'access four',\n",
       " 'access fresh',\n",
       " 'access fridg',\n",
       " 'access gluten',\n",
       " 'access grant',\n",
       " 'access grinder',\n",
       " 'access healthi',\n",
       " 'access huge',\n",
       " 'access item',\n",
       " 'access kelp',\n",
       " 'access nutrient',\n",
       " 'access one',\n",
       " 'access open',\n",
       " 'access past',\n",
       " 'access place',\n",
       " 'access probabl',\n",
       " 'access product',\n",
       " 'access real',\n",
       " 'access state',\n",
       " 'access still',\n",
       " 'access train',\n",
       " 'access via',\n",
       " 'accessori',\n",
       " 'accessori keurig',\n",
       " 'accessori still',\n",
       " 'accessori unit',\n",
       " 'accid',\n",
       " 'accid actual',\n",
       " 'accid addit',\n",
       " 'accid amazon',\n",
       " 'accid bought',\n",
       " 'accid boyfriend',\n",
       " 'accid click',\n",
       " 'accid decid',\n",
       " 'accid final',\n",
       " 'accid first',\n",
       " 'accid high',\n",
       " 'accid hippi',\n",
       " 'accid hour',\n",
       " 'accid hous',\n",
       " 'accid howev',\n",
       " 'accid ingest',\n",
       " 'accid jump',\n",
       " 'accid leak',\n",
       " 'accid mani',\n",
       " 'accid meant',\n",
       " 'accid met',\n",
       " 'accid nonetheless',\n",
       " 'accid order',\n",
       " 'accid person',\n",
       " 'accid put',\n",
       " 'accid qu',\n",
       " 'accid quick',\n",
       " 'accid realiz',\n",
       " 'accid saw',\n",
       " 'accid shop',\n",
       " 'accid smell',\n",
       " 'accid start',\n",
       " 'accid still',\n",
       " 'accid stumbl',\n",
       " 'accid sympath',\n",
       " 'accid thought',\n",
       " 'accid turn',\n",
       " 'accid vend',\n",
       " 'accid well',\n",
       " 'accid worth',\n",
       " 'accid yummi',\n",
       " 'accident',\n",
       " 'accident delight',\n",
       " 'accident disast',\n",
       " 'accident end',\n",
       " 'accident gave',\n",
       " 'accident get',\n",
       " 'accident got',\n",
       " 'accident let',\n",
       " 'accident moth',\n",
       " 'accident order',\n",
       " 'accident pick',\n",
       " 'accident purchas',\n",
       " 'accident remov',\n",
       " 'accident sent',\n",
       " 'accident slice',\n",
       " 'accident swallow',\n",
       " 'accident tear',\n",
       " 'accident tilt',\n",
       " 'accident trip',\n",
       " 'accident vegan',\n",
       " 'acclaim',\n",
       " 'acclaim professor',\n",
       " 'acclim',\n",
       " 'acclim super',\n",
       " 'acclimat',\n",
       " 'acclimat slight',\n",
       " 'accolad',\n",
       " 'accolad chef',\n",
       " 'accolad furminstor',\n",
       " 'accomid',\n",
       " 'accomid bacon',\n",
       " 'accommod',\n",
       " 'accommod peopl',\n",
       " 'accommod pleasur',\n",
       " 'accommod serv',\n",
       " 'accommod whole',\n",
       " 'accomod',\n",
       " 'accomod noodl',\n",
       " 'accompani',\n",
       " 'accompani adject',\n",
       " 'accompani also',\n",
       " 'accompani barbecu',\n",
       " 'accompani bean',\n",
       " 'accompani bisto',\n",
       " 'accompani burr',\n",
       " 'accompani cup',\n",
       " 'accompani delic',\n",
       " 'accompani favorit',\n",
       " 'accompani flavor',\n",
       " 'accompani grill',\n",
       " 'accompani item',\n",
       " 'accompani jerk',\n",
       " 'accompani meal',\n",
       " 'accompani milk',\n",
       " 'accompani nausea',\n",
       " 'accompani pack',\n",
       " 'accompani perhap',\n",
       " 'accompani roast',\n",
       " 'accompani salami',\n",
       " 'accompani set',\n",
       " 'accompani soup',\n",
       " 'accompani train',\n",
       " 'accompani usual',\n",
       " 'accompani vegetarian',\n",
       " 'accompani yogurt',\n",
       " 'accompany',\n",
       " 'accompany herb',\n",
       " 'accomplish',\n",
       " 'accomplish ala',\n",
       " 'accomplish anyth',\n",
       " 'accomplish chef',\n",
       " 'accomplish far',\n",
       " 'accomplish ive',\n",
       " 'accomplish jif',\n",
       " 'accomplish make',\n",
       " 'accomplish tea',\n",
       " 'accomplish thing',\n",
       " 'accomplish well',\n",
       " 'accord',\n",
       " 'accord advertis',\n",
       " 'accord ancient',\n",
       " 'accord anoth',\n",
       " 'accord articl',\n",
       " 'accord bag',\n",
       " 'accord belief',\n",
       " 'accord blurri',\n",
       " 'accord bottl',\n",
       " 'accord box',\n",
       " 'accord brother',\n",
       " 'accord busi',\n",
       " 'accord buy',\n",
       " 'accord calcul',\n",
       " 'accord cat',\n",
       " 'accord coffe',\n",
       " 'accord compani',\n",
       " 'accord complaint',\n",
       " 'accord david',\n",
       " 'accord direct',\n",
       " 'accord doctor',\n",
       " 'accord dog',\n",
       " 'accord enjoy',\n",
       " 'accord everyon',\n",
       " 'accord famili',\n",
       " 'accord fda',\n",
       " 'accord formul',\n",
       " 'accord girl',\n",
       " 'accord hand',\n",
       " 'accord histori',\n",
       " 'accord husband',\n",
       " 'accord info',\n",
       " 'accord ingredi',\n",
       " 'accord inner',\n",
       " 'accord instruct',\n",
       " 'accord khloe',\n",
       " 'accord kitti',\n",
       " 'accord label',\n",
       " 'accord like',\n",
       " 'accord lindtusa',\n",
       " 'accord list',\n",
       " 'accord mani',\n",
       " 'accord manufactur',\n",
       " 'accord mayo',\n",
       " 'accord mom',\n",
       " 'accord much',\n",
       " 'accord new',\n",
       " 'accord note',\n",
       " 'accord nutiva',\n",
       " 'accord nutrit',\n",
       " 'accord onlin',\n",
       " 'accord otherwis',\n",
       " 'accord packag',\n",
       " 'accord peopl',\n",
       " 'accord person',\n",
       " 'accord problem',\n",
       " 'accord read',\n",
       " 'accord real',\n",
       " 'accord report',\n",
       " 'accord research',\n",
       " 'accord rice',\n",
       " ...]"
      ]
     },
     "execution_count": 75,
     "metadata": {
      "tags": []
     },
     "output_type": "execute_result"
    }
   ],
   "source": [
    "features"
   ]
  },
  {
   "cell_type": "code",
   "execution_count": 0,
   "metadata": {
    "colab": {},
    "colab_type": "code",
    "id": "GmwYkiXl8N_L"
   },
   "outputs": [],
   "source": [
    "features = tf_idf_vect.get_feature_names()\n",
    "w2v_words=list(w2v_model.wv.vocab)\n",
    "tfidf_sent_vectors = []; \n",
    "for sent in list_of_sent:\n",
    "    sent_vec = np.zeros(50) \n",
    "    weight_sum =0; \n",
    "    for word in sent:\n",
    "        if ((word in w2v_words) and (word in features)):\n",
    "            vec = w2v_model.wv[word]\n",
    "            \n",
    "            tf_idf = final_tf_idf[row ,features.index(word)]\n",
    "            sent_vec += (vec * tf_idf)\n",
    "            weight_sum += tf_idf\n",
    "    if weight_sum != 0:\n",
    "        sent_vec /= weight_sum\n",
    "    tfidf_sent_vectors.append(sent_vec)\n",
    "    row += 1"
   ]
  },
  {
   "cell_type": "code",
   "execution_count": 84,
   "metadata": {
    "colab": {
     "base_uri": "https://localhost:8080/",
     "height": 34
    },
    "colab_type": "code",
    "id": "fQqO93_6D5eR",
    "outputId": "b98e91af-a4e2-44ec-8cb3-361a164185e6"
   },
   "outputs": [
    {
     "data": {
      "text/plain": [
       "16.525582572524172"
      ]
     },
     "execution_count": 84,
     "metadata": {
      "tags": []
     },
     "output_type": "execute_result"
    }
   ],
   "source": [
    "weight_sum"
   ]
  },
  {
   "cell_type": "code",
   "execution_count": 85,
   "metadata": {
    "colab": {
     "base_uri": "https://localhost:8080/",
     "height": 185
    },
    "colab_type": "code",
    "id": "A0P4lXH0Bc1f",
    "outputId": "f8d8ae14-49db-444b-c573-5eab98c640fa"
   },
   "outputs": [
    {
     "data": {
      "text/plain": [
       "array([ 0.18098984, -0.16406852, -0.26264633,  0.31420262, -0.41959211,\n",
       "       -0.00678552, -0.139759  ,  0.06251919,  0.07341975, -0.45397382,\n",
       "        0.17955479, -0.04968272,  0.44038956,  0.11079337, -0.01852942,\n",
       "        0.16572328,  0.16015769,  0.08785433,  0.37805454,  0.0512882 ,\n",
       "       -0.30909271, -0.05523572, -0.01353778,  0.04706519,  0.22399748,\n",
       "        0.21469014, -0.06452533, -0.32996669, -0.03080038, -0.16733522,\n",
       "        0.82542149,  0.16996747,  0.24423919, -0.24470168, -0.61488987,\n",
       "       -0.48335067, -0.02692873,  0.3771451 ,  0.05234025, -0.31301971,\n",
       "       -0.21403176, -0.12151712, -0.13009747,  0.04428758, -0.10448576,\n",
       "       -0.44522532,  0.36699681,  0.14455005, -0.09143977,  0.55173913])"
      ]
     },
     "execution_count": 85,
     "metadata": {
      "tags": []
     },
     "output_type": "execute_result"
    }
   ],
   "source": [
    "tfidf_sent_vectors[5]"
   ]
  },
  {
   "cell_type": "code",
   "execution_count": 0,
   "metadata": {
    "colab": {},
    "colab_type": "code",
    "id": "ifGB9bHuLk0B"
   },
   "outputs": [],
   "source": [
    "from sklearn import preprocessing\n",
    "tfidf_w2v_vec_norm = preprocessing.normalize(tfidf_sent_vectors)\n"
   ]
  },
  {
   "cell_type": "code",
   "execution_count": 87,
   "metadata": {
    "colab": {
     "base_uri": "https://localhost:8080/",
     "height": 470
    },
    "colab_type": "code",
    "id": "ihEsqqCUo3Va",
    "outputId": "144c94e7-9e3d-4dc8-88dc-fd5b3982a6e0"
   },
   "outputs": [
    {
     "name": "stdout",
     "output_type": "stream",
     "text": [
      "(19999, 2) (19999, 1)\n",
      "(19999, 3)\n"
     ]
    },
    {
     "data": {
      "image/png": "[encoded data removed]",
      "text/plain": [
       "<matplotlib.figure.Figure at 0x7f2d5a0eceb8>"
      ]
     },
     "metadata": {
      "tags": []
     },
     "output_type": "display_data"
    }
   ],
   "source": [
    "import random\n",
    "from sklearn.decomposition import TruncatedSVD\n",
    "trunc_tfidf=TruncatedSVD(n_components=2)\n",
    "trunc_tfidf_w2v =trunc_tfidf.fit_transform(tfidf_w2v_vec_norm)\n",
    "n_samples = 19999\n",
    "sample_cols = random.sample(range(1, len(trunc_tfidf_w2v)), n_samples)\n",
    "sample_features =trunc_tfidf_w2v[sample_cols]\n",
    "\n",
    "sample_class = final['Score'][sample_cols]\n",
    "sample_class = sample_class[:,np.newaxis]\n",
    "print(sample_features.shape,sample_class.shape)\n",
    "model = TSNE(n_components=2,random_state=0,perplexity=100)\n",
    "embedded_data = model.fit_transform(sample_features)\n",
    "final_data = np.concatenate((embedded_data,sample_class),axis=1)\n",
    "print(final_data.shape)\n",
    "newdf = pd.DataFrame(data=final_data,columns=[\"Dim1\",\"Dim2\",\"label\"])\n",
    "sns.FacetGrid(newdf,hue=\"label\",size=6).map(plt.scatter,\"Dim1\",\"Dim2\").add_legend()\n",
    "plt.show()"
   ]
  },
  {
   "cell_type": "markdown",
   "metadata": {
    "colab_type": "text",
    "id": "aRkAF4FtmYNv"
   },
   "source": [
    "# CONCLUSION\n",
    "from all the tsne plots that we have got , we have concluded that they are all overlapping,so by this It looks like  data is not linearly separable\n",
    "but Tsne is an approximation so we have to train this data using different models"
   ]
  }
 ],
 "metadata": {
  "colab": {
   "collapsed_sections": [],
   "name": "Untitled11_(1) (1).ipynb",
   "provenance": [],
   "version": "0.3.2"
  },
  "kernelspec": {
   "display_name": "Python 3",
   "language": "python",
   "name": "python3"
  },
  "language_info": {
   "codemirror_mode": {
    "name": "ipython",
    "version": 3
   },
   "file_extension": ".py",
   "mimetype": "text/x-python",
   "name": "python",
   "nbconvert_exporter": "python",
   "pygments_lexer": "ipython3",
   "version": "3.6.5"
  }
 },
 "nbformat": 4,
 "nbformat_minor": 1
}
