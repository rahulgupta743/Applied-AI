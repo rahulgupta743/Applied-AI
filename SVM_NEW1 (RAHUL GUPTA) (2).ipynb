{
 "cells": [
  {
   "cell_type": "code",
   "execution_count": 1,
   "metadata": {
    "colab": {},
    "colab_type": "code",
    "id": "msXoovqHak7n"
   },
   "outputs": [
    {
     "name": "stderr",
     "output_type": "stream",
     "text": [
      "C:\\Users\\LENOVO\\Anaconda3\\lib\\site-packages\\gensim\\utils.py:1209: UserWarning: detected Windows; aliasing chunkize to chunkize_serial\n",
      "  warnings.warn(\"detected Windows; aliasing chunkize to chunkize_serial\")\n"
     ]
    }
   ],
   "source": [
    "%matplotlib inline\n",
    "import warnings\n",
    "warnings.filterwarnings(\"ignore\")\n",
    "import sqlite3\n",
    "import pandas as pd\n",
    "import numpy as np\n",
    "import string\n",
    "import matplotlib.pyplot as plt\n",
    "import seaborn as sns\n",
    "from sklearn.feature_extraction.text import CountVectorizer\n",
    "from sklearn.feature_extraction.text import TfidfTransformer\n",
    "import gensim\n",
    "from sklearn.feature_extraction.text import TfidfVectorizer\n",
    "from sklearn.metrics import confusion_matrix,auc,accuracy_score\n",
    "from nltk.stem.porter import PorterStemmer\n",
    "import re\n",
    "from nltk.corpus import stopwords\n",
    "from nltk.stem import PorterStemmer\n",
    "from nltk.stem.wordnet import WordNetLemmatizer\n",
    "from gensim.models import Word2Vec\n",
    "from gensim.models import KeyedVectors\n",
    "import pickle\n",
    "con = sqlite3.connect(\"database.sqlite\") \n",
    "filtered_data = pd.read_sql_query(\"\"\" SELECT * FROM Reviews WHERE Score != 3 \"\"\", con) \n",
    "def partition(x):\n",
    "    if x < 3:\n",
    "        return 'negative'\n",
    "    return 'positive'\n",
    "\n",
    "#changing reviews with score less than 3 to be positive and vice-versa\n",
    "actualScore = filtered_data['Score']\n",
    "positiveNegative = actualScore.map(partition) \n",
    "filtered_data['Score'] = positiveNegative"
   ]
  },
  {
   "cell_type": "code",
   "execution_count": 2,
   "metadata": {},
   "outputs": [],
   "source": [
    "import pickle\n",
    "def savetofile(obj,filename):\n",
    "    pickle.dump(obj,open(filename+\".p\",\"wb\"))\n",
    "def openfromfile(filename):\n",
    "    temp = pickle.load(open(filename+\".p\",\"rb\"))\n",
    "    return temp"
   ]
  },
  {
   "cell_type": "code",
   "execution_count": 3,
   "metadata": {
    "colab": {},
    "colab_type": "code",
    "id": "N6HoeZUxBm0F"
   },
   "outputs": [],
   "source": [
    "from sklearn.metrics import accuracy_score\n",
    "from sklearn.metrics import confusion_matrix\n",
    "from sklearn.metrics import precision_score\n",
    "from sklearn.metrics import f1_score\n",
    "from sklearn.metrics import recall_score\n"
   ]
  },
  {
   "cell_type": "code",
   "execution_count": 4,
   "metadata": {
    "colab": {
     "base_uri": "https://localhost:8080/",
     "height": 3780
    },
    "colab_type": "code",
    "id": "BG0uCahGfAke",
    "outputId": "8684b129-d1a3-45db-f96e-1826f36a9ed5"
   },
   "outputs": [
    {
     "data": {
      "text/html": [
       "<div>\n",
       "<style scoped>\n",
       "    .dataframe tbody tr th:only-of-type {\n",
       "        vertical-align: middle;\n",
       "    }\n",
       "\n",
       "    .dataframe tbody tr th {\n",
       "        vertical-align: top;\n",
       "    }\n",
       "\n",
       "    .dataframe thead th {\n",
       "        text-align: right;\n",
       "    }\n",
       "</style>\n",
       "<table border=\"1\" class=\"dataframe\">\n",
       "  <thead>\n",
       "    <tr style=\"text-align: right;\">\n",
       "      <th></th>\n",
       "      <th>Id</th>\n",
       "      <th>ProductId</th>\n",
       "      <th>UserId</th>\n",
       "      <th>ProfileName</th>\n",
       "      <th>HelpfulnessNumerator</th>\n",
       "      <th>HelpfulnessDenominator</th>\n",
       "      <th>Score</th>\n",
       "      <th>Time</th>\n",
       "      <th>Summary</th>\n",
       "      <th>Text</th>\n",
       "    </tr>\n",
       "  </thead>\n",
       "  <tbody>\n",
       "    <tr>\n",
       "      <th>0</th>\n",
       "      <td>1</td>\n",
       "      <td>B001E4KFG0</td>\n",
       "      <td>A3SGXH7AUHU8GW</td>\n",
       "      <td>delmartian</td>\n",
       "      <td>1</td>\n",
       "      <td>1</td>\n",
       "      <td>positive</td>\n",
       "      <td>1303862400</td>\n",
       "      <td>Good Quality Dog Food</td>\n",
       "      <td>I have bought several of the Vitality canned d...</td>\n",
       "    </tr>\n",
       "    <tr>\n",
       "      <th>1</th>\n",
       "      <td>2</td>\n",
       "      <td>B00813GRG4</td>\n",
       "      <td>A1D87F6ZCVE5NK</td>\n",
       "      <td>dll pa</td>\n",
       "      <td>0</td>\n",
       "      <td>0</td>\n",
       "      <td>negative</td>\n",
       "      <td>1346976000</td>\n",
       "      <td>Not as Advertised</td>\n",
       "      <td>Product arrived labeled as Jumbo Salted Peanut...</td>\n",
       "    </tr>\n",
       "    <tr>\n",
       "      <th>2</th>\n",
       "      <td>3</td>\n",
       "      <td>B000LQOCH0</td>\n",
       "      <td>ABXLMWJIXXAIN</td>\n",
       "      <td>Natalia Corres \"Natalia Corres\"</td>\n",
       "      <td>1</td>\n",
       "      <td>1</td>\n",
       "      <td>positive</td>\n",
       "      <td>1219017600</td>\n",
       "      <td>\"Delight\" says it all</td>\n",
       "      <td>This is a confection that has been around a fe...</td>\n",
       "    </tr>\n",
       "    <tr>\n",
       "      <th>3</th>\n",
       "      <td>4</td>\n",
       "      <td>B000UA0QIQ</td>\n",
       "      <td>A395BORC6FGVXV</td>\n",
       "      <td>Karl</td>\n",
       "      <td>3</td>\n",
       "      <td>3</td>\n",
       "      <td>negative</td>\n",
       "      <td>1307923200</td>\n",
       "      <td>Cough Medicine</td>\n",
       "      <td>If you are looking for the secret ingredient i...</td>\n",
       "    </tr>\n",
       "    <tr>\n",
       "      <th>4</th>\n",
       "      <td>5</td>\n",
       "      <td>B006K2ZZ7K</td>\n",
       "      <td>A1UQRSCLF8GW1T</td>\n",
       "      <td>Michael D. Bigham \"M. Wassir\"</td>\n",
       "      <td>0</td>\n",
       "      <td>0</td>\n",
       "      <td>positive</td>\n",
       "      <td>1350777600</td>\n",
       "      <td>Great taffy</td>\n",
       "      <td>Great taffy at a great price.  There was a wid...</td>\n",
       "    </tr>\n",
       "    <tr>\n",
       "      <th>5</th>\n",
       "      <td>6</td>\n",
       "      <td>B006K2ZZ7K</td>\n",
       "      <td>ADT0SRK1MGOEU</td>\n",
       "      <td>Twoapennything</td>\n",
       "      <td>0</td>\n",
       "      <td>0</td>\n",
       "      <td>positive</td>\n",
       "      <td>1342051200</td>\n",
       "      <td>Nice Taffy</td>\n",
       "      <td>I got a wild hair for taffy and ordered this f...</td>\n",
       "    </tr>\n",
       "    <tr>\n",
       "      <th>6</th>\n",
       "      <td>7</td>\n",
       "      <td>B006K2ZZ7K</td>\n",
       "      <td>A1SP2KVKFXXRU1</td>\n",
       "      <td>David C. Sullivan</td>\n",
       "      <td>0</td>\n",
       "      <td>0</td>\n",
       "      <td>positive</td>\n",
       "      <td>1340150400</td>\n",
       "      <td>Great!  Just as good as the expensive brands!</td>\n",
       "      <td>This saltwater taffy had great flavors and was...</td>\n",
       "    </tr>\n",
       "    <tr>\n",
       "      <th>7</th>\n",
       "      <td>8</td>\n",
       "      <td>B006K2ZZ7K</td>\n",
       "      <td>A3JRGQVEQN31IQ</td>\n",
       "      <td>Pamela G. Williams</td>\n",
       "      <td>0</td>\n",
       "      <td>0</td>\n",
       "      <td>positive</td>\n",
       "      <td>1336003200</td>\n",
       "      <td>Wonderful, tasty taffy</td>\n",
       "      <td>This taffy is so good.  It is very soft and ch...</td>\n",
       "    </tr>\n",
       "    <tr>\n",
       "      <th>8</th>\n",
       "      <td>9</td>\n",
       "      <td>B000E7L2R4</td>\n",
       "      <td>A1MZYO9TZK0BBI</td>\n",
       "      <td>R. James</td>\n",
       "      <td>1</td>\n",
       "      <td>1</td>\n",
       "      <td>positive</td>\n",
       "      <td>1322006400</td>\n",
       "      <td>Yay Barley</td>\n",
       "      <td>Right now I'm mostly just sprouting this so my...</td>\n",
       "    </tr>\n",
       "    <tr>\n",
       "      <th>9</th>\n",
       "      <td>10</td>\n",
       "      <td>B00171APVA</td>\n",
       "      <td>A21BT40VZCCYT4</td>\n",
       "      <td>Carol A. Reed</td>\n",
       "      <td>0</td>\n",
       "      <td>0</td>\n",
       "      <td>positive</td>\n",
       "      <td>1351209600</td>\n",
       "      <td>Healthy Dog Food</td>\n",
       "      <td>This is a very healthy dog food. Good for thei...</td>\n",
       "    </tr>\n",
       "    <tr>\n",
       "      <th>10</th>\n",
       "      <td>11</td>\n",
       "      <td>B0001PB9FE</td>\n",
       "      <td>A3HDKO7OW0QNK4</td>\n",
       "      <td>Canadian Fan</td>\n",
       "      <td>1</td>\n",
       "      <td>1</td>\n",
       "      <td>positive</td>\n",
       "      <td>1107820800</td>\n",
       "      <td>The Best Hot Sauce in the World</td>\n",
       "      <td>I don't know if it's the cactus or the tequila...</td>\n",
       "    </tr>\n",
       "    <tr>\n",
       "      <th>11</th>\n",
       "      <td>12</td>\n",
       "      <td>B0009XLVG0</td>\n",
       "      <td>A2725IB4YY9JEB</td>\n",
       "      <td>A Poeng \"SparkyGoHome\"</td>\n",
       "      <td>4</td>\n",
       "      <td>4</td>\n",
       "      <td>positive</td>\n",
       "      <td>1282867200</td>\n",
       "      <td>My cats LOVE this \"diet\" food better than thei...</td>\n",
       "      <td>One of my boys needed to lose some weight and ...</td>\n",
       "    </tr>\n",
       "    <tr>\n",
       "      <th>12</th>\n",
       "      <td>13</td>\n",
       "      <td>B0009XLVG0</td>\n",
       "      <td>A327PCT23YH90</td>\n",
       "      <td>LT</td>\n",
       "      <td>1</td>\n",
       "      <td>1</td>\n",
       "      <td>negative</td>\n",
       "      <td>1339545600</td>\n",
       "      <td>My Cats Are Not Fans of the New Food</td>\n",
       "      <td>My cats have been happily eating Felidae Plati...</td>\n",
       "    </tr>\n",
       "    <tr>\n",
       "      <th>13</th>\n",
       "      <td>14</td>\n",
       "      <td>B001GVISJM</td>\n",
       "      <td>A18ECVX2RJ7HUE</td>\n",
       "      <td>willie \"roadie\"</td>\n",
       "      <td>2</td>\n",
       "      <td>2</td>\n",
       "      <td>positive</td>\n",
       "      <td>1288915200</td>\n",
       "      <td>fresh and greasy!</td>\n",
       "      <td>good flavor! these came securely packed... the...</td>\n",
       "    </tr>\n",
       "    <tr>\n",
       "      <th>14</th>\n",
       "      <td>15</td>\n",
       "      <td>B001GVISJM</td>\n",
       "      <td>A2MUGFV2TDQ47K</td>\n",
       "      <td>Lynrie \"Oh HELL no\"</td>\n",
       "      <td>4</td>\n",
       "      <td>5</td>\n",
       "      <td>positive</td>\n",
       "      <td>1268352000</td>\n",
       "      <td>Strawberry Twizzlers - Yummy</td>\n",
       "      <td>The Strawberry Twizzlers are my guilty pleasur...</td>\n",
       "    </tr>\n",
       "    <tr>\n",
       "      <th>15</th>\n",
       "      <td>16</td>\n",
       "      <td>B001GVISJM</td>\n",
       "      <td>A1CZX3CP8IKQIJ</td>\n",
       "      <td>Brian A. Lee</td>\n",
       "      <td>4</td>\n",
       "      <td>5</td>\n",
       "      <td>positive</td>\n",
       "      <td>1262044800</td>\n",
       "      <td>Lots of twizzlers, just what you expect.</td>\n",
       "      <td>My daughter loves twizzlers and this shipment ...</td>\n",
       "    </tr>\n",
       "    <tr>\n",
       "      <th>16</th>\n",
       "      <td>17</td>\n",
       "      <td>B001GVISJM</td>\n",
       "      <td>A3KLWF6WQ5BNYO</td>\n",
       "      <td>Erica Neathery</td>\n",
       "      <td>0</td>\n",
       "      <td>0</td>\n",
       "      <td>negative</td>\n",
       "      <td>1348099200</td>\n",
       "      <td>poor taste</td>\n",
       "      <td>I love eating them and they are good for watch...</td>\n",
       "    </tr>\n",
       "    <tr>\n",
       "      <th>17</th>\n",
       "      <td>18</td>\n",
       "      <td>B001GVISJM</td>\n",
       "      <td>AFKW14U97Z6QO</td>\n",
       "      <td>Becca</td>\n",
       "      <td>0</td>\n",
       "      <td>0</td>\n",
       "      <td>positive</td>\n",
       "      <td>1345075200</td>\n",
       "      <td>Love it!</td>\n",
       "      <td>I am very satisfied with my Twizzler purchase....</td>\n",
       "    </tr>\n",
       "    <tr>\n",
       "      <th>18</th>\n",
       "      <td>19</td>\n",
       "      <td>B001GVISJM</td>\n",
       "      <td>A2A9X58G2GTBLP</td>\n",
       "      <td>Wolfee1</td>\n",
       "      <td>0</td>\n",
       "      <td>0</td>\n",
       "      <td>positive</td>\n",
       "      <td>1324598400</td>\n",
       "      <td>GREAT SWEET CANDY!</td>\n",
       "      <td>Twizzlers, Strawberry my childhood favorite ca...</td>\n",
       "    </tr>\n",
       "    <tr>\n",
       "      <th>19</th>\n",
       "      <td>20</td>\n",
       "      <td>B001GVISJM</td>\n",
       "      <td>A3IV7CL2C13K2U</td>\n",
       "      <td>Greg</td>\n",
       "      <td>0</td>\n",
       "      <td>0</td>\n",
       "      <td>positive</td>\n",
       "      <td>1318032000</td>\n",
       "      <td>Home delivered twizlers</td>\n",
       "      <td>Candy was delivered very fast and was purchase...</td>\n",
       "    </tr>\n",
       "    <tr>\n",
       "      <th>20</th>\n",
       "      <td>21</td>\n",
       "      <td>B001GVISJM</td>\n",
       "      <td>A1WO0KGLPR5PV6</td>\n",
       "      <td>mom2emma</td>\n",
       "      <td>0</td>\n",
       "      <td>0</td>\n",
       "      <td>positive</td>\n",
       "      <td>1313452800</td>\n",
       "      <td>Always fresh</td>\n",
       "      <td>My husband is a Twizzlers addict.  We've bough...</td>\n",
       "    </tr>\n",
       "    <tr>\n",
       "      <th>21</th>\n",
       "      <td>22</td>\n",
       "      <td>B001GVISJM</td>\n",
       "      <td>AZOF9E17RGZH8</td>\n",
       "      <td>Tammy Anderson</td>\n",
       "      <td>0</td>\n",
       "      <td>0</td>\n",
       "      <td>positive</td>\n",
       "      <td>1308960000</td>\n",
       "      <td>TWIZZLERS</td>\n",
       "      <td>I bought these for my husband who is currently...</td>\n",
       "    </tr>\n",
       "    <tr>\n",
       "      <th>22</th>\n",
       "      <td>23</td>\n",
       "      <td>B001GVISJM</td>\n",
       "      <td>ARYVQL4N737A1</td>\n",
       "      <td>Charles Brown</td>\n",
       "      <td>0</td>\n",
       "      <td>0</td>\n",
       "      <td>positive</td>\n",
       "      <td>1304899200</td>\n",
       "      <td>Delicious product!</td>\n",
       "      <td>I can remember buying this candy as a kid and ...</td>\n",
       "    </tr>\n",
       "    <tr>\n",
       "      <th>23</th>\n",
       "      <td>24</td>\n",
       "      <td>B001GVISJM</td>\n",
       "      <td>AJ613OLZZUG7V</td>\n",
       "      <td>Mare's</td>\n",
       "      <td>0</td>\n",
       "      <td>0</td>\n",
       "      <td>positive</td>\n",
       "      <td>1304467200</td>\n",
       "      <td>Twizzlers</td>\n",
       "      <td>I love this candy.  After weight watchers I ha...</td>\n",
       "    </tr>\n",
       "    <tr>\n",
       "      <th>24</th>\n",
       "      <td>25</td>\n",
       "      <td>B001GVISJM</td>\n",
       "      <td>A22P2J09NJ9HKE</td>\n",
       "      <td>S. Cabanaugh \"jilly pepper\"</td>\n",
       "      <td>0</td>\n",
       "      <td>0</td>\n",
       "      <td>positive</td>\n",
       "      <td>1295481600</td>\n",
       "      <td>Please sell these in Mexico!!</td>\n",
       "      <td>I have lived out of the US for over 7 yrs now,...</td>\n",
       "    </tr>\n",
       "    <tr>\n",
       "      <th>25</th>\n",
       "      <td>26</td>\n",
       "      <td>B001GVISJM</td>\n",
       "      <td>A3FONPR03H3PJS</td>\n",
       "      <td>Deborah S. Linzer \"Cat Lady\"</td>\n",
       "      <td>0</td>\n",
       "      <td>0</td>\n",
       "      <td>positive</td>\n",
       "      <td>1288310400</td>\n",
       "      <td>Twizzlers - Strawberry</td>\n",
       "      <td>Product received is as advertised.&lt;br /&gt;&lt;br /&gt;...</td>\n",
       "    </tr>\n",
       "    <tr>\n",
       "      <th>26</th>\n",
       "      <td>27</td>\n",
       "      <td>B001GVISJM</td>\n",
       "      <td>A3RXAU2N8KV45G</td>\n",
       "      <td>lady21</td>\n",
       "      <td>0</td>\n",
       "      <td>1</td>\n",
       "      <td>negative</td>\n",
       "      <td>1332633600</td>\n",
       "      <td>Nasty No flavor</td>\n",
       "      <td>The candy is just red , No flavor . Just  plan...</td>\n",
       "    </tr>\n",
       "    <tr>\n",
       "      <th>27</th>\n",
       "      <td>28</td>\n",
       "      <td>B001GVISJM</td>\n",
       "      <td>AAAS38B98HMIK</td>\n",
       "      <td>Heather Dube</td>\n",
       "      <td>0</td>\n",
       "      <td>1</td>\n",
       "      <td>positive</td>\n",
       "      <td>1331856000</td>\n",
       "      <td>Great Bargain for the Price</td>\n",
       "      <td>I was so glad Amazon carried these batteries. ...</td>\n",
       "    </tr>\n",
       "    <tr>\n",
       "      <th>28</th>\n",
       "      <td>29</td>\n",
       "      <td>B00144C10S</td>\n",
       "      <td>A2F4LZVGFLD1OB</td>\n",
       "      <td>DaisyH</td>\n",
       "      <td>0</td>\n",
       "      <td>0</td>\n",
       "      <td>positive</td>\n",
       "      <td>1338854400</td>\n",
       "      <td>YUMMY!</td>\n",
       "      <td>I got this for my Mum who is not diabetic but ...</td>\n",
       "    </tr>\n",
       "    <tr>\n",
       "      <th>29</th>\n",
       "      <td>30</td>\n",
       "      <td>B0001PB9FY</td>\n",
       "      <td>A3HDKO7OW0QNK4</td>\n",
       "      <td>Canadian Fan</td>\n",
       "      <td>1</td>\n",
       "      <td>1</td>\n",
       "      <td>positive</td>\n",
       "      <td>1107820800</td>\n",
       "      <td>The Best Hot Sauce in the World</td>\n",
       "      <td>I don't know if it's the cactus or the tequila...</td>\n",
       "    </tr>\n",
       "    <tr>\n",
       "      <th>...</th>\n",
       "      <td>...</td>\n",
       "      <td>...</td>\n",
       "      <td>...</td>\n",
       "      <td>...</td>\n",
       "      <td>...</td>\n",
       "      <td>...</td>\n",
       "      <td>...</td>\n",
       "      <td>...</td>\n",
       "      <td>...</td>\n",
       "      <td>...</td>\n",
       "    </tr>\n",
       "    <tr>\n",
       "      <th>525784</th>\n",
       "      <td>568425</td>\n",
       "      <td>B001FPT1WM</td>\n",
       "      <td>A291HTT117RVS9</td>\n",
       "      <td>MadisonVeggie \"Lynette in Wisconsin\"</td>\n",
       "      <td>2</td>\n",
       "      <td>2</td>\n",
       "      <td>positive</td>\n",
       "      <td>1333411200</td>\n",
       "      <td>Unusual, even for a violet candy</td>\n",
       "      <td>I've tried several violet flavored candies in ...</td>\n",
       "    </tr>\n",
       "    <tr>\n",
       "      <th>525785</th>\n",
       "      <td>568426</td>\n",
       "      <td>B001FPT1WM</td>\n",
       "      <td>A1TRJQBYQFZW4</td>\n",
       "      <td>Brad</td>\n",
       "      <td>2</td>\n",
       "      <td>2</td>\n",
       "      <td>positive</td>\n",
       "      <td>1325376000</td>\n",
       "      <td>Very good</td>\n",
       "      <td>This candy has a very good flavor. It is quite...</td>\n",
       "    </tr>\n",
       "    <tr>\n",
       "      <th>525786</th>\n",
       "      <td>568427</td>\n",
       "      <td>B001FPT1WM</td>\n",
       "      <td>A2F25C6QCKJ3HL</td>\n",
       "      <td>Jill</td>\n",
       "      <td>1</td>\n",
       "      <td>1</td>\n",
       "      <td>negative</td>\n",
       "      <td>1341532800</td>\n",
       "      <td>rip off</td>\n",
       "      <td>The candy is tasty, but they totally scam you ...</td>\n",
       "    </tr>\n",
       "    <tr>\n",
       "      <th>525787</th>\n",
       "      <td>568428</td>\n",
       "      <td>B001FPT1WM</td>\n",
       "      <td>A7VLVCQJIROTF</td>\n",
       "      <td>Lorraine \"DamnSwank\"</td>\n",
       "      <td>1</td>\n",
       "      <td>1</td>\n",
       "      <td>positive</td>\n",
       "      <td>1340323200</td>\n",
       "      <td>The search has ended!</td>\n",
       "      <td>I had been looking for the violet candy with t...</td>\n",
       "    </tr>\n",
       "    <tr>\n",
       "      <th>525788</th>\n",
       "      <td>568429</td>\n",
       "      <td>B001FPT1WM</td>\n",
       "      <td>A1YGG6T4YJZWC1</td>\n",
       "      <td>bethany \"birds and more birds\"</td>\n",
       "      <td>1</td>\n",
       "      <td>1</td>\n",
       "      <td>positive</td>\n",
       "      <td>1340236800</td>\n",
       "      <td>very tasty</td>\n",
       "      <td>these are very pricey so i only enjoy them now...</td>\n",
       "    </tr>\n",
       "    <tr>\n",
       "      <th>525789</th>\n",
       "      <td>568430</td>\n",
       "      <td>B001FPT1WM</td>\n",
       "      <td>AW7HIV8I53FE4</td>\n",
       "      <td>Herb Schulsinger \"Bach Because!\"</td>\n",
       "      <td>1</td>\n",
       "      <td>1</td>\n",
       "      <td>positive</td>\n",
       "      <td>1338508800</td>\n",
       "      <td>Violet French Hard Candy</td>\n",
       "      <td>These candies have a mild flavor, when compare...</td>\n",
       "    </tr>\n",
       "    <tr>\n",
       "      <th>525790</th>\n",
       "      <td>568431</td>\n",
       "      <td>B001FPT1WM</td>\n",
       "      <td>A1XDMZMMOAMR7</td>\n",
       "      <td>nyxport</td>\n",
       "      <td>0</td>\n",
       "      <td>0</td>\n",
       "      <td>positive</td>\n",
       "      <td>1345161600</td>\n",
       "      <td>delicious</td>\n",
       "      <td>This product is a bit pricey for the amt. rece...</td>\n",
       "    </tr>\n",
       "    <tr>\n",
       "      <th>525791</th>\n",
       "      <td>568432</td>\n",
       "      <td>B003XUL27E</td>\n",
       "      <td>A32Y0419QFGVHM</td>\n",
       "      <td>Kevin Mitchell</td>\n",
       "      <td>0</td>\n",
       "      <td>0</td>\n",
       "      <td>negative</td>\n",
       "      <td>1319673600</td>\n",
       "      <td>Mostly water</td>\n",
       "      <td>Definitely not worth buying flavored water wit...</td>\n",
       "    </tr>\n",
       "    <tr>\n",
       "      <th>525792</th>\n",
       "      <td>568433</td>\n",
       "      <td>B003XUL27E</td>\n",
       "      <td>A1YKXVGAIA8952</td>\n",
       "      <td>NC65</td>\n",
       "      <td>0</td>\n",
       "      <td>0</td>\n",
       "      <td>negative</td>\n",
       "      <td>1319500800</td>\n",
       "      <td>No Good</td>\n",
       "      <td>I thought this soup would be more like a chill...</td>\n",
       "    </tr>\n",
       "    <tr>\n",
       "      <th>525793</th>\n",
       "      <td>568434</td>\n",
       "      <td>B003XUL27E</td>\n",
       "      <td>A1JUG9WCN1A52Z</td>\n",
       "      <td>maudlin666</td>\n",
       "      <td>0</td>\n",
       "      <td>0</td>\n",
       "      <td>negative</td>\n",
       "      <td>1311638400</td>\n",
       "      <td>Tastes horrible!</td>\n",
       "      <td>I just bought this soup today at my local groc...</td>\n",
       "    </tr>\n",
       "    <tr>\n",
       "      <th>525794</th>\n",
       "      <td>568435</td>\n",
       "      <td>B003XUL27E</td>\n",
       "      <td>ABGQPE97ZVYJ3</td>\n",
       "      <td>Katherine Kelly</td>\n",
       "      <td>0</td>\n",
       "      <td>0</td>\n",
       "      <td>negative</td>\n",
       "      <td>1306368000</td>\n",
       "      <td>Not so good</td>\n",
       "      <td>This soup is mostly broth. Although it has a k...</td>\n",
       "    </tr>\n",
       "    <tr>\n",
       "      <th>525795</th>\n",
       "      <td>568436</td>\n",
       "      <td>B003XUL27E</td>\n",
       "      <td>A2PSB4WQHH46HN</td>\n",
       "      <td>carlyowu</td>\n",
       "      <td>0</td>\n",
       "      <td>2</td>\n",
       "      <td>negative</td>\n",
       "      <td>1285718400</td>\n",
       "      <td>Where's the tortellini?</td>\n",
       "      <td>It is mostly broth, with the advertised 3/4 cu...</td>\n",
       "    </tr>\n",
       "    <tr>\n",
       "      <th>525796</th>\n",
       "      <td>568437</td>\n",
       "      <td>B000NY4SAG</td>\n",
       "      <td>A3ODWHC3EMMWTT</td>\n",
       "      <td>K. Brennan \"Baking fool\"</td>\n",
       "      <td>10</td>\n",
       "      <td>10</td>\n",
       "      <td>positive</td>\n",
       "      <td>1229731200</td>\n",
       "      <td>Baker's Ammonia Small quantity</td>\n",
       "      <td>In the past, I would have to buy a large quant...</td>\n",
       "    </tr>\n",
       "    <tr>\n",
       "      <th>525797</th>\n",
       "      <td>568438</td>\n",
       "      <td>B000NY4SAG</td>\n",
       "      <td>A1RKKPSXF9QIZF</td>\n",
       "      <td>Allen \"RcDriver\"</td>\n",
       "      <td>4</td>\n",
       "      <td>4</td>\n",
       "      <td>positive</td>\n",
       "      <td>1233792000</td>\n",
       "      <td>Good buy.</td>\n",
       "      <td>Ammonium bicarbonate in a nice little package....</td>\n",
       "    </tr>\n",
       "    <tr>\n",
       "      <th>525798</th>\n",
       "      <td>568439</td>\n",
       "      <td>B000NY4SAG</td>\n",
       "      <td>A3M89SF0SSOGBK</td>\n",
       "      <td>Robert Goode \"GrampaG\"</td>\n",
       "      <td>3</td>\n",
       "      <td>3</td>\n",
       "      <td>positive</td>\n",
       "      <td>1316995200</td>\n",
       "      <td>Baking Ammonia that Works</td>\n",
       "      <td>If you haven't ever used Ammonium Bicarbonate ...</td>\n",
       "    </tr>\n",
       "    <tr>\n",
       "      <th>525799</th>\n",
       "      <td>568440</td>\n",
       "      <td>B000NY4SAG</td>\n",
       "      <td>A34GDV49ZZQKXG</td>\n",
       "      <td>Donald M. Cook</td>\n",
       "      <td>0</td>\n",
       "      <td>5</td>\n",
       "      <td>positive</td>\n",
       "      <td>1280102400</td>\n",
       "      <td>a-ok</td>\n",
       "      <td>We need this for a recipe my wife is intereste...</td>\n",
       "    </tr>\n",
       "    <tr>\n",
       "      <th>525800</th>\n",
       "      <td>568441</td>\n",
       "      <td>B005ZC0RRO</td>\n",
       "      <td>A2TO5R8QLIITEF</td>\n",
       "      <td>SAK</td>\n",
       "      <td>1</td>\n",
       "      <td>1</td>\n",
       "      <td>positive</td>\n",
       "      <td>1323734400</td>\n",
       "      <td>Delicious, all natural and allergy free treats!</td>\n",
       "      <td>Indie Candy's gummies are absolutely delicious...</td>\n",
       "    </tr>\n",
       "    <tr>\n",
       "      <th>525801</th>\n",
       "      <td>568442</td>\n",
       "      <td>B000NY8O9M</td>\n",
       "      <td>AZRHU8CP5XKMF</td>\n",
       "      <td>David L. Brown</td>\n",
       "      <td>0</td>\n",
       "      <td>0</td>\n",
       "      <td>positive</td>\n",
       "      <td>1264204800</td>\n",
       "      <td>Great For Fast Gulasch!</td>\n",
       "      <td>Quick and easy! Had similar Gulasch in Guest H...</td>\n",
       "    </tr>\n",
       "    <tr>\n",
       "      <th>525802</th>\n",
       "      <td>568443</td>\n",
       "      <td>B006T7TKZO</td>\n",
       "      <td>A3BOURUK79CYY5</td>\n",
       "      <td>BIH</td>\n",
       "      <td>0</td>\n",
       "      <td>0</td>\n",
       "      <td>positive</td>\n",
       "      <td>1338854400</td>\n",
       "      <td>Great Cafe Latte</td>\n",
       "      <td>This product is great.  Gives you so much ener...</td>\n",
       "    </tr>\n",
       "    <tr>\n",
       "      <th>525803</th>\n",
       "      <td>568444</td>\n",
       "      <td>B000H7K114</td>\n",
       "      <td>A2AGSSZR9V7XST</td>\n",
       "      <td>Peter</td>\n",
       "      <td>0</td>\n",
       "      <td>0</td>\n",
       "      <td>positive</td>\n",
       "      <td>1281744000</td>\n",
       "      <td>Excellent Tea</td>\n",
       "      <td>I love this tea.  I first discovered the pleas...</td>\n",
       "    </tr>\n",
       "    <tr>\n",
       "      <th>525804</th>\n",
       "      <td>568445</td>\n",
       "      <td>B001EO7N10</td>\n",
       "      <td>A2SD7TY3IOX69B</td>\n",
       "      <td>BayBay \"BayBay Knows Best\"</td>\n",
       "      <td>3</td>\n",
       "      <td>3</td>\n",
       "      <td>positive</td>\n",
       "      <td>1245369600</td>\n",
       "      <td>Best Value for Chinese 5 Spice</td>\n",
       "      <td>As a foodie, I use a lot of Chinese 5 Spice po...</td>\n",
       "    </tr>\n",
       "    <tr>\n",
       "      <th>525805</th>\n",
       "      <td>568446</td>\n",
       "      <td>B001EO7N10</td>\n",
       "      <td>A2E5C8TTAED4CQ</td>\n",
       "      <td>S. Linkletter</td>\n",
       "      <td>2</td>\n",
       "      <td>2</td>\n",
       "      <td>positive</td>\n",
       "      <td>1268006400</td>\n",
       "      <td>Five Spice Powder</td>\n",
       "      <td>You can make this mix yourself, but the Star A...</td>\n",
       "    </tr>\n",
       "    <tr>\n",
       "      <th>525806</th>\n",
       "      <td>568447</td>\n",
       "      <td>B001EO7N10</td>\n",
       "      <td>A2P9W8T7NTLG2Z</td>\n",
       "      <td>Andy</td>\n",
       "      <td>0</td>\n",
       "      <td>0</td>\n",
       "      <td>negative</td>\n",
       "      <td>1328918400</td>\n",
       "      <td>Mixed wrong</td>\n",
       "      <td>I had ordered some of these a few months back ...</td>\n",
       "    </tr>\n",
       "    <tr>\n",
       "      <th>525807</th>\n",
       "      <td>568448</td>\n",
       "      <td>B001EO7N10</td>\n",
       "      <td>APWCOAVILK94B</td>\n",
       "      <td>Real Named Person \"wowzee\"</td>\n",
       "      <td>0</td>\n",
       "      <td>0</td>\n",
       "      <td>positive</td>\n",
       "      <td>1322524800</td>\n",
       "      <td>If its all natural, this is like panacea of Sp...</td>\n",
       "      <td>Hoping there is no MSG in this, this tastes ex...</td>\n",
       "    </tr>\n",
       "    <tr>\n",
       "      <th>525808</th>\n",
       "      <td>568449</td>\n",
       "      <td>B001EO7N10</td>\n",
       "      <td>A1F6BHEYB7R6R7</td>\n",
       "      <td>James Braley</td>\n",
       "      <td>0</td>\n",
       "      <td>0</td>\n",
       "      <td>positive</td>\n",
       "      <td>1308096000</td>\n",
       "      <td>Very large ground spice jars.</td>\n",
       "      <td>My only complaint is that there's so much of i...</td>\n",
       "    </tr>\n",
       "    <tr>\n",
       "      <th>525809</th>\n",
       "      <td>568450</td>\n",
       "      <td>B001EO7N10</td>\n",
       "      <td>A28KG5XORO54AY</td>\n",
       "      <td>Lettie D. Carter</td>\n",
       "      <td>0</td>\n",
       "      <td>0</td>\n",
       "      <td>positive</td>\n",
       "      <td>1299628800</td>\n",
       "      <td>Will not do without</td>\n",
       "      <td>Great for sesame chicken..this is a good if no...</td>\n",
       "    </tr>\n",
       "    <tr>\n",
       "      <th>525810</th>\n",
       "      <td>568451</td>\n",
       "      <td>B003S1WTCU</td>\n",
       "      <td>A3I8AFVPEE8KI5</td>\n",
       "      <td>R. Sawyer</td>\n",
       "      <td>0</td>\n",
       "      <td>0</td>\n",
       "      <td>negative</td>\n",
       "      <td>1331251200</td>\n",
       "      <td>disappointed</td>\n",
       "      <td>I'm disappointed with the flavor. The chocolat...</td>\n",
       "    </tr>\n",
       "    <tr>\n",
       "      <th>525811</th>\n",
       "      <td>568452</td>\n",
       "      <td>B004I613EE</td>\n",
       "      <td>A121AA1GQV751Z</td>\n",
       "      <td>pksd \"pk_007\"</td>\n",
       "      <td>2</td>\n",
       "      <td>2</td>\n",
       "      <td>positive</td>\n",
       "      <td>1329782400</td>\n",
       "      <td>Perfect for our maltipoo</td>\n",
       "      <td>These stars are small, so you can give 10-15 o...</td>\n",
       "    </tr>\n",
       "    <tr>\n",
       "      <th>525812</th>\n",
       "      <td>568453</td>\n",
       "      <td>B004I613EE</td>\n",
       "      <td>A3IBEVCTXKNOH</td>\n",
       "      <td>Kathy A. Welch \"katwel\"</td>\n",
       "      <td>1</td>\n",
       "      <td>1</td>\n",
       "      <td>positive</td>\n",
       "      <td>1331596800</td>\n",
       "      <td>Favorite Training and reward treat</td>\n",
       "      <td>These are the BEST treats for training and rew...</td>\n",
       "    </tr>\n",
       "    <tr>\n",
       "      <th>525813</th>\n",
       "      <td>568454</td>\n",
       "      <td>B001LR2CU2</td>\n",
       "      <td>A3LGQPJCZVL9UC</td>\n",
       "      <td>srfell17</td>\n",
       "      <td>0</td>\n",
       "      <td>0</td>\n",
       "      <td>positive</td>\n",
       "      <td>1338422400</td>\n",
       "      <td>Great Honey</td>\n",
       "      <td>I am very satisfied ,product is as advertised,...</td>\n",
       "    </tr>\n",
       "  </tbody>\n",
       "</table>\n",
       "<p>525814 rows × 10 columns</p>\n",
       "</div>"
      ],
      "text/plain": [
       "            Id   ProductId          UserId  \\\n",
       "0            1  B001E4KFG0  A3SGXH7AUHU8GW   \n",
       "1            2  B00813GRG4  A1D87F6ZCVE5NK   \n",
       "2            3  B000LQOCH0   ABXLMWJIXXAIN   \n",
       "3            4  B000UA0QIQ  A395BORC6FGVXV   \n",
       "4            5  B006K2ZZ7K  A1UQRSCLF8GW1T   \n",
       "5            6  B006K2ZZ7K   ADT0SRK1MGOEU   \n",
       "6            7  B006K2ZZ7K  A1SP2KVKFXXRU1   \n",
       "7            8  B006K2ZZ7K  A3JRGQVEQN31IQ   \n",
       "8            9  B000E7L2R4  A1MZYO9TZK0BBI   \n",
       "9           10  B00171APVA  A21BT40VZCCYT4   \n",
       "10          11  B0001PB9FE  A3HDKO7OW0QNK4   \n",
       "11          12  B0009XLVG0  A2725IB4YY9JEB   \n",
       "12          13  B0009XLVG0   A327PCT23YH90   \n",
       "13          14  B001GVISJM  A18ECVX2RJ7HUE   \n",
       "14          15  B001GVISJM  A2MUGFV2TDQ47K   \n",
       "15          16  B001GVISJM  A1CZX3CP8IKQIJ   \n",
       "16          17  B001GVISJM  A3KLWF6WQ5BNYO   \n",
       "17          18  B001GVISJM   AFKW14U97Z6QO   \n",
       "18          19  B001GVISJM  A2A9X58G2GTBLP   \n",
       "19          20  B001GVISJM  A3IV7CL2C13K2U   \n",
       "20          21  B001GVISJM  A1WO0KGLPR5PV6   \n",
       "21          22  B001GVISJM   AZOF9E17RGZH8   \n",
       "22          23  B001GVISJM   ARYVQL4N737A1   \n",
       "23          24  B001GVISJM   AJ613OLZZUG7V   \n",
       "24          25  B001GVISJM  A22P2J09NJ9HKE   \n",
       "25          26  B001GVISJM  A3FONPR03H3PJS   \n",
       "26          27  B001GVISJM  A3RXAU2N8KV45G   \n",
       "27          28  B001GVISJM   AAAS38B98HMIK   \n",
       "28          29  B00144C10S  A2F4LZVGFLD1OB   \n",
       "29          30  B0001PB9FY  A3HDKO7OW0QNK4   \n",
       "...        ...         ...             ...   \n",
       "525784  568425  B001FPT1WM  A291HTT117RVS9   \n",
       "525785  568426  B001FPT1WM   A1TRJQBYQFZW4   \n",
       "525786  568427  B001FPT1WM  A2F25C6QCKJ3HL   \n",
       "525787  568428  B001FPT1WM   A7VLVCQJIROTF   \n",
       "525788  568429  B001FPT1WM  A1YGG6T4YJZWC1   \n",
       "525789  568430  B001FPT1WM   AW7HIV8I53FE4   \n",
       "525790  568431  B001FPT1WM   A1XDMZMMOAMR7   \n",
       "525791  568432  B003XUL27E  A32Y0419QFGVHM   \n",
       "525792  568433  B003XUL27E  A1YKXVGAIA8952   \n",
       "525793  568434  B003XUL27E  A1JUG9WCN1A52Z   \n",
       "525794  568435  B003XUL27E   ABGQPE97ZVYJ3   \n",
       "525795  568436  B003XUL27E  A2PSB4WQHH46HN   \n",
       "525796  568437  B000NY4SAG  A3ODWHC3EMMWTT   \n",
       "525797  568438  B000NY4SAG  A1RKKPSXF9QIZF   \n",
       "525798  568439  B000NY4SAG  A3M89SF0SSOGBK   \n",
       "525799  568440  B000NY4SAG  A34GDV49ZZQKXG   \n",
       "525800  568441  B005ZC0RRO  A2TO5R8QLIITEF   \n",
       "525801  568442  B000NY8O9M   AZRHU8CP5XKMF   \n",
       "525802  568443  B006T7TKZO  A3BOURUK79CYY5   \n",
       "525803  568444  B000H7K114  A2AGSSZR9V7XST   \n",
       "525804  568445  B001EO7N10  A2SD7TY3IOX69B   \n",
       "525805  568446  B001EO7N10  A2E5C8TTAED4CQ   \n",
       "525806  568447  B001EO7N10  A2P9W8T7NTLG2Z   \n",
       "525807  568448  B001EO7N10   APWCOAVILK94B   \n",
       "525808  568449  B001EO7N10  A1F6BHEYB7R6R7   \n",
       "525809  568450  B001EO7N10  A28KG5XORO54AY   \n",
       "525810  568451  B003S1WTCU  A3I8AFVPEE8KI5   \n",
       "525811  568452  B004I613EE  A121AA1GQV751Z   \n",
       "525812  568453  B004I613EE   A3IBEVCTXKNOH   \n",
       "525813  568454  B001LR2CU2  A3LGQPJCZVL9UC   \n",
       "\n",
       "                                 ProfileName  HelpfulnessNumerator  \\\n",
       "0                                 delmartian                     1   \n",
       "1                                     dll pa                     0   \n",
       "2            Natalia Corres \"Natalia Corres\"                     1   \n",
       "3                                       Karl                     3   \n",
       "4              Michael D. Bigham \"M. Wassir\"                     0   \n",
       "5                             Twoapennything                     0   \n",
       "6                          David C. Sullivan                     0   \n",
       "7                         Pamela G. Williams                     0   \n",
       "8                                   R. James                     1   \n",
       "9                              Carol A. Reed                     0   \n",
       "10                              Canadian Fan                     1   \n",
       "11                    A Poeng \"SparkyGoHome\"                     4   \n",
       "12                                        LT                     1   \n",
       "13                           willie \"roadie\"                     2   \n",
       "14                       Lynrie \"Oh HELL no\"                     4   \n",
       "15                              Brian A. Lee                     4   \n",
       "16                            Erica Neathery                     0   \n",
       "17                                     Becca                     0   \n",
       "18                                   Wolfee1                     0   \n",
       "19                                      Greg                     0   \n",
       "20                                  mom2emma                     0   \n",
       "21                            Tammy Anderson                     0   \n",
       "22                             Charles Brown                     0   \n",
       "23                                    Mare's                     0   \n",
       "24               S. Cabanaugh \"jilly pepper\"                     0   \n",
       "25              Deborah S. Linzer \"Cat Lady\"                     0   \n",
       "26                                    lady21                     0   \n",
       "27                              Heather Dube                     0   \n",
       "28                                    DaisyH                     0   \n",
       "29                              Canadian Fan                     1   \n",
       "...                                      ...                   ...   \n",
       "525784  MadisonVeggie \"Lynette in Wisconsin\"                     2   \n",
       "525785                                  Brad                     2   \n",
       "525786                                  Jill                     1   \n",
       "525787                  Lorraine \"DamnSwank\"                     1   \n",
       "525788        bethany \"birds and more birds\"                     1   \n",
       "525789      Herb Schulsinger \"Bach Because!\"                     1   \n",
       "525790                               nyxport                     0   \n",
       "525791                        Kevin Mitchell                     0   \n",
       "525792                                  NC65                     0   \n",
       "525793                            maudlin666                     0   \n",
       "525794                       Katherine Kelly                     0   \n",
       "525795                              carlyowu                     0   \n",
       "525796              K. Brennan \"Baking fool\"                    10   \n",
       "525797                      Allen \"RcDriver\"                     4   \n",
       "525798                Robert Goode \"GrampaG\"                     3   \n",
       "525799                        Donald M. Cook                     0   \n",
       "525800                                   SAK                     1   \n",
       "525801                        David L. Brown                     0   \n",
       "525802                                   BIH                     0   \n",
       "525803                                 Peter                     0   \n",
       "525804            BayBay \"BayBay Knows Best\"                     3   \n",
       "525805                         S. Linkletter                     2   \n",
       "525806                                  Andy                     0   \n",
       "525807            Real Named Person \"wowzee\"                     0   \n",
       "525808                          James Braley                     0   \n",
       "525809                      Lettie D. Carter                     0   \n",
       "525810                             R. Sawyer                     0   \n",
       "525811                         pksd \"pk_007\"                     2   \n",
       "525812               Kathy A. Welch \"katwel\"                     1   \n",
       "525813                              srfell17                     0   \n",
       "\n",
       "        HelpfulnessDenominator     Score        Time  \\\n",
       "0                            1  positive  1303862400   \n",
       "1                            0  negative  1346976000   \n",
       "2                            1  positive  1219017600   \n",
       "3                            3  negative  1307923200   \n",
       "4                            0  positive  1350777600   \n",
       "5                            0  positive  1342051200   \n",
       "6                            0  positive  1340150400   \n",
       "7                            0  positive  1336003200   \n",
       "8                            1  positive  1322006400   \n",
       "9                            0  positive  1351209600   \n",
       "10                           1  positive  1107820800   \n",
       "11                           4  positive  1282867200   \n",
       "12                           1  negative  1339545600   \n",
       "13                           2  positive  1288915200   \n",
       "14                           5  positive  1268352000   \n",
       "15                           5  positive  1262044800   \n",
       "16                           0  negative  1348099200   \n",
       "17                           0  positive  1345075200   \n",
       "18                           0  positive  1324598400   \n",
       "19                           0  positive  1318032000   \n",
       "20                           0  positive  1313452800   \n",
       "21                           0  positive  1308960000   \n",
       "22                           0  positive  1304899200   \n",
       "23                           0  positive  1304467200   \n",
       "24                           0  positive  1295481600   \n",
       "25                           0  positive  1288310400   \n",
       "26                           1  negative  1332633600   \n",
       "27                           1  positive  1331856000   \n",
       "28                           0  positive  1338854400   \n",
       "29                           1  positive  1107820800   \n",
       "...                        ...       ...         ...   \n",
       "525784                       2  positive  1333411200   \n",
       "525785                       2  positive  1325376000   \n",
       "525786                       1  negative  1341532800   \n",
       "525787                       1  positive  1340323200   \n",
       "525788                       1  positive  1340236800   \n",
       "525789                       1  positive  1338508800   \n",
       "525790                       0  positive  1345161600   \n",
       "525791                       0  negative  1319673600   \n",
       "525792                       0  negative  1319500800   \n",
       "525793                       0  negative  1311638400   \n",
       "525794                       0  negative  1306368000   \n",
       "525795                       2  negative  1285718400   \n",
       "525796                      10  positive  1229731200   \n",
       "525797                       4  positive  1233792000   \n",
       "525798                       3  positive  1316995200   \n",
       "525799                       5  positive  1280102400   \n",
       "525800                       1  positive  1323734400   \n",
       "525801                       0  positive  1264204800   \n",
       "525802                       0  positive  1338854400   \n",
       "525803                       0  positive  1281744000   \n",
       "525804                       3  positive  1245369600   \n",
       "525805                       2  positive  1268006400   \n",
       "525806                       0  negative  1328918400   \n",
       "525807                       0  positive  1322524800   \n",
       "525808                       0  positive  1308096000   \n",
       "525809                       0  positive  1299628800   \n",
       "525810                       0  negative  1331251200   \n",
       "525811                       2  positive  1329782400   \n",
       "525812                       1  positive  1331596800   \n",
       "525813                       0  positive  1338422400   \n",
       "\n",
       "                                                  Summary  \\\n",
       "0                                   Good Quality Dog Food   \n",
       "1                                       Not as Advertised   \n",
       "2                                   \"Delight\" says it all   \n",
       "3                                          Cough Medicine   \n",
       "4                                             Great taffy   \n",
       "5                                              Nice Taffy   \n",
       "6           Great!  Just as good as the expensive brands!   \n",
       "7                                  Wonderful, tasty taffy   \n",
       "8                                              Yay Barley   \n",
       "9                                        Healthy Dog Food   \n",
       "10                        The Best Hot Sauce in the World   \n",
       "11      My cats LOVE this \"diet\" food better than thei...   \n",
       "12                   My Cats Are Not Fans of the New Food   \n",
       "13                                      fresh and greasy!   \n",
       "14                           Strawberry Twizzlers - Yummy   \n",
       "15               Lots of twizzlers, just what you expect.   \n",
       "16                                             poor taste   \n",
       "17                                               Love it!   \n",
       "18                                     GREAT SWEET CANDY!   \n",
       "19                                Home delivered twizlers   \n",
       "20                                           Always fresh   \n",
       "21                                              TWIZZLERS   \n",
       "22                                     Delicious product!   \n",
       "23                                              Twizzlers   \n",
       "24                          Please sell these in Mexico!!   \n",
       "25                                 Twizzlers - Strawberry   \n",
       "26                                        Nasty No flavor   \n",
       "27                            Great Bargain for the Price   \n",
       "28                                                 YUMMY!   \n",
       "29                        The Best Hot Sauce in the World   \n",
       "...                                                   ...   \n",
       "525784                   Unusual, even for a violet candy   \n",
       "525785                                          Very good   \n",
       "525786                                            rip off   \n",
       "525787                              The search has ended!   \n",
       "525788                                         very tasty   \n",
       "525789                           Violet French Hard Candy   \n",
       "525790                                          delicious   \n",
       "525791                                       Mostly water   \n",
       "525792                                            No Good   \n",
       "525793                                   Tastes horrible!   \n",
       "525794                                        Not so good   \n",
       "525795                            Where's the tortellini?   \n",
       "525796                     Baker's Ammonia Small quantity   \n",
       "525797                                          Good buy.   \n",
       "525798                          Baking Ammonia that Works   \n",
       "525799                                               a-ok   \n",
       "525800    Delicious, all natural and allergy free treats!   \n",
       "525801                            Great For Fast Gulasch!   \n",
       "525802                                   Great Cafe Latte   \n",
       "525803                                      Excellent Tea   \n",
       "525804                     Best Value for Chinese 5 Spice   \n",
       "525805                                  Five Spice Powder   \n",
       "525806                                        Mixed wrong   \n",
       "525807  If its all natural, this is like panacea of Sp...   \n",
       "525808                      Very large ground spice jars.   \n",
       "525809                                Will not do without   \n",
       "525810                                       disappointed   \n",
       "525811                           Perfect for our maltipoo   \n",
       "525812                 Favorite Training and reward treat   \n",
       "525813                                        Great Honey   \n",
       "\n",
       "                                                     Text  \n",
       "0       I have bought several of the Vitality canned d...  \n",
       "1       Product arrived labeled as Jumbo Salted Peanut...  \n",
       "2       This is a confection that has been around a fe...  \n",
       "3       If you are looking for the secret ingredient i...  \n",
       "4       Great taffy at a great price.  There was a wid...  \n",
       "5       I got a wild hair for taffy and ordered this f...  \n",
       "6       This saltwater taffy had great flavors and was...  \n",
       "7       This taffy is so good.  It is very soft and ch...  \n",
       "8       Right now I'm mostly just sprouting this so my...  \n",
       "9       This is a very healthy dog food. Good for thei...  \n",
       "10      I don't know if it's the cactus or the tequila...  \n",
       "11      One of my boys needed to lose some weight and ...  \n",
       "12      My cats have been happily eating Felidae Plati...  \n",
       "13      good flavor! these came securely packed... the...  \n",
       "14      The Strawberry Twizzlers are my guilty pleasur...  \n",
       "15      My daughter loves twizzlers and this shipment ...  \n",
       "16      I love eating them and they are good for watch...  \n",
       "17      I am very satisfied with my Twizzler purchase....  \n",
       "18      Twizzlers, Strawberry my childhood favorite ca...  \n",
       "19      Candy was delivered very fast and was purchase...  \n",
       "20      My husband is a Twizzlers addict.  We've bough...  \n",
       "21      I bought these for my husband who is currently...  \n",
       "22      I can remember buying this candy as a kid and ...  \n",
       "23      I love this candy.  After weight watchers I ha...  \n",
       "24      I have lived out of the US for over 7 yrs now,...  \n",
       "25      Product received is as advertised.<br /><br />...  \n",
       "26      The candy is just red , No flavor . Just  plan...  \n",
       "27      I was so glad Amazon carried these batteries. ...  \n",
       "28      I got this for my Mum who is not diabetic but ...  \n",
       "29      I don't know if it's the cactus or the tequila...  \n",
       "...                                                   ...  \n",
       "525784  I've tried several violet flavored candies in ...  \n",
       "525785  This candy has a very good flavor. It is quite...  \n",
       "525786  The candy is tasty, but they totally scam you ...  \n",
       "525787  I had been looking for the violet candy with t...  \n",
       "525788  these are very pricey so i only enjoy them now...  \n",
       "525789  These candies have a mild flavor, when compare...  \n",
       "525790  This product is a bit pricey for the amt. rece...  \n",
       "525791  Definitely not worth buying flavored water wit...  \n",
       "525792  I thought this soup would be more like a chill...  \n",
       "525793  I just bought this soup today at my local groc...  \n",
       "525794  This soup is mostly broth. Although it has a k...  \n",
       "525795  It is mostly broth, with the advertised 3/4 cu...  \n",
       "525796  In the past, I would have to buy a large quant...  \n",
       "525797  Ammonium bicarbonate in a nice little package....  \n",
       "525798  If you haven't ever used Ammonium Bicarbonate ...  \n",
       "525799  We need this for a recipe my wife is intereste...  \n",
       "525800  Indie Candy's gummies are absolutely delicious...  \n",
       "525801  Quick and easy! Had similar Gulasch in Guest H...  \n",
       "525802  This product is great.  Gives you so much ener...  \n",
       "525803  I love this tea.  I first discovered the pleas...  \n",
       "525804  As a foodie, I use a lot of Chinese 5 Spice po...  \n",
       "525805  You can make this mix yourself, but the Star A...  \n",
       "525806  I had ordered some of these a few months back ...  \n",
       "525807  Hoping there is no MSG in this, this tastes ex...  \n",
       "525808  My only complaint is that there's so much of i...  \n",
       "525809  Great for sesame chicken..this is a good if no...  \n",
       "525810  I'm disappointed with the flavor. The chocolat...  \n",
       "525811  These stars are small, so you can give 10-15 o...  \n",
       "525812  These are the BEST treats for training and rew...  \n",
       "525813  I am very satisfied ,product is as advertised,...  \n",
       "\n",
       "[525814 rows x 10 columns]"
      ]
     },
     "execution_count": 4,
     "metadata": {},
     "output_type": "execute_result"
    }
   ],
   "source": [
    "filtered_data\n"
   ]
  },
  {
   "cell_type": "code",
   "execution_count": 6,
   "metadata": {
    "colab": {
     "base_uri": "https://localhost:8080/",
     "height": 121
    },
    "colab_type": "code",
    "id": "1I7AV75lfKw_",
    "outputId": "39898ee3-33f9-4a67-8a21-f09b5c2fb0b5"
   },
   "outputs": [
    {
     "name": "stdout",
     "output_type": "stream",
     "text": [
      "[nltk_data] Downloading package stopwords to\n",
      "[nltk_data]     C:\\Users\\LENOVO\\AppData\\Roaming\\nltk_data...\n",
      "[nltk_data]   Package stopwords is already up-to-date!\n",
      "{\"haven't\", \"didn't\", \"hasn't\", 'where', 'an', 'couldn', \"needn't\", \"won't\", 'yourself', 'wasn', 'other', 'only', 'in', 'if', \"doesn't\", 'why', 'won', 'again', \"it's\", 'against', \"mightn't\", \"couldn't\", \"she's\", 'those', 've', \"wasn't\", 'during', \"you've\", 'should', \"that'll\", 's', 'whom', 'now', 'with', \"mustn't\", 'we', 'very', 'is', 'me', 'll', 'which', 'them', 'isn', 'some', 'mightn', 'having', 'few', 'up', \"you'd\", 'off', 'o', 'are', \"don't\", 'you', 'of', 'out', 'they', 'him', \"wouldn't\", 'don', 'been', 'wouldn', 'each', \"hadn't\", 'aren', 'his', \"should've\", 'had', 'am', 'until', 'my', 'their', 'between', 'what', 'no', 'm', 'doing', 'as', 'and', 'both', 'to', 'she', 'before', 'was', \"you're\", \"isn't\", 'the', 'were', 'be', 'haven', 'on', 'y', 'being', 'did', 'too', \"weren't\", 'over', 'your', 'while', 'then', 'all', 'there', 'same', 't', 'most', 'our', \"you'll\", 'more', 'hadn', 'once', 'd', 'yours', 'ma', 'these', 'a', 'weren', 'doesn', 'down', 'through', 'than', 'from', 'just', 'who', 'does', 'because', \"aren't\", 'shan', 'such', 'own', \"shouldn't\", 'her', 'can', 'ours', 'this', 're', 'that', 'when', 'needn', 'hasn', \"shan't\", 'how', 'its', 'will', 'has', 'yourselves', 'do', 'hers', 'he', 'by', 'themselves', 'ain', 'here', 'below', 'but', 'not', 'theirs', 'or', 'about', 'for', 'shouldn', 'under', 'didn', 'further', 'mustn', 'at', 'ourselves', 'any', 'above', 'it', 'itself', 'myself', 'after', 'nor', 'herself', 'so', 'himself', 'into', 'have', 'i'}\n",
      "************************************\n",
      "tasti\n"
     ]
    }
   ],
   "source": [
    "import nltk\n",
    "nltk.download('stopwords')\n",
    "sno=nltk.stem.SnowballStemmer('english')\n",
    "stop = set(stopwords.words('english'))\n",
    "def cleanhtml(sentence):\n",
    "  cleanr=re.compile('<.*?>')\n",
    "  cleantext=re.sub(cleanr,' ',sentence)\n",
    "  return cleantext\n",
    "def cleanpunc(sentence):\n",
    "  cleaned = re.sub(r'[?|!|\\'|\"|#]',r'',sentence)\n",
    "  cleaned = re.sub(r'[.|,|)|(|\\|/]',r' ',cleaned) \n",
    "  return cleaned\n",
    "print(stop)\n",
    "print('************************************')\n",
    "print(sno.stem('tasty'))   "
   ]
  },
  {
   "cell_type": "code",
   "execution_count": 7,
   "metadata": {
    "colab": {},
    "colab_type": "code",
    "id": "1V3C4YlphFa2"
   },
   "outputs": [],
   "source": [
    "sorted_data=filtered_data.sort_values('ProductId', axis=0, ascending=True, inplace=False, kind='quicksort', na_position='last')\n",
    "final = sorted_data.drop_duplicates(subset= { 'UserId', 'ProfileName', 'Time',  'Text'})"
   ]
  },
  {
   "cell_type": "code",
   "execution_count": 8,
   "metadata": {
    "colab": {},
    "colab_type": "code",
    "id": "Jv926gG6hH--"
   },
   "outputs": [],
   "source": [
    "final=final[final.HelpfulnessNumerator<=final.HelpfulnessDenominator]"
   ]
  },
  {
   "cell_type": "markdown",
   "metadata": {
    "colab_type": "text",
    "id": "m-VaGKaBhKro"
   },
   "source": [
    "# Time based splitting"
   ]
  },
  {
   "cell_type": "code",
   "execution_count": 9,
   "metadata": {
    "colab": {},
    "colab_type": "code",
    "id": "iE-YJaj1hO7v"
   },
   "outputs": [],
   "source": [
    "import datetime\n",
    "from tqdm import tqdm"
   ]
  },
  {
   "cell_type": "code",
   "execution_count": 10,
   "metadata": {
    "colab": {},
    "colab_type": "code",
    "id": "WlC5_dunhSvW"
   },
   "outputs": [],
   "source": [
    "final['Time'] = final['Time'].map(lambda t:datetime.datetime.fromtimestamp(int(t)).strftime('%Y-%m-%d %H:%M:%S'))"
   ]
  },
  {
   "cell_type": "code",
   "execution_count": 11,
   "metadata": {
    "colab": {
     "base_uri": "https://localhost:8080/",
     "height": 118
    },
    "colab_type": "code",
    "id": "d86PH8fphSy_",
    "outputId": "7589774b-4fe4-4832-c50e-f8a25a67f2de"
   },
   "outputs": [
    {
     "data": {
      "text/plain": [
       "138706    1999-10-08 05:30:00\n",
       "138688    2007-11-11 05:30:00\n",
       "138689    2007-10-04 05:30:00\n",
       "138690    2004-02-06 05:30:00\n",
       "138691    2002-04-10 05:30:00\n",
       "Name: Time, dtype: object"
      ]
     },
     "execution_count": 11,
     "metadata": {},
     "output_type": "execute_result"
    }
   ],
   "source": [
    "final[\"Time\"].head()"
   ]
  },
  {
   "cell_type": "code",
   "execution_count": 12,
   "metadata": {
    "colab": {},
    "colab_type": "code",
    "id": "xDLs8w-ahS6o"
   },
   "outputs": [],
   "source": [
    "final=final.sort_values('Time',axis=0,kind=\"quicksort\", ascending=True).reset_index(drop=True)"
   ]
  },
  {
   "cell_type": "code",
   "execution_count": 13,
   "metadata": {
    "colab": {},
    "colab_type": "code",
    "id": "V_BVDApEh7n_"
   },
   "outputs": [
    {
     "name": "stderr",
     "output_type": "stream",
     "text": [
      "100%|█████████████████████████████████████████████████████████████████████████| 364171/364171 [21:15<00:00, 285.43it/s]\n"
     ]
    }
   ],
   "source": [
    "i=0\n",
    "str1=' '\n",
    "final_string=[]\n",
    "all_positive_words=[] # store words from +ve reviews here\n",
    "all_negative_words=[] # store words from -ve reviews here.\n",
    "s=''\n",
    "for sent in tqdm(final['Text'].values):\n",
    "    filtered_sentence=[]\n",
    "    #print(sent);\n",
    "    sent=cleanhtml(sent) # remove HTMl tags\n",
    "    for w in sent.split():\n",
    "        for cleaned_words in cleanpunc(w).split():\n",
    "            if((cleaned_words.isalpha()) & (len(cleaned_words)>2)):    \n",
    "                if(cleaned_words.lower() not in stop):\n",
    "                    s=(sno.stem(cleaned_words.lower())).encode('utf8')\n",
    "                    filtered_sentence.append(s)\n",
    "                    if (final['Score'].values)[i] == 'positive': \n",
    "                        all_positive_words.append(s) #list of all words used to describe positive reviews\n",
    "                    if(final['Score'].values)[i] == 'negative':\n",
    "                        all_negative_words.append(s) #list of all words used to describe negative reviews reviews\n",
    "                else:\n",
    "                    continue\n",
    "            else:\n",
    "                continue \n",
    "    #print(filtered_sentence)\n",
    "    str1 = b\" \".join(filtered_sentence) #final string of cleaned words\n",
    "    #print(\"***********************************************************************\")\n",
    "    \n",
    "    final_string.append(str1)\n",
    "    i+=1\n",
    "      \n",
    "  \n"
   ]
  },
  {
   "cell_type": "code",
   "execution_count": 14,
   "metadata": {},
   "outputs": [],
   "source": [
    "savetofile(final_string,\"final_string\")"
   ]
  },
  {
   "cell_type": "code",
   "execution_count": 17,
   "metadata": {},
   "outputs": [
    {
     "data": {
      "text/plain": [
       "364171"
      ]
     },
     "execution_count": 17,
     "metadata": {},
     "output_type": "execute_result"
    }
   ],
   "source": [
    "len(final_string)"
   ]
  },
  {
   "cell_type": "code",
   "execution_count": 18,
   "metadata": {
    "colab": {},
    "colab_type": "code",
    "id": "PoHYQ6i-kr1w"
   },
   "outputs": [],
   "source": [
    "final['CleanedText']=final_string #adding a column of CleanedText which displays the data after pre-processing of the review \n",
    "final['CleanedText']=final['CleanedText'].str.decode(\"utf-8\")"
   ]
  },
  {
   "cell_type": "code",
   "execution_count": 19,
   "metadata": {
    "colab": {},
    "colab_type": "code",
    "id": "8Yt5PW9Sk1by"
   },
   "outputs": [],
   "source": [
    "final_sample_svm=final['CleanedText'].values[0:200000]\n",
    "final_score_svm=final['Score'].values[0:200000]"
   ]
  },
  {
   "cell_type": "code",
   "execution_count": 89,
   "metadata": {},
   "outputs": [],
   "source": [
    "final_sample_svc=final['CleanedText'].values[0:50000]\n",
    "final_score_svc=final['Score'].values[0:50000]"
   ]
  },
  {
   "cell_type": "code",
   "execution_count": 21,
   "metadata": {
    "colab": {
     "base_uri": "https://localhost:8080/",
     "height": 70
    },
    "colab_type": "code",
    "id": "zzMdPul_ksBv",
    "outputId": "0bde34ac-3737-46ea-83af-713ce1c5c603"
   },
   "outputs": [
    {
     "name": "stdout",
     "output_type": "stream",
     "text": [
      "Most Common Positive Words :  [(b'like', 139429), (b'tast', 129047), (b'good', 112766), (b'flavor', 109624), (b'love', 107357), (b'use', 103888), (b'great', 103870), (b'one', 96726), (b'product', 91033), (b'tri', 86791), (b'tea', 83888), (b'coffe', 78814), (b'make', 75107), (b'get', 72125), (b'food', 64802), (b'would', 55568), (b'time', 55264), (b'buy', 54198), (b'realli', 52715), (b'eat', 52004)]\n",
      "Most Common Negative Words :  [(b'tast', 34585), (b'like', 32330), (b'product', 28218), (b'one', 20569), (b'flavor', 19575), (b'would', 17972), (b'tri', 17753), (b'use', 15302), (b'good', 15041), (b'coffe', 14716), (b'get', 13786), (b'buy', 13752), (b'order', 12871), (b'food', 12754), (b'dont', 11877), (b'tea', 11665), (b'even', 11085), (b'box', 10844), (b'amazon', 10073), (b'make', 9840)]\n"
     ]
    }
   ],
   "source": [
    "freq_dist_positive=nltk.FreqDist(all_positive_words)\n",
    "freq_dist_negative=nltk.FreqDist(all_negative_words)\n",
    "print(\"Most Common Positive Words : \",freq_dist_positive.most_common(20))\n",
    "print(\"Most Common Negative Words : \",freq_dist_negative.most_common(20))"
   ]
  },
  {
   "cell_type": "code",
   "execution_count": 0,
   "metadata": {
    "colab": {},
    "colab_type": "code",
    "id": "Thd0NgE_h7yd"
   },
   "outputs": [],
   "source": []
  },
  {
   "cell_type": "markdown",
   "metadata": {
    "colab_type": "text",
    "id": "pxEMQ-n0l-KA"
   },
   "source": [
    "# FUNCTION FOR SVM"
   ]
  },
  {
   "cell_type": "code",
   "execution_count": 149,
   "metadata": {
    "colab": {},
    "colab_type": "code",
    "id": "QVZAbsgXmC3K"
   },
   "outputs": [],
   "source": [
    "\n",
    "from sklearn import svm\n",
    "def SVMCLASSIFIER(X_train,Y_train,X_test,Y_test,optimalgamma,C_optimum):\n",
    "    from sklearn.metrics import accuracy_score\n",
    "    from sklearn.metrics import confusion_matrix\n",
    "    from sklearn.metrics import precision_score\n",
    "    from sklearn.metrics import f1_score\n",
    "    from sklearn.metrics import recall_score\n",
    "    from sklearn.metrics import classification_report,confusion_matrix,accuracy_score\n",
    "\n",
    "    clf = svm.SVC(gamma=optimalgamma,C=C_optimum,kernel='rbf',class_weight=\"balanced\")\n",
    "    clf.fit(X_train,Y_train)\n",
    "    pred = clf.predict(X_test)\n",
    "    print(' accuracy with C =',C_optimum,' is ' ,np.round((accuracy_score(Y_test, pred)*100),decimals = 2))\n",
    "    print('F1 score with C =',C_optimum,' is ' , np.round((f1_score(Y_test, pred,average= 'macro')*100),decimals = 2))\n",
    "    print('Recall with C =',C_optimum,' is ' , np.round((recall_score(Y_test, pred,average= 'macro')*100),decimals = 2))\n",
    "    print('Precision with C =',C_optimum,' is ' , np.round((precision_score(Y_test, pred,average= 'macro')*100),decimals = 2))\n",
    "    print ('\\n Classification report  with C =',C_optimum,' is \\n ' , classification_report(Y_test,pred)) \n",
    "   \n",
    "    df_cm = pd.DataFrame(confusion_matrix(Y_test, pred), range(2),range(2))\n",
    "    sns.set(font_scale=1.4)\n",
    "    sns.heatmap(df_cm, annot=True,annot_kws={\"size\": 18}, fmt='g')\n",
    "    print(\"****************************\")\n",
    "    print(\"TRAINING SCORE IS:\",clf.score(X_train,Y_train))\n",
    "    print(\"****************************\")\n",
    "    print(\"TEST SCORE IS:\",clf.score(X_test,Y_test))"
   ]
  },
  {
   "cell_type": "code",
   "execution_count": 150,
   "metadata": {
    "colab": {},
    "colab_type": "code",
    "id": "UOjmnVLApZNE"
   },
   "outputs": [],
   "source": [
    "from sklearn import svm\n",
    "from sklearn.linear_model import SGDClassifier\n",
    "def LinearCLASSIFIER(X_train,Y_train,X_test,Y_test):\n",
    "    \n",
    "    from sklearn.metrics import accuracy_score\n",
    "    from sklearn.metrics import confusion_matrix\n",
    "    from sklearn.metrics import precision_score\n",
    "    from sklearn.metrics import f1_score\n",
    "    from sklearn.metrics import recall_score\n",
    "    from sklearn.metrics import classification_report,confusion_matrix,accuracy_score\n",
    "    clf = SGDClassifier(loss='hinge', penalty='l2',class_weight=\"balanced\")\n",
    "    clf.fit(X_train,Y_train)\n",
    "    pred = clf.predict(X_test)\n",
    "    print(' accuracy  = is ' ,np.round((accuracy_score(Y_test, pred)*100),decimals = 2))\n",
    "    print('F1 score = is ' , np.round((f1_score(Y_test, pred,average= 'macro')*100),decimals = 2))\n",
    "    print('Recall = is ' , np.round((recall_score(Y_test, pred,average= 'macro')*100),decimals = 2))\n",
    "    print('Precision  = is ' , np.round((precision_score(Y_test, pred,average= 'macro')*100),decimals = 2))\n",
    "    print ('\\n Classification report  = is \\n ' , classification_report(Y_test,pred)) \n",
    "    print('no. of non zero elements =',np.count_nonzero(clf.coef_))\n",
    "    df_cm = pd.DataFrame(confusion_matrix(Y_test, pred), range(2),range(2))\n",
    "    sns.set(font_scale=1.4)\n",
    "    sns.heatmap(df_cm, annot=True,annot_kws={\"size\": 18}, fmt='g')\n",
    "    print(\"****************************\")\n",
    "    print(\"TRAINING SCORE IS:\",clf.score(X_train,Y_train))\n",
    "    print(\"****************************\")\n",
    "    print(\"TEST SCORE IS:\",clf.score(X_test,Y_test))\n",
    "    \n",
    "    "
   ]
  },
  {
   "cell_type": "code",
   "execution_count": null,
   "metadata": {},
   "outputs": [],
   "source": []
  },
  {
   "cell_type": "markdown",
   "metadata": {
    "colab_type": "text",
    "id": "mjWymexjl7jY"
   },
   "source": [
    "# GRID SEARCH CV"
   ]
  },
  {
   "cell_type": "code",
   "execution_count": 97,
   "metadata": {
    "colab": {},
    "colab_type": "code",
    "id": "3TXf5KHGpe9T"
   },
   "outputs": [],
   "source": [
    "from sklearn.model_selection import GridSearchCV\n",
    "from sklearn.svm import SVC\n",
    "def bestParam(X_train,Y_train,X_test,Y_test):\n",
    "    \n",
    "    \n",
    "  \n",
    "    clf=SVC(kernel='rbf',class_weight=\"balanced\")\n",
    "    param_grids = {'C': [1000,500,100,50,10,5,1,0.5,0.1,0.05,0.01,0.005,0.001,0.0005,0.0001],'gamma': [1000,500,100,50,10,5,1,0.5,0.1,0.05,0.01,0.005,0.001,0.0005,0.0001]}\n",
    "    gsv= GridSearchCV(clf,param_grids,verbose=1,n_jobs=-1)\n",
    "    gsv.fit(X_train,Y_train)\n",
    "    return gsv.best_params_"
   ]
  },
  {
   "cell_type": "markdown",
   "metadata": {
    "colab_type": "text",
    "id": "E32r-adHrAwq"
   },
   "source": [
    "# Random SEARCH CV"
   ]
  },
  {
   "cell_type": "code",
   "execution_count": 98,
   "metadata": {
    "colab": {},
    "colab_type": "code",
    "id": "Xna0TAM7q-nq"
   },
   "outputs": [],
   "source": [
    "from sklearn.model_selection import RandomizedSearchCV\n",
    "from sklearn.svm import SVC\n",
    "\n",
    "def bestParamR(X_train,Y_train,X_test,Y_test):\n",
    "    \n",
    "    clf=SVC(kernel='rbf',class_weight=\"balanced\")\n",
    "    param_grids = {'C': [1000,500,100,50,10,5,1,0.5,0.1,0.05,0.01,0.005,0.001,0.0005,0.0001],'gamma': [1000,500,100,50,10,5,1,0.5,0.1,0.05,0.01,0.005,0.001,0.0005,0.0001]}\n",
    "    rsv=  RandomizedSearchCV(clf,param_grids,verbose=1,n_jobs=-1)\n",
    "    rsv.fit(X_train,Y_train)\n",
    "    return rsv.best_params_"
   ]
  },
  {
   "cell_type": "code",
   "execution_count": 0,
   "metadata": {
    "colab": {},
    "colab_type": "code",
    "id": "AE7mXEaqq-3J"
   },
   "outputs": [],
   "source": []
  },
  {
   "cell_type": "markdown",
   "metadata": {
    "colab_type": "text",
    "id": "EsqMYyBfrhyb"
   },
   "source": [
    "# Bag of words -(LINEAR CLASSIFIER)"
   ]
  },
  {
   "cell_type": "code",
   "execution_count": 26,
   "metadata": {
    "colab": {},
    "colab_type": "code",
    "id": "jkgN20kUrkS6"
   },
   "outputs": [],
   "source": [
    "from sklearn.model_selection import train_test_split\n",
    "X_train_svm,X_test_svm,Y_train_svm,Y_test_svm=train_test_split(final_sample_svm,final_score_svm,test_size=0.3,shuffle=False)"
   ]
  },
  {
   "cell_type": "code",
   "execution_count": 27,
   "metadata": {},
   "outputs": [],
   "source": [
    "from sklearn.feature_extraction.text import CountVectorizer\n",
    "\n",
    "count_vect = CountVectorizer(ngram_range=(1,1))\n",
    "Vocabulary = count_vect.fit_transform(X_train_svm)\n"
   ]
  },
  {
   "cell_type": "code",
   "execution_count": 28,
   "metadata": {},
   "outputs": [],
   "source": [
    "bow_X_train_svm=count_vect.transform(X_train_svm)\n",
    "bow_X_test_svm=count_vect.transform(X_test_svm)"
   ]
  },
  {
   "cell_type": "code",
   "execution_count": 29,
   "metadata": {},
   "outputs": [],
   "source": [
    "from sklearn import preprocessing \n",
    "bow_X_train_svm= preprocessing.normalize(bow_X_train_svm)\n",
    "bow_X_test_svm = preprocessing.normalize(bow_X_test_svm)\n"
   ]
  },
  {
   "cell_type": "code",
   "execution_count": 151,
   "metadata": {},
   "outputs": [
    {
     "name": "stdout",
     "output_type": "stream",
     "text": [
      " accuracy  = is  86.22\n",
      "F1 score = is  79.15\n",
      "Recall = is  86.52\n",
      "Precision  = is  75.84\n",
      "\n",
      " Classification report  = is \n",
      "               precision    recall  f1-score   support\n",
      "\n",
      "   negative       0.55      0.87      0.67      9657\n",
      "   positive       0.97      0.86      0.91     50343\n",
      "\n",
      "avg / total       0.90      0.86      0.87     60000\n",
      "\n",
      "no. of non zero elements = 34974\n",
      "****************************\n",
      "TRAINING SCORE IS: 0.8778714285714285\n",
      "****************************\n",
      "TEST SCORE IS: 0.8622\n"
     ]
    },
    {
     "data": {
      "image/png": "[encoded data removed]",
      "text/plain": [
       "<Figure size 432x288 with 2 Axes>"
      ]
     },
     "metadata": {},
     "output_type": "display_data"
    }
   ],
   "source": [
    "LinearCLASSIFIER(bow_X_train_svm,Y_train_svm,bow_X_test_svm,Y_test_svm)"
   ]
  },
  {
   "cell_type": "markdown",
   "metadata": {},
   "source": [
    "# KERNEL CLASSIFIER for BOW"
   ]
  },
  {
   "cell_type": "code",
   "execution_count": 122,
   "metadata": {},
   "outputs": [],
   "source": [
    "X_train_svc,X_test_svc,Y_train_svc,Y_test_svc=train_test_split(final_sample_svc,final_score_svc,test_size=0.3,shuffle=False)"
   ]
  },
  {
   "cell_type": "code",
   "execution_count": 123,
   "metadata": {
    "colab": {},
    "colab_type": "code",
    "id": "j2XDtXp1rvhT"
   },
   "outputs": [],
   "source": [
    "from sklearn.feature_extraction.text import CountVectorizer\n",
    "\n",
    "count_vect = CountVectorizer(ngram_range=(1,1))\n",
    "Vocabulary = count_vect.fit_transform(X_train_svc)\n"
   ]
  },
  {
   "cell_type": "code",
   "execution_count": 124,
   "metadata": {},
   "outputs": [],
   "source": [
    "bow_X_train_svc=count_vect.transform(X_train_svc)\n",
    "bow_X_test_svc=count_vect.transform(X_test_svc)"
   ]
  },
  {
   "cell_type": "code",
   "execution_count": 125,
   "metadata": {},
   "outputs": [],
   "source": [
    "from sklearn import preprocessing \n",
    "bow_X_train_svc= preprocessing.normalize(bow_X_train_svc)\n",
    "bow_X_test_svc = preprocessing.normalize(bow_X_test_svc)\n"
   ]
  },
  {
   "cell_type": "code",
   "execution_count": 130,
   "metadata": {},
   "outputs": [
    {
     "data": {
      "text/plain": [
       "(35000,)"
      ]
     },
     "execution_count": 130,
     "metadata": {},
     "output_type": "execute_result"
    }
   ],
   "source": [
    "Y_train_svc.shape"
   ]
  },
  {
   "cell_type": "markdown",
   "metadata": {
    "colab_type": "text",
    "id": "wbdsAAgzsrnT"
   },
   "source": [
    "# best parameter with random search cv"
   ]
  },
  {
   "cell_type": "code",
   "execution_count": 135,
   "metadata": {
    "colab": {},
    "colab_type": "code",
    "id": "-IraqJMmsuQI"
   },
   "outputs": [
    {
     "name": "stdout",
     "output_type": "stream",
     "text": [
      "Fitting 3 folds for each of 10 candidates, totalling 30 fits\n"
     ]
    },
    {
     "name": "stderr",
     "output_type": "stream",
     "text": [
      "[Parallel(n_jobs=-1)]: Done  30 out of  30 | elapsed: 104.0min finished\n"
     ]
    }
   ],
   "source": [
    "BestHyperparametersvmR = bestParamR(bow_X_train_svc,Y_train_svc,bow_X_test_svc,Y_test_svc)"
   ]
  },
  {
   "cell_type": "code",
   "execution_count": 136,
   "metadata": {},
   "outputs": [
    {
     "name": "stdout",
     "output_type": "stream",
     "text": [
      "{'gamma': 1, 'C': 1}\n"
     ]
    }
   ],
   "source": [
    "print(BestHyperparametersvmR)"
   ]
  },
  {
   "cell_type": "markdown",
   "metadata": {},
   "source": [
    "# Kernel svm for bow"
   ]
  },
  {
   "cell_type": "code",
   "execution_count": 152,
   "metadata": {},
   "outputs": [
    {
     "name": "stdout",
     "output_type": "stream",
     "text": [
      " accuracy with C = 1  is  92.61\n",
      "F1 score with C = 1  is  81.13\n",
      "Recall with C = 1  is  79.08\n",
      "Precision with C = 1  is  83.63\n",
      "\n",
      " Classification report  with C = 1  is \n",
      "               precision    recall  f1-score   support\n",
      "\n",
      "   negative       0.72      0.61      0.66      1787\n",
      "   positive       0.95      0.97      0.96     13213\n",
      "\n",
      "avg / total       0.92      0.93      0.92     15000\n",
      "\n",
      "****************************\n",
      "TRAINING SCORE IS: 0.9902857142857143\n",
      "****************************\n",
      "TEST SCORE IS: 0.9260666666666667\n"
     ]
    },
    {
     "data": {
      "image/png": "[encoded data removed]",
      "text/plain": [
       "<Figure size 432x288 with 2 Axes>"
      ]
     },
     "metadata": {},
     "output_type": "display_data"
    }
   ],
   "source": [
    "SVMCLASSIFIER(bow_X_train_svc,Y_train_svc,bow_X_test_svc,Y_test_svc,1,1) #randomsearchcv "
   ]
  },
  {
   "cell_type": "markdown",
   "metadata": {
    "colab_type": "text",
    "id": "PLRiprDvwj5l"
   },
   "source": [
    "## Linear Classifier for TFIDF"
   ]
  },
  {
   "cell_type": "code",
   "execution_count": 154,
   "metadata": {
    "colab": {},
    "colab_type": "code",
    "id": "SK8Xrjguw4kd"
   },
   "outputs": [],
   "source": [
    "from sklearn.model_selection import train_test_split\n",
    "X_train_svm,X_test_svm,Y_train_svm,Y_test_svm=train_test_split(final_sample_svm,final_score_svm,test_size=0.3,shuffle=False)"
   ]
  },
  {
   "cell_type": "code",
   "execution_count": 155,
   "metadata": {
    "colab": {},
    "colab_type": "code",
    "id": "uatQptN3xvWp"
   },
   "outputs": [],
   "source": [
    "from sklearn.feature_extraction.text import TfidfVectorizer\n",
    "\n",
    "tfidf_vect = TfidfVectorizer()\n",
    "Vocabulary = tfidf_vect.fit_transform(X_train_svm)\n"
   ]
  },
  {
   "cell_type": "code",
   "execution_count": 156,
   "metadata": {
    "colab": {},
    "colab_type": "code",
    "id": "CmXVZOGqxvZx"
   },
   "outputs": [],
   "source": [
    "tfidf_X_train_svm=tfidf_vect.transform(X_train_svm)\n",
    "tfidf_X_test_svm=tfidf_vect.transform(X_test_svm)"
   ]
  },
  {
   "cell_type": "code",
   "execution_count": 157,
   "metadata": {
    "colab": {},
    "colab_type": "code",
    "id": "tbnqABb5xvct"
   },
   "outputs": [],
   "source": [
    "from sklearn import preprocessing \n",
    "tfidf_X_train_svm= preprocessing.normalize(tfidf_X_train_svm)\n",
    "tfidf_X_test_svm = preprocessing.normalize(tfidf_X_test_svm)"
   ]
  },
  {
   "cell_type": "code",
   "execution_count": 158,
   "metadata": {},
   "outputs": [
    {
     "name": "stdout",
     "output_type": "stream",
     "text": [
      " accuracy  = is  85.84\n",
      "F1 score = is  79.03\n",
      "Recall = is  87.37\n",
      "Precision  = is  75.65\n",
      "\n",
      " Classification report  = is \n",
      "               precision    recall  f1-score   support\n",
      "\n",
      "   negative       0.54      0.90      0.67      9657\n",
      "   positive       0.98      0.85      0.91     50343\n",
      "\n",
      "avg / total       0.91      0.86      0.87     60000\n",
      "\n",
      "no. of non zero elements = 36325\n",
      "****************************\n",
      "TRAINING SCORE IS: 0.8764357142857143\n",
      "****************************\n",
      "TEST SCORE IS: 0.8583666666666666\n"
     ]
    },
    {
     "data": {
      "image/png": "[encoded data removed]",
      "text/plain": [
       "<Figure size 432x288 with 2 Axes>"
      ]
     },
     "metadata": {},
     "output_type": "display_data"
    }
   ],
   "source": [
    "LinearCLASSIFIER(tfidf_X_train_svm,Y_train_svm,tfidf_X_test_svm,Y_test_svm)"
   ]
  },
  {
   "cell_type": "markdown",
   "metadata": {},
   "source": [
    "# KERNEL CLASSIFIER FOR TFIDF"
   ]
  },
  {
   "cell_type": "code",
   "execution_count": 112,
   "metadata": {},
   "outputs": [],
   "source": [
    "X_train_svc,X_test_svc,Y_train_svc,Y_test_svc=train_test_split(final_sample_svc,final_score_svc,test_size=0.3,shuffle=False)"
   ]
  },
  {
   "cell_type": "code",
   "execution_count": 113,
   "metadata": {},
   "outputs": [],
   "source": [
    "from sklearn.feature_extraction.text import TfidfVectorizer\n",
    "\n",
    "tfidf_vect = TfidfVectorizer()\n",
    "Vocabulary = tfidf_vect.fit_transform(X_train_svc)\n"
   ]
  },
  {
   "cell_type": "code",
   "execution_count": 114,
   "metadata": {},
   "outputs": [],
   "source": [
    "tfidf_X_train_svc=tfidf_vect.transform(X_train_svc)\n",
    "tfidf_X_test_svc=tfidf_vect.transform(X_test_svc)"
   ]
  },
  {
   "cell_type": "code",
   "execution_count": 115,
   "metadata": {},
   "outputs": [],
   "source": [
    "from sklearn import preprocessing \n",
    "tfidf_X_train_svc= preprocessing.normalize(tfidf_X_train_svc)\n",
    "tfidf_X_test_svc = preprocessing.normalize(tfidf_X_test_svc)"
   ]
  },
  {
   "cell_type": "code",
   "execution_count": 160,
   "metadata": {},
   "outputs": [
    {
     "data": {
      "text/plain": [
       "(35000, 23049)"
      ]
     },
     "execution_count": 160,
     "metadata": {},
     "output_type": "execute_result"
    }
   ],
   "source": [
    "tfidf_X_train_svc.shape"
   ]
  },
  {
   "cell_type": "code",
   "execution_count": null,
   "metadata": {},
   "outputs": [],
   "source": []
  },
  {
   "cell_type": "markdown",
   "metadata": {
    "colab_type": "text",
    "id": "8ZGA3y1qycsE"
   },
   "source": [
    "# Randomized search cv"
   ]
  },
  {
   "cell_type": "code",
   "execution_count": 119,
   "metadata": {},
   "outputs": [
    {
     "name": "stdout",
     "output_type": "stream",
     "text": [
      "Fitting 3 folds for each of 10 candidates, totalling 30 fits\n"
     ]
    },
    {
     "name": "stderr",
     "output_type": "stream",
     "text": [
      "[Parallel(n_jobs=-1)]: Done  30 out of  30 | elapsed: 107.7min finished\n"
     ]
    }
   ],
   "source": [
    "BestHyperparameter = bestParamR(tfidf_X_train_svc,Y_train_svc,tfidf_X_test_svc,Y_test_svc)"
   ]
  },
  {
   "cell_type": "code",
   "execution_count": 120,
   "metadata": {
    "colab": {},
    "colab_type": "code",
    "id": "H-DBx2v-yhQx"
   },
   "outputs": [
    {
     "name": "stdout",
     "output_type": "stream",
     "text": [
      "{'gamma': 0.1, 'C': 10}\n"
     ]
    }
   ],
   "source": [
    "print(BestHyperparameter)"
   ]
  },
  {
   "cell_type": "markdown",
   "metadata": {},
   "source": [
    "# KERNEL  CLASSIFIER FOR TFIDF"
   ]
  },
  {
   "cell_type": "code",
   "execution_count": 161,
   "metadata": {},
   "outputs": [
    {
     "name": "stdout",
     "output_type": "stream",
     "text": [
      " accuracy with C = 10  is  90.12\n",
      "F1 score with C = 10  is  78.71\n",
      "Recall with C = 10  is  81.86\n",
      "Precision with C = 10  is  76.39\n",
      "\n",
      " Classification report  with C = 10  is \n",
      "               precision    recall  f1-score   support\n",
      "\n",
      "   negative       0.57      0.71      0.63      1787\n",
      "   positive       0.96      0.93      0.94     13213\n",
      "\n",
      "avg / total       0.91      0.90      0.91     15000\n",
      "\n",
      "****************************\n",
      "TRAINING SCORE IS: 0.9626571428571429\n",
      "****************************\n",
      "TEST SCORE IS: 0.9012\n"
     ]
    },
    {
     "data": {
      "image/png": "[encoded data removed]",
      "text/plain": [
       "<Figure size 432x288 with 2 Axes>"
      ]
     },
     "metadata": {},
     "output_type": "display_data"
    }
   ],
   "source": [
    "SVMCLASSIFIER(tfidf_X_train_svc,Y_train_svc,tfidf_X_test_svc,Y_test_svc,0.1,10)#random search"
   ]
  },
  {
   "cell_type": "code",
   "execution_count": null,
   "metadata": {},
   "outputs": [],
   "source": []
  },
  {
   "cell_type": "markdown",
   "metadata": {
    "colab_type": "text",
    "id": "Aopk6cX16Lk9"
   },
   "source": [
    "# Word 2 vec"
   ]
  },
  {
   "cell_type": "code",
   "execution_count": 22,
   "metadata": {},
   "outputs": [
    {
     "name": "stderr",
     "output_type": "stream",
     "text": [
      "100%|███████████████████████████████████████████████████████████████████████| 364171/364171 [00:25<00:00, 14445.05it/s]\n"
     ]
    }
   ],
   "source": [
    "i=0\n",
    "list_of_sent1=[]\n",
    "for sent in tqdm(final['CleanedText'].values):\n",
    "    \n",
    "    list_of_sent1.append(sent.split())"
   ]
  },
  {
   "cell_type": "code",
   "execution_count": 50,
   "metadata": {
    "colab": {},
    "colab_type": "code",
    "id": "ASI5sygQ6ouo"
   },
   "outputs": [
    {
     "name": "stderr",
     "output_type": "stream",
     "text": [
      "100%|█████████████████████████████████████████████████████████████████████████| 364171/364171 [31:57<00:00, 189.89it/s]\n"
     ]
    }
   ],
   "source": []
  },
  {
   "cell_type": "code",
   "execution_count": 23,
   "metadata": {
    "colab": {},
    "colab_type": "code",
    "id": "zlTumdHby5O4"
   },
   "outputs": [],
   "source": [
    "w2v_model = gensim.models.Word2Vec(list_of_sent1,min_count=5,size=50, workers=4)"
   ]
  },
  {
   "cell_type": "code",
   "execution_count": 24,
   "metadata": {
    "colab": {},
    "colab_type": "code",
    "id": "ygnY_QikzQgv"
   },
   "outputs": [
    {
     "data": {
      "text/plain": [
       "[('weird', 0.7466596364974976),\n",
       " ('okay', 0.7184625267982483),\n",
       " ('prefer', 0.6972460150718689),\n",
       " ('dislik', 0.6954931020736694),\n",
       " ('appeal', 0.6868051290512085),\n",
       " ('think', 0.6538505554199219),\n",
       " ('fake', 0.647203803062439),\n",
       " ('funki', 0.6445770859718323),\n",
       " ('gross', 0.6426984071731567),\n",
       " ('strang', 0.6425809860229492)]"
      ]
     },
     "execution_count": 24,
     "metadata": {},
     "output_type": "execute_result"
    }
   ],
   "source": [
    "w2v_model.most_similar(\"like\")"
   ]
  },
  {
   "cell_type": "code",
   "execution_count": 25,
   "metadata": {},
   "outputs": [],
   "source": [
    "w2v_words = list(w2v_model.wv.vocab)\n"
   ]
  },
  {
   "cell_type": "code",
   "execution_count": 27,
   "metadata": {
    "colab": {},
    "colab_type": "code",
    "id": "h06O1cF7zQt3"
   },
   "outputs": [
    {
     "name": "stderr",
     "output_type": "stream",
     "text": [
      "100%|█████████████████████████████████████████████████████████████████████████| 364171/364171 [10:37<00:00, 571.60it/s]\n"
     ]
    },
    {
     "name": "stdout",
     "output_type": "stream",
     "text": [
      "364171\n",
      "50\n"
     ]
    }
   ],
   "source": [
    "sent_vectors = []; # the avg-w2v for each sentence/review is stored in this list\n",
    "for sent in tqdm(list_of_sent1): # for each review/sentence\n",
    "    sent_vec = np.zeros(50) # as word vectors are of zero length\n",
    "    cnt_words =0; # num of words with a valid vector in the sentence/review\n",
    "    for word in sent: # for each word in a review/sentence\n",
    "        if word in w2v_words:\n",
    "            vec = w2v_model.wv[word]\n",
    "            sent_vec += vec\n",
    "            cnt_words += 1\n",
    "    if cnt_words != 0:\n",
    "        sent_vec /= cnt_words\n",
    "    sent_vectors.append(sent_vec)\n",
    "print(len(sent_vectors))\n",
    "print(len(sent_vectors[0]))"
   ]
  },
  {
   "cell_type": "markdown",
   "metadata": {},
   "source": [
    "# LINEAR SVM FOR AVG WORD2VEC"
   ]
  },
  {
   "cell_type": "code",
   "execution_count": 166,
   "metadata": {
    "colab": {},
    "colab_type": "code",
    "id": "PFjo5K42y5Si"
   },
   "outputs": [],
   "source": [
    "final_w2v_sample = np.array(sent_vectors)\n",
    "final_w2v_sample_svm=final_w2v_sample[0:200000]\n",
    "\n",
    "from sklearn.model_selection import train_test_split\n",
    "X_train_svm,X_test_svm,Y_train_svm,Y_test_svm=train_test_split(final_w2v_sample_svm,final_score_svm,test_size=0.3,shuffle=False)"
   ]
  },
  {
   "cell_type": "code",
   "execution_count": null,
   "metadata": {},
   "outputs": [],
   "source": []
  },
  {
   "cell_type": "code",
   "execution_count": 167,
   "metadata": {},
   "outputs": [],
   "source": [
    "from sklearn import preprocessing \n",
    "avgw2v_X_train_svm= preprocessing.normalize(X_train_svm)\n",
    "avgw2v_X_test_svm = preprocessing.normalize(X_test_svm)"
   ]
  },
  {
   "cell_type": "code",
   "execution_count": null,
   "metadata": {},
   "outputs": [],
   "source": []
  },
  {
   "cell_type": "code",
   "execution_count": 168,
   "metadata": {},
   "outputs": [
    {
     "name": "stdout",
     "output_type": "stream",
     "text": [
      " accuracy  = is  81.81\n",
      "F1 score = is  74.32\n",
      "Recall = is  83.65\n",
      "Precision  = is  71.68\n",
      "\n",
      " Classification report  = is \n",
      "               precision    recall  f1-score   support\n",
      "\n",
      "   negative       0.46      0.86      0.60      9657\n",
      "   positive       0.97      0.81      0.88     50343\n",
      "\n",
      "avg / total       0.89      0.82      0.84     60000\n",
      "\n",
      "no. of non zero elements = 50\n",
      "****************************\n",
      "TRAINING SCORE IS: 0.8309142857142857\n",
      "****************************\n",
      "TEST SCORE IS: 0.81805\n"
     ]
    },
    {
     "data": {
      "image/png": "[encoded data removed]",
      "text/plain": [
       "<Figure size 432x288 with 2 Axes>"
      ]
     },
     "metadata": {},
     "output_type": "display_data"
    }
   ],
   "source": [
    "LinearCLASSIFIER(avgw2v_X_train_svm,Y_train_svm,avgw2v_X_test_svm,Y_test_svm)"
   ]
  },
  {
   "cell_type": "markdown",
   "metadata": {},
   "source": [
    "# KERNEL CLASSIFIER FOR SVM"
   ]
  },
  {
   "cell_type": "code",
   "execution_count": 61,
   "metadata": {},
   "outputs": [],
   "source": [
    "sent_vectors=openfromfile(\"sent_vectors\")"
   ]
  },
  {
   "cell_type": "code",
   "execution_count": 100,
   "metadata": {},
   "outputs": [],
   "source": [
    "final_w2v_sample = np.array(sent_vectors)\n",
    "final_w2v_sample_svm=final_w2v_sample[0:200000]\n",
    "final_w2v_sample_svc=final_w2v_sample[0:50000]"
   ]
  },
  {
   "cell_type": "code",
   "execution_count": 101,
   "metadata": {},
   "outputs": [],
   "source": [
    "X_train_svc,X_test_svc,Y_train_svc,Y_test_svc=train_test_split(final_w2v_sample_svc,final_score_svc,test_size=0.3,shuffle=False)"
   ]
  },
  {
   "cell_type": "code",
   "execution_count": 102,
   "metadata": {},
   "outputs": [],
   "source": [
    "from sklearn import preprocessing \n",
    "avgw2v_X_train_svc= preprocessing.normalize(X_train_svc)\n",
    "avgw2v_X_test_svc = preprocessing.normalize(X_test_svc)"
   ]
  },
  {
   "cell_type": "code",
   "execution_count": 104,
   "metadata": {},
   "outputs": [
    {
     "data": {
      "text/plain": [
       "35000"
      ]
     },
     "execution_count": 104,
     "metadata": {},
     "output_type": "execute_result"
    }
   ],
   "source": [
    "len(avgw2v_X_train_svc)"
   ]
  },
  {
   "cell_type": "code",
   "execution_count": null,
   "metadata": {},
   "outputs": [],
   "source": []
  },
  {
   "cell_type": "markdown",
   "metadata": {},
   "source": [
    "# Random search cv"
   ]
  },
  {
   "cell_type": "code",
   "execution_count": 105,
   "metadata": {},
   "outputs": [
    {
     "name": "stdout",
     "output_type": "stream",
     "text": [
      "Fitting 3 folds for each of 10 candidates, totalling 30 fits\n"
     ]
    },
    {
     "name": "stderr",
     "output_type": "stream",
     "text": [
      "[Parallel(n_jobs=-1)]: Done  30 out of  30 | elapsed: 51.1min finished\n"
     ]
    }
   ],
   "source": [
    "BestHyperparameterR = bestParamR(avgw2v_X_train_svc,Y_train_svc,avgw2v_X_test_svc,Y_test_svc)"
   ]
  },
  {
   "cell_type": "code",
   "execution_count": 106,
   "metadata": {},
   "outputs": [
    {
     "name": "stdout",
     "output_type": "stream",
     "text": [
      "{'gamma': 0.5, 'C': 1000}\n"
     ]
    }
   ],
   "source": [
    "print(BestHyperparameterR)"
   ]
  },
  {
   "cell_type": "markdown",
   "metadata": {},
   "source": [
    "# kernel SVM for Average Word2vec"
   ]
  },
  {
   "cell_type": "code",
   "execution_count": 162,
   "metadata": {},
   "outputs": [
    {
     "name": "stdout",
     "output_type": "stream",
     "text": [
      " accuracy with C = 1000  is  89.31\n",
      "F1 score with C = 1000  is  74.13\n",
      "Recall with C = 1000  is  73.75\n",
      "Precision with C = 1000  is  74.53\n",
      "\n",
      " Classification report  with C = 1000  is \n",
      "               precision    recall  f1-score   support\n",
      "\n",
      "   negative       0.55      0.53      0.54      1787\n",
      "   positive       0.94      0.94      0.94     13213\n",
      "\n",
      "avg / total       0.89      0.89      0.89     15000\n",
      "\n",
      "****************************\n",
      "TRAINING SCORE IS: 0.9991142857142857\n",
      "****************************\n",
      "TEST SCORE IS: 0.8931333333333333\n"
     ]
    },
    {
     "data": {
      "image/png": "[encoded data removed]",
      "text/plain": [
       "<Figure size 432x288 with 2 Axes>"
      ]
     },
     "metadata": {},
     "output_type": "display_data"
    }
   ],
   "source": [
    "SVMCLASSIFIER(avgw2v_X_train_svc,Y_train_svc,avgw2v_X_test_svc,Y_test_svc,0.5,1000) #random search cv"
   ]
  },
  {
   "cell_type": "markdown",
   "metadata": {},
   "source": [
    "# TFIDF WORD 2 Vec"
   ]
  },
  {
   "cell_type": "code",
   "execution_count": 60,
   "metadata": {},
   "outputs": [],
   "source": [
    "from sklearn.feature_extraction.text import TfidfVectorizer\n",
    "\n"
   ]
  },
  {
   "cell_type": "code",
   "execution_count": 31,
   "metadata": {},
   "outputs": [],
   "source": [
    "model = TfidfVectorizer()\n",
    "tf_idf_matrix = model.fit_transform(final['CleanedText'].values)\n",
    "# we are converting a dictionary with word as a key, and the idf as a value\n",
    "dictionary = dict(zip(model.get_feature_names(), list(model.idf_)))"
   ]
  },
  {
   "cell_type": "code",
   "execution_count": 32,
   "metadata": {},
   "outputs": [
    {
     "name": "stderr",
     "output_type": "stream",
     "text": [
      "100%|█████████████████████████████████████████████████████████████████████████| 364171/364171 [11:57<00:00, 507.65it/s]\n"
     ]
    }
   ],
   "source": [
    "tfidf_feat = model.get_feature_names() # tfidf words/col-names\n",
    "# final_tf_idf is the sparse matrix with row= sentence, col=word and cell_val = tfidf\n",
    "\n",
    "tfidf_sent_vectors = []; # the tfidf-w2v for each sentence/review is stored in this list\n",
    "row=0;\n",
    "for sent in tqdm(list_of_sent1): # for each review/sentence \n",
    "    sent_vec = np.zeros(50) # as word vectors are of zero length\n",
    "    weight_sum =0; # num of words with a valid vector in the sentence/review\n",
    "    for word in sent: # for each word in a review/sentence\n",
    "        if word in w2v_words:\n",
    "            vec = w2v_model.wv[word]\n",
    "#             tf_idf = tf_idf_matrix[row, tfidf_feat.index(word)]\n",
    "            # to reduce the computation we are \n",
    "            # dictionary[word] = idf value of word in whole courpus\n",
    "            # sent.count(word) = tf valeus of word in this review\n",
    "            tf_idf = dictionary[word]*sent.count(word)\n",
    "            sent_vec += (vec * tf_idf)\n",
    "            weight_sum += tf_idf\n",
    "    if weight_sum != 0:\n",
    "        sent_vec /= weight_sum\n",
    "    tfidf_sent_vectors.append(sent_vec)\n",
    "    row += 1"
   ]
  },
  {
   "cell_type": "code",
   "execution_count": 71,
   "metadata": {},
   "outputs": [],
   "source": [
    "tfidf_sent_vectors=openfromfile(\"tfidf_sent_vectors\")"
   ]
  },
  {
   "cell_type": "code",
   "execution_count": 90,
   "metadata": {},
   "outputs": [],
   "source": [
    "final_tfidf_sample_svm=tfidf_sent_vectors[0:200000]\n",
    "final_tfidf_sample_svc=tfidf_sent_vectors[0:50000]\n"
   ]
  },
  {
   "cell_type": "code",
   "execution_count": 211,
   "metadata": {},
   "outputs": [],
   "source": [
    "from sklearn.model_selection import train_test_split\n",
    "X_train_svm,X_test_svm,Y_train_svm,Y_test_svm=train_test_split(final_tfidf_sample_svm,final_score_svm,test_size=0.3,shuffle=False)"
   ]
  },
  {
   "cell_type": "code",
   "execution_count": 212,
   "metadata": {},
   "outputs": [],
   "source": [
    "from sklearn import preprocessing\n",
    "tfidf_w2v_X_train_svm= preprocessing.normalize(X_train_svm)\n",
    "tfidf_w2v_X_test_svm = preprocessing.normalize(X_test_svm)"
   ]
  },
  {
   "cell_type": "code",
   "execution_count": 213,
   "metadata": {},
   "outputs": [
    {
     "name": "stdout",
     "output_type": "stream",
     "text": [
      " accuracy  = is  76.67\n",
      "F1 score = is  69.24\n",
      "Recall = is  80.24\n",
      "Precision  = is  68.01\n",
      "\n",
      " Classification report  = is \n",
      "               precision    recall  f1-score   support\n",
      "\n",
      "   negative       0.40      0.86      0.54      9657\n",
      "   positive       0.96      0.75      0.84     50343\n",
      "\n",
      "avg / total       0.87      0.77      0.79     60000\n",
      "\n",
      "no. of non zero elements = 50\n",
      "****************************\n",
      "TRAINING SCORE IS: 0.7840642857142858\n",
      "****************************\n",
      "TEST SCORE IS: 0.7667166666666667\n"
     ]
    },
    {
     "data": {
      "image/png": "[encoded data removed]",
      "text/plain": [
       "<Figure size 432x288 with 2 Axes>"
      ]
     },
     "metadata": {},
     "output_type": "display_data"
    }
   ],
   "source": [
    "LinearCLASSIFIER(tfidf_w2v_X_train_svm,Y_train_svm,tfidf_w2v_X_test_svm,Y_test_svm)"
   ]
  },
  {
   "cell_type": "markdown",
   "metadata": {},
   "source": [
    "# KernelCLASSIFIER FOR TFIDF WORD2Vec"
   ]
  },
  {
   "cell_type": "code",
   "execution_count": 91,
   "metadata": {},
   "outputs": [],
   "source": [
    "X_train_svc,X_test_svc,Y_train_svc,Y_test_svc=train_test_split(final_tfidf_sample_svc,final_score_svc,test_size=0.3,shuffle=False)"
   ]
  },
  {
   "cell_type": "code",
   "execution_count": 92,
   "metadata": {},
   "outputs": [],
   "source": [
    "from sklearn import preprocessing\n",
    "tfidf_w2v_X_train_svc= preprocessing.normalize(X_train_svc)\n",
    "tfidf_w2v_X_test_svc = preprocessing.normalize(X_test_svc)"
   ]
  },
  {
   "cell_type": "code",
   "execution_count": 93,
   "metadata": {},
   "outputs": [
    {
     "data": {
      "text/plain": [
       "35000"
      ]
     },
     "execution_count": 93,
     "metadata": {},
     "output_type": "execute_result"
    }
   ],
   "source": [
    "len(X_train_svc)"
   ]
  },
  {
   "cell_type": "code",
   "execution_count": null,
   "metadata": {},
   "outputs": [],
   "source": []
  },
  {
   "cell_type": "markdown",
   "metadata": {},
   "source": [
    "# Randomized SEARCH HYPERPARAMETER"
   ]
  },
  {
   "cell_type": "code",
   "execution_count": 108,
   "metadata": {},
   "outputs": [
    {
     "name": "stdout",
     "output_type": "stream",
     "text": [
      "Fitting 3 folds for each of 10 candidates, totalling 30 fits\n"
     ]
    },
    {
     "name": "stderr",
     "output_type": "stream",
     "text": [
      "[Parallel(n_jobs=-1)]: Done  30 out of  30 | elapsed: 41.8min finished\n"
     ]
    }
   ],
   "source": [
    "BestHyperparameterR1 = bestParamR(tfidf_w2v_X_train_svc,Y_train_svc,tfidf_w2v_X_test_svc,Y_test_svc)"
   ]
  },
  {
   "cell_type": "code",
   "execution_count": 109,
   "metadata": {},
   "outputs": [
    {
     "name": "stdout",
     "output_type": "stream",
     "text": [
      "{'gamma': 1, 'C': 0.001}\n"
     ]
    }
   ],
   "source": [
    "print(BestHyperparameterR1)"
   ]
  },
  {
   "cell_type": "markdown",
   "metadata": {},
   "source": [
    "# kernel Classifier for tfidf word 2 vec"
   ]
  },
  {
   "cell_type": "code",
   "execution_count": 163,
   "metadata": {
    "scrolled": true
   },
   "outputs": [
    {
     "name": "stdout",
     "output_type": "stream",
     "text": [
      " accuracy with C = 0.001  is  80.99\n",
      "F1 score with C = 0.001  is  66.04\n",
      "Recall with C = 0.001  is  72.54\n",
      "Precision with C = 0.001  is  63.91\n",
      "\n",
      " Classification report  with C = 0.001  is \n",
      "               precision    recall  f1-score   support\n",
      "\n",
      "   negative       0.34      0.61      0.44      1787\n",
      "   positive       0.94      0.84      0.89     13213\n",
      "\n",
      "avg / total       0.87      0.81      0.83     15000\n",
      "\n",
      "****************************\n",
      "TRAINING SCORE IS: 0.8232285714285714\n",
      "****************************\n",
      "TEST SCORE IS: 0.8099333333333333\n"
     ]
    },
    {
     "data": {
      "image/png": "[encoded data removed]",
      "text/plain": [
       "<Figure size 432x288 with 2 Axes>"
      ]
     },
     "metadata": {},
     "output_type": "display_data"
    }
   ],
   "source": [
    "SVMCLASSIFIER(tfidf_w2v_X_train_svc,Y_train_svc,tfidf_w2v_X_test_svc,Y_test_svc,1,0.001) #random search cv"
   ]
  },
  {
   "cell_type": "code",
   "execution_count": 37,
   "metadata": {},
   "outputs": [],
   "source": [
    "savetofile(tfidf_sent_vectors,\"tfidf_sent_vectors\")\n",
    "savetofile(sent_vectors,\"sent_vectors\")\n"
   ]
  },
  {
   "cell_type": "markdown",
   "metadata": {},
   "source": [
    "# OBSERVATION TABLE"
   ]
  },
  {
   "cell_type": "markdown",
   "metadata": {},
   "source": [
    "# PERFORMANCE OF KERNEL SVM"
   ]
  },
  {
   "cell_type": "markdown",
   "metadata": {},
   "source": [
    "| VECTORIZER | C | gamma | Train Score | Test Score\n",
    "| --- | --- | --- | --- | --- |\n",
    "| BOW | 1 | 1 | 0.99 | 0.92 |\n",
    "| tfidf | 10 | 0.1 | 0.96 | 0.90 |\n",
    "| AVG w2v  | 1000 | 0.5 | 0.99 | 0.89 |\n",
    "| tfidf w2v | 0.001 | 1 | 0.82 | 0.80 |\n"
   ]
  },
  {
   "cell_type": "markdown",
   "metadata": {},
   "source": [
    "# PERFORMANCE OF LINEAR SVM"
   ]
  },
  {
   "cell_type": "markdown",
   "metadata": {},
   "source": [
    "| VECTORIZER | Train Score | Test Score\n",
    "| --- | --- | --- |\n",
    "| BOW | 0.87 | 0.86 |\n",
    "| tfidf | 0.87 | 0.85 |\n",
    "| AVG w2v  | 0.83 | 0.81 |\n",
    "| tfidf w2v | 0.78 | 0.76 |\n"
   ]
  },
  {
   "cell_type": "code",
   "execution_count": null,
   "metadata": {},
   "outputs": [],
   "source": []
  }
 ],
 "metadata": {
  "colab": {
   "collapsed_sections": [],
   "name": "Untitled16.ipynb",
   "provenance": [],
   "version": "0.3.2"
  },
  "kernelspec": {
   "display_name": "Python 3",
   "language": "python",
   "name": "python3"
  },
  "language_info": {
   "codemirror_mode": {
    "name": "ipython",
    "version": 3
   },
   "file_extension": ".py",
   "mimetype": "text/x-python",
   "name": "python",
   "nbconvert_exporter": "python",
   "pygments_lexer": "ipython3",
   "version": "3.6.5"
  }
 },
 "nbformat": 4,
 "nbformat_minor": 1
}
