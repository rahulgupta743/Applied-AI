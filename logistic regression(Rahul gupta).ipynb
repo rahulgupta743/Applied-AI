{
 "cells": [
  {
   "cell_type": "code",
   "execution_count": 0,
   "metadata": {
    "colab": {},
    "colab_type": "code",
    "id": "n_MxFm0xaE7v"
   },
   "outputs": [],
   "source": [
    "%matplotlib inline\n",
    "import warnings\n",
    "warnings.filterwarnings(\"ignore\")\n",
    "import gensim\n",
    "import sqlite3\n",
    "import pandas as pd\n",
    "import numpy as np\n",
    "import nltk\n",
    "import string\n",
    "import matplotlib.pyplot as plt\n",
    "import seaborn as sns\n",
    "from sklearn.feature_extraction.text import TfidfTransformer\n",
    "from sklearn.feature_extraction.text import TfidfVectorizer\n",
    "\n",
    "from sklearn.feature_extraction.text import CountVectorizer\n",
    "from sklearn.metrics import confusion_matrix\n",
    "from sklearn import metrics\n",
    "from sklearn.metrics import roc_curve, auc\n",
    "from nltk.stem.porter import PorterStemmer\n",
    "\n",
    "import re\n",
    "# Tutorial about Python regular expressions: https://pymotw.com/2/re/\n",
    "import string\n",
    "from nltk.corpus import stopwords\n",
    "from nltk.stem import PorterStemmer\n",
    "from nltk.stem.wordnet import WordNetLemmatizer\n",
    "\n",
    "from gensim.models import Word2Vec\n",
    "from gensim.models import KeyedVectors\n",
    "import pickle\n",
    "\n",
    "\n",
    "\n",
    "# using the SQLite Table to read data.\n",
    "con = sqlite3.connect(\"drive/Colab Notebooks/database.sqlite\") \n",
    "\n",
    "\n",
    "\n",
    "#filtering only positive and negative reviews i.e. \n",
    "# not taking into consideration those reviews with Score=3\n",
    "filtered_data = pd.read_sql_query(\"\"\" SELECT * FROM Reviews WHERE Score != 3 \"\"\", con) \n",
    "\n",
    "\n",
    "# Give reviews with Score>3 a positive rating, and reviews with a score<3 a negative rating.\n",
    "def partition(x):\n",
    "    if x < 3:\n",
    "        return 'negative'\n",
    "    return 'positive'\n",
    "\n",
    "#changing reviews with score less than 3 to be positive and vice-versa\n",
    "actualScore = filtered_data['Score']\n",
    "positiveNegative = actualScore.map(partition) \n",
    "filtered_data['Score'] = positiveNegative"
   ]
  },
  {
   "cell_type": "code",
   "execution_count": 6,
   "metadata": {
    "colab": {
     "base_uri": "https://localhost:8080/",
     "height": 279
    },
    "colab_type": "code",
    "id": "dEx_VtqYaYWg",
    "outputId": "87a45078-0bc2-4018-c009-815547a41122"
   },
   "outputs": [
    {
     "data": {
      "text/html": [
       "<div>\n",
       "<style scoped>\n",
       "    .dataframe tbody tr th:only-of-type {\n",
       "        vertical-align: middle;\n",
       "    }\n",
       "\n",
       "    .dataframe tbody tr th {\n",
       "        vertical-align: top;\n",
       "    }\n",
       "\n",
       "    .dataframe thead th {\n",
       "        text-align: right;\n",
       "    }\n",
       "</style>\n",
       "<table border=\"1\" class=\"dataframe\">\n",
       "  <thead>\n",
       "    <tr style=\"text-align: right;\">\n",
       "      <th></th>\n",
       "      <th>Id</th>\n",
       "      <th>ProductId</th>\n",
       "      <th>UserId</th>\n",
       "      <th>ProfileName</th>\n",
       "      <th>HelpfulnessNumerator</th>\n",
       "      <th>HelpfulnessDenominator</th>\n",
       "      <th>Score</th>\n",
       "      <th>Time</th>\n",
       "      <th>Summary</th>\n",
       "      <th>Text</th>\n",
       "    </tr>\n",
       "  </thead>\n",
       "  <tbody>\n",
       "    <tr>\n",
       "      <th>0</th>\n",
       "      <td>1</td>\n",
       "      <td>B001E4KFG0</td>\n",
       "      <td>A3SGXH7AUHU8GW</td>\n",
       "      <td>delmartian</td>\n",
       "      <td>1</td>\n",
       "      <td>1</td>\n",
       "      <td>positive</td>\n",
       "      <td>1303862400</td>\n",
       "      <td>Good Quality Dog Food</td>\n",
       "      <td>I have bought several of the Vitality canned d...</td>\n",
       "    </tr>\n",
       "    <tr>\n",
       "      <th>1</th>\n",
       "      <td>2</td>\n",
       "      <td>B00813GRG4</td>\n",
       "      <td>A1D87F6ZCVE5NK</td>\n",
       "      <td>dll pa</td>\n",
       "      <td>0</td>\n",
       "      <td>0</td>\n",
       "      <td>negative</td>\n",
       "      <td>1346976000</td>\n",
       "      <td>Not as Advertised</td>\n",
       "      <td>Product arrived labeled as Jumbo Salted Peanut...</td>\n",
       "    </tr>\n",
       "    <tr>\n",
       "      <th>2</th>\n",
       "      <td>3</td>\n",
       "      <td>B000LQOCH0</td>\n",
       "      <td>ABXLMWJIXXAIN</td>\n",
       "      <td>Natalia Corres \"Natalia Corres\"</td>\n",
       "      <td>1</td>\n",
       "      <td>1</td>\n",
       "      <td>positive</td>\n",
       "      <td>1219017600</td>\n",
       "      <td>\"Delight\" says it all</td>\n",
       "      <td>This is a confection that has been around a fe...</td>\n",
       "    </tr>\n",
       "    <tr>\n",
       "      <th>3</th>\n",
       "      <td>4</td>\n",
       "      <td>B000UA0QIQ</td>\n",
       "      <td>A395BORC6FGVXV</td>\n",
       "      <td>Karl</td>\n",
       "      <td>3</td>\n",
       "      <td>3</td>\n",
       "      <td>negative</td>\n",
       "      <td>1307923200</td>\n",
       "      <td>Cough Medicine</td>\n",
       "      <td>If you are looking for the secret ingredient i...</td>\n",
       "    </tr>\n",
       "    <tr>\n",
       "      <th>4</th>\n",
       "      <td>5</td>\n",
       "      <td>B006K2ZZ7K</td>\n",
       "      <td>A1UQRSCLF8GW1T</td>\n",
       "      <td>Michael D. Bigham \"M. Wassir\"</td>\n",
       "      <td>0</td>\n",
       "      <td>0</td>\n",
       "      <td>positive</td>\n",
       "      <td>1350777600</td>\n",
       "      <td>Great taffy</td>\n",
       "      <td>Great taffy at a great price.  There was a wid...</td>\n",
       "    </tr>\n",
       "  </tbody>\n",
       "</table>\n",
       "</div>"
      ],
      "text/plain": [
       "   Id   ProductId          UserId                      ProfileName  \\\n",
       "0   1  B001E4KFG0  A3SGXH7AUHU8GW                       delmartian   \n",
       "1   2  B00813GRG4  A1D87F6ZCVE5NK                           dll pa   \n",
       "2   3  B000LQOCH0   ABXLMWJIXXAIN  Natalia Corres \"Natalia Corres\"   \n",
       "3   4  B000UA0QIQ  A395BORC6FGVXV                             Karl   \n",
       "4   5  B006K2ZZ7K  A1UQRSCLF8GW1T    Michael D. Bigham \"M. Wassir\"   \n",
       "\n",
       "   HelpfulnessNumerator  HelpfulnessDenominator     Score        Time  \\\n",
       "0                     1                       1  positive  1303862400   \n",
       "1                     0                       0  negative  1346976000   \n",
       "2                     1                       1  positive  1219017600   \n",
       "3                     3                       3  negative  1307923200   \n",
       "4                     0                       0  positive  1350777600   \n",
       "\n",
       "                 Summary                                               Text  \n",
       "0  Good Quality Dog Food  I have bought several of the Vitality canned d...  \n",
       "1      Not as Advertised  Product arrived labeled as Jumbo Salted Peanut...  \n",
       "2  \"Delight\" says it all  This is a confection that has been around a fe...  \n",
       "3         Cough Medicine  If you are looking for the secret ingredient i...  \n",
       "4            Great taffy  Great taffy at a great price.  There was a wid...  "
      ]
     },
     "execution_count": 6,
     "metadata": {
      "tags": []
     },
     "output_type": "execute_result"
    }
   ],
   "source": [
    "filtered_data.head()\n"
   ]
  },
  {
   "cell_type": "code",
   "execution_count": 7,
   "metadata": {
    "colab": {
     "base_uri": "https://localhost:8080/",
     "height": 34
    },
    "colab_type": "code",
    "id": "PwxHiB0gae15",
    "outputId": "68b52c0d-f32f-43c4-96bd-fca6d5597096"
   },
   "outputs": [
    {
     "data": {
      "text/plain": [
       "(525814, 10)"
      ]
     },
     "execution_count": 7,
     "metadata": {
      "tags": []
     },
     "output_type": "execute_result"
    }
   ],
   "source": [
    "filtered_data.shape"
   ]
  },
  {
   "cell_type": "code",
   "execution_count": 8,
   "metadata": {
    "colab": {
     "base_uri": "https://localhost:8080/",
     "height": 3780
    },
    "colab_type": "code",
    "id": "GsKRmjV-Cipr",
    "outputId": "7dc757f3-7412-403b-aee3-a73bd8414193"
   },
   "outputs": [
    {
     "data": {
      "text/html": [
       "<div>\n",
       "<style scoped>\n",
       "    .dataframe tbody tr th:only-of-type {\n",
       "        vertical-align: middle;\n",
       "    }\n",
       "\n",
       "    .dataframe tbody tr th {\n",
       "        vertical-align: top;\n",
       "    }\n",
       "\n",
       "    .dataframe thead th {\n",
       "        text-align: right;\n",
       "    }\n",
       "</style>\n",
       "<table border=\"1\" class=\"dataframe\">\n",
       "  <thead>\n",
       "    <tr style=\"text-align: right;\">\n",
       "      <th></th>\n",
       "      <th>Id</th>\n",
       "      <th>ProductId</th>\n",
       "      <th>UserId</th>\n",
       "      <th>ProfileName</th>\n",
       "      <th>HelpfulnessNumerator</th>\n",
       "      <th>HelpfulnessDenominator</th>\n",
       "      <th>Score</th>\n",
       "      <th>Time</th>\n",
       "      <th>Summary</th>\n",
       "      <th>Text</th>\n",
       "    </tr>\n",
       "  </thead>\n",
       "  <tbody>\n",
       "    <tr>\n",
       "      <th>0</th>\n",
       "      <td>1</td>\n",
       "      <td>B001E4KFG0</td>\n",
       "      <td>A3SGXH7AUHU8GW</td>\n",
       "      <td>delmartian</td>\n",
       "      <td>1</td>\n",
       "      <td>1</td>\n",
       "      <td>positive</td>\n",
       "      <td>1303862400</td>\n",
       "      <td>Good Quality Dog Food</td>\n",
       "      <td>I have bought several of the Vitality canned d...</td>\n",
       "    </tr>\n",
       "    <tr>\n",
       "      <th>1</th>\n",
       "      <td>2</td>\n",
       "      <td>B00813GRG4</td>\n",
       "      <td>A1D87F6ZCVE5NK</td>\n",
       "      <td>dll pa</td>\n",
       "      <td>0</td>\n",
       "      <td>0</td>\n",
       "      <td>negative</td>\n",
       "      <td>1346976000</td>\n",
       "      <td>Not as Advertised</td>\n",
       "      <td>Product arrived labeled as Jumbo Salted Peanut...</td>\n",
       "    </tr>\n",
       "    <tr>\n",
       "      <th>2</th>\n",
       "      <td>3</td>\n",
       "      <td>B000LQOCH0</td>\n",
       "      <td>ABXLMWJIXXAIN</td>\n",
       "      <td>Natalia Corres \"Natalia Corres\"</td>\n",
       "      <td>1</td>\n",
       "      <td>1</td>\n",
       "      <td>positive</td>\n",
       "      <td>1219017600</td>\n",
       "      <td>\"Delight\" says it all</td>\n",
       "      <td>This is a confection that has been around a fe...</td>\n",
       "    </tr>\n",
       "    <tr>\n",
       "      <th>3</th>\n",
       "      <td>4</td>\n",
       "      <td>B000UA0QIQ</td>\n",
       "      <td>A395BORC6FGVXV</td>\n",
       "      <td>Karl</td>\n",
       "      <td>3</td>\n",
       "      <td>3</td>\n",
       "      <td>negative</td>\n",
       "      <td>1307923200</td>\n",
       "      <td>Cough Medicine</td>\n",
       "      <td>If you are looking for the secret ingredient i...</td>\n",
       "    </tr>\n",
       "    <tr>\n",
       "      <th>4</th>\n",
       "      <td>5</td>\n",
       "      <td>B006K2ZZ7K</td>\n",
       "      <td>A1UQRSCLF8GW1T</td>\n",
       "      <td>Michael D. Bigham \"M. Wassir\"</td>\n",
       "      <td>0</td>\n",
       "      <td>0</td>\n",
       "      <td>positive</td>\n",
       "      <td>1350777600</td>\n",
       "      <td>Great taffy</td>\n",
       "      <td>Great taffy at a great price.  There was a wid...</td>\n",
       "    </tr>\n",
       "    <tr>\n",
       "      <th>5</th>\n",
       "      <td>6</td>\n",
       "      <td>B006K2ZZ7K</td>\n",
       "      <td>ADT0SRK1MGOEU</td>\n",
       "      <td>Twoapennything</td>\n",
       "      <td>0</td>\n",
       "      <td>0</td>\n",
       "      <td>positive</td>\n",
       "      <td>1342051200</td>\n",
       "      <td>Nice Taffy</td>\n",
       "      <td>I got a wild hair for taffy and ordered this f...</td>\n",
       "    </tr>\n",
       "    <tr>\n",
       "      <th>6</th>\n",
       "      <td>7</td>\n",
       "      <td>B006K2ZZ7K</td>\n",
       "      <td>A1SP2KVKFXXRU1</td>\n",
       "      <td>David C. Sullivan</td>\n",
       "      <td>0</td>\n",
       "      <td>0</td>\n",
       "      <td>positive</td>\n",
       "      <td>1340150400</td>\n",
       "      <td>Great!  Just as good as the expensive brands!</td>\n",
       "      <td>This saltwater taffy had great flavors and was...</td>\n",
       "    </tr>\n",
       "    <tr>\n",
       "      <th>7</th>\n",
       "      <td>8</td>\n",
       "      <td>B006K2ZZ7K</td>\n",
       "      <td>A3JRGQVEQN31IQ</td>\n",
       "      <td>Pamela G. Williams</td>\n",
       "      <td>0</td>\n",
       "      <td>0</td>\n",
       "      <td>positive</td>\n",
       "      <td>1336003200</td>\n",
       "      <td>Wonderful, tasty taffy</td>\n",
       "      <td>This taffy is so good.  It is very soft and ch...</td>\n",
       "    </tr>\n",
       "    <tr>\n",
       "      <th>8</th>\n",
       "      <td>9</td>\n",
       "      <td>B000E7L2R4</td>\n",
       "      <td>A1MZYO9TZK0BBI</td>\n",
       "      <td>R. James</td>\n",
       "      <td>1</td>\n",
       "      <td>1</td>\n",
       "      <td>positive</td>\n",
       "      <td>1322006400</td>\n",
       "      <td>Yay Barley</td>\n",
       "      <td>Right now I'm mostly just sprouting this so my...</td>\n",
       "    </tr>\n",
       "    <tr>\n",
       "      <th>9</th>\n",
       "      <td>10</td>\n",
       "      <td>B00171APVA</td>\n",
       "      <td>A21BT40VZCCYT4</td>\n",
       "      <td>Carol A. Reed</td>\n",
       "      <td>0</td>\n",
       "      <td>0</td>\n",
       "      <td>positive</td>\n",
       "      <td>1351209600</td>\n",
       "      <td>Healthy Dog Food</td>\n",
       "      <td>This is a very healthy dog food. Good for thei...</td>\n",
       "    </tr>\n",
       "    <tr>\n",
       "      <th>10</th>\n",
       "      <td>11</td>\n",
       "      <td>B0001PB9FE</td>\n",
       "      <td>A3HDKO7OW0QNK4</td>\n",
       "      <td>Canadian Fan</td>\n",
       "      <td>1</td>\n",
       "      <td>1</td>\n",
       "      <td>positive</td>\n",
       "      <td>1107820800</td>\n",
       "      <td>The Best Hot Sauce in the World</td>\n",
       "      <td>I don't know if it's the cactus or the tequila...</td>\n",
       "    </tr>\n",
       "    <tr>\n",
       "      <th>11</th>\n",
       "      <td>12</td>\n",
       "      <td>B0009XLVG0</td>\n",
       "      <td>A2725IB4YY9JEB</td>\n",
       "      <td>A Poeng \"SparkyGoHome\"</td>\n",
       "      <td>4</td>\n",
       "      <td>4</td>\n",
       "      <td>positive</td>\n",
       "      <td>1282867200</td>\n",
       "      <td>My cats LOVE this \"diet\" food better than thei...</td>\n",
       "      <td>One of my boys needed to lose some weight and ...</td>\n",
       "    </tr>\n",
       "    <tr>\n",
       "      <th>12</th>\n",
       "      <td>13</td>\n",
       "      <td>B0009XLVG0</td>\n",
       "      <td>A327PCT23YH90</td>\n",
       "      <td>LT</td>\n",
       "      <td>1</td>\n",
       "      <td>1</td>\n",
       "      <td>negative</td>\n",
       "      <td>1339545600</td>\n",
       "      <td>My Cats Are Not Fans of the New Food</td>\n",
       "      <td>My cats have been happily eating Felidae Plati...</td>\n",
       "    </tr>\n",
       "    <tr>\n",
       "      <th>13</th>\n",
       "      <td>14</td>\n",
       "      <td>B001GVISJM</td>\n",
       "      <td>A18ECVX2RJ7HUE</td>\n",
       "      <td>willie \"roadie\"</td>\n",
       "      <td>2</td>\n",
       "      <td>2</td>\n",
       "      <td>positive</td>\n",
       "      <td>1288915200</td>\n",
       "      <td>fresh and greasy!</td>\n",
       "      <td>good flavor! these came securely packed... the...</td>\n",
       "    </tr>\n",
       "    <tr>\n",
       "      <th>14</th>\n",
       "      <td>15</td>\n",
       "      <td>B001GVISJM</td>\n",
       "      <td>A2MUGFV2TDQ47K</td>\n",
       "      <td>Lynrie \"Oh HELL no\"</td>\n",
       "      <td>4</td>\n",
       "      <td>5</td>\n",
       "      <td>positive</td>\n",
       "      <td>1268352000</td>\n",
       "      <td>Strawberry Twizzlers - Yummy</td>\n",
       "      <td>The Strawberry Twizzlers are my guilty pleasur...</td>\n",
       "    </tr>\n",
       "    <tr>\n",
       "      <th>15</th>\n",
       "      <td>16</td>\n",
       "      <td>B001GVISJM</td>\n",
       "      <td>A1CZX3CP8IKQIJ</td>\n",
       "      <td>Brian A. Lee</td>\n",
       "      <td>4</td>\n",
       "      <td>5</td>\n",
       "      <td>positive</td>\n",
       "      <td>1262044800</td>\n",
       "      <td>Lots of twizzlers, just what you expect.</td>\n",
       "      <td>My daughter loves twizzlers and this shipment ...</td>\n",
       "    </tr>\n",
       "    <tr>\n",
       "      <th>16</th>\n",
       "      <td>17</td>\n",
       "      <td>B001GVISJM</td>\n",
       "      <td>A3KLWF6WQ5BNYO</td>\n",
       "      <td>Erica Neathery</td>\n",
       "      <td>0</td>\n",
       "      <td>0</td>\n",
       "      <td>negative</td>\n",
       "      <td>1348099200</td>\n",
       "      <td>poor taste</td>\n",
       "      <td>I love eating them and they are good for watch...</td>\n",
       "    </tr>\n",
       "    <tr>\n",
       "      <th>17</th>\n",
       "      <td>18</td>\n",
       "      <td>B001GVISJM</td>\n",
       "      <td>AFKW14U97Z6QO</td>\n",
       "      <td>Becca</td>\n",
       "      <td>0</td>\n",
       "      <td>0</td>\n",
       "      <td>positive</td>\n",
       "      <td>1345075200</td>\n",
       "      <td>Love it!</td>\n",
       "      <td>I am very satisfied with my Twizzler purchase....</td>\n",
       "    </tr>\n",
       "    <tr>\n",
       "      <th>18</th>\n",
       "      <td>19</td>\n",
       "      <td>B001GVISJM</td>\n",
       "      <td>A2A9X58G2GTBLP</td>\n",
       "      <td>Wolfee1</td>\n",
       "      <td>0</td>\n",
       "      <td>0</td>\n",
       "      <td>positive</td>\n",
       "      <td>1324598400</td>\n",
       "      <td>GREAT SWEET CANDY!</td>\n",
       "      <td>Twizzlers, Strawberry my childhood favorite ca...</td>\n",
       "    </tr>\n",
       "    <tr>\n",
       "      <th>19</th>\n",
       "      <td>20</td>\n",
       "      <td>B001GVISJM</td>\n",
       "      <td>A3IV7CL2C13K2U</td>\n",
       "      <td>Greg</td>\n",
       "      <td>0</td>\n",
       "      <td>0</td>\n",
       "      <td>positive</td>\n",
       "      <td>1318032000</td>\n",
       "      <td>Home delivered twizlers</td>\n",
       "      <td>Candy was delivered very fast and was purchase...</td>\n",
       "    </tr>\n",
       "    <tr>\n",
       "      <th>20</th>\n",
       "      <td>21</td>\n",
       "      <td>B001GVISJM</td>\n",
       "      <td>A1WO0KGLPR5PV6</td>\n",
       "      <td>mom2emma</td>\n",
       "      <td>0</td>\n",
       "      <td>0</td>\n",
       "      <td>positive</td>\n",
       "      <td>1313452800</td>\n",
       "      <td>Always fresh</td>\n",
       "      <td>My husband is a Twizzlers addict.  We've bough...</td>\n",
       "    </tr>\n",
       "    <tr>\n",
       "      <th>21</th>\n",
       "      <td>22</td>\n",
       "      <td>B001GVISJM</td>\n",
       "      <td>AZOF9E17RGZH8</td>\n",
       "      <td>Tammy Anderson</td>\n",
       "      <td>0</td>\n",
       "      <td>0</td>\n",
       "      <td>positive</td>\n",
       "      <td>1308960000</td>\n",
       "      <td>TWIZZLERS</td>\n",
       "      <td>I bought these for my husband who is currently...</td>\n",
       "    </tr>\n",
       "    <tr>\n",
       "      <th>22</th>\n",
       "      <td>23</td>\n",
       "      <td>B001GVISJM</td>\n",
       "      <td>ARYVQL4N737A1</td>\n",
       "      <td>Charles Brown</td>\n",
       "      <td>0</td>\n",
       "      <td>0</td>\n",
       "      <td>positive</td>\n",
       "      <td>1304899200</td>\n",
       "      <td>Delicious product!</td>\n",
       "      <td>I can remember buying this candy as a kid and ...</td>\n",
       "    </tr>\n",
       "    <tr>\n",
       "      <th>23</th>\n",
       "      <td>24</td>\n",
       "      <td>B001GVISJM</td>\n",
       "      <td>AJ613OLZZUG7V</td>\n",
       "      <td>Mare's</td>\n",
       "      <td>0</td>\n",
       "      <td>0</td>\n",
       "      <td>positive</td>\n",
       "      <td>1304467200</td>\n",
       "      <td>Twizzlers</td>\n",
       "      <td>I love this candy.  After weight watchers I ha...</td>\n",
       "    </tr>\n",
       "    <tr>\n",
       "      <th>24</th>\n",
       "      <td>25</td>\n",
       "      <td>B001GVISJM</td>\n",
       "      <td>A22P2J09NJ9HKE</td>\n",
       "      <td>S. Cabanaugh \"jilly pepper\"</td>\n",
       "      <td>0</td>\n",
       "      <td>0</td>\n",
       "      <td>positive</td>\n",
       "      <td>1295481600</td>\n",
       "      <td>Please sell these in Mexico!!</td>\n",
       "      <td>I have lived out of the US for over 7 yrs now,...</td>\n",
       "    </tr>\n",
       "    <tr>\n",
       "      <th>25</th>\n",
       "      <td>26</td>\n",
       "      <td>B001GVISJM</td>\n",
       "      <td>A3FONPR03H3PJS</td>\n",
       "      <td>Deborah S. Linzer \"Cat Lady\"</td>\n",
       "      <td>0</td>\n",
       "      <td>0</td>\n",
       "      <td>positive</td>\n",
       "      <td>1288310400</td>\n",
       "      <td>Twizzlers - Strawberry</td>\n",
       "      <td>Product received is as advertised.&lt;br /&gt;&lt;br /&gt;...</td>\n",
       "    </tr>\n",
       "    <tr>\n",
       "      <th>26</th>\n",
       "      <td>27</td>\n",
       "      <td>B001GVISJM</td>\n",
       "      <td>A3RXAU2N8KV45G</td>\n",
       "      <td>lady21</td>\n",
       "      <td>0</td>\n",
       "      <td>1</td>\n",
       "      <td>negative</td>\n",
       "      <td>1332633600</td>\n",
       "      <td>Nasty No flavor</td>\n",
       "      <td>The candy is just red , No flavor . Just  plan...</td>\n",
       "    </tr>\n",
       "    <tr>\n",
       "      <th>27</th>\n",
       "      <td>28</td>\n",
       "      <td>B001GVISJM</td>\n",
       "      <td>AAAS38B98HMIK</td>\n",
       "      <td>Heather Dube</td>\n",
       "      <td>0</td>\n",
       "      <td>1</td>\n",
       "      <td>positive</td>\n",
       "      <td>1331856000</td>\n",
       "      <td>Great Bargain for the Price</td>\n",
       "      <td>I was so glad Amazon carried these batteries. ...</td>\n",
       "    </tr>\n",
       "    <tr>\n",
       "      <th>28</th>\n",
       "      <td>29</td>\n",
       "      <td>B00144C10S</td>\n",
       "      <td>A2F4LZVGFLD1OB</td>\n",
       "      <td>DaisyH</td>\n",
       "      <td>0</td>\n",
       "      <td>0</td>\n",
       "      <td>positive</td>\n",
       "      <td>1338854400</td>\n",
       "      <td>YUMMY!</td>\n",
       "      <td>I got this for my Mum who is not diabetic but ...</td>\n",
       "    </tr>\n",
       "    <tr>\n",
       "      <th>29</th>\n",
       "      <td>30</td>\n",
       "      <td>B0001PB9FY</td>\n",
       "      <td>A3HDKO7OW0QNK4</td>\n",
       "      <td>Canadian Fan</td>\n",
       "      <td>1</td>\n",
       "      <td>1</td>\n",
       "      <td>positive</td>\n",
       "      <td>1107820800</td>\n",
       "      <td>The Best Hot Sauce in the World</td>\n",
       "      <td>I don't know if it's the cactus or the tequila...</td>\n",
       "    </tr>\n",
       "    <tr>\n",
       "      <th>...</th>\n",
       "      <td>...</td>\n",
       "      <td>...</td>\n",
       "      <td>...</td>\n",
       "      <td>...</td>\n",
       "      <td>...</td>\n",
       "      <td>...</td>\n",
       "      <td>...</td>\n",
       "      <td>...</td>\n",
       "      <td>...</td>\n",
       "      <td>...</td>\n",
       "    </tr>\n",
       "    <tr>\n",
       "      <th>525784</th>\n",
       "      <td>568425</td>\n",
       "      <td>B001FPT1WM</td>\n",
       "      <td>A291HTT117RVS9</td>\n",
       "      <td>MadisonVeggie \"Lynette in Wisconsin\"</td>\n",
       "      <td>2</td>\n",
       "      <td>2</td>\n",
       "      <td>positive</td>\n",
       "      <td>1333411200</td>\n",
       "      <td>Unusual, even for a violet candy</td>\n",
       "      <td>I've tried several violet flavored candies in ...</td>\n",
       "    </tr>\n",
       "    <tr>\n",
       "      <th>525785</th>\n",
       "      <td>568426</td>\n",
       "      <td>B001FPT1WM</td>\n",
       "      <td>A1TRJQBYQFZW4</td>\n",
       "      <td>Brad</td>\n",
       "      <td>2</td>\n",
       "      <td>2</td>\n",
       "      <td>positive</td>\n",
       "      <td>1325376000</td>\n",
       "      <td>Very good</td>\n",
       "      <td>This candy has a very good flavor. It is quite...</td>\n",
       "    </tr>\n",
       "    <tr>\n",
       "      <th>525786</th>\n",
       "      <td>568427</td>\n",
       "      <td>B001FPT1WM</td>\n",
       "      <td>A2F25C6QCKJ3HL</td>\n",
       "      <td>Jill</td>\n",
       "      <td>1</td>\n",
       "      <td>1</td>\n",
       "      <td>negative</td>\n",
       "      <td>1341532800</td>\n",
       "      <td>rip off</td>\n",
       "      <td>The candy is tasty, but they totally scam you ...</td>\n",
       "    </tr>\n",
       "    <tr>\n",
       "      <th>525787</th>\n",
       "      <td>568428</td>\n",
       "      <td>B001FPT1WM</td>\n",
       "      <td>A7VLVCQJIROTF</td>\n",
       "      <td>Lorraine \"DamnSwank\"</td>\n",
       "      <td>1</td>\n",
       "      <td>1</td>\n",
       "      <td>positive</td>\n",
       "      <td>1340323200</td>\n",
       "      <td>The search has ended!</td>\n",
       "      <td>I had been looking for the violet candy with t...</td>\n",
       "    </tr>\n",
       "    <tr>\n",
       "      <th>525788</th>\n",
       "      <td>568429</td>\n",
       "      <td>B001FPT1WM</td>\n",
       "      <td>A1YGG6T4YJZWC1</td>\n",
       "      <td>bethany \"birds and more birds\"</td>\n",
       "      <td>1</td>\n",
       "      <td>1</td>\n",
       "      <td>positive</td>\n",
       "      <td>1340236800</td>\n",
       "      <td>very tasty</td>\n",
       "      <td>these are very pricey so i only enjoy them now...</td>\n",
       "    </tr>\n",
       "    <tr>\n",
       "      <th>525789</th>\n",
       "      <td>568430</td>\n",
       "      <td>B001FPT1WM</td>\n",
       "      <td>AW7HIV8I53FE4</td>\n",
       "      <td>Herb Schulsinger \"Bach Because!\"</td>\n",
       "      <td>1</td>\n",
       "      <td>1</td>\n",
       "      <td>positive</td>\n",
       "      <td>1338508800</td>\n",
       "      <td>Violet French Hard Candy</td>\n",
       "      <td>These candies have a mild flavor, when compare...</td>\n",
       "    </tr>\n",
       "    <tr>\n",
       "      <th>525790</th>\n",
       "      <td>568431</td>\n",
       "      <td>B001FPT1WM</td>\n",
       "      <td>A1XDMZMMOAMR7</td>\n",
       "      <td>nyxport</td>\n",
       "      <td>0</td>\n",
       "      <td>0</td>\n",
       "      <td>positive</td>\n",
       "      <td>1345161600</td>\n",
       "      <td>delicious</td>\n",
       "      <td>This product is a bit pricey for the amt. rece...</td>\n",
       "    </tr>\n",
       "    <tr>\n",
       "      <th>525791</th>\n",
       "      <td>568432</td>\n",
       "      <td>B003XUL27E</td>\n",
       "      <td>A32Y0419QFGVHM</td>\n",
       "      <td>Kevin Mitchell</td>\n",
       "      <td>0</td>\n",
       "      <td>0</td>\n",
       "      <td>negative</td>\n",
       "      <td>1319673600</td>\n",
       "      <td>Mostly water</td>\n",
       "      <td>Definitely not worth buying flavored water wit...</td>\n",
       "    </tr>\n",
       "    <tr>\n",
       "      <th>525792</th>\n",
       "      <td>568433</td>\n",
       "      <td>B003XUL27E</td>\n",
       "      <td>A1YKXVGAIA8952</td>\n",
       "      <td>NC65</td>\n",
       "      <td>0</td>\n",
       "      <td>0</td>\n",
       "      <td>negative</td>\n",
       "      <td>1319500800</td>\n",
       "      <td>No Good</td>\n",
       "      <td>I thought this soup would be more like a chill...</td>\n",
       "    </tr>\n",
       "    <tr>\n",
       "      <th>525793</th>\n",
       "      <td>568434</td>\n",
       "      <td>B003XUL27E</td>\n",
       "      <td>A1JUG9WCN1A52Z</td>\n",
       "      <td>maudlin666</td>\n",
       "      <td>0</td>\n",
       "      <td>0</td>\n",
       "      <td>negative</td>\n",
       "      <td>1311638400</td>\n",
       "      <td>Tastes horrible!</td>\n",
       "      <td>I just bought this soup today at my local groc...</td>\n",
       "    </tr>\n",
       "    <tr>\n",
       "      <th>525794</th>\n",
       "      <td>568435</td>\n",
       "      <td>B003XUL27E</td>\n",
       "      <td>ABGQPE97ZVYJ3</td>\n",
       "      <td>Katherine Kelly</td>\n",
       "      <td>0</td>\n",
       "      <td>0</td>\n",
       "      <td>negative</td>\n",
       "      <td>1306368000</td>\n",
       "      <td>Not so good</td>\n",
       "      <td>This soup is mostly broth. Although it has a k...</td>\n",
       "    </tr>\n",
       "    <tr>\n",
       "      <th>525795</th>\n",
       "      <td>568436</td>\n",
       "      <td>B003XUL27E</td>\n",
       "      <td>A2PSB4WQHH46HN</td>\n",
       "      <td>carlyowu</td>\n",
       "      <td>0</td>\n",
       "      <td>2</td>\n",
       "      <td>negative</td>\n",
       "      <td>1285718400</td>\n",
       "      <td>Where's the tortellini?</td>\n",
       "      <td>It is mostly broth, with the advertised 3/4 cu...</td>\n",
       "    </tr>\n",
       "    <tr>\n",
       "      <th>525796</th>\n",
       "      <td>568437</td>\n",
       "      <td>B000NY4SAG</td>\n",
       "      <td>A3ODWHC3EMMWTT</td>\n",
       "      <td>K. Brennan \"Baking fool\"</td>\n",
       "      <td>10</td>\n",
       "      <td>10</td>\n",
       "      <td>positive</td>\n",
       "      <td>1229731200</td>\n",
       "      <td>Baker's Ammonia Small quantity</td>\n",
       "      <td>In the past, I would have to buy a large quant...</td>\n",
       "    </tr>\n",
       "    <tr>\n",
       "      <th>525797</th>\n",
       "      <td>568438</td>\n",
       "      <td>B000NY4SAG</td>\n",
       "      <td>A1RKKPSXF9QIZF</td>\n",
       "      <td>Allen \"RcDriver\"</td>\n",
       "      <td>4</td>\n",
       "      <td>4</td>\n",
       "      <td>positive</td>\n",
       "      <td>1233792000</td>\n",
       "      <td>Good buy.</td>\n",
       "      <td>Ammonium bicarbonate in a nice little package....</td>\n",
       "    </tr>\n",
       "    <tr>\n",
       "      <th>525798</th>\n",
       "      <td>568439</td>\n",
       "      <td>B000NY4SAG</td>\n",
       "      <td>A3M89SF0SSOGBK</td>\n",
       "      <td>Robert Goode \"GrampaG\"</td>\n",
       "      <td>3</td>\n",
       "      <td>3</td>\n",
       "      <td>positive</td>\n",
       "      <td>1316995200</td>\n",
       "      <td>Baking Ammonia that Works</td>\n",
       "      <td>If you haven't ever used Ammonium Bicarbonate ...</td>\n",
       "    </tr>\n",
       "    <tr>\n",
       "      <th>525799</th>\n",
       "      <td>568440</td>\n",
       "      <td>B000NY4SAG</td>\n",
       "      <td>A34GDV49ZZQKXG</td>\n",
       "      <td>Donald M. Cook</td>\n",
       "      <td>0</td>\n",
       "      <td>5</td>\n",
       "      <td>positive</td>\n",
       "      <td>1280102400</td>\n",
       "      <td>a-ok</td>\n",
       "      <td>We need this for a recipe my wife is intereste...</td>\n",
       "    </tr>\n",
       "    <tr>\n",
       "      <th>525800</th>\n",
       "      <td>568441</td>\n",
       "      <td>B005ZC0RRO</td>\n",
       "      <td>A2TO5R8QLIITEF</td>\n",
       "      <td>SAK</td>\n",
       "      <td>1</td>\n",
       "      <td>1</td>\n",
       "      <td>positive</td>\n",
       "      <td>1323734400</td>\n",
       "      <td>Delicious, all natural and allergy free treats!</td>\n",
       "      <td>Indie Candy's gummies are absolutely delicious...</td>\n",
       "    </tr>\n",
       "    <tr>\n",
       "      <th>525801</th>\n",
       "      <td>568442</td>\n",
       "      <td>B000NY8O9M</td>\n",
       "      <td>AZRHU8CP5XKMF</td>\n",
       "      <td>David L. Brown</td>\n",
       "      <td>0</td>\n",
       "      <td>0</td>\n",
       "      <td>positive</td>\n",
       "      <td>1264204800</td>\n",
       "      <td>Great For Fast Gulasch!</td>\n",
       "      <td>Quick and easy! Had similar Gulasch in Guest H...</td>\n",
       "    </tr>\n",
       "    <tr>\n",
       "      <th>525802</th>\n",
       "      <td>568443</td>\n",
       "      <td>B006T7TKZO</td>\n",
       "      <td>A3BOURUK79CYY5</td>\n",
       "      <td>BIH</td>\n",
       "      <td>0</td>\n",
       "      <td>0</td>\n",
       "      <td>positive</td>\n",
       "      <td>1338854400</td>\n",
       "      <td>Great Cafe Latte</td>\n",
       "      <td>This product is great.  Gives you so much ener...</td>\n",
       "    </tr>\n",
       "    <tr>\n",
       "      <th>525803</th>\n",
       "      <td>568444</td>\n",
       "      <td>B000H7K114</td>\n",
       "      <td>A2AGSSZR9V7XST</td>\n",
       "      <td>Peter</td>\n",
       "      <td>0</td>\n",
       "      <td>0</td>\n",
       "      <td>positive</td>\n",
       "      <td>1281744000</td>\n",
       "      <td>Excellent Tea</td>\n",
       "      <td>I love this tea.  I first discovered the pleas...</td>\n",
       "    </tr>\n",
       "    <tr>\n",
       "      <th>525804</th>\n",
       "      <td>568445</td>\n",
       "      <td>B001EO7N10</td>\n",
       "      <td>A2SD7TY3IOX69B</td>\n",
       "      <td>BayBay \"BayBay Knows Best\"</td>\n",
       "      <td>3</td>\n",
       "      <td>3</td>\n",
       "      <td>positive</td>\n",
       "      <td>1245369600</td>\n",
       "      <td>Best Value for Chinese 5 Spice</td>\n",
       "      <td>As a foodie, I use a lot of Chinese 5 Spice po...</td>\n",
       "    </tr>\n",
       "    <tr>\n",
       "      <th>525805</th>\n",
       "      <td>568446</td>\n",
       "      <td>B001EO7N10</td>\n",
       "      <td>A2E5C8TTAED4CQ</td>\n",
       "      <td>S. Linkletter</td>\n",
       "      <td>2</td>\n",
       "      <td>2</td>\n",
       "      <td>positive</td>\n",
       "      <td>1268006400</td>\n",
       "      <td>Five Spice Powder</td>\n",
       "      <td>You can make this mix yourself, but the Star A...</td>\n",
       "    </tr>\n",
       "    <tr>\n",
       "      <th>525806</th>\n",
       "      <td>568447</td>\n",
       "      <td>B001EO7N10</td>\n",
       "      <td>A2P9W8T7NTLG2Z</td>\n",
       "      <td>Andy</td>\n",
       "      <td>0</td>\n",
       "      <td>0</td>\n",
       "      <td>negative</td>\n",
       "      <td>1328918400</td>\n",
       "      <td>Mixed wrong</td>\n",
       "      <td>I had ordered some of these a few months back ...</td>\n",
       "    </tr>\n",
       "    <tr>\n",
       "      <th>525807</th>\n",
       "      <td>568448</td>\n",
       "      <td>B001EO7N10</td>\n",
       "      <td>APWCOAVILK94B</td>\n",
       "      <td>Real Named Person \"wowzee\"</td>\n",
       "      <td>0</td>\n",
       "      <td>0</td>\n",
       "      <td>positive</td>\n",
       "      <td>1322524800</td>\n",
       "      <td>If its all natural, this is like panacea of Sp...</td>\n",
       "      <td>Hoping there is no MSG in this, this tastes ex...</td>\n",
       "    </tr>\n",
       "    <tr>\n",
       "      <th>525808</th>\n",
       "      <td>568449</td>\n",
       "      <td>B001EO7N10</td>\n",
       "      <td>A1F6BHEYB7R6R7</td>\n",
       "      <td>James Braley</td>\n",
       "      <td>0</td>\n",
       "      <td>0</td>\n",
       "      <td>positive</td>\n",
       "      <td>1308096000</td>\n",
       "      <td>Very large ground spice jars.</td>\n",
       "      <td>My only complaint is that there's so much of i...</td>\n",
       "    </tr>\n",
       "    <tr>\n",
       "      <th>525809</th>\n",
       "      <td>568450</td>\n",
       "      <td>B001EO7N10</td>\n",
       "      <td>A28KG5XORO54AY</td>\n",
       "      <td>Lettie D. Carter</td>\n",
       "      <td>0</td>\n",
       "      <td>0</td>\n",
       "      <td>positive</td>\n",
       "      <td>1299628800</td>\n",
       "      <td>Will not do without</td>\n",
       "      <td>Great for sesame chicken..this is a good if no...</td>\n",
       "    </tr>\n",
       "    <tr>\n",
       "      <th>525810</th>\n",
       "      <td>568451</td>\n",
       "      <td>B003S1WTCU</td>\n",
       "      <td>A3I8AFVPEE8KI5</td>\n",
       "      <td>R. Sawyer</td>\n",
       "      <td>0</td>\n",
       "      <td>0</td>\n",
       "      <td>negative</td>\n",
       "      <td>1331251200</td>\n",
       "      <td>disappointed</td>\n",
       "      <td>I'm disappointed with the flavor. The chocolat...</td>\n",
       "    </tr>\n",
       "    <tr>\n",
       "      <th>525811</th>\n",
       "      <td>568452</td>\n",
       "      <td>B004I613EE</td>\n",
       "      <td>A121AA1GQV751Z</td>\n",
       "      <td>pksd \"pk_007\"</td>\n",
       "      <td>2</td>\n",
       "      <td>2</td>\n",
       "      <td>positive</td>\n",
       "      <td>1329782400</td>\n",
       "      <td>Perfect for our maltipoo</td>\n",
       "      <td>These stars are small, so you can give 10-15 o...</td>\n",
       "    </tr>\n",
       "    <tr>\n",
       "      <th>525812</th>\n",
       "      <td>568453</td>\n",
       "      <td>B004I613EE</td>\n",
       "      <td>A3IBEVCTXKNOH</td>\n",
       "      <td>Kathy A. Welch \"katwel\"</td>\n",
       "      <td>1</td>\n",
       "      <td>1</td>\n",
       "      <td>positive</td>\n",
       "      <td>1331596800</td>\n",
       "      <td>Favorite Training and reward treat</td>\n",
       "      <td>These are the BEST treats for training and rew...</td>\n",
       "    </tr>\n",
       "    <tr>\n",
       "      <th>525813</th>\n",
       "      <td>568454</td>\n",
       "      <td>B001LR2CU2</td>\n",
       "      <td>A3LGQPJCZVL9UC</td>\n",
       "      <td>srfell17</td>\n",
       "      <td>0</td>\n",
       "      <td>0</td>\n",
       "      <td>positive</td>\n",
       "      <td>1338422400</td>\n",
       "      <td>Great Honey</td>\n",
       "      <td>I am very satisfied ,product is as advertised,...</td>\n",
       "    </tr>\n",
       "  </tbody>\n",
       "</table>\n",
       "<p>525814 rows × 10 columns</p>\n",
       "</div>"
      ],
      "text/plain": [
       "            Id   ProductId          UserId  \\\n",
       "0            1  B001E4KFG0  A3SGXH7AUHU8GW   \n",
       "1            2  B00813GRG4  A1D87F6ZCVE5NK   \n",
       "2            3  B000LQOCH0   ABXLMWJIXXAIN   \n",
       "3            4  B000UA0QIQ  A395BORC6FGVXV   \n",
       "4            5  B006K2ZZ7K  A1UQRSCLF8GW1T   \n",
       "5            6  B006K2ZZ7K   ADT0SRK1MGOEU   \n",
       "6            7  B006K2ZZ7K  A1SP2KVKFXXRU1   \n",
       "7            8  B006K2ZZ7K  A3JRGQVEQN31IQ   \n",
       "8            9  B000E7L2R4  A1MZYO9TZK0BBI   \n",
       "9           10  B00171APVA  A21BT40VZCCYT4   \n",
       "10          11  B0001PB9FE  A3HDKO7OW0QNK4   \n",
       "11          12  B0009XLVG0  A2725IB4YY9JEB   \n",
       "12          13  B0009XLVG0   A327PCT23YH90   \n",
       "13          14  B001GVISJM  A18ECVX2RJ7HUE   \n",
       "14          15  B001GVISJM  A2MUGFV2TDQ47K   \n",
       "15          16  B001GVISJM  A1CZX3CP8IKQIJ   \n",
       "16          17  B001GVISJM  A3KLWF6WQ5BNYO   \n",
       "17          18  B001GVISJM   AFKW14U97Z6QO   \n",
       "18          19  B001GVISJM  A2A9X58G2GTBLP   \n",
       "19          20  B001GVISJM  A3IV7CL2C13K2U   \n",
       "20          21  B001GVISJM  A1WO0KGLPR5PV6   \n",
       "21          22  B001GVISJM   AZOF9E17RGZH8   \n",
       "22          23  B001GVISJM   ARYVQL4N737A1   \n",
       "23          24  B001GVISJM   AJ613OLZZUG7V   \n",
       "24          25  B001GVISJM  A22P2J09NJ9HKE   \n",
       "25          26  B001GVISJM  A3FONPR03H3PJS   \n",
       "26          27  B001GVISJM  A3RXAU2N8KV45G   \n",
       "27          28  B001GVISJM   AAAS38B98HMIK   \n",
       "28          29  B00144C10S  A2F4LZVGFLD1OB   \n",
       "29          30  B0001PB9FY  A3HDKO7OW0QNK4   \n",
       "...        ...         ...             ...   \n",
       "525784  568425  B001FPT1WM  A291HTT117RVS9   \n",
       "525785  568426  B001FPT1WM   A1TRJQBYQFZW4   \n",
       "525786  568427  B001FPT1WM  A2F25C6QCKJ3HL   \n",
       "525787  568428  B001FPT1WM   A7VLVCQJIROTF   \n",
       "525788  568429  B001FPT1WM  A1YGG6T4YJZWC1   \n",
       "525789  568430  B001FPT1WM   AW7HIV8I53FE4   \n",
       "525790  568431  B001FPT1WM   A1XDMZMMOAMR7   \n",
       "525791  568432  B003XUL27E  A32Y0419QFGVHM   \n",
       "525792  568433  B003XUL27E  A1YKXVGAIA8952   \n",
       "525793  568434  B003XUL27E  A1JUG9WCN1A52Z   \n",
       "525794  568435  B003XUL27E   ABGQPE97ZVYJ3   \n",
       "525795  568436  B003XUL27E  A2PSB4WQHH46HN   \n",
       "525796  568437  B000NY4SAG  A3ODWHC3EMMWTT   \n",
       "525797  568438  B000NY4SAG  A1RKKPSXF9QIZF   \n",
       "525798  568439  B000NY4SAG  A3M89SF0SSOGBK   \n",
       "525799  568440  B000NY4SAG  A34GDV49ZZQKXG   \n",
       "525800  568441  B005ZC0RRO  A2TO5R8QLIITEF   \n",
       "525801  568442  B000NY8O9M   AZRHU8CP5XKMF   \n",
       "525802  568443  B006T7TKZO  A3BOURUK79CYY5   \n",
       "525803  568444  B000H7K114  A2AGSSZR9V7XST   \n",
       "525804  568445  B001EO7N10  A2SD7TY3IOX69B   \n",
       "525805  568446  B001EO7N10  A2E5C8TTAED4CQ   \n",
       "525806  568447  B001EO7N10  A2P9W8T7NTLG2Z   \n",
       "525807  568448  B001EO7N10   APWCOAVILK94B   \n",
       "525808  568449  B001EO7N10  A1F6BHEYB7R6R7   \n",
       "525809  568450  B001EO7N10  A28KG5XORO54AY   \n",
       "525810  568451  B003S1WTCU  A3I8AFVPEE8KI5   \n",
       "525811  568452  B004I613EE  A121AA1GQV751Z   \n",
       "525812  568453  B004I613EE   A3IBEVCTXKNOH   \n",
       "525813  568454  B001LR2CU2  A3LGQPJCZVL9UC   \n",
       "\n",
       "                                 ProfileName  HelpfulnessNumerator  \\\n",
       "0                                 delmartian                     1   \n",
       "1                                     dll pa                     0   \n",
       "2            Natalia Corres \"Natalia Corres\"                     1   \n",
       "3                                       Karl                     3   \n",
       "4              Michael D. Bigham \"M. Wassir\"                     0   \n",
       "5                             Twoapennything                     0   \n",
       "6                          David C. Sullivan                     0   \n",
       "7                         Pamela G. Williams                     0   \n",
       "8                                   R. James                     1   \n",
       "9                              Carol A. Reed                     0   \n",
       "10                              Canadian Fan                     1   \n",
       "11                    A Poeng \"SparkyGoHome\"                     4   \n",
       "12                                        LT                     1   \n",
       "13                           willie \"roadie\"                     2   \n",
       "14                       Lynrie \"Oh HELL no\"                     4   \n",
       "15                              Brian A. Lee                     4   \n",
       "16                            Erica Neathery                     0   \n",
       "17                                     Becca                     0   \n",
       "18                                   Wolfee1                     0   \n",
       "19                                      Greg                     0   \n",
       "20                                  mom2emma                     0   \n",
       "21                            Tammy Anderson                     0   \n",
       "22                             Charles Brown                     0   \n",
       "23                                    Mare's                     0   \n",
       "24               S. Cabanaugh \"jilly pepper\"                     0   \n",
       "25              Deborah S. Linzer \"Cat Lady\"                     0   \n",
       "26                                    lady21                     0   \n",
       "27                              Heather Dube                     0   \n",
       "28                                    DaisyH                     0   \n",
       "29                              Canadian Fan                     1   \n",
       "...                                      ...                   ...   \n",
       "525784  MadisonVeggie \"Lynette in Wisconsin\"                     2   \n",
       "525785                                  Brad                     2   \n",
       "525786                                  Jill                     1   \n",
       "525787                  Lorraine \"DamnSwank\"                     1   \n",
       "525788        bethany \"birds and more birds\"                     1   \n",
       "525789      Herb Schulsinger \"Bach Because!\"                     1   \n",
       "525790                               nyxport                     0   \n",
       "525791                        Kevin Mitchell                     0   \n",
       "525792                                  NC65                     0   \n",
       "525793                            maudlin666                     0   \n",
       "525794                       Katherine Kelly                     0   \n",
       "525795                              carlyowu                     0   \n",
       "525796              K. Brennan \"Baking fool\"                    10   \n",
       "525797                      Allen \"RcDriver\"                     4   \n",
       "525798                Robert Goode \"GrampaG\"                     3   \n",
       "525799                        Donald M. Cook                     0   \n",
       "525800                                   SAK                     1   \n",
       "525801                        David L. Brown                     0   \n",
       "525802                                   BIH                     0   \n",
       "525803                                 Peter                     0   \n",
       "525804            BayBay \"BayBay Knows Best\"                     3   \n",
       "525805                         S. Linkletter                     2   \n",
       "525806                                  Andy                     0   \n",
       "525807            Real Named Person \"wowzee\"                     0   \n",
       "525808                          James Braley                     0   \n",
       "525809                      Lettie D. Carter                     0   \n",
       "525810                             R. Sawyer                     0   \n",
       "525811                         pksd \"pk_007\"                     2   \n",
       "525812               Kathy A. Welch \"katwel\"                     1   \n",
       "525813                              srfell17                     0   \n",
       "\n",
       "        HelpfulnessDenominator     Score        Time  \\\n",
       "0                            1  positive  1303862400   \n",
       "1                            0  negative  1346976000   \n",
       "2                            1  positive  1219017600   \n",
       "3                            3  negative  1307923200   \n",
       "4                            0  positive  1350777600   \n",
       "5                            0  positive  1342051200   \n",
       "6                            0  positive  1340150400   \n",
       "7                            0  positive  1336003200   \n",
       "8                            1  positive  1322006400   \n",
       "9                            0  positive  1351209600   \n",
       "10                           1  positive  1107820800   \n",
       "11                           4  positive  1282867200   \n",
       "12                           1  negative  1339545600   \n",
       "13                           2  positive  1288915200   \n",
       "14                           5  positive  1268352000   \n",
       "15                           5  positive  1262044800   \n",
       "16                           0  negative  1348099200   \n",
       "17                           0  positive  1345075200   \n",
       "18                           0  positive  1324598400   \n",
       "19                           0  positive  1318032000   \n",
       "20                           0  positive  1313452800   \n",
       "21                           0  positive  1308960000   \n",
       "22                           0  positive  1304899200   \n",
       "23                           0  positive  1304467200   \n",
       "24                           0  positive  1295481600   \n",
       "25                           0  positive  1288310400   \n",
       "26                           1  negative  1332633600   \n",
       "27                           1  positive  1331856000   \n",
       "28                           0  positive  1338854400   \n",
       "29                           1  positive  1107820800   \n",
       "...                        ...       ...         ...   \n",
       "525784                       2  positive  1333411200   \n",
       "525785                       2  positive  1325376000   \n",
       "525786                       1  negative  1341532800   \n",
       "525787                       1  positive  1340323200   \n",
       "525788                       1  positive  1340236800   \n",
       "525789                       1  positive  1338508800   \n",
       "525790                       0  positive  1345161600   \n",
       "525791                       0  negative  1319673600   \n",
       "525792                       0  negative  1319500800   \n",
       "525793                       0  negative  1311638400   \n",
       "525794                       0  negative  1306368000   \n",
       "525795                       2  negative  1285718400   \n",
       "525796                      10  positive  1229731200   \n",
       "525797                       4  positive  1233792000   \n",
       "525798                       3  positive  1316995200   \n",
       "525799                       5  positive  1280102400   \n",
       "525800                       1  positive  1323734400   \n",
       "525801                       0  positive  1264204800   \n",
       "525802                       0  positive  1338854400   \n",
       "525803                       0  positive  1281744000   \n",
       "525804                       3  positive  1245369600   \n",
       "525805                       2  positive  1268006400   \n",
       "525806                       0  negative  1328918400   \n",
       "525807                       0  positive  1322524800   \n",
       "525808                       0  positive  1308096000   \n",
       "525809                       0  positive  1299628800   \n",
       "525810                       0  negative  1331251200   \n",
       "525811                       2  positive  1329782400   \n",
       "525812                       1  positive  1331596800   \n",
       "525813                       0  positive  1338422400   \n",
       "\n",
       "                                                  Summary  \\\n",
       "0                                   Good Quality Dog Food   \n",
       "1                                       Not as Advertised   \n",
       "2                                   \"Delight\" says it all   \n",
       "3                                          Cough Medicine   \n",
       "4                                             Great taffy   \n",
       "5                                              Nice Taffy   \n",
       "6           Great!  Just as good as the expensive brands!   \n",
       "7                                  Wonderful, tasty taffy   \n",
       "8                                              Yay Barley   \n",
       "9                                        Healthy Dog Food   \n",
       "10                        The Best Hot Sauce in the World   \n",
       "11      My cats LOVE this \"diet\" food better than thei...   \n",
       "12                   My Cats Are Not Fans of the New Food   \n",
       "13                                      fresh and greasy!   \n",
       "14                           Strawberry Twizzlers - Yummy   \n",
       "15               Lots of twizzlers, just what you expect.   \n",
       "16                                             poor taste   \n",
       "17                                               Love it!   \n",
       "18                                     GREAT SWEET CANDY!   \n",
       "19                                Home delivered twizlers   \n",
       "20                                           Always fresh   \n",
       "21                                              TWIZZLERS   \n",
       "22                                     Delicious product!   \n",
       "23                                              Twizzlers   \n",
       "24                          Please sell these in Mexico!!   \n",
       "25                                 Twizzlers - Strawberry   \n",
       "26                                        Nasty No flavor   \n",
       "27                            Great Bargain for the Price   \n",
       "28                                                 YUMMY!   \n",
       "29                        The Best Hot Sauce in the World   \n",
       "...                                                   ...   \n",
       "525784                   Unusual, even for a violet candy   \n",
       "525785                                          Very good   \n",
       "525786                                            rip off   \n",
       "525787                              The search has ended!   \n",
       "525788                                         very tasty   \n",
       "525789                           Violet French Hard Candy   \n",
       "525790                                          delicious   \n",
       "525791                                       Mostly water   \n",
       "525792                                            No Good   \n",
       "525793                                   Tastes horrible!   \n",
       "525794                                        Not so good   \n",
       "525795                            Where's the tortellini?   \n",
       "525796                     Baker's Ammonia Small quantity   \n",
       "525797                                          Good buy.   \n",
       "525798                          Baking Ammonia that Works   \n",
       "525799                                               a-ok   \n",
       "525800    Delicious, all natural and allergy free treats!   \n",
       "525801                            Great For Fast Gulasch!   \n",
       "525802                                   Great Cafe Latte   \n",
       "525803                                      Excellent Tea   \n",
       "525804                     Best Value for Chinese 5 Spice   \n",
       "525805                                  Five Spice Powder   \n",
       "525806                                        Mixed wrong   \n",
       "525807  If its all natural, this is like panacea of Sp...   \n",
       "525808                      Very large ground spice jars.   \n",
       "525809                                Will not do without   \n",
       "525810                                       disappointed   \n",
       "525811                           Perfect for our maltipoo   \n",
       "525812                 Favorite Training and reward treat   \n",
       "525813                                        Great Honey   \n",
       "\n",
       "                                                     Text  \n",
       "0       I have bought several of the Vitality canned d...  \n",
       "1       Product arrived labeled as Jumbo Salted Peanut...  \n",
       "2       This is a confection that has been around a fe...  \n",
       "3       If you are looking for the secret ingredient i...  \n",
       "4       Great taffy at a great price.  There was a wid...  \n",
       "5       I got a wild hair for taffy and ordered this f...  \n",
       "6       This saltwater taffy had great flavors and was...  \n",
       "7       This taffy is so good.  It is very soft and ch...  \n",
       "8       Right now I'm mostly just sprouting this so my...  \n",
       "9       This is a very healthy dog food. Good for thei...  \n",
       "10      I don't know if it's the cactus or the tequila...  \n",
       "11      One of my boys needed to lose some weight and ...  \n",
       "12      My cats have been happily eating Felidae Plati...  \n",
       "13      good flavor! these came securely packed... the...  \n",
       "14      The Strawberry Twizzlers are my guilty pleasur...  \n",
       "15      My daughter loves twizzlers and this shipment ...  \n",
       "16      I love eating them and they are good for watch...  \n",
       "17      I am very satisfied with my Twizzler purchase....  \n",
       "18      Twizzlers, Strawberry my childhood favorite ca...  \n",
       "19      Candy was delivered very fast and was purchase...  \n",
       "20      My husband is a Twizzlers addict.  We've bough...  \n",
       "21      I bought these for my husband who is currently...  \n",
       "22      I can remember buying this candy as a kid and ...  \n",
       "23      I love this candy.  After weight watchers I ha...  \n",
       "24      I have lived out of the US for over 7 yrs now,...  \n",
       "25      Product received is as advertised.<br /><br />...  \n",
       "26      The candy is just red , No flavor . Just  plan...  \n",
       "27      I was so glad Amazon carried these batteries. ...  \n",
       "28      I got this for my Mum who is not diabetic but ...  \n",
       "29      I don't know if it's the cactus or the tequila...  \n",
       "...                                                   ...  \n",
       "525784  I've tried several violet flavored candies in ...  \n",
       "525785  This candy has a very good flavor. It is quite...  \n",
       "525786  The candy is tasty, but they totally scam you ...  \n",
       "525787  I had been looking for the violet candy with t...  \n",
       "525788  these are very pricey so i only enjoy them now...  \n",
       "525789  These candies have a mild flavor, when compare...  \n",
       "525790  This product is a bit pricey for the amt. rece...  \n",
       "525791  Definitely not worth buying flavored water wit...  \n",
       "525792  I thought this soup would be more like a chill...  \n",
       "525793  I just bought this soup today at my local groc...  \n",
       "525794  This soup is mostly broth. Although it has a k...  \n",
       "525795  It is mostly broth, with the advertised 3/4 cu...  \n",
       "525796  In the past, I would have to buy a large quant...  \n",
       "525797  Ammonium bicarbonate in a nice little package....  \n",
       "525798  If you haven't ever used Ammonium Bicarbonate ...  \n",
       "525799  We need this for a recipe my wife is intereste...  \n",
       "525800  Indie Candy's gummies are absolutely delicious...  \n",
       "525801  Quick and easy! Had similar Gulasch in Guest H...  \n",
       "525802  This product is great.  Gives you so much ener...  \n",
       "525803  I love this tea.  I first discovered the pleas...  \n",
       "525804  As a foodie, I use a lot of Chinese 5 Spice po...  \n",
       "525805  You can make this mix yourself, but the Star A...  \n",
       "525806  I had ordered some of these a few months back ...  \n",
       "525807  Hoping there is no MSG in this, this tastes ex...  \n",
       "525808  My only complaint is that there's so much of i...  \n",
       "525809  Great for sesame chicken..this is a good if no...  \n",
       "525810  I'm disappointed with the flavor. The chocolat...  \n",
       "525811  These stars are small, so you can give 10-15 o...  \n",
       "525812  These are the BEST treats for training and rew...  \n",
       "525813  I am very satisfied ,product is as advertised,...  \n",
       "\n",
       "[525814 rows x 10 columns]"
      ]
     },
     "execution_count": 8,
     "metadata": {
      "tags": []
     },
     "output_type": "execute_result"
    }
   ],
   "source": [
    "filtered_data"
   ]
  },
  {
   "cell_type": "code",
   "execution_count": 9,
   "metadata": {
    "colab": {
     "base_uri": "https://localhost:8080/",
     "height": 121
    },
    "colab_type": "code",
    "id": "i36mJHpzagWT",
    "outputId": "2b0e1f12-9443-45cc-ce05-b4e1b4d5cd39"
   },
   "outputs": [
    {
     "name": "stdout",
     "output_type": "stream",
     "text": [
      "[nltk_data] Downloading package stopwords to /root/nltk_data...\n",
      "[nltk_data]   Unzipping corpora/stopwords.zip.\n",
      "{'an', 'herself', 'into', 'mustn', 'through', 'because', 'yours', 'but', 'has', 'so', 'during', 'too', 'isn', 'and', 'same', 'such', 'had', 'myself', 'hadn', \"weren't\", 'couldn', \"you'll\", \"should've\", 'was', 'between', 'of', 'about', 'further', 'do', 'd', 'after', 'themselves', 'which', 'that', \"shan't\", 'should', \"won't\", 'all', 'have', \"she's\", 'she', 'on', 'in', 'aren', 'ourselves', \"aren't\", 'haven', 'your', 'here', 'been', \"mustn't\", 'their', \"hadn't\", 'am', 'theirs', 'where', 'to', 'will', \"don't\", \"you're\", 'its', 'now', 'having', 'll', 'are', 'nor', 'we', \"didn't\", 'some', \"you'd\", 'above', 'shan', 'hasn', \"it's\", \"needn't\", 'then', 'did', \"isn't\", 'this', 'y', 'if', 'under', 'those', 'with', 'itself', 'any', 'each', 'them', 'it', 'only', \"wasn't\", 'her', 'he', 'just', 'himself', 're', 'against', 'there', 'him', 'my', 'other', 'before', 'our', 'be', 'ma', 'were', 'or', \"that'll\", 'wasn', 'once', 'does', 'few', 'you', 'yourself', 'yourselves', 'is', 'a', 'at', \"hasn't\", 'o', 'needn', 'i', 'until', 'as', 'over', 'down', 'while', 'how', 'what', 'both', 'these', 'why', 'mightn', 'shouldn', 've', 'hers', 'ain', 'most', 'who', 'up', 'very', 'whom', 'they', 'again', 'doing', 'don', 'his', 'being', 'when', 't', 'no', 'by', 'than', 'own', 'didn', 's', \"wouldn't\", 'from', \"haven't\", 'm', \"shouldn't\", 'doesn', 'off', 'can', 'weren', \"mightn't\", \"you've\", 'not', \"couldn't\", 'for', 'the', 'more', 'won', 'ours', 'me', 'out', 'below', \"doesn't\", 'wouldn'}\n",
      "************************************\n",
      "tasti\n"
     ]
    }
   ],
   "source": [
    "import re\n",
    "import string\n",
    "import nltk\n",
    "from nltk.corpus import stopwords\n",
    "from nltk.stem import PorterStemmer\n",
    "nltk.download('stopwords')\n",
    "stop = set(stopwords.words('english'))\n",
    "sno = nltk.stem.SnowballStemmer('english')\n",
    "def cleanhtml(sentence): #function to clean the word of any html-tags\n",
    "    cleanr = re.compile('<.*?>')\n",
    "    cleantext = re.sub(cleanr, ' ', sentence)\n",
    "    return cleantext\n",
    "def cleanpunc(sentence):\n",
    "  cleaned = re.sub(r'[?|!|\\'|\"|#]',r'',sentence)\n",
    "  cleaned = re.sub(r'[.|,|)|(|\\|/]',r' ',cleaned) \n",
    "  return cleaned\n",
    "print(stop)\n",
    "print('************************************')\n",
    "print(sno.stem('tasty'))      "
   ]
  },
  {
   "cell_type": "code",
   "execution_count": 0,
   "metadata": {
    "colab": {},
    "colab_type": "code",
    "id": "QQNWa4WCatMe"
   },
   "outputs": [],
   "source": [
    "sorted_data=filtered_data.sort_values('ProductId', axis=0, ascending=True, inplace=False, kind='quicksort', na_position='last')\n",
    "final = sorted_data.drop_duplicates(subset= { 'UserId', 'ProfileName', 'Time',  'Text'})"
   ]
  },
  {
   "cell_type": "code",
   "execution_count": 0,
   "metadata": {
    "colab": {},
    "colab_type": "code",
    "id": "VenLZBDrayUQ"
   },
   "outputs": [],
   "source": [
    "final=final[final.HelpfulnessNumerator<=final.HelpfulnessDenominator]"
   ]
  },
  {
   "cell_type": "markdown",
   "metadata": {
    "colab_type": "text",
    "id": "vBwex-yaa0pe"
   },
   "source": [
    "# Time based splitting"
   ]
  },
  {
   "cell_type": "code",
   "execution_count": 0,
   "metadata": {
    "colab": {},
    "colab_type": "code",
    "id": "JkJHJIjCa4_P"
   },
   "outputs": [],
   "source": [
    "import datetime"
   ]
  },
  {
   "cell_type": "code",
   "execution_count": 0,
   "metadata": {
    "colab": {},
    "colab_type": "code",
    "id": "yyBvHUpVa713"
   },
   "outputs": [],
   "source": [
    "final['Time']=final['Time'].map(lambda t: datetime.datetime.fromtimestamp(int(t)).strftime('%Y-%m-%d %H:%M:%S'))"
   ]
  },
  {
   "cell_type": "code",
   "execution_count": 14,
   "metadata": {
    "colab": {
     "base_uri": "https://localhost:8080/",
     "height": 118
    },
    "colab_type": "code",
    "id": "3tWkEeorbF64",
    "outputId": "227a666a-0fbe-4650-96a6-ab9f686e62b1"
   },
   "outputs": [
    {
     "data": {
      "text/plain": [
       "138706    1999-10-08 00:00:00\n",
       "138688    2007-11-11 00:00:00\n",
       "138689    2007-10-04 00:00:00\n",
       "138690    2004-02-06 00:00:00\n",
       "138691    2002-04-10 00:00:00\n",
       "Name: Time, dtype: object"
      ]
     },
     "execution_count": 14,
     "metadata": {
      "tags": []
     },
     "output_type": "execute_result"
    }
   ],
   "source": [
    "final[\"Time\"].head()"
   ]
  },
  {
   "cell_type": "code",
   "execution_count": 0,
   "metadata": {
    "colab": {},
    "colab_type": "code",
    "id": "elS0AclfbR4H"
   },
   "outputs": [],
   "source": [
    "final=final.sort_values('Time',axis=0,kind=\"quicksort\", ascending=True).reset_index(drop=True)"
   ]
  },
  {
   "cell_type": "code",
   "execution_count": 0,
   "metadata": {
    "colab": {},
    "colab_type": "code",
    "id": "vwbd9sd6bc1m"
   },
   "outputs": [],
   "source": [
    "i=0\n",
    "str1=' '\n",
    "final_string=[]\n",
    "all_positive_words=[] # store words from +ve reviews here\n",
    "all_negative_words=[] # store words from -ve reviews here.\n",
    "s=''\n",
    "for sent in final['Text'].values:\n",
    "    filtered_sentence=[]\n",
    "    #print(sent);\n",
    "    sent=cleanhtml(sent) # remove HTMl tags\n",
    "    for w in sent.split():\n",
    "        for cleaned_words in cleanpunc(w).split():\n",
    "            if((cleaned_words.isalpha()) & (len(cleaned_words)>2)):    \n",
    "                if(cleaned_words.lower() not in stop):\n",
    "                    s=(sno.stem(cleaned_words.lower())).encode('utf8')\n",
    "                    filtered_sentence.append(s)\n",
    "                    if (final['Score'].values)[i] == 'positive': \n",
    "                        all_positive_words.append(s) #list of all words used to describe positive reviews\n",
    "                    if(final['Score'].values)[i] == 'negative':\n",
    "                        all_negative_words.append(s) #list of all words used to describe negative reviews reviews\n",
    "                else:\n",
    "                    continue\n",
    "            else:\n",
    "                continue \n",
    "    #print(filtered_sentence)\n",
    "    str1 = b\" \".join(filtered_sentence) #final string of cleaned words\n",
    "    #print(\"***********************************************************************\")\n",
    "    \n",
    "    final_string.append(str1)\n",
    "    i+=1"
   ]
  },
  {
   "cell_type": "code",
   "execution_count": 0,
   "metadata": {
    "colab": {},
    "colab_type": "code",
    "id": "y0IPB4m2bhmX"
   },
   "outputs": [],
   "source": [
    "final['CleanedText']=final_string #adding a column of CleanedText which displays the data after pre-processing of the review \n",
    "final['CleanedText']=final['CleanedText'].str.decode(\"utf-8\")"
   ]
  },
  {
   "cell_type": "code",
   "execution_count": 0,
   "metadata": {
    "colab": {},
    "colab_type": "code",
    "id": "W8kwkv5Dbk73"
   },
   "outputs": [],
   "source": [
    "final_sample=final['CleanedText'].values[0:100000]\n",
    "final_score=final['Score'].values[0:100000]"
   ]
  },
  {
   "cell_type": "code",
   "execution_count": 19,
   "metadata": {
    "colab": {
     "base_uri": "https://localhost:8080/",
     "height": 70
    },
    "colab_type": "code",
    "id": "5UKxP48lbo-g",
    "outputId": "216ce461-3352-4731-c719-c6fe6b050ced"
   },
   "outputs": [
    {
     "name": "stdout",
     "output_type": "stream",
     "text": [
      "Most Common Positive Words :  [(b'like', 139429), (b'tast', 129047), (b'good', 112766), (b'flavor', 109624), (b'love', 107357), (b'use', 103888), (b'great', 103870), (b'one', 96726), (b'product', 91033), (b'tri', 86791), (b'tea', 83888), (b'coffe', 78814), (b'make', 75107), (b'get', 72125), (b'food', 64802), (b'would', 55568), (b'time', 55264), (b'buy', 54198), (b'realli', 52715), (b'eat', 52004)]\n",
      "Most Common Negative Words :  [(b'tast', 34585), (b'like', 32330), (b'product', 28218), (b'one', 20569), (b'flavor', 19575), (b'would', 17972), (b'tri', 17753), (b'use', 15302), (b'good', 15041), (b'coffe', 14716), (b'get', 13786), (b'buy', 13752), (b'order', 12871), (b'food', 12754), (b'dont', 11877), (b'tea', 11665), (b'even', 11085), (b'box', 10844), (b'amazon', 10073), (b'make', 9840)]\n"
     ]
    }
   ],
   "source": [
    "freq_dist_positive=nltk.FreqDist(all_positive_words)\n",
    "freq_dist_negative=nltk.FreqDist(all_negative_words)\n",
    "print(\"Most Common Positive Words : \",freq_dist_positive.most_common(20))\n",
    "print(\"Most Common Negative Words : \",freq_dist_negative.most_common(20))"
   ]
  },
  {
   "cell_type": "code",
   "execution_count": 0,
   "metadata": {
    "colab": {},
    "colab_type": "code",
    "id": "C4tgC1tVcDvf"
   },
   "outputs": [],
   "source": []
  },
  {
   "cell_type": "markdown",
   "metadata": {
    "colab_type": "text",
    "id": "035zt0Hxct3C"
   },
   "source": [
    "# ALL LOGISTIC REGRESSION FUNCTION"
   ]
  },
  {
   "cell_type": "code",
   "execution_count": 0,
   "metadata": {
    "colab": {},
    "colab_type": "code",
    "id": "t3gWGUoPcyPC"
   },
   "outputs": [],
   "source": [
    "from sklearn.metrics import accuracy_score,precision_score,recall_score,confusion_matrix,classification_report,f1_score\n",
    "\n",
    "def LogisticRwithL2(X_train,Y_train,X_test,Y_test,C_optimum):\n",
    "  lr =LogisticRegression(C=C_optimum,penalty='l2')\n",
    "  lr.fit(X_train,Y_train)\n",
    "  pred = lr.predict(X_test)\n",
    "  print(' accuracy with C =',C_optimum,' is ' ,np.round((accuracy_score(Y_test, pred)*100),decimals = 2))\n",
    "  print('F1 score with C =',C_optimum,' is ' , np.round((f1_score(Y_test, pred,average= 'macro')*100),decimals = 2))\n",
    "  print('Recall with C =',C_optimum,' is ' , np.round((recall_score(Y_test, pred,average= 'macro')*100),decimals = 2))\n",
    "  print('Precision with C =',C_optimum,' is ' , np.round((precision_score(Y_test, pred,average= 'macro')*100),decimals = 2))\n",
    "  print ('\\n Classification report  with C =',C_optimum,' is \\n ' , classification_report(Y_test,pred)) \n",
    "  print('no. of non zero elements =',np.count_nonzero(lr.coef_))"
   ]
  },
  {
   "cell_type": "code",
   "execution_count": 0,
   "metadata": {
    "colab": {},
    "colab_type": "code",
    "id": "og-MkI4Gc2uM"
   },
   "outputs": [],
   "source": [
    "def LogisticRwithL1(X_train,Y_train,X_test,Y_test,C_optimum):\n",
    "  lr =LogisticRegression(C=C_optimum,penalty='l1')\n",
    "  lr.fit(X_train,Y_train)\n",
    "  pred = lr.predict(X_test)\n",
    "  print(' accuracy with C =',C_optimum,' is ' ,np.round((accuracy_score(Y_test, pred)*100),decimals = 2))\n",
    "  print('F1 score with C =',C_optimum,' is ' , np.round((f1_score(Y_test, pred,average= 'macro')*100),decimals = 2))\n",
    "  print('Recall with C =',C_optimum,' is ' , np.round((recall_score(Y_test, pred,average= 'macro')*100),decimals = 2))\n",
    "  print('Precision with C =',C_optimum,' is ' , np.round((precision_score(Y_test, pred,average= 'macro')*100),decimals = 2))\n",
    "  print ('\\n Classification report  with C =',C_optimum,' is \\n ' , classification_report(Y_test,pred)) \n",
    "  print('no. of non zero elements =',np.count_nonzero(lr.coef_))"
   ]
  },
  {
   "cell_type": "markdown",
   "metadata": {
    "colab_type": "text",
    "id": "EncmWGB_cyYp"
   },
   "source": [
    "# GRID SEARCH CV FOR LAMBDA"
   ]
  },
  {
   "cell_type": "code",
   "execution_count": 0,
   "metadata": {
    "colab": {},
    "colab_type": "code",
    "id": "s9kF02soc4QX"
   },
   "outputs": [],
   "source": [
    "from sklearn.model_selection import GridSearchCV\n",
    "from sklearn.linear_model import LogisticRegression\n",
    "def bestLambda(X_train,Y_train,X_test,Y_test):\n",
    "  lr = LogisticRegression()\n",
    "  param_grid={'C':np.arange(1,50,2),'penalty':['l1','l2']}\n",
    "  gsv = GridSearchCV(lr,param_grid,verbose=1)\n",
    "  gsv.fit(X_train,Y_train)\n",
    "  C_optimum=gsv.best_params_\n",
    "  return C_optimum\n",
    "    "
   ]
  },
  {
   "cell_type": "markdown",
   "metadata": {
    "colab_type": "text",
    "id": "y_uy-N_jdD0u"
   },
   "source": [
    "# RANDOM SEARCH CV"
   ]
  },
  {
   "cell_type": "code",
   "execution_count": 0,
   "metadata": {
    "colab": {},
    "colab_type": "code",
    "id": "gun-kAEAdKxr"
   },
   "outputs": [],
   "source": [
    "from sklearn.model_selection import RandomizedSearchCV\n",
    "from sklearn.linear_model import LogisticRegression\n",
    "def bestLambdaR(X_train,Y_train,X_test,Y_test):\n",
    "  lr = LogisticRegression()\n",
    "  param_grid={'C':np.arange(1,50,2),'penalty':['l1','l2']}\n",
    "  rsv = RandomizedSearchCV(lr,param_grid,verbose=1)\n",
    "  rsv.fit(X_train,Y_train)\n",
    "  C_optimum=rsv.best_params_\n",
    "  return C_optimum\n",
    "    "
   ]
  },
  {
   "cell_type": "markdown",
   "metadata": {
    "colab_type": "text",
    "id": "wEeDk9R7pXUn"
   },
   "source": [
    "# FUNCTION TO SHOW MOST IMPORTANT FEATURES"
   ]
  },
  {
   "cell_type": "code",
   "execution_count": 0,
   "metadata": {
    "colab": {},
    "colab_type": "code",
    "id": "JgW7jYPbpbhy"
   },
   "outputs": [],
   "source": [
    "def show_most_informative_features(vectorizer, clf, n=20):\n",
    "    feature_names = vectorizer.get_feature_names()\n",
    "    coefs_with_fns = sorted(zip(clf.coef_[0], feature_names))\n",
    "    top = zip(coefs_with_fns[:n], coefs_with_fns[:-(n + 1):-1])\n",
    "    for (coef_1, fn_1), (coef_2, fn_2) in top:\n",
    "        print (\"\\t%.4f\\t%-15s\\t\\t%.4f\\t%-15s\" % (coef_1, fn_1, coef_2, fn_2))"
   ]
  },
  {
   "cell_type": "markdown",
   "metadata": {
    "colab_type": "text",
    "id": "bkG7HkgwdBoR"
   },
   "source": [
    "# Bag Of Words"
   ]
  },
  {
   "cell_type": "code",
   "execution_count": 0,
   "metadata": {
    "colab": {},
    "colab_type": "code",
    "id": "h0v3alFGcHGn"
   },
   "outputs": [],
   "source": [
    "from sklearn.model_selection import train_test_split\n",
    "X_train,X_test,Y_train,Y_test=train_test_split(final_sample,final_score,test_size=0.3,shuffle=False)"
   ]
  },
  {
   "cell_type": "code",
   "execution_count": 0,
   "metadata": {
    "colab": {},
    "colab_type": "code",
    "id": "6tgkvX02cPD2"
   },
   "outputs": [],
   "source": [
    "from sklearn.feature_extraction.text import CountVectorizer\n",
    "\n",
    "count_vect = CountVectorizer(ngram_range=(1,1))\n",
    "Vocabulary = count_vect.fit_transform(X_train)\n",
    "\n"
   ]
  },
  {
   "cell_type": "code",
   "execution_count": 0,
   "metadata": {
    "colab": {},
    "colab_type": "code",
    "id": "7L7YIA5dcQDI"
   },
   "outputs": [],
   "source": [
    "bow_X_train=count_vect.transform(X_train)\n",
    "bow_X_test=count_vect.transform(X_test)"
   ]
  },
  {
   "cell_type": "code",
   "execution_count": 0,
   "metadata": {
    "colab": {},
    "colab_type": "code",
    "id": "5APkAmTOcYXn"
   },
   "outputs": [],
   "source": [
    "from sklearn import preprocessing \n",
    "bow_X_train= preprocessing.normalize(bow_X_train)\n",
    "bow_X_test = preprocessing.normalize(bow_X_test)\n"
   ]
  },
  {
   "cell_type": "code",
   "execution_count": 67,
   "metadata": {
    "colab": {
     "base_uri": "https://localhost:8080/",
     "height": 50
    },
    "colab_type": "code",
    "id": "kKW6QI70hmgv",
    "outputId": "13c9171d-eed4-47bb-98d8-e42041f336ce"
   },
   "outputs": [
    {
     "name": "stdout",
     "output_type": "stream",
     "text": [
      "Fitting 3 folds for each of 50 candidates, totalling 150 fits\n"
     ]
    },
    {
     "name": "stderr",
     "output_type": "stream",
     "text": [
      "[Parallel(n_jobs=1)]: Done 150 out of 150 | elapsed:  5.8min finished\n"
     ]
    }
   ],
   "source": [
    "BestHyperparameter = bestLambda(bow_X_train,Y_train,bow_X_test,Y_test)"
   ]
  },
  {
   "cell_type": "code",
   "execution_count": 68,
   "metadata": {
    "colab": {
     "base_uri": "https://localhost:8080/",
     "height": 50
    },
    "colab_type": "code",
    "id": "NDDedlmJd3GN",
    "outputId": "b40be939-d50c-455d-85a7-3bbf878e69e4"
   },
   "outputs": [
    {
     "name": "stdout",
     "output_type": "stream",
     "text": [
      "Fitting 3 folds for each of 10 candidates, totalling 30 fits\n"
     ]
    },
    {
     "name": "stderr",
     "output_type": "stream",
     "text": [
      "[Parallel(n_jobs=1)]: Done  30 out of  30 | elapsed:  1.2min finished\n"
     ]
    }
   ],
   "source": [
    "BestHyperparameterR = bestLambdaR(bow_X_train,Y_train,bow_X_test,Y_test)"
   ]
  },
  {
   "cell_type": "code",
   "execution_count": 69,
   "metadata": {
    "colab": {
     "base_uri": "https://localhost:8080/",
     "height": 34
    },
    "colab_type": "code",
    "id": "zsN6P9DsieCM",
    "outputId": "413c1c7d-a0e6-4f2e-a308-372ce8e4cb68"
   },
   "outputs": [
    {
     "name": "stdout",
     "output_type": "stream",
     "text": [
      "BEST HYPERPARAMETER WITH GRID SEARCH {'C': 5, 'penalty': 'l2'}\n"
     ]
    }
   ],
   "source": [
    "print(\"BEST HYPERPARAMETER WITH GRID SEARCH\",BestHyperparameter)"
   ]
  },
  {
   "cell_type": "code",
   "execution_count": 70,
   "metadata": {
    "colab": {
     "base_uri": "https://localhost:8080/",
     "height": 34
    },
    "colab_type": "code",
    "id": "frwqTbaRlSj5",
    "outputId": "d7c4488f-ecb8-4921-81ee-06c3360eb5bf"
   },
   "outputs": [
    {
     "name": "stdout",
     "output_type": "stream",
     "text": [
      "BEST HYPERPARAMETER WITH RANDOM SEARCH {'penalty': 'l2', 'C': 5}\n"
     ]
    }
   ],
   "source": [
    "print(\"BEST HYPERPARAMETER WITH RANDOM SEARCH\",BestHyperparameterR)"
   ]
  },
  {
   "cell_type": "markdown",
   "metadata": {
    "colab_type": "text",
    "id": "m1wAVtpQtK8i"
   },
   "source": [
    "# Logistic Regression with  L2 regularizer "
   ]
  },
  {
   "cell_type": "code",
   "execution_count": 34,
   "metadata": {
    "colab": {
     "base_uri": "https://localhost:8080/",
     "height": 252
    },
    "colab_type": "code",
    "id": "pmUIxV6qizDo",
    "outputId": "2aaebb48-2250-4b9e-84c2-003698f86537"
   },
   "outputs": [
    {
     "name": "stdout",
     "output_type": "stream",
     "text": [
      " accuracy with C = 5  is  92.34\n",
      "F1 score with C = 5  is  81.66\n",
      "Recall with C = 5  is  78.14\n",
      "Precision with C = 5  is  86.89\n",
      "\n",
      " Classification report  with C = 5  is \n",
      "               precision    recall  f1-score   support\n",
      "\n",
      "   negative       0.80      0.59      0.68      4103\n",
      "   positive       0.94      0.98      0.96     25897\n",
      "\n",
      "avg / total       0.92      0.92      0.92     30000\n",
      "\n",
      "no. of non zero elements = 31373\n"
     ]
    }
   ],
   "source": [
    "LogisticRwithL2(bow_X_train,Y_train,bow_X_test,Y_test,5)"
   ]
  },
  {
   "cell_type": "code",
   "execution_count": 0,
   "metadata": {
    "colab": {},
    "colab_type": "code",
    "id": "H3MIZgOJnN_Y"
   },
   "outputs": [],
   "source": []
  },
  {
   "cell_type": "markdown",
   "metadata": {
    "colab_type": "text",
    "id": "TrMohMyInOSp"
   },
   "source": [
    "\n",
    "# Confusion matrix for L2 regularization\n"
   ]
  },
  {
   "cell_type": "code",
   "execution_count": 39,
   "metadata": {
    "colab": {
     "base_uri": "https://localhost:8080/",
     "height": 310
    },
    "colab_type": "code",
    "id": "zPKdJObvmZOz",
    "outputId": "a916b752-6621-4b85-e33e-a3602ca4c22a"
   },
   "outputs": [
    {
     "data": {
      "text/plain": [
       "<matplotlib.axes._subplots.AxesSubplot at 0x7f93cd44d748>"
      ]
     },
     "execution_count": 39,
     "metadata": {
      "tags": []
     },
     "output_type": "execute_result"
    },
    {
     "data": {
      "image/png": "[encoded data removed]",
      "text/plain": [
       "<matplotlib.figure.Figure at 0x7f940fcf70b8>"
      ]
     },
     "metadata": {
      "tags": []
     },
     "output_type": "display_data"
    }
   ],
   "source": [
    "import scikitplot.metrics as skplt\n",
    "from sklearn.metrics import classification_report,confusion_matrix,accuracy_score\n",
    "lr = LogisticRegression(C=5,penalty='l2')\n",
    "lr.fit(bow_X_train,Y_train)\n",
    "pred = lr.predict(bow_X_test)\n",
    "skplt.plot_confusion_matrix(Y_test , pred)"
   ]
  },
  {
   "cell_type": "markdown",
   "metadata": {
    "colab_type": "text",
    "id": "No1sfi5quiEJ"
   },
   "source": [
    "# L1 REGULARIZER"
   ]
  },
  {
   "cell_type": "code",
   "execution_count": 41,
   "metadata": {
    "colab": {
     "base_uri": "https://localhost:8080/",
     "height": 252
    },
    "colab_type": "code",
    "id": "YYf0SxzLnmYf",
    "outputId": "09aa1d06-1c9e-4cff-a5d8-a288bf603179"
   },
   "outputs": [
    {
     "name": "stdout",
     "output_type": "stream",
     "text": [
      " accuracy with C = 5  is  92.36\n",
      "F1 score with C = 5  is  82.22\n",
      "Recall with C = 5  is  79.42\n",
      "Precision with C = 5  is  86.0\n",
      "\n",
      " Classification report  with C = 5  is \n",
      "               precision    recall  f1-score   support\n",
      "\n",
      "   negative       0.78      0.62      0.69      4103\n",
      "   positive       0.94      0.97      0.96     25897\n",
      "\n",
      "avg / total       0.92      0.92      0.92     30000\n",
      "\n",
      "no. of non zero elements = 3235\n"
     ]
    }
   ],
   "source": [
    "LogisticRwithL1(bow_X_train,Y_train,bow_X_test,Y_test,5)"
   ]
  },
  {
   "cell_type": "markdown",
   "metadata": {
    "colab_type": "text",
    "id": "osdCmkyNnbBH"
   },
   "source": [
    "# Confusion matrix for L1 regularization\n"
   ]
  },
  {
   "cell_type": "code",
   "execution_count": 40,
   "metadata": {
    "colab": {
     "base_uri": "https://localhost:8080/",
     "height": 310
    },
    "colab_type": "code",
    "id": "gJlfhlM0nJpO",
    "outputId": "99d75946-93a2-45a6-f86a-8d58e4d8f9e5"
   },
   "outputs": [
    {
     "data": {
      "text/plain": [
       "<matplotlib.axes._subplots.AxesSubplot at 0x7f93cd379668>"
      ]
     },
     "execution_count": 40,
     "metadata": {
      "tags": []
     },
     "output_type": "execute_result"
    },
    {
     "data": {
      "image/png": "[encoded data removed]",
      "text/plain": [
       "<matplotlib.figure.Figure at 0x7f93cd4c6d30>"
      ]
     },
     "metadata": {
      "tags": []
     },
     "output_type": "display_data"
    }
   ],
   "source": [
    "from sklearn.metrics import classification_report,confusion_matrix,accuracy_score\n",
    "lr = LogisticRegression(C=5,penalty='l1')\n",
    "lr.fit(bow_X_train,Y_train)\n",
    "pred = lr.predict(bow_X_test)\n",
    "skplt.plot_confusion_matrix(Y_test , pred)"
   ]
  },
  {
   "cell_type": "markdown",
   "metadata": {
    "colab_type": "text",
    "id": "RMdAiDJnmRWk"
   },
   "source": [
    "# sparcity check with respect to c"
   ]
  },
  {
   "cell_type": "code",
   "execution_count": 63,
   "metadata": {
    "colab": {
     "base_uri": "https://localhost:8080/",
     "height": 252
    },
    "colab_type": "code",
    "id": "NnDEPoT62vDR",
    "outputId": "05facdd0-2838-4927-dff4-60acf904c097"
   },
   "outputs": [
    {
     "name": "stdout",
     "output_type": "stream",
     "text": [
      " accuracy with C = 5  is  92.49\n",
      "F1 score with C = 5  is  79.61\n",
      "Recall with C = 5  is  76.18\n",
      "Precision with C = 5  is  84.66\n",
      "\n",
      " Classification report  with C = 5  is \n",
      "               precision    recall  f1-score   support\n",
      "\n",
      "   negative       0.75      0.55      0.63      1781\n",
      "   positive       0.94      0.98      0.96     13219\n",
      "\n",
      "avg / total       0.92      0.92      0.92     15000\n",
      "\n",
      "no. of non zero elements = 2118\n"
     ]
    }
   ],
   "source": [
    "LogisticRwithL1(bow_X_train,Y_train,bow_X_test,Y_test,5)"
   ]
  },
  {
   "cell_type": "code",
   "execution_count": 64,
   "metadata": {
    "colab": {
     "base_uri": "https://localhost:8080/",
     "height": 252
    },
    "colab_type": "code",
    "id": "fzy9C7KA211R",
    "outputId": "47df565f-8147-478a-cd9b-f3763249e8e5"
   },
   "outputs": [
    {
     "name": "stdout",
     "output_type": "stream",
     "text": [
      " accuracy with C = 3  is  92.71\n",
      "F1 score with C = 3  is  79.7\n",
      "Recall with C = 3  is  75.68\n",
      "Precision with C = 3  is  86.15\n",
      "\n",
      " Classification report  with C = 3  is \n",
      "               precision    recall  f1-score   support\n",
      "\n",
      "   negative       0.78      0.53      0.63      1781\n",
      "   positive       0.94      0.98      0.96     13219\n",
      "\n",
      "avg / total       0.92      0.93      0.92     15000\n",
      "\n",
      "no. of non zero elements = 1472\n"
     ]
    }
   ],
   "source": [
    "LogisticRwithL1(bow_X_train,Y_train,bow_X_test,Y_test,3)"
   ]
  },
  {
   "cell_type": "code",
   "execution_count": 65,
   "metadata": {
    "colab": {
     "base_uri": "https://localhost:8080/",
     "height": 252
    },
    "colab_type": "code",
    "id": "WPkbqKbf25tD",
    "outputId": "f96efe62-878f-4e47-aac6-db8ad7c45955"
   },
   "outputs": [
    {
     "name": "stdout",
     "output_type": "stream",
     "text": [
      " accuracy with C = 1  is  92.15\n",
      "F1 score with C = 1  is  76.74\n",
      "Recall with C = 1  is  71.86\n",
      "Precision with C = 1  is  86.5\n",
      "\n",
      " Classification report  with C = 1  is \n",
      "               precision    recall  f1-score   support\n",
      "\n",
      "   negative       0.80      0.45      0.58      1781\n",
      "   positive       0.93      0.98      0.96     13219\n",
      "\n",
      "avg / total       0.91      0.92      0.91     15000\n",
      "\n",
      "no. of non zero elements = 625\n"
     ]
    }
   ],
   "source": [
    "LogisticRwithL1(bow_X_train,Y_train,bow_X_test,Y_test,1)"
   ]
  },
  {
   "cell_type": "code",
   "execution_count": 0,
   "metadata": {
    "colab": {},
    "colab_type": "code",
    "id": "V-ttGMqTzLD2"
   },
   "outputs": [],
   "source": [
    "!pip install scikit-plot"
   ]
  },
  {
   "cell_type": "markdown",
   "metadata": {
    "colab_type": "text",
    "id": "9rAvDIBCn037"
   },
   "source": [
    "**AS YOU CAN SEE THAT WITH decrease IN  'C ' the sparcity increases that is no. of non-zero weight vectors decreases '**"
   ]
  },
  {
   "cell_type": "code",
   "execution_count": 0,
   "metadata": {
    "colab": {},
    "colab_type": "code",
    "id": "m7sWLSueoHK6"
   },
   "outputs": [],
   "source": []
  },
  {
   "cell_type": "markdown",
   "metadata": {
    "colab_type": "text",
    "id": "by9HTTJeUvnX"
   },
   "source": [
    "# PERTUBATION TEST on Unigram"
   ]
  },
  {
   "cell_type": "code",
   "execution_count": 110,
   "metadata": {
    "colab": {
     "base_uri": "https://localhost:8080/",
     "height": 34
    },
    "colab_type": "code",
    "id": "RVbXV4YDUubZ",
    "outputId": "699a6338-b5af-4ee2-dc2c-4d850fc47b66"
   },
   "outputs": [
    {
     "name": "stdout",
     "output_type": "stream",
     "text": [
      "[0.00143909 0.08824252 0.16705688 ... 0.12037403 0.00196327 0.01837989]\n"
     ]
    }
   ],
   "source": [
    "from sklearn.linear_model import LogisticRegression\n",
    "lr =  LogisticRegression(C=20,penalty='l2')\n",
    "lr.fit(bow_X_train,Y_train)\n",
    "\n",
    "\n",
    "print(lr.coef_[0])"
   ]
  },
  {
   "cell_type": "code",
   "execution_count": 111,
   "metadata": {
    "colab": {
     "base_uri": "https://localhost:8080/",
     "height": 252
    },
    "colab_type": "code",
    "id": "BCZUL9a8U6Ed",
    "outputId": "96538221-2b17-4261-ae42-b65ce27c9e3d"
   },
   "outputs": [
    {
     "name": "stdout",
     "output_type": "stream",
     "text": [
      "[ 1.43909353e-03  8.82425182e-02  1.67056878e-01  1.42181368e-03\n",
      "  7.93687318e-03  1.37589299e-01 -7.86192362e-01  8.79456880e-04\n",
      "  2.04082402e-03 -2.48066296e-01  5.40205472e-01  4.51962222e-01\n",
      "  3.22147298e-02  1.48241759e-02  1.14899889e+00  4.86195978e-03\n",
      "  1.76709022e+00 -1.86712404e+00  2.17497418e-02  1.00648211e-01\n",
      "  7.57382107e-02  6.42400099e-02  4.20685186e-01  6.40698425e-02\n",
      " -4.98103277e-01  9.67400445e-02  7.33078726e-03 -8.00948187e-02\n",
      "  1.55037059e+00  2.45315028e-02  1.33082458e-02  4.83233961e-03\n",
      "  7.81995558e-02  2.08179453e-01 -3.38873552e-02  4.73003071e-04\n",
      "  8.48514723e-01  2.99383169e-02  3.58341721e+00 -2.21040081e+00\n",
      "  6.00613468e-04  5.01573148e-02  1.39973658e+00  1.07491484e+00\n",
      " -9.77751646e-01  7.39365295e-02  1.80685975e-01  2.30281418e-03\n",
      "  1.94078430e-01  5.08287018e-02]\n",
      "No. of non zero elements 31373\n"
     ]
    }
   ],
   "source": [
    "weights= lr.coef_[0]\n",
    "weights = weights[0:50]\n",
    "print(weights)\n",
    "print(\"No. of non zero elements\",np.count_nonzero(lr.coef_[0]))"
   ]
  },
  {
   "cell_type": "code",
   "execution_count": 0,
   "metadata": {
    "colab": {},
    "colab_type": "code",
    "id": "WJPAjHhBVFMH"
   },
   "outputs": [],
   "source": [
    "from scipy.sparse import find\n",
    "bow_X_trainE=bow_X_train\n",
    "epsilon = np.random.uniform(low=-0.0001,high=0.0001,size=(find(bow_X_trainE)[0].size,))\n",
    "a,b,c=find(bow_X_trainE)\n",
    "bow_X_trainE[a,b] = epsilon + bow_X_trainE[a,b]"
   ]
  },
  {
   "cell_type": "code",
   "execution_count": 113,
   "metadata": {
    "colab": {
     "base_uri": "https://localhost:8080/",
     "height": 84
    },
    "colab_type": "code",
    "id": "y2RLU5TYVFSE",
    "outputId": "bf281a4f-4b02-4efd-e18d-65ab43beefff"
   },
   "outputs": [
    {
     "data": {
      "text/plain": [
       "LogisticRegression(C=20, class_weight=None, dual=False, fit_intercept=True,\n",
       "          intercept_scaling=1, max_iter=100, multi_class='ovr', n_jobs=1,\n",
       "          penalty='l2', random_state=None, solver='liblinear', tol=0.0001,\n",
       "          verbose=0, warm_start=False)"
      ]
     },
     "execution_count": 113,
     "metadata": {
      "tags": []
     },
     "output_type": "execute_result"
    }
   ],
   "source": [
    "from sklearn.linear_model import LogisticRegression\n",
    "lr1 =  LogisticRegression(C=20,penalty='l2')\n",
    "lr1.fit(bow_X_trainE,Y_train)"
   ]
  },
  {
   "cell_type": "code",
   "execution_count": 0,
   "metadata": {
    "colab": {},
    "colab_type": "code",
    "id": "dD6stYnuVFWs"
   },
   "outputs": [],
   "source": [
    "weights2=lr1.coef_[0]\n",
    "weights2=weights2[:50]"
   ]
  },
  {
   "cell_type": "code",
   "execution_count": 115,
   "metadata": {
    "colab": {
     "base_uri": "https://localhost:8080/",
     "height": 235
    },
    "colab_type": "code",
    "id": "J9MsqXUhyIn-",
    "outputId": "d197b3c5-e6e4-4596-dcbc-7eff9d86d5f6"
   },
   "outputs": [
    {
     "data": {
      "text/plain": [
       "array([ 1.43449031e-03,  8.83314745e-02,  1.66718987e-01,  1.41689769e-03,\n",
       "        7.95406965e-03,  1.37165579e-01, -7.85154850e-01,  8.77469825e-04,\n",
       "        2.03747039e-03, -2.47859048e-01,  5.40100831e-01,  4.51081429e-01,\n",
       "        3.20885665e-02,  1.48355209e-02,  1.14759092e+00,  4.85574425e-03,\n",
       "        1.76530152e+00, -1.86421952e+00,  2.17395354e-02,  1.00685198e-01,\n",
       "        7.56721362e-02,  6.41340145e-02,  4.20495277e-01,  6.40150524e-02,\n",
       "       -4.96566766e-01,  9.65406169e-02,  7.32628999e-03, -8.02103179e-02,\n",
       "        1.54705350e+00,  2.45246947e-02,  1.32938976e-02,  4.81801346e-03,\n",
       "        7.81940460e-02,  2.08168385e-01, -3.38016959e-02,  4.74997404e-04,\n",
       "        8.48005601e-01,  2.99937644e-02,  3.58088653e+00, -2.20818994e+00,\n",
       "        5.98943575e-04,  5.00609517e-02,  1.39733590e+00,  1.07162488e+00,\n",
       "       -9.76836300e-01,  7.37373214e-02,  1.81030434e-01,  2.30083293e-03,\n",
       "        1.93866258e-01,  5.08421596e-02])"
      ]
     },
     "execution_count": 115,
     "metadata": {
      "tags": []
     },
     "output_type": "execute_result"
    }
   ],
   "source": [
    "weights2"
   ]
  },
  {
   "cell_type": "code",
   "execution_count": 0,
   "metadata": {
    "colab": {},
    "colab_type": "code",
    "id": "VGYOLrxvVS29"
   },
   "outputs": [],
   "source": [
    "difference = (abs(weights - weights2)/weights)*100"
   ]
  },
  {
   "cell_type": "code",
   "execution_count": 118,
   "metadata": {
    "colab": {
     "base_uri": "https://localhost:8080/",
     "height": 34
    },
    "colab_type": "code",
    "id": "Ao5mK0HIVZ4G",
    "outputId": "2ba421e6-0bdf-49d2-b9d3-daec8a0f6036"
   },
   "outputs": [
    {
     "name": "stdout",
     "output_type": "stream",
     "text": [
      "0\n"
     ]
    }
   ],
   "source": [
    "print(difference[np.where(difference > 30)].size)"
   ]
  },
  {
   "cell_type": "markdown",
   "metadata": {
    "colab_type": "text",
    "id": "XxcyiaKuX_bi"
   },
   "source": [
    "# Multicollinearity do not exist as there are no features which changes by 30% after perbutation test"
   ]
  },
  {
   "cell_type": "code",
   "execution_count": 0,
   "metadata": {
    "colab": {},
    "colab_type": "code",
    "id": "kWbXYbZjVawn"
   },
   "outputs": [],
   "source": [
    "def show_most_informative_features(vectorizer, clf, n=20):\n",
    "    feature_names = vectorizer.get_feature_names()\n",
    "    coefs_with_fns = sorted(zip(clf.coef_[0], feature_names))\n",
    "    top = zip(coefs_with_fns[:n], coefs_with_fns[:-(n + 1):-1])\n",
    "    for (coef_1, fn_1), (coef_2, fn_2) in top:\n",
    "        print (\"\\t%.4f\\t%-15s\\t\\t%.4f\\t%-15s\" % (coef_1, fn_1, coef_2, fn_2))"
   ]
  },
  {
   "cell_type": "code",
   "execution_count": 74,
   "metadata": {
    "colab": {
     "base_uri": "https://localhost:8080/",
     "height": 353
    },
    "colab_type": "code",
    "id": "0_IrE8S1VkYl",
    "outputId": "ab9eaa3e-a89c-41c9-e9e5-0f12feddfb84"
   },
   "outputs": [
    {
     "name": "stdout",
     "output_type": "stream",
     "text": [
      "\t-14.1087\tworst          \t\t9.2031\tperfect        \n",
      "\t-9.6417\tterribl        \t\t8.5036\tdelici         \n",
      "\t-9.0449\taw             \t\t8.2335\texcel          \n",
      "\t-8.6445\tbland          \t\t7.9230\tamaz           \n",
      "\t-8.4120\tdisappoint     \t\t7.5952\tbest           \n",
      "\t-8.0676\thorribl        \t\t7.4570\taddict         \n",
      "\t-8.0636\tthrew          \t\t6.9412\tgreat          \n",
      "\t-7.7762\ttasteless      \t\t6.7050\tawesom         \n",
      "\t-7.3008\tstale          \t\t6.6122\tuniqu          \n",
      "\t-7.2922\twors           \t\t6.5183\tyummi          \n",
      "\t-7.1808\tunfortun       \t\t6.4361\tfantast        \n",
      "\t-7.0251\tgross          \t\t6.1657\tsmooth         \n",
      "\t-6.9101\tunpleas        \t\t5.8967\tbeat           \n",
      "\t-6.8593\tdisgust        \t\t5.7302\thook           \n",
      "\t-6.7550\treturn         \t\t5.6699\tnice           \n",
      "\t-6.6985\tweak           \t\t5.6653\toften          \n",
      "\t-6.4713\tyuck           \t\t5.5333\trefresh        \n",
      "\t-6.3496\tsorri          \t\t5.4849\tskeptic        \n",
      "\t-6.1382\tlack           \t\t5.3707\twonder         \n",
      "\t-6.1141\tstuck          \t\t5.3327\tbeauti         \n"
     ]
    }
   ],
   "source": [
    "show_most_informative_features(count_vect, lr, n=20)"
   ]
  },
  {
   "cell_type": "markdown",
   "metadata": {
    "colab_type": "text",
    "id": "uw5pSTBgsKyb"
   },
   "source": [
    "# BI-gram"
   ]
  },
  {
   "cell_type": "code",
   "execution_count": 0,
   "metadata": {
    "colab": {},
    "colab_type": "code",
    "id": "1KVLzTlusNFE"
   },
   "outputs": [],
   "source": [
    "from sklearn.model_selection import train_test_split\n",
    "X_train,X_test,Y_train,Y_test=train_test_split(final_sample,final_score,test_size=0.3,shuffle=False)"
   ]
  },
  {
   "cell_type": "code",
   "execution_count": 0,
   "metadata": {
    "colab": {},
    "colab_type": "code",
    "id": "epFLd5x1sWoX"
   },
   "outputs": [],
   "source": [
    "from sklearn.feature_extraction.text import CountVectorizer\n",
    "\n",
    "count_vect = CountVectorizer(ngram_range=(1,2))\n",
    "Vocabulary = count_vect.fit_transform(X_train)\n",
    "\n"
   ]
  },
  {
   "cell_type": "code",
   "execution_count": 0,
   "metadata": {
    "colab": {},
    "colab_type": "code",
    "id": "YJmEfz3NsfOm"
   },
   "outputs": [],
   "source": [
    "bow2_X_train=count_vect.transform(X_train)\n",
    "bow2_X_test=count_vect.transform(X_test)"
   ]
  },
  {
   "cell_type": "code",
   "execution_count": 0,
   "metadata": {
    "colab": {},
    "colab_type": "code",
    "id": "WIy5Y9L1sgPX"
   },
   "outputs": [],
   "source": [
    "from sklearn import preprocessing \n",
    "bow2_X_train= preprocessing.normalize(bow2_X_train)\n",
    "bow2_X_test = preprocessing.normalize(bow2_X_test)\n"
   ]
  },
  {
   "cell_type": "code",
   "execution_count": 48,
   "metadata": {
    "colab": {
     "base_uri": "https://localhost:8080/",
     "height": 50
    },
    "colab_type": "code",
    "id": "AmUrmaA2skVM",
    "outputId": "458afbd8-3d75-44f2-a673-ce7fc3cb725e"
   },
   "outputs": [
    {
     "name": "stdout",
     "output_type": "stream",
     "text": [
      "Fitting 3 folds for each of 50 candidates, totalling 150 fits\n"
     ]
    },
    {
     "name": "stderr",
     "output_type": "stream",
     "text": [
      "[Parallel(n_jobs=1)]: Done 150 out of 150 | elapsed: 22.7min finished\n"
     ]
    }
   ],
   "source": [
    "BestHyperparameter = bestLambda(bow2_X_train,Y_train,bow2_X_test,Y_test)"
   ]
  },
  {
   "cell_type": "code",
   "execution_count": 49,
   "metadata": {
    "colab": {
     "base_uri": "https://localhost:8080/",
     "height": 34
    },
    "colab_type": "code",
    "id": "Jstuo-eEssLJ",
    "outputId": "0df910c7-cded-43c9-f9ee-713af876d083"
   },
   "outputs": [
    {
     "name": "stdout",
     "output_type": "stream",
     "text": [
      "{'C': 27, 'penalty': 'l2'}\n"
     ]
    }
   ],
   "source": [
    "print(BestHyperparameter)"
   ]
  },
  {
   "cell_type": "code",
   "execution_count": 50,
   "metadata": {
    "colab": {
     "base_uri": "https://localhost:8080/",
     "height": 50
    },
    "colab_type": "code",
    "id": "qIBdVJetso76",
    "outputId": "f2476d8c-93e8-4e84-ccec-e1f79cb9c5da"
   },
   "outputs": [
    {
     "name": "stdout",
     "output_type": "stream",
     "text": [
      "Fitting 3 folds for each of 10 candidates, totalling 30 fits\n"
     ]
    },
    {
     "name": "stderr",
     "output_type": "stream",
     "text": [
      "[Parallel(n_jobs=1)]: Done  30 out of  30 | elapsed:  5.0min finished\n"
     ]
    }
   ],
   "source": [
    "BestHyperparameterR = bestLambdaR(bow2_X_train,Y_train,bow2_X_test,Y_test)"
   ]
  },
  {
   "cell_type": "code",
   "execution_count": 51,
   "metadata": {
    "colab": {
     "base_uri": "https://localhost:8080/",
     "height": 34
    },
    "colab_type": "code",
    "id": "oi6JiiSvsydK",
    "outputId": "7560a976-0571-420e-f147-141778de5189"
   },
   "outputs": [
    {
     "name": "stdout",
     "output_type": "stream",
     "text": [
      "{'penalty': 'l2', 'C': 27}\n"
     ]
    }
   ],
   "source": [
    "print(BestHyperparameterR)"
   ]
  },
  {
   "cell_type": "markdown",
   "metadata": {
    "colab_type": "text",
    "id": "eXBAExI6tZv0"
   },
   "source": [
    "# Logistic Regression with L2 regularizer"
   ]
  },
  {
   "cell_type": "code",
   "execution_count": 52,
   "metadata": {
    "colab": {
     "base_uri": "https://localhost:8080/",
     "height": 252
    },
    "colab_type": "code",
    "id": "QDpCd9tMtgNZ",
    "outputId": "ac97e5b7-3613-401a-cc3e-8cae76c61299"
   },
   "outputs": [
    {
     "name": "stdout",
     "output_type": "stream",
     "text": [
      " accuracy with C = 27  is  93.08\n",
      "F1 score with C = 27  is  83.74\n",
      "Recall with C = 27  is  80.49\n",
      "Precision with C = 27  is  88.26\n",
      "\n",
      " Classification report  with C = 27  is \n",
      "               precision    recall  f1-score   support\n",
      "\n",
      "   negative       0.82      0.63      0.71      4103\n",
      "   positive       0.94      0.98      0.96     25897\n",
      "\n",
      "avg / total       0.93      0.93      0.93     30000\n",
      "\n",
      "no. of non zero elements = 918966\n"
     ]
    }
   ],
   "source": [
    "LogisticRwithL2(bow2_X_train,Y_train,bow2_X_test,Y_test,27)"
   ]
  },
  {
   "cell_type": "markdown",
   "metadata": {
    "colab_type": "text",
    "id": "0TGdWm5xwBZ0"
   },
   "source": [
    "# Confusion matrix for L2 regularizer"
   ]
  },
  {
   "cell_type": "code",
   "execution_count": 53,
   "metadata": {
    "colab": {
     "base_uri": "https://localhost:8080/",
     "height": 310
    },
    "colab_type": "code",
    "id": "68o8F4brwHui",
    "outputId": "a713c4f3-319c-4908-e676-59cc4e8dd7e0"
   },
   "outputs": [
    {
     "data": {
      "text/plain": [
       "<matplotlib.axes._subplots.AxesSubplot at 0x7f93c566ca20>"
      ]
     },
     "execution_count": 53,
     "metadata": {
      "tags": []
     },
     "output_type": "execute_result"
    },
    {
     "data": {
      "image/png": "[encoded data removed]",
      "text/plain": [
       "<matplotlib.figure.Figure at 0x7f93d8223160>"
      ]
     },
     "metadata": {
      "tags": []
     },
     "output_type": "display_data"
    }
   ],
   "source": [
    "import scikitplot.metrics as skplt\n",
    "from sklearn.metrics import classification_report,confusion_matrix,accuracy_score\n",
    "lr = LogisticRegression(C=27,penalty='l2')\n",
    "lr.fit(bow_X_train,Y_train)\n",
    "pred = lr.predict(bow_X_test)\n",
    "skplt.plot_confusion_matrix(Y_test , pred)"
   ]
  },
  {
   "cell_type": "markdown",
   "metadata": {
    "colab_type": "text",
    "id": "NVy02y0JwbiT"
   },
   "source": [
    "# Logistic Regression with L1 regularizer"
   ]
  },
  {
   "cell_type": "code",
   "execution_count": 54,
   "metadata": {
    "colab": {
     "base_uri": "https://localhost:8080/",
     "height": 252
    },
    "colab_type": "code",
    "id": "YDdEd_cEwYI2",
    "outputId": "6385006e-6872-4593-a3d1-4a81d70a0544"
   },
   "outputs": [
    {
     "name": "stdout",
     "output_type": "stream",
     "text": [
      " accuracy with C = 27  is  92.38\n",
      "F1 score with C = 27  is  83.03\n",
      "Recall with C = 27  is  81.44\n",
      "Precision with C = 27  is  84.9\n",
      "\n",
      " Classification report  with C = 27  is \n",
      "               precision    recall  f1-score   support\n",
      "\n",
      "   negative       0.75      0.66      0.70      4103\n",
      "   positive       0.95      0.96      0.96     25897\n",
      "\n",
      "avg / total       0.92      0.92      0.92     30000\n",
      "\n",
      "no. of non zero elements = 10653\n"
     ]
    }
   ],
   "source": [
    "LogisticRwithL1(bow2_X_train,Y_train,bow2_X_test,Y_test,27)"
   ]
  },
  {
   "cell_type": "markdown",
   "metadata": {
    "colab_type": "text",
    "id": "VYHmpjewwgrw"
   },
   "source": [
    "# * Confusion matrix for L1 regularizer*"
   ]
  },
  {
   "cell_type": "code",
   "execution_count": 55,
   "metadata": {
    "colab": {
     "base_uri": "https://localhost:8080/",
     "height": 310
    },
    "colab_type": "code",
    "id": "HAHiZQd6woaT",
    "outputId": "a75f1eb9-6aca-4245-9758-7698869adcb8"
   },
   "outputs": [
    {
     "data": {
      "text/plain": [
       "<matplotlib.axes._subplots.AxesSubplot at 0x7f93c566c048>"
      ]
     },
     "execution_count": 55,
     "metadata": {
      "tags": []
     },
     "output_type": "execute_result"
    },
    {
     "data": {
      "image/png": "[encoded data removed]",
      "text/plain": [
       "<matplotlib.figure.Figure at 0x7f93c495ae80>"
      ]
     },
     "metadata": {
      "tags": []
     },
     "output_type": "display_data"
    }
   ],
   "source": [
    "import scikitplot.metrics as skplt\n",
    "\n",
    "from sklearn.metrics import classification_report,confusion_matrix,accuracy_score\n",
    "lr = LogisticRegression(C=27,penalty='l1')\n",
    "lr.fit(bow_X_train,Y_train)\n",
    "pred = lr.predict(bow_X_test)\n",
    "skplt.plot_confusion_matrix(Y_test , pred)"
   ]
  },
  {
   "cell_type": "markdown",
   "metadata": {
    "colab_type": "text",
    "id": "BfF95CBhxq0E"
   },
   "source": [
    "# SPARCITY CHECK WITH DECREASE IN C"
   ]
  },
  {
   "cell_type": "code",
   "execution_count": 56,
   "metadata": {
    "colab": {
     "base_uri": "https://localhost:8080/",
     "height": 252
    },
    "colab_type": "code",
    "id": "yDTscz3TxzcG",
    "outputId": "1588d430-81d1-400f-ae50-9a03c934f259"
   },
   "outputs": [
    {
     "name": "stdout",
     "output_type": "stream",
     "text": [
      " accuracy with C = 27  is  92.37\n",
      "F1 score with C = 27  is  83.02\n",
      "Recall with C = 27  is  81.42\n",
      "Precision with C = 27  is  84.89\n",
      "\n",
      " Classification report  with C = 27  is \n",
      "               precision    recall  f1-score   support\n",
      "\n",
      "   negative       0.75      0.66      0.70      4103\n",
      "   positive       0.95      0.96      0.96     25897\n",
      "\n",
      "avg / total       0.92      0.92      0.92     30000\n",
      "\n",
      "no. of non zero elements = 10657\n"
     ]
    }
   ],
   "source": [
    "LogisticRwithL1(bow2_X_train,Y_train,bow2_X_test,Y_test,27)"
   ]
  },
  {
   "cell_type": "code",
   "execution_count": 57,
   "metadata": {
    "colab": {
     "base_uri": "https://localhost:8080/",
     "height": 252
    },
    "colab_type": "code",
    "id": "DDAVnKb4yAgF",
    "outputId": "20e415f2-5252-446b-d07e-7b9611f50ba5"
   },
   "outputs": [
    {
     "name": "stdout",
     "output_type": "stream",
     "text": [
      " accuracy with C = 23  is  92.4\n",
      "F1 score with C = 23  is  83.07\n",
      "Recall with C = 23  is  81.46\n",
      "Precision with C = 23  is  84.97\n",
      "\n",
      " Classification report  with C = 23  is \n",
      "               precision    recall  f1-score   support\n",
      "\n",
      "   negative       0.75      0.66      0.71      4103\n",
      "   positive       0.95      0.97      0.96     25897\n",
      "\n",
      "avg / total       0.92      0.92      0.92     30000\n",
      "\n",
      "no. of non zero elements = 10373\n"
     ]
    }
   ],
   "source": [
    "LogisticRwithL1(bow2_X_train,Y_train,bow2_X_test,Y_test,23)"
   ]
  },
  {
   "cell_type": "code",
   "execution_count": 58,
   "metadata": {
    "colab": {
     "base_uri": "https://localhost:8080/",
     "height": 252
    },
    "colab_type": "code",
    "id": "uBjNhqHLyAt_",
    "outputId": "47ecc872-be87-4d76-b5b6-7ceb90854ee2"
   },
   "outputs": [
    {
     "name": "stdout",
     "output_type": "stream",
     "text": [
      " accuracy with C = 20  is  92.44\n",
      "F1 score with C = 20  is  83.13\n",
      "Recall with C = 20  is  81.47\n",
      "Precision with C = 20  is  85.08\n",
      "\n",
      " Classification report  with C = 20  is \n",
      "               precision    recall  f1-score   support\n",
      "\n",
      "   negative       0.75      0.66      0.71      4103\n",
      "   positive       0.95      0.97      0.96     25897\n",
      "\n",
      "avg / total       0.92      0.92      0.92     30000\n",
      "\n",
      "no. of non zero elements = 10075\n"
     ]
    }
   ],
   "source": [
    "LogisticRwithL1(bow2_X_train,Y_train,bow2_X_test,Y_test,20)"
   ]
  },
  {
   "cell_type": "code",
   "execution_count": 59,
   "metadata": {
    "colab": {
     "base_uri": "https://localhost:8080/",
     "height": 252
    },
    "colab_type": "code",
    "id": "CANFO81_yA5x",
    "outputId": "6174a4d7-c1cc-460b-9ff1-628b3716701f"
   },
   "outputs": [
    {
     "name": "stdout",
     "output_type": "stream",
     "text": [
      " accuracy with C = 15  is  92.51\n",
      "F1 score with C = 15  is  83.24\n",
      "Recall with C = 15  is  81.48\n",
      "Precision with C = 15  is  85.34\n",
      "\n",
      " Classification report  with C = 15  is \n",
      "               precision    recall  f1-score   support\n",
      "\n",
      "   negative       0.76      0.66      0.71      4103\n",
      "   positive       0.95      0.97      0.96     25897\n",
      "\n",
      "avg / total       0.92      0.93      0.92     30000\n",
      "\n",
      "no. of non zero elements = 9363\n"
     ]
    }
   ],
   "source": [
    "LogisticRwithL1(bow2_X_train,Y_train,bow2_X_test,Y_test,15)"
   ]
  },
  {
   "cell_type": "markdown",
   "metadata": {
    "colab_type": "text",
    "id": "_nOH1Sdildep"
   },
   "source": [
    "## WE CAN SEE THAT SPARCITY INCREASE WITH DECREASE IN C"
   ]
  },
  {
   "cell_type": "markdown",
   "metadata": {
    "colab_type": "text",
    "id": "UBRC4l4BYgYk"
   },
   "source": [
    "# Perbutation test"
   ]
  },
  {
   "cell_type": "code",
   "execution_count": 118,
   "metadata": {
    "colab": {
     "base_uri": "https://localhost:8080/",
     "height": 34
    },
    "colab_type": "code",
    "id": "5i21V8K2Yk4u",
    "outputId": "ed9c17e1-f2f9-4b68-8eb7-799f22d851ec"
   },
   "outputs": [
    {
     "name": "stdout",
     "output_type": "stream",
     "text": [
      "[0.00183091 0.00183091 0.03608785 ... 0.00170762 0.00170762 0.01202043]\n"
     ]
    }
   ],
   "source": [
    "from sklearn.linear_model import LogisticRegression\n",
    "lr =  LogisticRegression(C=27,penalty='l2')\n",
    "lr.fit(bow2_X_train,Y_train)\n",
    "\n",
    "\n",
    "print(lr.coef_[0])"
   ]
  },
  {
   "cell_type": "code",
   "execution_count": 119,
   "metadata": {
    "colab": {
     "base_uri": "https://localhost:8080/",
     "height": 252
    },
    "colab_type": "code",
    "id": "5Dca5weBZJFP",
    "outputId": "86dfa6a8-32c7-4fc5-bba9-a5385c08d65f"
   },
   "outputs": [
    {
     "name": "stdout",
     "output_type": "stream",
     "text": [
      "[ 1.83090960e-03  1.83090960e-03  3.60878489e-02  3.22363365e-02\n",
      "  1.18948941e-02  2.03414424e-02  5.24986946e-03  5.24986946e-03\n",
      "  3.53918743e-03  3.53918743e-03  4.35763379e-02  1.05480501e-02\n",
      "  4.21456720e-04  3.26068311e-02 -2.97079247e-01 -2.97079247e-01\n",
      "  4.48427393e-04  4.48427393e-04  2.58184407e-03 -1.49875329e-01\n",
      " -1.53613327e-01  2.04049831e-03  1.69749973e-03  1.54930614e-01\n",
      "  1.54930614e-01  2.42271792e-01  2.42271792e-01  1.98872815e-03\n",
      "  1.98872815e-03  5.30925472e-03  5.30925472e-03  4.28800116e-01\n",
      "  4.28800116e-01  1.03818215e-03  9.58019975e-04  7.68256935e-01\n",
      "  9.20945015e-04  3.75375237e-03  1.90558743e-01 -4.17239750e-01\n",
      "  5.73472528e-03  4.71554208e-02  8.53821224e-01  8.35518734e-02\n",
      " -6.42244473e-01  4.98207689e-02  2.49467352e-02  4.04769647e-03\n",
      "  8.83734542e-04  1.01336915e-02]\n",
      "No. of non zero elements 918966\n"
     ]
    }
   ],
   "source": [
    "weights= lr.coef_[0]\n",
    "weights = weights[0:50]\n",
    "print(weights)\n",
    "print(\"No. of non zero elements\",np.count_nonzero(lr.coef_[0]))"
   ]
  },
  {
   "cell_type": "code",
   "execution_count": 0,
   "metadata": {
    "colab": {},
    "colab_type": "code",
    "id": "9t8XeIe-ZJLb"
   },
   "outputs": [],
   "source": [
    "from scipy.sparse import find\n",
    "bow2_X_trainE=bow2_X_train\n",
    "epsilon = np.random.uniform(low=0.0,high=0.01,size=(find(bow_X_trainE)[0].size))\n",
    "a,b,c=find(bow_X_trainE)\n",
    "bow2_X_trainE[a,b] = epsilon + bow2_X_trainE[a,b]"
   ]
  },
  {
   "cell_type": "code",
   "execution_count": 121,
   "metadata": {
    "colab": {
     "base_uri": "https://localhost:8080/",
     "height": 84
    },
    "colab_type": "code",
    "id": "rBwlhlBOZJWV",
    "outputId": "20886ca0-6eae-41da-b0cd-c050f10f118c"
   },
   "outputs": [
    {
     "data": {
      "text/plain": [
       "LogisticRegression(C=27, class_weight=None, dual=False, fit_intercept=True,\n",
       "          intercept_scaling=1, max_iter=100, multi_class='ovr', n_jobs=1,\n",
       "          penalty='l2', random_state=None, solver='liblinear', tol=0.0001,\n",
       "          verbose=0, warm_start=False)"
      ]
     },
     "execution_count": 121,
     "metadata": {
      "tags": []
     },
     "output_type": "execute_result"
    }
   ],
   "source": [
    "from sklearn.linear_model import LogisticRegression\n",
    "lr1 =  LogisticRegression(C=27,penalty='l2')\n",
    "lr1.fit(bow2_X_trainE,Y_train)"
   ]
  },
  {
   "cell_type": "code",
   "execution_count": 0,
   "metadata": {
    "colab": {},
    "colab_type": "code",
    "id": "CRf-_Ro9ZJI5"
   },
   "outputs": [],
   "source": [
    "weights2=lr1.coef_[0]\n",
    "weights2=weights2[:50]"
   ]
  },
  {
   "cell_type": "code",
   "execution_count": 0,
   "metadata": {
    "colab": {},
    "colab_type": "code",
    "id": "mTki61VnZrfn"
   },
   "outputs": [],
   "source": [
    "difference = (abs(weights - weights2)/weights)*100"
   ]
  },
  {
   "cell_type": "code",
   "execution_count": 124,
   "metadata": {
    "colab": {
     "base_uri": "https://localhost:8080/",
     "height": 34
    },
    "colab_type": "code",
    "id": "XnQy7b4jZrj7",
    "outputId": "8c351fb7-bd72-49ff-a50f-dc5aa583d6de"
   },
   "outputs": [
    {
     "name": "stdout",
     "output_type": "stream",
     "text": [
      "2265\n"
     ]
    }
   ],
   "source": [
    "print(difference[np.where(difference >30)].size)"
   ]
  },
  {
   "cell_type": "code",
   "execution_count": 0,
   "metadata": {
    "colab": {},
    "colab_type": "code",
    "id": "U86bsh2VasUn"
   },
   "outputs": [],
   "source": []
  },
  {
   "cell_type": "markdown",
   "metadata": {
    "colab_type": "text",
    "id": "7pkvbMzcasyd"
   },
   "source": [
    "# MULTICOLLINEARITY EXIST AS THERE ARE 2265 features which are changing by more than 30%"
   ]
  },
  {
   "cell_type": "markdown",
   "metadata": {
    "colab_type": "text",
    "id": "ALWt6XqSbD5Q"
   },
   "source": [
    "# IMPORTANT FEATURES IN BIGRAM"
   ]
  },
  {
   "cell_type": "code",
   "execution_count": 111,
   "metadata": {
    "colab": {
     "base_uri": "https://localhost:8080/",
     "height": 353
    },
    "colab_type": "code",
    "id": "_eUALNvibJzh",
    "outputId": "a0a83427-2654-44a2-c6ef-cba481c0ab1c"
   },
   "outputs": [
    {
     "name": "stdout",
     "output_type": "stream",
     "text": [
      "\t-21.0157\tworst          \t\t14.2549\thigh recommend \n",
      "\t-15.0177\tterribl        \t\t13.1209\tperfect        \n",
      "\t-14.4289\tdisappoint     \t\t12.3832\tdelici         \n",
      "\t-13.4257\tbland          \t\t11.8469\texcel          \n",
      "\t-13.2752\taw             \t\t11.6151\tamaz           \n",
      "\t-12.7544\tthrew          \t\t10.8764\tbest           \n",
      "\t-12.2399\thorribl        \t\t10.6961\taddict         \n",
      "\t-12.2268\ttwo star       \t\t10.0024\tfantast        \n",
      "\t-11.4454\twont buy       \t\t9.9921\twont disappoint\n",
      "\t-11.3727\ttasteless      \t\t9.9474\tyummi          \n",
      "\t-11.2003\tunfortun       \t\t9.5136\tawesom         \n",
      "\t-11.0541\tstale          \t\t9.3808\tgreat          \n",
      "\t-10.8979\twors           \t\t8.9843\tuniqu          \n",
      "\t-10.7411\tweak           \t\t8.9582\toften          \n",
      "\t-10.5170\tdisgust        \t\t8.7430\tsmooth         \n",
      "\t-10.3372\tgross          \t\t8.5913\thook           \n",
      "\t-10.2419\tway sweet      \t\t8.2775\tnice           \n",
      "\t-10.2389\treturn         \t\t8.0306\tmoist          \n",
      "\t-10.0163\tsorri          \t\t8.0236\twonder         \n",
      "\t-9.8548\tunpleas        \t\t7.9777\tbeat           \n"
     ]
    }
   ],
   "source": [
    "show_most_informative_features(count_vect, lr, n=20)"
   ]
  },
  {
   "cell_type": "markdown",
   "metadata": {
    "colab_type": "text",
    "id": "mR_-xa8Oul22"
   },
   "source": [
    "# TF_IDF"
   ]
  },
  {
   "cell_type": "code",
   "execution_count": 0,
   "metadata": {
    "colab": {},
    "colab_type": "code",
    "id": "d_sv1q2Guoqz"
   },
   "outputs": [],
   "source": [
    "from sklearn.model_selection import train_test_split\n",
    "X_train,X_test,Y_train,Y_test=train_test_split(final_sample,final_score,test_size=0.3,shuffle=False)"
   ]
  },
  {
   "cell_type": "code",
   "execution_count": 0,
   "metadata": {
    "colab": {},
    "colab_type": "code",
    "id": "s7_tJKCru0Pa"
   },
   "outputs": [],
   "source": [
    "from sklearn.feature_extraction.text import TfidfVectorizer\n",
    "\n",
    "tfidf_vect = TfidfVectorizer()\n",
    "Vocabulary = tfidf_vect.fit_transform(X_train)\n"
   ]
  },
  {
   "cell_type": "code",
   "execution_count": 0,
   "metadata": {
    "colab": {},
    "colab_type": "code",
    "id": "j9wCGi1HvGV9"
   },
   "outputs": [],
   "source": [
    "tfidf_X_train=tfidf_vect.transform(X_train)\n",
    "tfidf_X_test=tfidf_vect.transform(X_test)"
   ]
  },
  {
   "cell_type": "code",
   "execution_count": 0,
   "metadata": {
    "colab": {},
    "colab_type": "code",
    "id": "tEq8dTfIvKdB"
   },
   "outputs": [],
   "source": [
    "from sklearn import preprocessing \n",
    "tfidf_X_train= preprocessing.normalize(tfidf_X_train)\n",
    "tfidf_X_test = preprocessing.normalize(tfidf_X_test)"
   ]
  },
  {
   "cell_type": "markdown",
   "metadata": {
    "colab_type": "text",
    "id": "ii-Fy8RO_Za8"
   },
   "source": [
    "# GRID SEARCH CV"
   ]
  },
  {
   "cell_type": "code",
   "execution_count": 27,
   "metadata": {
    "colab": {
     "base_uri": "https://localhost:8080/",
     "height": 50
    },
    "colab_type": "code",
    "id": "Muj59pkKvOXV",
    "outputId": "69b055b7-3b31-456c-c2cd-820783498aec"
   },
   "outputs": [
    {
     "name": "stdout",
     "output_type": "stream",
     "text": [
      "Fitting 3 folds for each of 50 candidates, totalling 150 fits\n"
     ]
    },
    {
     "name": "stderr",
     "output_type": "stream",
     "text": [
      "[Parallel(n_jobs=1)]: Done 150 out of 150 | elapsed: 14.3min finished\n"
     ]
    }
   ],
   "source": [
    "BestHyperparameter = bestLambda(tfidf_X_train,Y_train,tfidf_X_test,Y_test)"
   ]
  },
  {
   "cell_type": "code",
   "execution_count": 28,
   "metadata": {
    "colab": {
     "base_uri": "https://localhost:8080/",
     "height": 34
    },
    "colab_type": "code",
    "id": "-D1OFcOFvSNV",
    "outputId": "4519120a-afca-4247-e407-b5f4eb84367a"
   },
   "outputs": [
    {
     "name": "stdout",
     "output_type": "stream",
     "text": [
      "{'C': 3, 'penalty': 'l1'}\n"
     ]
    }
   ],
   "source": [
    "print(BestHyperparameter)"
   ]
  },
  {
   "cell_type": "markdown",
   "metadata": {
    "colab_type": "text",
    "id": "caPOqGFIcXY8"
   },
   "source": [
    "# RANDOM SEARCH CV"
   ]
  },
  {
   "cell_type": "code",
   "execution_count": 29,
   "metadata": {
    "colab": {
     "base_uri": "https://localhost:8080/",
     "height": 50
    },
    "colab_type": "code",
    "id": "PxVN6TI9vSXJ",
    "outputId": "cd8ef5d6-0a2c-495b-e292-87f6c6e5377f"
   },
   "outputs": [
    {
     "name": "stdout",
     "output_type": "stream",
     "text": [
      "Fitting 3 folds for each of 10 candidates, totalling 30 fits\n"
     ]
    },
    {
     "name": "stderr",
     "output_type": "stream",
     "text": [
      "[Parallel(n_jobs=1)]: Done  30 out of  30 | elapsed:  3.1min finished\n"
     ]
    }
   ],
   "source": [
    "BestHyperparameterR = bestLambdaR(tfidf_X_train,Y_train,tfidf_X_test,Y_test)"
   ]
  },
  {
   "cell_type": "code",
   "execution_count": 30,
   "metadata": {
    "colab": {
     "base_uri": "https://localhost:8080/",
     "height": 54
    },
    "colab_type": "code",
    "id": "A75Wy4ypvWno",
    "outputId": "8cfdbba8-be1e-48a3-f282-9e95214a7671"
   },
   "outputs": [
    {
     "name": "stdout",
     "output_type": "stream",
     "text": [
      "{'penalty': 'l1', 'C': 7}\n"
     ]
    }
   ],
   "source": [
    "print(BestHyperparameterR)"
   ]
  },
  {
   "cell_type": "markdown",
   "metadata": {
    "colab_type": "text",
    "id": "A9mx7_1HwKQN"
   },
   "source": [
    "# LOGISTIC REGRESSION WITH L2 REGULARIZER"
   ]
  },
  {
   "cell_type": "code",
   "execution_count": 31,
   "metadata": {
    "colab": {
     "base_uri": "https://localhost:8080/",
     "height": 252
    },
    "colab_type": "code",
    "id": "zwaSdXRkwKhN",
    "outputId": "d529e07d-fc1b-42c6-bf4f-95a01b20c6db"
   },
   "outputs": [
    {
     "name": "stdout",
     "output_type": "stream",
     "text": [
      " accuracy with C = 3  is  92.49\n",
      "F1 score with C = 3  is  81.0\n",
      "Recall with C = 3  is  76.22\n",
      "Precision with C = 3  is  89.57\n",
      "\n",
      " Classification report  with C = 3  is \n",
      "               precision    recall  f1-score   support\n",
      "\n",
      "   negative       0.86      0.54      0.66      4103\n",
      "   positive       0.93      0.99      0.96     25897\n",
      "\n",
      "avg / total       0.92      0.92      0.92     30000\n",
      "\n",
      "no. of non zero elements = 918966\n"
     ]
    }
   ],
   "source": [
    "LogisticRwithL2(tfidf_X_train,Y_train,tfidf_X_test,Y_test,3)"
   ]
  },
  {
   "cell_type": "code",
   "execution_count": 32,
   "metadata": {
    "colab": {
     "base_uri": "https://localhost:8080/",
     "height": 252
    },
    "colab_type": "code",
    "id": "ZOceXGZk38Xi",
    "outputId": "f43895a2-0a4f-4421-ba1e-14afe0b4179c"
   },
   "outputs": [
    {
     "name": "stdout",
     "output_type": "stream",
     "text": [
      " accuracy with C = 7  is  92.87\n",
      "F1 score with C = 7  is  82.46\n",
      "Recall with C = 7  is  78.14\n",
      "Precision with C = 7  is  89.48\n",
      "\n",
      " Classification report  with C = 7  is \n",
      "               precision    recall  f1-score   support\n",
      "\n",
      "   negative       0.85      0.58      0.69      4103\n",
      "   positive       0.94      0.98      0.96     25897\n",
      "\n",
      "avg / total       0.93      0.93      0.92     30000\n",
      "\n",
      "no. of non zero elements = 918966\n"
     ]
    }
   ],
   "source": [
    "LogisticRwithL2(tfidf_X_train,Y_train,tfidf_X_test,Y_test,7)"
   ]
  },
  {
   "cell_type": "markdown",
   "metadata": {
    "colab_type": "text",
    "id": "zDrhMUlycs4S"
   },
   "source": [
    "# CONFUSION MATRIX FOR L2 regularizer"
   ]
  },
  {
   "cell_type": "markdown",
   "metadata": {
    "colab_type": "text",
    "id": "eHujuDYkwLZ6"
   },
   "source": []
  },
  {
   "cell_type": "code",
   "execution_count": 35,
   "metadata": {
    "colab": {
     "base_uri": "https://localhost:8080/",
     "height": 310
    },
    "colab_type": "code",
    "id": "4FYlraBUwSN_",
    "outputId": "eefe8ae5-fcf9-4baf-b8de-a5e8150bd5ae"
   },
   "outputs": [
    {
     "data": {
      "text/plain": [
       "<matplotlib.axes._subplots.AxesSubplot at 0x7f6d59b8e940>"
      ]
     },
     "execution_count": 35,
     "metadata": {
      "tags": []
     },
     "output_type": "execute_result"
    },
    {
     "data": {
      "image/png": "[encoded data removed]",
      "text/plain": [
       "<matplotlib.figure.Figure at 0x7f6d5a058ef0>"
      ]
     },
     "metadata": {
      "tags": []
     },
     "output_type": "display_data"
    }
   ],
   "source": [
    "import scikitplot.metrics as skplt\n",
    "from sklearn.metrics import classification_report,confusion_matrix,accuracy_score\n",
    "lr = LogisticRegression(C=3,penalty='l2')\n",
    "lr.fit(tfidf_X_train,Y_train)\n",
    "pred = lr.predict(tfidf_X_test)\n",
    "skplt.plot_confusion_matrix(Y_test , pred)"
   ]
  },
  {
   "cell_type": "markdown",
   "metadata": {
    "colab_type": "text",
    "id": "qh2th98rc2lk"
   },
   "source": [
    "# CONFUSION MATRIX FOR L1 regularizer"
   ]
  },
  {
   "cell_type": "code",
   "execution_count": 36,
   "metadata": {
    "colab": {
     "base_uri": "https://localhost:8080/",
     "height": 310
    },
    "colab_type": "code",
    "id": "1CeDzHe74QwD",
    "outputId": "733dd592-7c99-4add-fdf6-e39a8e9fb221"
   },
   "outputs": [
    {
     "data": {
      "text/plain": [
       "<matplotlib.axes._subplots.AxesSubplot at 0x7f6d5b4ce7b8>"
      ]
     },
     "execution_count": 36,
     "metadata": {
      "tags": []
     },
     "output_type": "execute_result"
    },
    {
     "data": {
      "image/png": "[encoded data removed]",
      "text/plain": [
       "<matplotlib.figure.Figure at 0x7f6d5b5482e8>"
      ]
     },
     "metadata": {
      "tags": []
     },
     "output_type": "display_data"
    }
   ],
   "source": [
    "from sklearn.metrics import classification_report,confusion_matrix,accuracy_score\n",
    "lr = LogisticRegression(C=7,penalty='l1')\n",
    "lr.fit(tfidf_X_train,Y_train)\n",
    "pred = lr.predict(tfidf_X_test)\n",
    "skplt.plot_confusion_matrix(Y_test , pred)"
   ]
  },
  {
   "cell_type": "code",
   "execution_count": 0,
   "metadata": {
    "colab": {},
    "colab_type": "code",
    "id": "o4xp7fTuyVBC"
   },
   "outputs": [],
   "source": []
  },
  {
   "cell_type": "markdown",
   "metadata": {
    "colab_type": "text",
    "id": "67ZZBAQ_dK1G"
   },
   "source": [
    "# SPARCITY CHECK WITH DECREASE IN C"
   ]
  },
  {
   "cell_type": "code",
   "execution_count": 113,
   "metadata": {
    "colab": {
     "base_uri": "https://localhost:8080/",
     "height": 252
    },
    "colab_type": "code",
    "id": "0HRZerCBdPHU",
    "outputId": "403c76e1-9c65-47a4-dde1-e629e9e8baa2"
   },
   "outputs": [
    {
     "name": "stdout",
     "output_type": "stream",
     "text": [
      " accuracy with C = 7  is  91.89\n",
      "F1 score with C = 7  is  81.43\n",
      "Recall with C = 7  is  79.12\n",
      "Precision with C = 7  is  84.4\n",
      "\n",
      " Classification report  with C = 7  is \n",
      "               precision    recall  f1-score   support\n",
      "\n",
      "   negative       0.75      0.62      0.67      4103\n",
      "   positive       0.94      0.97      0.95     25897\n",
      "\n",
      "avg / total       0.91      0.92      0.92     30000\n",
      "\n",
      "no. of non zero elements = 5781\n"
     ]
    }
   ],
   "source": [
    "LogisticRwithL1(tfidf_X_train,Y_train,tfidf_X_test,Y_test,7)"
   ]
  },
  {
   "cell_type": "code",
   "execution_count": 114,
   "metadata": {
    "colab": {
     "base_uri": "https://localhost:8080/",
     "height": 252
    },
    "colab_type": "code",
    "id": "9F97aqfWdbMa",
    "outputId": "1f92a1b3-b88f-48b7-f13d-dff3926232ec"
   },
   "outputs": [
    {
     "name": "stdout",
     "output_type": "stream",
     "text": [
      " accuracy with C = 6  is  92.07\n",
      "F1 score with C = 6  is  81.74\n",
      "Recall with C = 6  is  79.26\n",
      "Precision with C = 6  is  84.99\n",
      "\n",
      " Classification report  with C = 6  is \n",
      "               precision    recall  f1-score   support\n",
      "\n",
      "   negative       0.76      0.62      0.68      4103\n",
      "   positive       0.94      0.97      0.95     25897\n",
      "\n",
      "avg / total       0.92      0.92      0.92     30000\n",
      "\n",
      "no. of non zero elements = 5330\n"
     ]
    }
   ],
   "source": [
    "LogisticRwithL1(tfidf_X_train,Y_train,tfidf_X_test,Y_test,6)"
   ]
  },
  {
   "cell_type": "code",
   "execution_count": 115,
   "metadata": {
    "colab": {
     "base_uri": "https://localhost:8080/",
     "height": 252
    },
    "colab_type": "code",
    "id": "nIJFqkoAdbW6",
    "outputId": "e4b30082-8921-40f3-f657-4eb50d896a42"
   },
   "outputs": [
    {
     "name": "stdout",
     "output_type": "stream",
     "text": [
      " accuracy with C = 4  is  92.22\n",
      "F1 score with C = 4  is  81.89\n",
      "Recall with C = 4  is  79.1\n",
      "Precision with C = 4  is  85.65\n",
      "\n",
      " Classification report  with C = 4  is \n",
      "               precision    recall  f1-score   support\n",
      "\n",
      "   negative       0.77      0.61      0.68      4103\n",
      "   positive       0.94      0.97      0.96     25897\n",
      "\n",
      "avg / total       0.92      0.92      0.92     30000\n",
      "\n",
      "no. of non zero elements = 4129\n"
     ]
    }
   ],
   "source": [
    "LogisticRwithL1(tfidf_X_train,Y_train,tfidf_X_test,Y_test,4)"
   ]
  },
  {
   "cell_type": "code",
   "execution_count": 116,
   "metadata": {
    "colab": {
     "base_uri": "https://localhost:8080/",
     "height": 252
    },
    "colab_type": "code",
    "id": "XpRO-2NYdbjT",
    "outputId": "5238383a-45b2-4403-8b04-dd9e79a060f3"
   },
   "outputs": [
    {
     "name": "stdout",
     "output_type": "stream",
     "text": [
      " accuracy with C = 2  is  92.36\n",
      "F1 score with C = 2  is  81.86\n",
      "Recall with C = 2  is  78.52\n",
      "Precision with C = 2  is  86.68\n",
      "\n",
      " Classification report  with C = 2  is \n",
      "               precision    recall  f1-score   support\n",
      "\n",
      "   negative       0.80      0.59      0.68      4103\n",
      "   positive       0.94      0.98      0.96     25897\n",
      "\n",
      "avg / total       0.92      0.92      0.92     30000\n",
      "\n",
      "no. of non zero elements = 2295\n"
     ]
    }
   ],
   "source": [
    "LogisticRwithL1(tfidf_X_train,Y_train,tfidf_X_test,Y_test,2)"
   ]
  },
  {
   "cell_type": "markdown",
   "metadata": {
    "colab_type": "text",
    "id": "fEXVJSajdkwm"
   },
   "source": [
    "# AS YOU CAN SEE THAT SPARCITY INCREASE WITH DECREASE IN C"
   ]
  },
  {
   "cell_type": "markdown",
   "metadata": {
    "colab_type": "text",
    "id": "B5vfZlUgc-17"
   },
   "source": [
    "# PERTUBATION TEST"
   ]
  },
  {
   "cell_type": "code",
   "execution_count": 125,
   "metadata": {
    "colab": {
     "base_uri": "https://localhost:8080/",
     "height": 386
    },
    "colab_type": "code",
    "id": "97wrMaa6dBw0",
    "outputId": "1688d59b-2d5b-4cc1-f7ce-bf238a7f6b14"
   },
   "outputs": [
    {
     "name": "stdout",
     "output_type": "stream",
     "text": [
      "*********************************\n",
      "[0.00089384 0.14481999 0.28364785 ... 0.32396168 0.00299528 0.0640836 ]\n",
      "[ 8.93842900e-04  1.44819988e-01  2.83647853e-01  2.95488130e-03\n",
      "  2.07885411e-02  3.48426534e-01 -1.24010528e+00  2.02337062e-03\n",
      "  1.78175250e-02 -3.76851123e-01  7.67005032e-01  5.47187561e-01\n",
      "  9.15281132e-02  6.07691082e-02  2.26540942e+00  7.20566757e-03\n",
      "  2.36371393e+00 -2.80181760e+00  3.16220030e-02  1.74576616e-01\n",
      "  2.44879085e-01  1.49016309e-01  6.39610452e-01  2.51924115e-01\n",
      " -4.43837155e-01  1.73459587e-01  3.08024740e-02 -3.33419541e-01\n",
      "  2.35134455e+00  1.02405684e-01  7.21961743e-02  1.11286373e-02\n",
      "  1.59572669e-01  2.56513070e-01 -3.57054347e-02  1.99428191e-03\n",
      "  1.31585437e+00  9.76708468e-02  3.50730918e+00 -2.75198808e+00\n",
      "  1.81050513e-03  9.18772623e-02  1.93227102e+00  1.36208306e+00\n",
      " -1.59118752e+00  2.55048840e-01  3.02719164e-01  7.27463106e-03\n",
      "  4.11521171e-01  8.88531764e-02]\n",
      "No. of non zero elements 31373\n",
      "*********************************\n",
      "*********************************\n",
      "*********************************\n",
      "*********************************\n",
      "*********************************\n",
      "1016\n"
     ]
    }
   ],
   "source": [
    "from sklearn.linear_model import LogisticRegression\n",
    "lr =  LogisticRegression(C=27,penalty='l2')\n",
    "lr.fit(tfidf_X_train,Y_train)\n",
    "print('*********************************')\n",
    "\n",
    "print(lr.coef_[0])\n",
    "weights= lr.coef_[0]\n",
    "weights = weights[0:50]\n",
    "print(weights)\n",
    "print(\"No. of non zero elements\",np.count_nonzero(lr.coef_[0]))\n",
    "print('*********************************')\n",
    "\n",
    "from scipy.sparse import find\n",
    "tfidf_X_trainE=bow_X_train\n",
    "epsilon = np.random.uniform(low=0.0,high=0.01,size=(find(tfidf_X_trainE)[0].size))\n",
    "a,b,c=find(tfidf_X_trainE)\n",
    "tfidf_X_trainE[a,b] = epsilon + tfidf_X_trainE[a,b]\n",
    "print('*********************************')\n",
    "\n",
    "from sklearn.linear_model import LogisticRegression\n",
    "lr1 =  LogisticRegression(C=27,penalty='l2')\n",
    "lr1.fit(tfidf_X_trainE,Y_train)\n",
    "print('*********************************')\n",
    "\n",
    "weights2=lr1.coef_[0]\n",
    "weights2=weights2[:50]\n",
    "print('*********************************')\n",
    "\n",
    "difference = (abs(weights - weights2)/weights)*100\n",
    "print('*********************************')\n",
    "\n",
    "print(difference[np.where(difference >30)].size)\n"
   ]
  },
  {
   "cell_type": "markdown",
   "metadata": {
    "colab_type": "text",
    "id": "wZ9Hupi5fh8x"
   },
   "source": [
    "# multicollinearity exists as there are 1016 features with change of more than 30%"
   ]
  },
  {
   "cell_type": "markdown",
   "metadata": {
    "colab_type": "text",
    "id": "pDUjl8BQfyNd"
   },
   "source": [
    "# Important features\n"
   ]
  },
  {
   "cell_type": "code",
   "execution_count": 126,
   "metadata": {
    "colab": {
     "base_uri": "https://localhost:8080/",
     "height": 353
    },
    "colab_type": "code",
    "id": "VukHWEdSfyjk",
    "outputId": "06ddd191-906e-4b05-9077-98d5d5dde5e1"
   },
   "outputs": [
    {
     "name": "stdout",
     "output_type": "stream",
     "text": [
      "\t-18.8331\tworst          \t\t15.4645\tgreat          \n",
      "\t-10.4459\tdisappoint     \t\t14.1505\tperfect        \n",
      "\t-10.4261\tugh            \t\t14.1266\tbest           \n",
      "\t-10.2882\tfragment       \t\t12.7611\tdelici         \n",
      "\t-10.1322\tterribl        \t\t11.2608\tlove           \n",
      "\t-9.9755\taw             \t\t11.0916\tamaz           \n",
      "\t-9.7005\tthamk          \t\t11.0642\taddict         \n",
      "\t-8.9574\tthrew          \t\t10.9527\tskeptic        \n",
      "\t-8.9480\tflavorless     \t\t10.8526\texcel          \n",
      "\t-8.9217\tyadayadayada   \t\t10.0002\tawesom         \n",
      "\t-8.8950\tunaccept       \t\t9.3719\taccur          \n",
      "\t-8.8721\tbland          \t\t9.3575\tdownsid        \n",
      "\t-8.7850\tunfortun       \t\t9.1729\tyummi          \n",
      "\t-8.7196\tblech          \t\t9.1229\tuniqu          \n",
      "\t-8.6331\thorribl        \t\t8.8465\tsmooth         \n",
      "\t-8.5939\tcompass        \t\t8.7413\tyum            \n",
      "\t-8.5809\thsve           \t\t8.6995\tnice           \n",
      "\t-8.5123\tripoff         \t\t8.6938\tfantast        \n",
      "\t-8.4943\tsimmilar       \t\t8.6882\thook           \n",
      "\t-8.4409\tuseless        \t\t8.6573\toften          \n"
     ]
    }
   ],
   "source": [
    "show_most_informative_features(tfidf_vect, lr, n=20)"
   ]
  },
  {
   "cell_type": "code",
   "execution_count": 0,
   "metadata": {
    "colab": {},
    "colab_type": "code",
    "id": "yb1jElcA2fnL"
   },
   "outputs": [],
   "source": []
  },
  {
   "cell_type": "markdown",
   "metadata": {
    "colab_type": "text",
    "id": "G7iGh3aO2gSQ"
   },
   "source": [
    "# AVG WORD 2 vec"
   ]
  },
  {
   "cell_type": "code",
   "execution_count": 0,
   "metadata": {
    "colab": {},
    "colab_type": "code",
    "id": "qAmOH9la3C_X"
   },
   "outputs": [],
   "source": [
    "list_of_sent[1]"
   ]
  },
  {
   "cell_type": "code",
   "execution_count": 0,
   "metadata": {
    "colab": {},
    "colab_type": "code",
    "id": "C2btwBuh4PfX"
   },
   "outputs": [],
   "source": [
    "i=0\n",
    "str1=''\n",
    "list_of_sent=[]\n",
    "final_string_tfidf = []\n",
    "for sent in final['Text'].values:\n",
    "    filtered_sentence=[]\n",
    "    sent=cleanhtml(sent)\n",
    "    str1 = ''\n",
    "    for w in sent.split():\n",
    "        for words in cleanpunc(w).split():\n",
    "            if((cleaned_words.isalpha()) & (words.lower() not in stop)):    \n",
    "                filtered_sentence.append(words.lower())\n",
    "                str1 += \" \"+words.lower() \n",
    "            else:\n",
    "                continue\n",
    "   \n",
    "    list_of_sent.append(filtered_sentence)\n",
    "    final_string_tfidf.append((str1).strip())"
   ]
  },
  {
   "cell_type": "code",
   "execution_count": 0,
   "metadata": {
    "colab": {},
    "colab_type": "code",
    "id": "3pH1CdTC3Q1t"
   },
   "outputs": [],
   "source": [
    "w2v_model = gensim.models.Word2Vec(list_of_sent,min_count=5,size=50, workers=4)"
   ]
  },
  {
   "cell_type": "code",
   "execution_count": 26,
   "metadata": {
    "colab": {
     "base_uri": "https://localhost:8080/",
     "height": 185
    },
    "colab_type": "code",
    "id": "FDsjnsSA3km-",
    "outputId": "72dfbb31-26ed-47e1-a865-81c6250c80e6"
   },
   "outputs": [
    {
     "data": {
      "text/plain": [
       "[('weird', 0.7607990503311157),\n",
       " ('okay', 0.7277082204818726),\n",
       " ('ok', 0.719261646270752),\n",
       " ('either', 0.6932376623153687),\n",
       " ('kind', 0.6884601712226868),\n",
       " ('good', 0.686037003993988),\n",
       " ('gross', 0.6783020496368408),\n",
       " ('expect', 0.6575473546981812),\n",
       " ('think', 0.6498023271560669),\n",
       " ('prefer', 0.6444849967956543)]"
      ]
     },
     "execution_count": 26,
     "metadata": {
      "tags": []
     },
     "output_type": "execute_result"
    }
   ],
   "source": [
    "w2v_model.most_similar(\"like\")"
   ]
  },
  {
   "cell_type": "code",
   "execution_count": 27,
   "metadata": {
    "colab": {
     "base_uri": "https://localhost:8080/",
     "height": 34
    },
    "colab_type": "code",
    "id": "B4WeqUCejwxa",
    "outputId": "020fc6f9-ffb5-43bf-b74a-c0ca24db9ea3"
   },
   "outputs": [
    {
     "data": {
      "text/plain": [
       "364171"
      ]
     },
     "execution_count": 27,
     "metadata": {
      "tags": []
     },
     "output_type": "execute_result"
    }
   ],
   "source": [
    "len(list_of_sent)"
   ]
  },
  {
   "cell_type": "code",
   "execution_count": 29,
   "metadata": {
    "colab": {
     "base_uri": "https://localhost:8080/",
     "height": 50
    },
    "colab_type": "code",
    "id": "lWZBD_mG3qzc",
    "outputId": "f3c91a60-d9f5-49d9-dced-669eb3a691e6"
   },
   "outputs": [
    {
     "name": "stdout",
     "output_type": "stream",
     "text": [
      "100000\n",
      "50\n"
     ]
    }
   ],
   "source": [
    "w2v_words = list(w2v_model.wv.vocab)\n",
    "sent_vectors=[]\n",
    "for sent in list_of_sent[0:100000]:\n",
    "  sent_vec=np.zeros(50)\n",
    "  cnt_words=0\n",
    "  for word in sent:\n",
    "        if word in w2v_words:\n",
    "            vec = w2v_model.wv[word]\n",
    "            sent_vec += vec\n",
    "            cnt_words += 1\n",
    "  if cnt_words != 0:\n",
    "        sent_vec /= cnt_words\n",
    "  sent_vectors.append(sent_vec)\n",
    "print(len(sent_vectors))\n",
    "print(len(sent_vectors[0]))"
   ]
  },
  {
   "cell_type": "code",
   "execution_count": 0,
   "metadata": {
    "colab": {},
    "colab_type": "code",
    "id": "dOUkKTuaEH6F"
   },
   "outputs": [],
   "source": []
  },
  {
   "cell_type": "code",
   "execution_count": 30,
   "metadata": {
    "colab": {
     "base_uri": "https://localhost:8080/",
     "height": 34
    },
    "colab_type": "code",
    "id": "Nze6g4RZ6Ma8",
    "outputId": "59b0a678-d03e-413a-d9b6-3824f4b488cc"
   },
   "outputs": [
    {
     "data": {
      "text/plain": [
       "(100000, 50)"
      ]
     },
     "execution_count": 30,
     "metadata": {
      "tags": []
     },
     "output_type": "execute_result"
    }
   ],
   "source": [
    "avg_vec=np.array(sent_vectors)\n",
    "avg_vec.shape"
   ]
  },
  {
   "cell_type": "code",
   "execution_count": 31,
   "metadata": {
    "colab": {
     "base_uri": "https://localhost:8080/",
     "height": 235
    },
    "colab_type": "code",
    "id": "pz_6gMKu6Tk5",
    "outputId": "7ce624d6-c382-4e21-c213-d3a5b360970e"
   },
   "outputs": [
    {
     "data": {
      "text/plain": [
       "array([[-0.05037521,  0.26309358,  0.19841451, ...,  0.37679268,\n",
       "        -0.17263   ,  0.95958634],\n",
       "       [-0.23659754,  0.03796884,  0.79177611, ...,  0.6945108 ,\n",
       "        -0.55850582,  0.85197425],\n",
       "       [-0.2278841 ,  0.03454627,  0.66619415, ...,  0.45468478,\n",
       "         0.12203607,  0.67446999],\n",
       "       ...,\n",
       "       [ 0.11905425, -0.10208639, -0.07065984, ..., -0.37271509,\n",
       "        -0.35965228, -0.03820866],\n",
       "       [ 0.48503794,  0.24747587, -0.66723386, ...,  1.15867462,\n",
       "        -0.00714665,  1.57182646],\n",
       "       [-0.03370092,  0.0269129 , -0.53808051, ...,  0.19574664,\n",
       "         0.14905254, -0.04812258]])"
      ]
     },
     "execution_count": 31,
     "metadata": {
      "tags": []
     },
     "output_type": "execute_result"
    }
   ],
   "source": [
    "avg_vec"
   ]
  },
  {
   "cell_type": "code",
   "execution_count": 32,
   "metadata": {
    "colab": {
     "base_uri": "https://localhost:8080/",
     "height": 34
    },
    "colab_type": "code",
    "id": "ogccCksC-ADm",
    "outputId": "32892e9a-dab8-40c2-a57b-ad5d7c61318f"
   },
   "outputs": [
    {
     "data": {
      "text/plain": [
       "False"
      ]
     },
     "execution_count": 32,
     "metadata": {
      "tags": []
     },
     "output_type": "execute_result"
    }
   ],
   "source": [
    "np.isnan(avg_vec).any()"
   ]
  },
  {
   "cell_type": "code",
   "execution_count": 0,
   "metadata": {
    "colab": {},
    "colab_type": "code",
    "id": "Rc_BJPMX6WLN"
   },
   "outputs": [],
   "source": [
    "final_w2v_sample= avg_vec"
   ]
  },
  {
   "cell_type": "code",
   "execution_count": 0,
   "metadata": {
    "colab": {},
    "colab_type": "code",
    "id": "U4OuMiobt4iE"
   },
   "outputs": [],
   "source": [
    "final_score=final['Score'].values[0:100000]"
   ]
  },
  {
   "cell_type": "code",
   "execution_count": 0,
   "metadata": {
    "colab": {},
    "colab_type": "code",
    "id": "lTn7i2h9-hbR"
   },
   "outputs": [],
   "source": [
    "from sklearn.model_selection import train_test_split\n",
    "X_train,X_test,Y_train,Y_test=train_test_split(final_w2v_sample,final_score,test_size=0.3,shuffle=False)"
   ]
  },
  {
   "cell_type": "code",
   "execution_count": 0,
   "metadata": {
    "colab": {},
    "colab_type": "code",
    "id": "fxZYIUvf-7jP"
   },
   "outputs": [],
   "source": [
    "from sklearn import preprocessing \n",
    "avgw2v_X_train= preprocessing.normalize(X_train)\n",
    "avgw2v_X_test = preprocessing.normalize(X_test)"
   ]
  },
  {
   "cell_type": "markdown",
   "metadata": {
    "colab_type": "text",
    "id": "NkH2uJFt_xGU"
   },
   "source": [
    "# GRIDSEARCH CV"
   ]
  },
  {
   "cell_type": "code",
   "execution_count": 80,
   "metadata": {
    "colab": {
     "base_uri": "https://localhost:8080/",
     "height": 50
    },
    "colab_type": "code",
    "id": "q30sWCmJ_eba",
    "outputId": "d36b877d-1c6d-4c61-ce81-7bb0305a3c25"
   },
   "outputs": [
    {
     "name": "stdout",
     "output_type": "stream",
     "text": [
      "Fitting 3 folds for each of 50 candidates, totalling 150 fits\n"
     ]
    },
    {
     "name": "stderr",
     "output_type": "stream",
     "text": [
      "[Parallel(n_jobs=1)]: Done 150 out of 150 | elapsed:  5.4min finished\n"
     ]
    }
   ],
   "source": [
    "BestHyperparameter = bestLambda(avgw2v_X_train,Y_train,avgw2v_X_test,Y_test)"
   ]
  },
  {
   "cell_type": "markdown",
   "metadata": {
    "colab_type": "text",
    "id": "YE5PyADt_43j"
   },
   "source": []
  },
  {
   "cell_type": "code",
   "execution_count": 81,
   "metadata": {
    "colab": {
     "base_uri": "https://localhost:8080/",
     "height": 34
    },
    "colab_type": "code",
    "id": "D5evszkH_tI4",
    "outputId": "d32e84be-16f8-4295-9f3c-46a03b65b17f"
   },
   "outputs": [
    {
     "name": "stdout",
     "output_type": "stream",
     "text": [
      "{'C': 25, 'penalty': 'l2'}\n"
     ]
    }
   ],
   "source": [
    "print(BestHyperparameter)"
   ]
  },
  {
   "cell_type": "markdown",
   "metadata": {
    "colab_type": "text",
    "id": "u85yNmTWAcv3"
   },
   "source": [
    "# RANDOMSEARCH CV"
   ]
  },
  {
   "cell_type": "code",
   "execution_count": 82,
   "metadata": {
    "colab": {
     "base_uri": "https://localhost:8080/",
     "height": 50
    },
    "colab_type": "code",
    "id": "QBtrgkTe_6eK",
    "outputId": "9df6ff8d-0688-4301-b6da-c5e5766019bc"
   },
   "outputs": [
    {
     "name": "stdout",
     "output_type": "stream",
     "text": [
      "Fitting 3 folds for each of 10 candidates, totalling 30 fits\n"
     ]
    },
    {
     "name": "stderr",
     "output_type": "stream",
     "text": [
      "[Parallel(n_jobs=1)]: Done  30 out of  30 | elapsed:   57.1s finished\n"
     ]
    }
   ],
   "source": [
    "BestHyperparameterR = bestLambdaR(avgw2v_X_train,Y_train,avgw2v_X_test,Y_test)"
   ]
  },
  {
   "cell_type": "code",
   "execution_count": 83,
   "metadata": {
    "colab": {
     "base_uri": "https://localhost:8080/",
     "height": 34
    },
    "colab_type": "code",
    "id": "EvsnrO58AlBk",
    "outputId": "9d179dd9-4887-427f-ffe5-33dca3f0fa28"
   },
   "outputs": [
    {
     "name": "stdout",
     "output_type": "stream",
     "text": [
      "{'penalty': 'l2', 'C': 27}\n"
     ]
    }
   ],
   "source": [
    "print(BestHyperparameterR)"
   ]
  },
  {
   "cell_type": "markdown",
   "metadata": {
    "colab_type": "text",
    "id": "Y6I4xkxaAxKj"
   },
   "source": [
    "# Logistic Regression with L2 regularizer"
   ]
  },
  {
   "cell_type": "code",
   "execution_count": 84,
   "metadata": {
    "colab": {
     "base_uri": "https://localhost:8080/",
     "height": 252
    },
    "colab_type": "code",
    "id": "slQUMIlYAwDX",
    "outputId": "5ad32c97-7850-42a8-df96-8ee6f64fbc9d"
   },
   "outputs": [
    {
     "name": "stdout",
     "output_type": "stream",
     "text": [
      " accuracy with C = 25  is  91.09\n",
      "F1 score with C = 25  is  77.47\n",
      "Recall with C = 25  is  73.59\n",
      "Precision with C = 25  is  84.08\n",
      "\n",
      " Classification report  with C = 25  is \n",
      "               precision    recall  f1-score   support\n",
      "\n",
      "   negative       0.76      0.50      0.60      3831\n",
      "   positive       0.93      0.98      0.95     24704\n",
      "\n",
      "avg / total       0.90      0.91      0.90     28535\n",
      "\n",
      "no. of non zero elements = 50\n"
     ]
    }
   ],
   "source": [
    "LogisticRwithL2(avgw2v_X_train,Y_train,avgw2v_X_test,Y_test,25)"
   ]
  },
  {
   "cell_type": "code",
   "execution_count": 51,
   "metadata": {
    "colab": {
     "base_uri": "https://localhost:8080/",
     "height": 310
    },
    "colab_type": "code",
    "id": "FOJI_7jIngXb",
    "outputId": "07def088-1293-44cd-d4c8-bff9a0b728db"
   },
   "outputs": [
    {
     "data": {
      "text/plain": [
       "<matplotlib.axes._subplots.AxesSubplot at 0x7f769a7c31d0>"
      ]
     },
     "execution_count": 51,
     "metadata": {
      "tags": []
     },
     "output_type": "execute_result"
    },
    {
     "data": {
      "image/png": "[encoded data removed]",
      "text/plain": [
       "<matplotlib.figure.Figure at 0x7f7699c8d630>"
      ]
     },
     "metadata": {
      "tags": []
     },
     "output_type": "display_data"
    }
   ],
   "source": [
    "import scikitplot.metrics as skplt\n",
    "from sklearn.metrics import classification_report,confusion_matrix,accuracy_score\n",
    "lr = LogisticRegression(C=25,penalty='l2')\n",
    "lr.fit(avgw2v_X_train,Y_train)\n",
    "pred = lr.predict(avgw2v_X_test)\n",
    "skplt.plot_confusion_matrix(Y_test , pred)"
   ]
  },
  {
   "cell_type": "code",
   "execution_count": 85,
   "metadata": {
    "colab": {
     "base_uri": "https://localhost:8080/",
     "height": 252
    },
    "colab_type": "code",
    "id": "_q5oiiNVCRiz",
    "outputId": "6a526ddb-51b0-48f8-b50a-8c43c4e9833a"
   },
   "outputs": [
    {
     "name": "stdout",
     "output_type": "stream",
     "text": [
      " accuracy with C = 27  is  91.09\n",
      "F1 score with C = 27  is  77.47\n",
      "Recall with C = 27  is  73.59\n",
      "Precision with C = 27  is  84.08\n",
      "\n",
      " Classification report  with C = 27  is \n",
      "               precision    recall  f1-score   support\n",
      "\n",
      "   negative       0.76      0.50      0.60      3831\n",
      "   positive       0.93      0.98      0.95     24704\n",
      "\n",
      "avg / total       0.90      0.91      0.90     28535\n",
      "\n",
      "no. of non zero elements = 50\n"
     ]
    }
   ],
   "source": [
    "LogisticRwithL2(avgw2v_X_train,Y_train,avgw2v_X_test,Y_test,27) #randomized cv"
   ]
  },
  {
   "cell_type": "code",
   "execution_count": 0,
   "metadata": {
    "colab": {},
    "colab_type": "code",
    "id": "x7d_-Dh0q7Ta"
   },
   "outputs": [],
   "source": []
  },
  {
   "cell_type": "markdown",
   "metadata": {
    "colab_type": "text",
    "id": "infzaQsPq7-k"
   },
   "source": [
    "**CONFUSION MATRIX WITH RANDOMIZED CV**"
   ]
  },
  {
   "cell_type": "code",
   "execution_count": 59,
   "metadata": {
    "colab": {
     "base_uri": "https://localhost:8080/",
     "height": 310
    },
    "colab_type": "code",
    "id": "zRAF0IPuq4Wv",
    "outputId": "d06b6f76-6356-421a-f2d5-019b85e1c7f5"
   },
   "outputs": [
    {
     "data": {
      "text/plain": [
       "<matplotlib.axes._subplots.AxesSubplot at 0x7f7699bb7e80>"
      ]
     },
     "execution_count": 59,
     "metadata": {
      "tags": []
     },
     "output_type": "execute_result"
    },
    {
     "data": {
      "image/png": "[encoded data removed]",
      "text/plain": [
       "<matplotlib.figure.Figure at 0x7f7699c13cc0>"
      ]
     },
     "metadata": {
      "tags": []
     },
     "output_type": "display_data"
    }
   ],
   "source": [
    "import scikitplot.metrics as skplt\n",
    "from sklearn.metrics import classification_report,confusion_matrix,accuracy_score\n",
    "lr = LogisticRegression(C=25,penalty='l2')\n",
    "lr.fit(avgw2v_X_train,Y_train)\n",
    "pred = lr.predict(avgw2v_X_test)\n",
    "skplt.plot_confusion_matrix(Y_test , pred)"
   ]
  },
  {
   "cell_type": "markdown",
   "metadata": {
    "colab_type": "text",
    "id": "6tbMMeyhB4cz"
   },
   "source": [
    "# Logistic Regression with L1 regularizer"
   ]
  },
  {
   "cell_type": "code",
   "execution_count": 39,
   "metadata": {
    "colab": {
     "base_uri": "https://localhost:8080/",
     "height": 252
    },
    "colab_type": "code",
    "id": "6wRzMzwOA_Nx",
    "outputId": "600b17b1-f614-4a8c-de54-d46656da354c"
   },
   "outputs": [
    {
     "name": "stdout",
     "output_type": "stream",
     "text": [
      " accuracy with C = 25  is  90.62\n",
      "F1 score with C = 25  is  76.48\n",
      "Recall with C = 25  is  72.62\n",
      "Precision with C = 25  is  83.3\n",
      "\n",
      " Classification report  with C = 25  is \n",
      "               precision    recall  f1-score   support\n",
      "\n",
      "   negative       0.74      0.48      0.58      4103\n",
      "   positive       0.92      0.97      0.95     25897\n",
      "\n",
      "avg / total       0.90      0.91      0.90     30000\n",
      "\n",
      "no. of non zero elements = 50\n"
     ]
    }
   ],
   "source": [
    "LogisticRwithL1(avgw2v_X_train,Y_train,avgw2v_X_test,Y_test,25)"
   ]
  },
  {
   "cell_type": "code",
   "execution_count": 60,
   "metadata": {
    "colab": {
     "base_uri": "https://localhost:8080/",
     "height": 310
    },
    "colab_type": "code",
    "id": "hHVE7GwcrFHM",
    "outputId": "70ae30cd-7e7e-4971-a35d-289bff968b58"
   },
   "outputs": [
    {
     "data": {
      "text/plain": [
       "<matplotlib.axes._subplots.AxesSubplot at 0x7f7699b7cf60>"
      ]
     },
     "execution_count": 60,
     "metadata": {
      "tags": []
     },
     "output_type": "execute_result"
    },
    {
     "data": {
      "image/png": "[encoded data removed]",
      "text/plain": [
       "<matplotlib.figure.Figure at 0x7f7699c4fa58>"
      ]
     },
     "metadata": {
      "tags": []
     },
     "output_type": "display_data"
    }
   ],
   "source": [
    "import scikitplot.metrics as skplt\n",
    "from sklearn.metrics import classification_report,confusion_matrix,accuracy_score\n",
    "lr = LogisticRegression(C=25,penalty='l1')\n",
    "lr.fit(avgw2v_X_train,Y_train)\n",
    "pred = lr.predict(avgw2v_X_test)\n",
    "skplt.plot_confusion_matrix(Y_test , pred)"
   ]
  },
  {
   "cell_type": "markdown",
   "metadata": {
    "colab_type": "text",
    "id": "qwolNRilkFbw"
   },
   "source": [
    "# Sparcity check with L1 regularizer"
   ]
  },
  {
   "cell_type": "code",
   "execution_count": 40,
   "metadata": {
    "colab": {
     "base_uri": "https://localhost:8080/",
     "height": 252
    },
    "colab_type": "code",
    "id": "CwJkDqEqkKD6",
    "outputId": "8fe4ca48-1d83-4447-d23c-c57e19106f5a"
   },
   "outputs": [
    {
     "name": "stdout",
     "output_type": "stream",
     "text": [
      " accuracy with C = 25  is  90.62\n",
      "F1 score with C = 25  is  76.48\n",
      "Recall with C = 25  is  72.62\n",
      "Precision with C = 25  is  83.3\n",
      "\n",
      " Classification report  with C = 25  is \n",
      "               precision    recall  f1-score   support\n",
      "\n",
      "   negative       0.74      0.48      0.58      4103\n",
      "   positive       0.92      0.97      0.95     25897\n",
      "\n",
      "avg / total       0.90      0.91      0.90     30000\n",
      "\n",
      "no. of non zero elements = 50\n"
     ]
    }
   ],
   "source": [
    "LogisticRwithL1(avgw2v_X_train,Y_train,avgw2v_X_test,Y_test,25)"
   ]
  },
  {
   "cell_type": "code",
   "execution_count": 41,
   "metadata": {
    "colab": {
     "base_uri": "https://localhost:8080/",
     "height": 252
    },
    "colab_type": "code",
    "id": "STkUVFq3mMHv",
    "outputId": "b62378bb-674d-4ba1-ea06-4fedb7593ef7"
   },
   "outputs": [
    {
     "name": "stdout",
     "output_type": "stream",
     "text": [
      " accuracy with C = 20  is  90.62\n",
      "F1 score with C = 20  is  76.49\n",
      "Recall with C = 20  is  72.63\n",
      "Precision with C = 20  is  83.32\n",
      "\n",
      " Classification report  with C = 20  is \n",
      "               precision    recall  f1-score   support\n",
      "\n",
      "   negative       0.74      0.48      0.58      4103\n",
      "   positive       0.92      0.97      0.95     25897\n",
      "\n",
      "avg / total       0.90      0.91      0.90     30000\n",
      "\n",
      "no. of non zero elements = 50\n"
     ]
    }
   ],
   "source": [
    "LogisticRwithL1(avgw2v_X_train,Y_train,avgw2v_X_test,Y_test,20)"
   ]
  },
  {
   "cell_type": "code",
   "execution_count": 45,
   "metadata": {
    "colab": {
     "base_uri": "https://localhost:8080/",
     "height": 252
    },
    "colab_type": "code",
    "id": "yQQIRUyxmMcq",
    "outputId": "85af55e3-ac86-4766-e505-c646a8f9eff2"
   },
   "outputs": [
    {
     "name": "stdout",
     "output_type": "stream",
     "text": [
      " accuracy with C = 15  is  90.62\n",
      "F1 score with C = 15  is  76.48\n",
      "Recall with C = 15  is  72.62\n",
      "Precision with C = 15  is  83.31\n",
      "\n",
      " Classification report  with C = 15  is \n",
      "               precision    recall  f1-score   support\n",
      "\n",
      "   negative       0.74      0.48      0.58      4103\n",
      "   positive       0.92      0.97      0.95     25897\n",
      "\n",
      "avg / total       0.90      0.91      0.90     30000\n",
      "\n",
      "no. of non zero elements = 50\n"
     ]
    }
   ],
   "source": [
    "LogisticRwithL1(avgw2v_X_train,Y_train,avgw2v_X_test,Y_test,15)"
   ]
  },
  {
   "cell_type": "code",
   "execution_count": 46,
   "metadata": {
    "colab": {
     "base_uri": "https://localhost:8080/",
     "height": 252
    },
    "colab_type": "code",
    "id": "0ofgkQ5GmMl3",
    "outputId": "1092e80b-04f9-45e5-e9a6-07f76378fa15"
   },
   "outputs": [
    {
     "name": "stdout",
     "output_type": "stream",
     "text": [
      " accuracy with C = 10  is  90.62\n",
      "F1 score with C = 10  is  76.48\n",
      "Recall with C = 10  is  72.62\n",
      "Precision with C = 10  is  83.3\n",
      "\n",
      " Classification report  with C = 10  is \n",
      "               precision    recall  f1-score   support\n",
      "\n",
      "   negative       0.74      0.48      0.58      4103\n",
      "   positive       0.92      0.97      0.95     25897\n",
      "\n",
      "avg / total       0.90      0.91      0.90     30000\n",
      "\n",
      "no. of non zero elements = 50\n"
     ]
    }
   ],
   "source": [
    "LogisticRwithL1(avgw2v_X_train,Y_train,avgw2v_X_test,Y_test,10)"
   ]
  },
  {
   "cell_type": "markdown",
   "metadata": {
    "colab_type": "text",
    "id": "MP4TSY4CmpJ5"
   },
   "source": [
    "# HERE SPARCITY IS NOT INCREASING WITH DECREASE IN C"
   ]
  },
  {
   "cell_type": "markdown",
   "metadata": {
    "colab_type": "text",
    "id": "ZpoYi6uzBAJ7"
   },
   "source": [
    "# Pertubation test"
   ]
  },
  {
   "cell_type": "code",
   "execution_count": 90,
   "metadata": {
    "colab": {
     "base_uri": "https://localhost:8080/",
     "height": 454
    },
    "colab_type": "code",
    "id": "yNkYkhSvBMiw",
    "outputId": "5176ecfa-31cb-4e0e-d4c6-57afa41ba245"
   },
   "outputs": [
    {
     "name": "stdout",
     "output_type": "stream",
     "text": [
      "*********************************\n",
      "[-3.15821472  1.68196473 -0.80085026  1.36911819 -0.44368107  4.08261272\n",
      "  0.11932175 -3.48488092 -0.9176814   0.27768966  1.22114916  6.10302294\n",
      " -4.19876017  2.35996753 -0.69217824 -6.38677786  0.36908038 -2.01858341\n",
      "  4.75357155  1.81491603  2.63599331 -2.07727835 -2.29859282  2.65546454\n",
      " -2.51622812 -1.49070893 -1.11780679  2.74149423 -0.5662449   0.36891856\n",
      "  0.97376299  1.11416038  2.43325833 -3.77795646 -0.5062483  -3.59682799\n",
      "  3.60089902  0.62214575  0.81438875 -0.35978199  5.73067873  3.34184676\n",
      " -1.44542968  1.25927739  3.92521413 -0.11752833 -0.35857178 -0.30266504\n",
      "  2.96480094 -5.43876429]\n",
      "[-3.15821472  1.68196473 -0.80085026  1.36911819 -0.44368107  4.08261272\n",
      "  0.11932175 -3.48488092 -0.9176814   0.27768966  1.22114916  6.10302294\n",
      " -4.19876017  2.35996753 -0.69217824 -6.38677786  0.36908038 -2.01858341\n",
      "  4.75357155  1.81491603  2.63599331 -2.07727835 -2.29859282  2.65546454\n",
      " -2.51622812 -1.49070893 -1.11780679  2.74149423 -0.5662449   0.36891856\n",
      "  0.97376299  1.11416038  2.43325833 -3.77795646 -0.5062483  -3.59682799\n",
      "  3.60089902  0.62214575  0.81438875 -0.35978199  5.73067873  3.34184676\n",
      " -1.44542968  1.25927739  3.92521413 -0.11752833 -0.35857178 -0.30266504\n",
      "  2.96480094 -5.43876429]\n",
      "No. of non zero elements 50\n",
      "*********************************\n",
      "*********************************\n",
      "*********************************\n",
      "*********************************\n",
      "*********************************\n",
      "0\n"
     ]
    }
   ],
   "source": [
    "from sklearn.linear_model import LogisticRegression\n",
    "lr =  LogisticRegression(C=25,penalty='l2')\n",
    "lr.fit(avgw2v_X_train,Y_train)\n",
    "print('*********************************')\n",
    "\n",
    "print(lr.coef_[0])\n",
    "weights= lr.coef_[0]\n",
    "weights = weights[0:50]\n",
    "print(weights)\n",
    "print(\"No. of non zero elements\",np.count_nonzero(lr.coef_[0]))\n",
    "print('*********************************')\n",
    "\n",
    "from scipy.sparse import find\n",
    "avgw2v_X_trainE=avgw2v_X_train\n",
    "epsilon = np.random.uniform(low=0.0,high=0.01,size=(find(avgw2v_X_trainE)[0].size))\n",
    "a,b,c=find(avgw2v_X_trainE)\n",
    "avgw2v_X_trainE[a,b] = epsilon + avgw2v_X_trainE[a,b]\n",
    "print('*********************************')\n",
    "\n",
    "from sklearn.linear_model import LogisticRegression\n",
    "lr1 =  LogisticRegression(C=27,penalty='l2')\n",
    "lr1.fit(avgw2v_X_trainE,Y_train)\n",
    "print('*********************************')\n",
    "\n",
    "weights2=lr1.coef_[0]\n",
    "weights2=weights2[:50]\n",
    "print('*********************************')\n",
    "\n",
    "difference = (abs(weights - weights2)/weights)*100\n",
    "print('*********************************')\n",
    "\n",
    "print(difference[np.where(difference >30)].size)"
   ]
  },
  {
   "cell_type": "markdown",
   "metadata": {
    "colab_type": "text",
    "id": "CNNStLDCoiQt"
   },
   "source": [
    "\n",
    "## There is no sighn of multicollinearity\n",
    "\n"
   ]
  },
  {
   "cell_type": "code",
   "execution_count": 0,
   "metadata": {
    "colab": {},
    "colab_type": "code",
    "id": "tY1W_NZYon2y"
   },
   "outputs": [],
   "source": []
  },
  {
   "cell_type": "markdown",
   "metadata": {
    "colab_type": "text",
    "id": "KKdZ3twzeA-c"
   },
   "source": [
    "# tfidf - w2v"
   ]
  },
  {
   "cell_type": "markdown",
   "metadata": {
    "colab_type": "text",
    "id": "qrQfKRp_ql5s"
   },
   "source": [
    "# HERE WE WILL TAKE ONLY 10K  POINTS BECAUSE OF TIME ISSUE"
   ]
  },
  {
   "cell_type": "code",
   "execution_count": 0,
   "metadata": {
    "colab": {},
    "colab_type": "code",
    "id": "eJ6PNbvmvjYz"
   },
   "outputs": [],
   "source": [
    "i=0\n",
    "str1=''\n",
    "list_of_sent=[]\n",
    "final_string_tfidf = []\n",
    "for sent in final['Text'].values:\n",
    "    filtered_sentence=[]\n",
    "    sent=cleanhtml(sent)\n",
    "    str1 = ''\n",
    "    for w in sent.split():\n",
    "        for words in cleanpunc(w).split():\n",
    "            if((cleaned_words.isalpha()) & (words.lower() not in stop)):    \n",
    "                filtered_sentence.append(words.lower())\n",
    "                str1 += \" \"+words.lower() \n",
    "            else:\n",
    "                continue\n",
    "   \n",
    "    list_of_sent.append(filtered_sentence)\n",
    "    final_string_tfidf.append((str1).strip())"
   ]
  },
  {
   "cell_type": "code",
   "execution_count": 0,
   "metadata": {
    "colab": {},
    "colab_type": "code",
    "id": "MKqTZlBk0GW6"
   },
   "outputs": [],
   "source": [
    "final['NONSTEMDATA'] = list_of_sent"
   ]
  },
  {
   "cell_type": "code",
   "execution_count": 0,
   "metadata": {
    "colab": {},
    "colab_type": "code",
    "id": "QQLLTBVicJ17"
   },
   "outputs": [],
   "source": [
    "final_score=final['Score'].values[0:10000]"
   ]
  },
  {
   "cell_type": "code",
   "execution_count": 27,
   "metadata": {
    "colab": {
     "base_uri": "https://localhost:8080/",
     "height": 5581
    },
    "colab_type": "code",
    "id": "Zgf_hevxqlOQ",
    "outputId": "b5147b39-d644-4d2d-b10e-c298c6d4eb2b"
   },
   "outputs": [
    {
     "data": {
      "text/html": [
       "<div>\n",
       "<style scoped>\n",
       "    .dataframe tbody tr th:only-of-type {\n",
       "        vertical-align: middle;\n",
       "    }\n",
       "\n",
       "    .dataframe tbody tr th {\n",
       "        vertical-align: top;\n",
       "    }\n",
       "\n",
       "    .dataframe thead th {\n",
       "        text-align: right;\n",
       "    }\n",
       "</style>\n",
       "<table border=\"1\" class=\"dataframe\">\n",
       "  <thead>\n",
       "    <tr style=\"text-align: right;\">\n",
       "      <th></th>\n",
       "      <th>Id</th>\n",
       "      <th>ProductId</th>\n",
       "      <th>UserId</th>\n",
       "      <th>ProfileName</th>\n",
       "      <th>HelpfulnessNumerator</th>\n",
       "      <th>HelpfulnessDenominator</th>\n",
       "      <th>Score</th>\n",
       "      <th>Time</th>\n",
       "      <th>Summary</th>\n",
       "      <th>Text</th>\n",
       "      <th>CleanedText</th>\n",
       "      <th>NONSTEMDATA</th>\n",
       "    </tr>\n",
       "  </thead>\n",
       "  <tbody>\n",
       "    <tr>\n",
       "      <th>0</th>\n",
       "      <td>150524</td>\n",
       "      <td>0006641040</td>\n",
       "      <td>ACITT7DI6IDDL</td>\n",
       "      <td>shari zychinski</td>\n",
       "      <td>0</td>\n",
       "      <td>0</td>\n",
       "      <td>positive</td>\n",
       "      <td>1999-10-08 00:00:00</td>\n",
       "      <td>EVERY book is educational</td>\n",
       "      <td>this witty little book makes my son laugh at l...</td>\n",
       "      <td>witti littl book make son laugh loud recit car...</td>\n",
       "      <td>[witty, little, book, makes, son, laugh, loud,...</td>\n",
       "    </tr>\n",
       "    <tr>\n",
       "      <th>1</th>\n",
       "      <td>150501</td>\n",
       "      <td>0006641040</td>\n",
       "      <td>AJ46FKXOVC7NR</td>\n",
       "      <td>Nicholas A Mesiano</td>\n",
       "      <td>2</td>\n",
       "      <td>2</td>\n",
       "      <td>positive</td>\n",
       "      <td>1999-10-25 00:00:00</td>\n",
       "      <td>This whole series is great way to spend time w...</td>\n",
       "      <td>I can remember seeing the show when it aired o...</td>\n",
       "      <td>rememb see show air televis year ago child sis...</td>\n",
       "      <td>[remember, seeing, show, aired, television, ye...</td>\n",
       "    </tr>\n",
       "    <tr>\n",
       "      <th>2</th>\n",
       "      <td>451856</td>\n",
       "      <td>B00004CXX9</td>\n",
       "      <td>AIUWLEQ1ADEG5</td>\n",
       "      <td>Elizabeth Medina</td>\n",
       "      <td>0</td>\n",
       "      <td>0</td>\n",
       "      <td>positive</td>\n",
       "      <td>1999-12-02 00:00:00</td>\n",
       "      <td>Entertainingl Funny!</td>\n",
       "      <td>Beetlejuice is a well written movie ..... ever...</td>\n",
       "      <td>beetlejuic well written movi everyth excel act...</td>\n",
       "      <td>[beetlejuice, well, written, movie, everything...</td>\n",
       "    </tr>\n",
       "    <tr>\n",
       "      <th>3</th>\n",
       "      <td>374359</td>\n",
       "      <td>B00004CI84</td>\n",
       "      <td>A344SMIA5JECGM</td>\n",
       "      <td>Vincent P. Ross</td>\n",
       "      <td>1</td>\n",
       "      <td>2</td>\n",
       "      <td>positive</td>\n",
       "      <td>1999-12-06 00:00:00</td>\n",
       "      <td>A modern day fairy tale</td>\n",
       "      <td>A twist of rumplestiskin captured on film, sta...</td>\n",
       "      <td>twist rumplestiskin captur film star michael k...</td>\n",
       "      <td>[twist, rumplestiskin, captured, film, starrin...</td>\n",
       "    </tr>\n",
       "    <tr>\n",
       "      <th>4</th>\n",
       "      <td>451855</td>\n",
       "      <td>B00004CXX9</td>\n",
       "      <td>AJH6LUC1UT1ON</td>\n",
       "      <td>The Phantom of the Opera</td>\n",
       "      <td>0</td>\n",
       "      <td>0</td>\n",
       "      <td>positive</td>\n",
       "      <td>2000-01-03 00:00:00</td>\n",
       "      <td>FANTASTIC!</td>\n",
       "      <td>Beetlejuice is an excellent and funny movie. K...</td>\n",
       "      <td>beetlejuic excel funni movi keaton hilari wack...</td>\n",
       "      <td>[beetlejuice, excellent, funny, movie, keaton,...</td>\n",
       "    </tr>\n",
       "    <tr>\n",
       "      <th>5</th>\n",
       "      <td>374422</td>\n",
       "      <td>B00004CI84</td>\n",
       "      <td>A1048CYU0OV4O8</td>\n",
       "      <td>Judy L. Eans</td>\n",
       "      <td>2</td>\n",
       "      <td>2</td>\n",
       "      <td>positive</td>\n",
       "      <td>2000-01-09 00:00:00</td>\n",
       "      <td>GREAT</td>\n",
       "      <td>THIS IS ONE MOVIE THAT SHOULD BE IN YOUR MOVIE...</td>\n",
       "      <td>one movi movi collect fill comedi action whate...</td>\n",
       "      <td>[one, movie, movie, collection, filled, comedy...</td>\n",
       "    </tr>\n",
       "    <tr>\n",
       "      <th>6</th>\n",
       "      <td>374343</td>\n",
       "      <td>B00004CI84</td>\n",
       "      <td>A1B2IZU1JLZA6</td>\n",
       "      <td>Wes</td>\n",
       "      <td>19</td>\n",
       "      <td>23</td>\n",
       "      <td>negative</td>\n",
       "      <td>2000-01-19 00:00:00</td>\n",
       "      <td>WARNING: CLAMSHELL EDITION IS EDITED TV VERSION</td>\n",
       "      <td>I, myself always enjoyed this movie, it's very...</td>\n",
       "      <td>alway enjoy movi funni entertain didnt hesit p...</td>\n",
       "      <td>[always, enjoyed, movie, funny, entertaining, ...</td>\n",
       "    </tr>\n",
       "    <tr>\n",
       "      <th>7</th>\n",
       "      <td>76882</td>\n",
       "      <td>B00002N8SM</td>\n",
       "      <td>A32DW342WBJ6BX</td>\n",
       "      <td>Buttersugar</td>\n",
       "      <td>0</td>\n",
       "      <td>0</td>\n",
       "      <td>positive</td>\n",
       "      <td>2000-01-24 00:00:00</td>\n",
       "      <td>A sure death for flies</td>\n",
       "      <td>I bought a few of these after my apartment was...</td>\n",
       "      <td>bought apart infest fruit fli hour trap mani f...</td>\n",
       "      <td>[bought, apartment, infested, fruit, flies, ho...</td>\n",
       "    </tr>\n",
       "    <tr>\n",
       "      <th>8</th>\n",
       "      <td>374450</td>\n",
       "      <td>B00004CI84</td>\n",
       "      <td>ACJR7EQF9S6FP</td>\n",
       "      <td>Jeremy Robertson</td>\n",
       "      <td>2</td>\n",
       "      <td>3</td>\n",
       "      <td>positive</td>\n",
       "      <td>2000-02-26 00:00:00</td>\n",
       "      <td>Bettlejuice...Bettlejuice...BETTLEJUICE!</td>\n",
       "      <td>What happens when you say his name three times...</td>\n",
       "      <td>happen say name three time michael keaten star...</td>\n",
       "      <td>[happens, say, name, three, times, michael, ke...</td>\n",
       "    </tr>\n",
       "    <tr>\n",
       "      <th>9</th>\n",
       "      <td>374400</td>\n",
       "      <td>B00004CI84</td>\n",
       "      <td>A2DEE7F9XKP3ZR</td>\n",
       "      <td>jerome</td>\n",
       "      <td>0</td>\n",
       "      <td>3</td>\n",
       "      <td>positive</td>\n",
       "      <td>2000-06-03 00:00:00</td>\n",
       "      <td>Research - Beatlejuice video - French version</td>\n",
       "      <td>I'm getting crazy.I'm looking for Beatlejuice ...</td>\n",
       "      <td>get crazi look beatlejuic french version video...</td>\n",
       "      <td>[im, getting, crazy, im, looking, beatlejuice,...</td>\n",
       "    </tr>\n",
       "    <tr>\n",
       "      <th>10</th>\n",
       "      <td>451903</td>\n",
       "      <td>B00004CXX9</td>\n",
       "      <td>A2DEE7F9XKP3ZR</td>\n",
       "      <td>jerome</td>\n",
       "      <td>0</td>\n",
       "      <td>1</td>\n",
       "      <td>positive</td>\n",
       "      <td>2000-06-03 00:00:00</td>\n",
       "      <td>Research</td>\n",
       "      <td>I'm getting crazy.&lt;p&gt;Is it really impossible t...</td>\n",
       "      <td>get crazi realli imposs today find french vhs ...</td>\n",
       "      <td>[im, getting, crazy, really, impossible, today...</td>\n",
       "    </tr>\n",
       "    <tr>\n",
       "      <th>11</th>\n",
       "      <td>1245</td>\n",
       "      <td>B00002Z754</td>\n",
       "      <td>A29Z5PI9BW2PU3</td>\n",
       "      <td>Robbie</td>\n",
       "      <td>7</td>\n",
       "      <td>7</td>\n",
       "      <td>positive</td>\n",
       "      <td>2000-06-23 00:00:00</td>\n",
       "      <td>Great Product</td>\n",
       "      <td>This was a really good idea and the final prod...</td>\n",
       "      <td>realli good idea final product outstand use de...</td>\n",
       "      <td>[really, good, idea, final, product, outstandi...</td>\n",
       "    </tr>\n",
       "    <tr>\n",
       "      <th>12</th>\n",
       "      <td>1244</td>\n",
       "      <td>B00002Z754</td>\n",
       "      <td>A3B8RCEI0FXFI6</td>\n",
       "      <td>B G Chase</td>\n",
       "      <td>10</td>\n",
       "      <td>10</td>\n",
       "      <td>positive</td>\n",
       "      <td>2000-06-29 00:00:00</td>\n",
       "      <td>WOW Make your own 'slickers' !</td>\n",
       "      <td>I just received my shipment and could hardly w...</td>\n",
       "      <td>receiv shipment could hard wait tri product lo...</td>\n",
       "      <td>[received, shipment, could, hardly, wait, try,...</td>\n",
       "    </tr>\n",
       "    <tr>\n",
       "      <th>13</th>\n",
       "      <td>131217</td>\n",
       "      <td>B00004RAMX</td>\n",
       "      <td>A5NQLNC6QPGSI</td>\n",
       "      <td>Kim Nason</td>\n",
       "      <td>7</td>\n",
       "      <td>8</td>\n",
       "      <td>positive</td>\n",
       "      <td>2000-07-31 00:00:00</td>\n",
       "      <td>End your Gopher Problems</td>\n",
       "      <td>I have just recently purchased the Woodstream ...</td>\n",
       "      <td>recent purchas woodstream corp gopher trap wit...</td>\n",
       "      <td>[recently, purchased, woodstream, corp, 0610, ...</td>\n",
       "    </tr>\n",
       "    <tr>\n",
       "      <th>14</th>\n",
       "      <td>149770</td>\n",
       "      <td>B00004S1C5</td>\n",
       "      <td>A1KXONFPU2XQ5K</td>\n",
       "      <td>Stephanie Manley</td>\n",
       "      <td>8</td>\n",
       "      <td>8</td>\n",
       "      <td>positive</td>\n",
       "      <td>2000-08-09 00:00:00</td>\n",
       "      <td>Very easy to use</td>\n",
       "      <td>This are so much easier to use than the Wilson...</td>\n",
       "      <td>much easier use wilson past color color vibran...</td>\n",
       "      <td>[much, easier, use, wilson, paste, colors, col...</td>\n",
       "    </tr>\n",
       "    <tr>\n",
       "      <th>15</th>\n",
       "      <td>149789</td>\n",
       "      <td>B00004S1C6</td>\n",
       "      <td>A1KXONFPU2XQ5K</td>\n",
       "      <td>Stephanie Manley</td>\n",
       "      <td>26</td>\n",
       "      <td>28</td>\n",
       "      <td>positive</td>\n",
       "      <td>2000-08-09 00:00:00</td>\n",
       "      <td>A must have!</td>\n",
       "      <td>These are easy to use, they do not make a mess...</td>\n",
       "      <td>easi use make mess offer vibrant color taint d...</td>\n",
       "      <td>[easy, use, make, mess, offer, vibrant, colors...</td>\n",
       "    </tr>\n",
       "    <tr>\n",
       "      <th>16</th>\n",
       "      <td>374421</td>\n",
       "      <td>B00004CI84</td>\n",
       "      <td>A1FJOY14X3MUHE</td>\n",
       "      <td>Justin Howard</td>\n",
       "      <td>2</td>\n",
       "      <td>2</td>\n",
       "      <td>positive</td>\n",
       "      <td>2000-08-15 00:00:00</td>\n",
       "      <td>A fresh, original film from master storyteller...</td>\n",
       "      <td>This is such a great film, I don't even know h...</td>\n",
       "      <td>great film dont even know sum first complet or...</td>\n",
       "      <td>[great, film, dont, even, know, sum, first, co...</td>\n",
       "    </tr>\n",
       "    <tr>\n",
       "      <th>17</th>\n",
       "      <td>374408</td>\n",
       "      <td>B00004CI84</td>\n",
       "      <td>A1GB1Q193DNFGR</td>\n",
       "      <td>Bruce Lee Pullen</td>\n",
       "      <td>5</td>\n",
       "      <td>5</td>\n",
       "      <td>positive</td>\n",
       "      <td>2000-10-03 00:00:00</td>\n",
       "      <td>Fabulous Comedic Fanasy Directed by a Master</td>\n",
       "      <td>Beetlejuice is an awe-inspiring wonderfully am...</td>\n",
       "      <td>beetlejuic wonder amus comed romp explor incre...</td>\n",
       "      <td>[beetlejuice, awe-inspiring, wonderfully, amus...</td>\n",
       "    </tr>\n",
       "    <tr>\n",
       "      <th>18</th>\n",
       "      <td>149768</td>\n",
       "      <td>B00004S1C5</td>\n",
       "      <td>A7P76IGRZZBFJ</td>\n",
       "      <td>E. Thompson \"Soooooper Genius\"</td>\n",
       "      <td>18</td>\n",
       "      <td>18</td>\n",
       "      <td>positive</td>\n",
       "      <td>2000-12-05 00:00:00</td>\n",
       "      <td>Who Needs Wilton?</td>\n",
       "      <td>I'm sick of scads of nasty toothpicks all over...</td>\n",
       "      <td>sick scad nasti toothpick counter tint concept...</td>\n",
       "      <td>[im, sick, scads, nasty, toothpicks, counter, ...</td>\n",
       "    </tr>\n",
       "    <tr>\n",
       "      <th>19</th>\n",
       "      <td>374383</td>\n",
       "      <td>B00004CI84</td>\n",
       "      <td>A34NBH479RB0E</td>\n",
       "      <td>\"dmab6395\"</td>\n",
       "      <td>0</td>\n",
       "      <td>1</td>\n",
       "      <td>positive</td>\n",
       "      <td>2000-12-19 00:00:00</td>\n",
       "      <td>FUNNY</td>\n",
       "      <td>I THOUGHT THIS MOVIE WAS SO FUNNY, MICHAEL KEA...</td>\n",
       "      <td>thought movi funni michael keaton beetlejuic r...</td>\n",
       "      <td>[thought, movie, funny, michael, keaton, beetl...</td>\n",
       "    </tr>\n",
       "    <tr>\n",
       "      <th>20</th>\n",
       "      <td>374358</td>\n",
       "      <td>B00004CI84</td>\n",
       "      <td>A1HWMNSQF14MP8</td>\n",
       "      <td>will@socialaw.com</td>\n",
       "      <td>1</td>\n",
       "      <td>2</td>\n",
       "      <td>positive</td>\n",
       "      <td>2000-12-30 00:00:00</td>\n",
       "      <td>A Afterlife Success</td>\n",
       "      <td>Many movies, have dealt with the figure of dea...</td>\n",
       "      <td>mani movi dealt figur death dead good angel cl...</td>\n",
       "      <td>[many, movies, dealt, figure, death, dead, goo...</td>\n",
       "    </tr>\n",
       "    <tr>\n",
       "      <th>21</th>\n",
       "      <td>149790</td>\n",
       "      <td>B00004S1C6</td>\n",
       "      <td>A1IU7S4HCK1XK0</td>\n",
       "      <td>Joanna Daneman</td>\n",
       "      <td>25</td>\n",
       "      <td>27</td>\n",
       "      <td>positive</td>\n",
       "      <td>2001-02-22 00:00:00</td>\n",
       "      <td>Make your own Martha Stewart style cakes and c...</td>\n",
       "      <td>I don't know why anyone would ever use those l...</td>\n",
       "      <td>dont know anyon would ever use littl liquid fo...</td>\n",
       "      <td>[dont, know, anyone, would, ever, use, little,...</td>\n",
       "    </tr>\n",
       "    <tr>\n",
       "      <th>22</th>\n",
       "      <td>451923</td>\n",
       "      <td>B00004CXX9</td>\n",
       "      <td>ANIMV3SPDD8SH</td>\n",
       "      <td>Guy De Federicis</td>\n",
       "      <td>1</td>\n",
       "      <td>12</td>\n",
       "      <td>negative</td>\n",
       "      <td>2001-06-11 00:00:00</td>\n",
       "      <td>CASPER IS THE GHOST WITH THE MOST</td>\n",
       "      <td>Michael Keaton brings no distinguishing charac...</td>\n",
       "      <td>michael keaton bring distinguish characterist ...</td>\n",
       "      <td>[michael, keaton, brings, distinguishing, char...</td>\n",
       "    </tr>\n",
       "    <tr>\n",
       "      <th>23</th>\n",
       "      <td>374339</td>\n",
       "      <td>B00004CI84</td>\n",
       "      <td>AZRJH4JFB59VC</td>\n",
       "      <td>Lynwood E. Hines</td>\n",
       "      <td>21</td>\n",
       "      <td>23</td>\n",
       "      <td>negative</td>\n",
       "      <td>2001-08-08 00:00:00</td>\n",
       "      <td>Great movie, terrible DVD</td>\n",
       "      <td>I am continually amazed at the shoddy treatmen...</td>\n",
       "      <td>continu amaz shoddi treatment movi get dvd rel...</td>\n",
       "      <td>[continually, amazed, shoddy, treatment, movie...</td>\n",
       "    </tr>\n",
       "    <tr>\n",
       "      <th>24</th>\n",
       "      <td>374449</td>\n",
       "      <td>B00004CI84</td>\n",
       "      <td>A3K3YJWV0N54ZO</td>\n",
       "      <td>Joey</td>\n",
       "      <td>2</td>\n",
       "      <td>3</td>\n",
       "      <td>positive</td>\n",
       "      <td>2001-09-24 00:00:00</td>\n",
       "      <td>Beetlejuice is a greatmovie, but they cheated ...</td>\n",
       "      <td>Just to warn you. when in trying to trick you ...</td>\n",
       "      <td>warn tri trick widescreen format compani made ...</td>\n",
       "      <td>[warn, trying, trick, widescreen, format, comp...</td>\n",
       "    </tr>\n",
       "    <tr>\n",
       "      <th>25</th>\n",
       "      <td>149792</td>\n",
       "      <td>B00004S1C6</td>\n",
       "      <td>A3B5QJVM1TLYJG</td>\n",
       "      <td>Dan Crevier</td>\n",
       "      <td>11</td>\n",
       "      <td>12</td>\n",
       "      <td>positive</td>\n",
       "      <td>2001-10-23 00:00:00</td>\n",
       "      <td>Nice, bright colors!</td>\n",
       "      <td>I bought these to decorate some dia de los mue...</td>\n",
       "      <td>bought decor dia los muerto skull ice ateco fo...</td>\n",
       "      <td>[bought, decorate, dia, de, los, muertos, skul...</td>\n",
       "    </tr>\n",
       "    <tr>\n",
       "      <th>26</th>\n",
       "      <td>374335</td>\n",
       "      <td>B00004CI84</td>\n",
       "      <td>A3L5V40F14R2GP</td>\n",
       "      <td>AARON</td>\n",
       "      <td>0</td>\n",
       "      <td>0</td>\n",
       "      <td>positive</td>\n",
       "      <td>2001-10-26 00:00:00</td>\n",
       "      <td>Beetlejuice! Beetlejuice! Beatlejuice!</td>\n",
       "      <td>Winona Ryder is HOT! HOT! HOT! as the gothic d...</td>\n",
       "      <td>winona ryder hot hot hot gothic princess doom ...</td>\n",
       "      <td>[winona, ryder, hot, hot, hot, gothic, death-r...</td>\n",
       "    </tr>\n",
       "    <tr>\n",
       "      <th>27</th>\n",
       "      <td>150500</td>\n",
       "      <td>0006641040</td>\n",
       "      <td>A1IJKK6Q1GTEAY</td>\n",
       "      <td>A Customer</td>\n",
       "      <td>2</td>\n",
       "      <td>2</td>\n",
       "      <td>positive</td>\n",
       "      <td>2001-12-26 00:00:00</td>\n",
       "      <td>It Was a favorite!</td>\n",
       "      <td>This was a favorite book of mine when I was a ...</td>\n",
       "      <td>favorit book mine littl girl would read time m...</td>\n",
       "      <td>[favorite, book, mine, little, girl, would, re...</td>\n",
       "    </tr>\n",
       "    <tr>\n",
       "      <th>28</th>\n",
       "      <td>361317</td>\n",
       "      <td>B00005IX96</td>\n",
       "      <td>A3ODTU118FKC5J</td>\n",
       "      <td>Rosemarie E Smith</td>\n",
       "      <td>5</td>\n",
       "      <td>7</td>\n",
       "      <td>positive</td>\n",
       "      <td>2002-01-06 00:00:00</td>\n",
       "      <td>A little piece of heaven.</td>\n",
       "      <td>For years I have been trying to simulate a tru...</td>\n",
       "      <td>year tri simul truli italian espresso cappucci...</td>\n",
       "      <td>[years, trying, simulate, truly, italian, espr...</td>\n",
       "    </tr>\n",
       "    <tr>\n",
       "      <th>29</th>\n",
       "      <td>374334</td>\n",
       "      <td>B00004CI84</td>\n",
       "      <td>A2HIZRVOKXKZ52</td>\n",
       "      <td>KAY N. FOWLER</td>\n",
       "      <td>0</td>\n",
       "      <td>0</td>\n",
       "      <td>positive</td>\n",
       "      <td>2002-02-04 00:00:00</td>\n",
       "      <td>Beetlejuice - Great Fun for Everyone!</td>\n",
       "      <td>When vacationing Adam and Barbara Maitland mee...</td>\n",
       "      <td>vacat adam barbara maitland meet demis kill lo...</td>\n",
       "      <td>[vacationing, adam, barbara, maitland, meet, d...</td>\n",
       "    </tr>\n",
       "    <tr>\n",
       "      <th>...</th>\n",
       "      <td>...</td>\n",
       "      <td>...</td>\n",
       "      <td>...</td>\n",
       "      <td>...</td>\n",
       "      <td>...</td>\n",
       "      <td>...</td>\n",
       "      <td>...</td>\n",
       "      <td>...</td>\n",
       "      <td>...</td>\n",
       "      <td>...</td>\n",
       "      <td>...</td>\n",
       "      <td>...</td>\n",
       "    </tr>\n",
       "    <tr>\n",
       "      <th>364141</th>\n",
       "      <td>5924</td>\n",
       "      <td>B00523NRVO</td>\n",
       "      <td>A2JDXKFZ0PFHKU</td>\n",
       "      <td>James W. Shondel</td>\n",
       "      <td>0</td>\n",
       "      <td>0</td>\n",
       "      <td>positive</td>\n",
       "      <td>2012-10-26 00:00:00</td>\n",
       "      <td>The perfect pop!</td>\n",
       "      <td>These lollipops are are well done, look exactl...</td>\n",
       "      <td>lollipop well done look exact like pictur sing...</td>\n",
       "      <td>[lollipops, well, done, look, exactly, like, p...</td>\n",
       "    </tr>\n",
       "    <tr>\n",
       "      <th>364142</th>\n",
       "      <td>480032</td>\n",
       "      <td>B003IHO8OG</td>\n",
       "      <td>A21XO4RCPWMEVK</td>\n",
       "      <td>The Prufessa</td>\n",
       "      <td>0</td>\n",
       "      <td>0</td>\n",
       "      <td>positive</td>\n",
       "      <td>2012-10-26 00:00:00</td>\n",
       "      <td>Gives Me The Focus I Need</td>\n",
       "      <td>This past summer I started experimenting with ...</td>\n",
       "      <td>past summer start experi product claim give fo...</td>\n",
       "      <td>[past, summer, started, experimenting, product...</td>\n",
       "    </tr>\n",
       "    <tr>\n",
       "      <th>364143</th>\n",
       "      <td>205938</td>\n",
       "      <td>B00005C2M2</td>\n",
       "      <td>A3IVNUHADVJKFA</td>\n",
       "      <td>Krystalyn A Kirschner</td>\n",
       "      <td>0</td>\n",
       "      <td>0</td>\n",
       "      <td>positive</td>\n",
       "      <td>2012-10-26 00:00:00</td>\n",
       "      <td>Perfect Gift</td>\n",
       "      <td>I got these to give out in a goodie bag for th...</td>\n",
       "      <td>got give goodi bag holiday coupl extra cours a...</td>\n",
       "      <td>[got, give, goodie, bag, holidays, couple, ext...</td>\n",
       "    </tr>\n",
       "    <tr>\n",
       "      <th>364144</th>\n",
       "      <td>126741</td>\n",
       "      <td>B003IHO8LE</td>\n",
       "      <td>A1ZR68U4ZVLQCQ</td>\n",
       "      <td>Kenneth R. Hunt</td>\n",
       "      <td>0</td>\n",
       "      <td>0</td>\n",
       "      <td>positive</td>\n",
       "      <td>2012-10-26 00:00:00</td>\n",
       "      <td>Subtle yet effective</td>\n",
       "      <td>Though I, like many, aren't happy with the pri...</td>\n",
       "      <td>though like mani arent happi price work ive dr...</td>\n",
       "      <td>[though, like, many, arent, happy, price, work...</td>\n",
       "    </tr>\n",
       "    <tr>\n",
       "      <th>364145</th>\n",
       "      <td>478718</td>\n",
       "      <td>B00529PECI</td>\n",
       "      <td>A3H4L7TJKQHW4Q</td>\n",
       "      <td>notAyesperson \"Always in search of good books\"</td>\n",
       "      <td>0</td>\n",
       "      <td>0</td>\n",
       "      <td>negative</td>\n",
       "      <td>2012-10-26 00:00:00</td>\n",
       "      <td>One of the better one's</td>\n",
       "      <td>I tried one stick of this, and two other flavo...</td>\n",
       "      <td>tri one stick two flavor salmon tough break ha...</td>\n",
       "      <td>[tried, one, stick, two, flavors, salmon, toug...</td>\n",
       "    </tr>\n",
       "    <tr>\n",
       "      <th>364146</th>\n",
       "      <td>552162</td>\n",
       "      <td>B008PYVINQ</td>\n",
       "      <td>A1DRWYIO7JN1MD</td>\n",
       "      <td>Charles h</td>\n",
       "      <td>0</td>\n",
       "      <td>0</td>\n",
       "      <td>negative</td>\n",
       "      <td>2012-10-26 00:00:00</td>\n",
       "      <td>bot very cheesy</td>\n",
       "      <td>Got this about a month ago.first of all it sme...</td>\n",
       "      <td>got month ago first smell horribl tast pepperi...</td>\n",
       "      <td>[got, month, ago, first, smells, horrible, tas...</td>\n",
       "    </tr>\n",
       "    <tr>\n",
       "      <th>364147</th>\n",
       "      <td>150285</td>\n",
       "      <td>B001SAVSHU</td>\n",
       "      <td>A1SGK9Z6F04XI5</td>\n",
       "      <td>Ann L. Everett \"Grandmother Ann\"</td>\n",
       "      <td>0</td>\n",
       "      <td>0</td>\n",
       "      <td>positive</td>\n",
       "      <td>2012-10-26 00:00:00</td>\n",
       "      <td>Sesame seed packets from Amazon</td>\n",
       "      <td>I particularly like this method of packaging. ...</td>\n",
       "      <td>particular like method packag dont use lot mos...</td>\n",
       "      <td>[particularly, like, method, packaging, dont, ...</td>\n",
       "    </tr>\n",
       "    <tr>\n",
       "      <th>364148</th>\n",
       "      <td>518008</td>\n",
       "      <td>B00529PFX6</td>\n",
       "      <td>A3H4L7TJKQHW4Q</td>\n",
       "      <td>notAyesperson \"Always in search of good books\"</td>\n",
       "      <td>0</td>\n",
       "      <td>0</td>\n",
       "      <td>negative</td>\n",
       "      <td>2012-10-26 00:00:00</td>\n",
       "      <td>Expensive</td>\n",
       "      <td>This is too expensive and very tough and salty...</td>\n",
       "      <td>expens tough salti tri piec care much even tra...</td>\n",
       "      <td>[expensive, tough, salty, tried, piece, care, ...</td>\n",
       "    </tr>\n",
       "    <tr>\n",
       "      <th>364149</th>\n",
       "      <td>206554</td>\n",
       "      <td>B003HFA3XY</td>\n",
       "      <td>A1PLO6OW6O2Z1</td>\n",
       "      <td>Debra Sandifer \"lldcs\"</td>\n",
       "      <td>0</td>\n",
       "      <td>0</td>\n",
       "      <td>negative</td>\n",
       "      <td>2012-10-26 00:00:00</td>\n",
       "      <td>Not very tasty!</td>\n",
       "      <td>I love Arnold Plamer's and Starbucks has the b...</td>\n",
       "      <td>love arnold plamer starbuck best black tea lem...</td>\n",
       "      <td>[love, arnold, plamers, starbucks, best, black...</td>\n",
       "    </tr>\n",
       "    <tr>\n",
       "      <th>364150</th>\n",
       "      <td>518539</td>\n",
       "      <td>B0002YW26E</td>\n",
       "      <td>A506HOOCVL8GW</td>\n",
       "      <td>J. Kurz \"J. Q. Public\"</td>\n",
       "      <td>0</td>\n",
       "      <td>0</td>\n",
       "      <td>positive</td>\n",
       "      <td>2012-10-26 00:00:00</td>\n",
       "      <td>You won't believe what you'll catch!</td>\n",
       "      <td>I have been using this product for many years....</td>\n",
       "      <td>use product mani year great method control ins...</td>\n",
       "      <td>[using, product, many, years, great, non-poiso...</td>\n",
       "    </tr>\n",
       "    <tr>\n",
       "      <th>364151</th>\n",
       "      <td>368402</td>\n",
       "      <td>B007689U8W</td>\n",
       "      <td>A3FW29GQ2BNLHI</td>\n",
       "      <td>M. Spalding</td>\n",
       "      <td>0</td>\n",
       "      <td>0</td>\n",
       "      <td>positive</td>\n",
       "      <td>2012-10-26 00:00:00</td>\n",
       "      <td>Outstanding!</td>\n",
       "      <td>Fantastic flavor! The dark chocolate is creamy...</td>\n",
       "      <td>fantast flavor dark chocol creami rich bitter ...</td>\n",
       "      <td>[fantastic, flavor, dark, chocolate, creamy, r...</td>\n",
       "    </tr>\n",
       "    <tr>\n",
       "      <th>364152</th>\n",
       "      <td>170765</td>\n",
       "      <td>B00765PU2K</td>\n",
       "      <td>A1HZOO8M8RMQUR</td>\n",
       "      <td>S. Jensen \"gardener\"</td>\n",
       "      <td>0</td>\n",
       "      <td>0</td>\n",
       "      <td>positive</td>\n",
       "      <td>2012-10-26 00:00:00</td>\n",
       "      <td>Just what I expected!</td>\n",
       "      <td>I bought these in order to make vanilla and ka...</td>\n",
       "      <td>bought order make vanilla kahlua christma gift...</td>\n",
       "      <td>[bought, order, make, vanilla, kahlua, christm...</td>\n",
       "    </tr>\n",
       "    <tr>\n",
       "      <th>364153</th>\n",
       "      <td>551936</td>\n",
       "      <td>B000Y2CT6M</td>\n",
       "      <td>A4QPC05GM1H32</td>\n",
       "      <td>hollis101</td>\n",
       "      <td>0</td>\n",
       "      <td>0</td>\n",
       "      <td>positive</td>\n",
       "      <td>2012-10-26 00:00:00</td>\n",
       "      <td>Fantastic Instant Refried beans</td>\n",
       "      <td>Fantastic Instant Refried Beans have been a st...</td>\n",
       "      <td>fantast instant refri bean stapl famili near y...</td>\n",
       "      <td>[fantastic, instant, refried, beans, staple, f...</td>\n",
       "    </tr>\n",
       "    <tr>\n",
       "      <th>364154</th>\n",
       "      <td>256792</td>\n",
       "      <td>B003G52BN0</td>\n",
       "      <td>A2O4V3MCB7EPPU</td>\n",
       "      <td>Bellingham Bookworm</td>\n",
       "      <td>0</td>\n",
       "      <td>0</td>\n",
       "      <td>positive</td>\n",
       "      <td>2012-10-26 00:00:00</td>\n",
       "      <td>One of my favorite K-cups flavors</td>\n",
       "      <td>This is one of my favorite k-cup flavors.  The...</td>\n",
       "      <td>one favorit flavor coffe roast mild right amou...</td>\n",
       "      <td>[one, favorite, k-cup, flavors, coffee, roast,...</td>\n",
       "    </tr>\n",
       "    <tr>\n",
       "      <th>364155</th>\n",
       "      <td>477560</td>\n",
       "      <td>B000084ETY</td>\n",
       "      <td>A1HRYC60VTMYC0</td>\n",
       "      <td>Ace</td>\n",
       "      <td>0</td>\n",
       "      <td>0</td>\n",
       "      <td>positive</td>\n",
       "      <td>2012-10-26 00:00:00</td>\n",
       "      <td>Cee Cee LOOOVES it, This I Know</td>\n",
       "      <td>The only reason I am giving it 4 stars instead...</td>\n",
       "      <td>reason give star instead star strang design su...</td>\n",
       "      <td>[reason, giving, 4, stars, instead, 5, stars, ...</td>\n",
       "    </tr>\n",
       "    <tr>\n",
       "      <th>364156</th>\n",
       "      <td>372663</td>\n",
       "      <td>B0083T6HC0</td>\n",
       "      <td>A3O8OORDK17OBT</td>\n",
       "      <td>N. Clark</td>\n",
       "      <td>0</td>\n",
       "      <td>0</td>\n",
       "      <td>negative</td>\n",
       "      <td>2012-10-26 00:00:00</td>\n",
       "      <td>Steer Clear-not as described</td>\n",
       "      <td>I wanted to try different K cups and didnt wan...</td>\n",
       "      <td>want tri differ cup didnt want buy entir box c...</td>\n",
       "      <td>[wanted, try, different, k, cups, didnt, want,...</td>\n",
       "    </tr>\n",
       "    <tr>\n",
       "      <th>364157</th>\n",
       "      <td>122941</td>\n",
       "      <td>B0054ES1MG</td>\n",
       "      <td>A25QCYSED869Q3</td>\n",
       "      <td>EmoMiami</td>\n",
       "      <td>0</td>\n",
       "      <td>0</td>\n",
       "      <td>positive</td>\n",
       "      <td>2012-10-26 00:00:00</td>\n",
       "      <td>If you like mint candy......</td>\n",
       "      <td>This is the best hard mint candy in the world....</td>\n",
       "      <td>best hard mint candi world expens though cant ...</td>\n",
       "      <td>[best, hard, mint, candy, world, expensive, th...</td>\n",
       "    </tr>\n",
       "    <tr>\n",
       "      <th>364158</th>\n",
       "      <td>327910</td>\n",
       "      <td>B0075JTJ42</td>\n",
       "      <td>A20SW5W6FQU0TY</td>\n",
       "      <td>felipe restrepo</td>\n",
       "      <td>0</td>\n",
       "      <td>0</td>\n",
       "      <td>positive</td>\n",
       "      <td>2012-10-26 00:00:00</td>\n",
       "      <td>Nice</td>\n",
       "      <td>Super give me full recovery after training in ...</td>\n",
       "      <td>super give full recoveri train gym nice flavor...</td>\n",
       "      <td>[super, give, full, recovery, training, gym, n...</td>\n",
       "    </tr>\n",
       "    <tr>\n",
       "      <th>364159</th>\n",
       "      <td>461154</td>\n",
       "      <td>B0002NVKZ4</td>\n",
       "      <td>A94YB71KEDA3X</td>\n",
       "      <td>Joy</td>\n",
       "      <td>0</td>\n",
       "      <td>0</td>\n",
       "      <td>positive</td>\n",
       "      <td>2012-10-26 00:00:00</td>\n",
       "      <td>Our pantry staple!</td>\n",
       "      <td>I first tried these last year and absolutely f...</td>\n",
       "      <td>first tri last year absolut fell love fresh mu...</td>\n",
       "      <td>[first, tried, last, year, absolutely, fell, l...</td>\n",
       "    </tr>\n",
       "    <tr>\n",
       "      <th>364160</th>\n",
       "      <td>148075</td>\n",
       "      <td>B001R3BQNY</td>\n",
       "      <td>A1EAVF2W1QBTU1</td>\n",
       "      <td>M. Mack \"mack85\"</td>\n",
       "      <td>0</td>\n",
       "      <td>0</td>\n",
       "      <td>positive</td>\n",
       "      <td>2012-10-26 00:00:00</td>\n",
       "      <td>WoW I was a Phsyco path at work</td>\n",
       "      <td>Finally I was a physo path at work! I go in at...</td>\n",
       "      <td>final physo path work normali tire put packet ...</td>\n",
       "      <td>[finally, physo, path, work, go, 3:30am, norma...</td>\n",
       "    </tr>\n",
       "    <tr>\n",
       "      <th>364161</th>\n",
       "      <td>98294</td>\n",
       "      <td>B0002LY6W0</td>\n",
       "      <td>A1BX08Y0GIT5RU</td>\n",
       "      <td>L. Nguyen \"Always on the lookout for a good d...</td>\n",
       "      <td>0</td>\n",
       "      <td>0</td>\n",
       "      <td>positive</td>\n",
       "      <td>2012-10-26 00:00:00</td>\n",
       "      <td>The BEST fig spread on the market</td>\n",
       "      <td>This is my go to spread when I serve a cheese ...</td>\n",
       "      <td>spread serv chees platter goe well soft chees ...</td>\n",
       "      <td>[go, spread, serve, cheese, platter, goes, wel...</td>\n",
       "    </tr>\n",
       "    <tr>\n",
       "      <th>364162</th>\n",
       "      <td>423201</td>\n",
       "      <td>B0055RU9RC</td>\n",
       "      <td>A1PLO6OW6O2Z1</td>\n",
       "      <td>Debra Sandifer \"lldcs\"</td>\n",
       "      <td>0</td>\n",
       "      <td>0</td>\n",
       "      <td>positive</td>\n",
       "      <td>2012-10-26 00:00:00</td>\n",
       "      <td>Love it!</td>\n",
       "      <td>My dog has digestive issues and this product w...</td>\n",
       "      <td>dog digest issu product work great sure love t...</td>\n",
       "      <td>[dog, digestive, issues, product, works, great...</td>\n",
       "    </tr>\n",
       "    <tr>\n",
       "      <th>364163</th>\n",
       "      <td>330055</td>\n",
       "      <td>B0057QFOK8</td>\n",
       "      <td>AFRQ2IIV4MBLK</td>\n",
       "      <td>Itserk Noddyl \"Dedicated Reader\"</td>\n",
       "      <td>0</td>\n",
       "      <td>0</td>\n",
       "      <td>positive</td>\n",
       "      <td>2012-10-26 00:00:00</td>\n",
       "      <td>Yum!!</td>\n",
       "      <td>I go through a lot of this garlic olive oil - ...</td>\n",
       "      <td>lot garlic oliv oil use mani savori dish husba...</td>\n",
       "      <td>[go, lot, garlic, olive, oil, -, using, many, ...</td>\n",
       "    </tr>\n",
       "    <tr>\n",
       "      <th>364164</th>\n",
       "      <td>469063</td>\n",
       "      <td>B00750E0X6</td>\n",
       "      <td>A2CPS5MWG87O7E</td>\n",
       "      <td>k.kollevoll</td>\n",
       "      <td>0</td>\n",
       "      <td>0</td>\n",
       "      <td>negative</td>\n",
       "      <td>2012-10-26 00:00:00</td>\n",
       "      <td>not what i expected</td>\n",
       "      <td>when i ordered this i expected a big box full ...</td>\n",
       "      <td>order expect big box full fortun cooki like on...</td>\n",
       "      <td>[ordered, expected, big, box, full, fortune, c...</td>\n",
       "    </tr>\n",
       "    <tr>\n",
       "      <th>364165</th>\n",
       "      <td>298945</td>\n",
       "      <td>B0012C2GFM</td>\n",
       "      <td>A2T28XGN21AZ0A</td>\n",
       "      <td>Hubert Farnsworth</td>\n",
       "      <td>0</td>\n",
       "      <td>0</td>\n",
       "      <td>negative</td>\n",
       "      <td>2012-10-26 00:00:00</td>\n",
       "      <td>Super healthy but tastes like ass</td>\n",
       "      <td>I have no idea what these people are thinking ...</td>\n",
       "      <td>idea peopl think say stuff tast great must wor...</td>\n",
       "      <td>[idea, people, thinking, saying, stuff, tastes...</td>\n",
       "    </tr>\n",
       "    <tr>\n",
       "      <th>364166</th>\n",
       "      <td>552637</td>\n",
       "      <td>B0012EYELE</td>\n",
       "      <td>AWQOTHBNJBSVB</td>\n",
       "      <td>Gregory E. Grant \"GG\"</td>\n",
       "      <td>0</td>\n",
       "      <td>0</td>\n",
       "      <td>negative</td>\n",
       "      <td>2012-10-26 00:00:00</td>\n",
       "      <td>Couldn't tell you how it tasted</td>\n",
       "      <td>The bottle was not sealed, and when I opened t...</td>\n",
       "      <td>bottl seal open cover black crusti stuff top g...</td>\n",
       "      <td>[bottle, sealed, opened, cover, black, crusty,...</td>\n",
       "    </tr>\n",
       "    <tr>\n",
       "      <th>364167</th>\n",
       "      <td>306008</td>\n",
       "      <td>B0058CGLH6</td>\n",
       "      <td>A3QRR5YN6ALFPG</td>\n",
       "      <td>james a riche</td>\n",
       "      <td>0</td>\n",
       "      <td>0</td>\n",
       "      <td>negative</td>\n",
       "      <td>2012-10-26 00:00:00</td>\n",
       "      <td>If you like Campbells Pepper pot soup then don...</td>\n",
       "      <td>Not at all like pepper pot soup, it is just a ...</td>\n",
       "      <td>like pepper pot soup crab soup littl flavor wa...</td>\n",
       "      <td>[like, pepper, pot, soup, crab, soup, little, ...</td>\n",
       "    </tr>\n",
       "    <tr>\n",
       "      <th>364168</th>\n",
       "      <td>336872</td>\n",
       "      <td>B0012KB4U2</td>\n",
       "      <td>AGQBI6601XH2R</td>\n",
       "      <td>DaniC</td>\n",
       "      <td>0</td>\n",
       "      <td>0</td>\n",
       "      <td>positive</td>\n",
       "      <td>2012-10-26 00:00:00</td>\n",
       "      <td>Both cats love these!</td>\n",
       "      <td>They only like this brand and flavor of treat....</td>\n",
       "      <td>like brand flavor treat wont soft version one ...</td>\n",
       "      <td>[like, brand, flavor, treat, wont, go, soft, v...</td>\n",
       "    </tr>\n",
       "    <tr>\n",
       "      <th>364169</th>\n",
       "      <td>566798</td>\n",
       "      <td>B001PQTYN2</td>\n",
       "      <td>A3OTHWG8LLCLMU</td>\n",
       "      <td>PACKERS FAN \"Gordon Boone\"</td>\n",
       "      <td>1</td>\n",
       "      <td>1</td>\n",
       "      <td>positive</td>\n",
       "      <td>2012-10-26 00:00:00</td>\n",
       "      <td>Great</td>\n",
       "      <td>If you like a great , hot, sauce then buy this...</td>\n",
       "      <td>like great hot sauc buy spici heat isnt like d...</td>\n",
       "      <td>[like, great, hot, sauce, buy, spicy, heat, is...</td>\n",
       "    </tr>\n",
       "    <tr>\n",
       "      <th>364170</th>\n",
       "      <td>384161</td>\n",
       "      <td>B000EVWQZW</td>\n",
       "      <td>A2PCNXBSKCABG5</td>\n",
       "      <td>Whit</td>\n",
       "      <td>0</td>\n",
       "      <td>0</td>\n",
       "      <td>positive</td>\n",
       "      <td>2012-10-26 00:00:00</td>\n",
       "      <td>Versatile Mix</td>\n",
       "      <td>This mix makes a good bread or can also be use...</td>\n",
       "      <td>mix make good bread also use make pop over nea...</td>\n",
       "      <td>[mix, makes, good, bread, also, used, make, po...</td>\n",
       "    </tr>\n",
       "  </tbody>\n",
       "</table>\n",
       "<p>364171 rows × 12 columns</p>\n",
       "</div>"
      ],
      "text/plain": [
       "            Id   ProductId          UserId  \\\n",
       "0       150524  0006641040   ACITT7DI6IDDL   \n",
       "1       150501  0006641040   AJ46FKXOVC7NR   \n",
       "2       451856  B00004CXX9   AIUWLEQ1ADEG5   \n",
       "3       374359  B00004CI84  A344SMIA5JECGM   \n",
       "4       451855  B00004CXX9   AJH6LUC1UT1ON   \n",
       "5       374422  B00004CI84  A1048CYU0OV4O8   \n",
       "6       374343  B00004CI84   A1B2IZU1JLZA6   \n",
       "7        76882  B00002N8SM  A32DW342WBJ6BX   \n",
       "8       374450  B00004CI84   ACJR7EQF9S6FP   \n",
       "9       374400  B00004CI84  A2DEE7F9XKP3ZR   \n",
       "10      451903  B00004CXX9  A2DEE7F9XKP3ZR   \n",
       "11        1245  B00002Z754  A29Z5PI9BW2PU3   \n",
       "12        1244  B00002Z754  A3B8RCEI0FXFI6   \n",
       "13      131217  B00004RAMX   A5NQLNC6QPGSI   \n",
       "14      149770  B00004S1C5  A1KXONFPU2XQ5K   \n",
       "15      149789  B00004S1C6  A1KXONFPU2XQ5K   \n",
       "16      374421  B00004CI84  A1FJOY14X3MUHE   \n",
       "17      374408  B00004CI84  A1GB1Q193DNFGR   \n",
       "18      149768  B00004S1C5   A7P76IGRZZBFJ   \n",
       "19      374383  B00004CI84   A34NBH479RB0E   \n",
       "20      374358  B00004CI84  A1HWMNSQF14MP8   \n",
       "21      149790  B00004S1C6  A1IU7S4HCK1XK0   \n",
       "22      451923  B00004CXX9   ANIMV3SPDD8SH   \n",
       "23      374339  B00004CI84   AZRJH4JFB59VC   \n",
       "24      374449  B00004CI84  A3K3YJWV0N54ZO   \n",
       "25      149792  B00004S1C6  A3B5QJVM1TLYJG   \n",
       "26      374335  B00004CI84  A3L5V40F14R2GP   \n",
       "27      150500  0006641040  A1IJKK6Q1GTEAY   \n",
       "28      361317  B00005IX96  A3ODTU118FKC5J   \n",
       "29      374334  B00004CI84  A2HIZRVOKXKZ52   \n",
       "...        ...         ...             ...   \n",
       "364141    5924  B00523NRVO  A2JDXKFZ0PFHKU   \n",
       "364142  480032  B003IHO8OG  A21XO4RCPWMEVK   \n",
       "364143  205938  B00005C2M2  A3IVNUHADVJKFA   \n",
       "364144  126741  B003IHO8LE  A1ZR68U4ZVLQCQ   \n",
       "364145  478718  B00529PECI  A3H4L7TJKQHW4Q   \n",
       "364146  552162  B008PYVINQ  A1DRWYIO7JN1MD   \n",
       "364147  150285  B001SAVSHU  A1SGK9Z6F04XI5   \n",
       "364148  518008  B00529PFX6  A3H4L7TJKQHW4Q   \n",
       "364149  206554  B003HFA3XY   A1PLO6OW6O2Z1   \n",
       "364150  518539  B0002YW26E   A506HOOCVL8GW   \n",
       "364151  368402  B007689U8W  A3FW29GQ2BNLHI   \n",
       "364152  170765  B00765PU2K  A1HZOO8M8RMQUR   \n",
       "364153  551936  B000Y2CT6M   A4QPC05GM1H32   \n",
       "364154  256792  B003G52BN0  A2O4V3MCB7EPPU   \n",
       "364155  477560  B000084ETY  A1HRYC60VTMYC0   \n",
       "364156  372663  B0083T6HC0  A3O8OORDK17OBT   \n",
       "364157  122941  B0054ES1MG  A25QCYSED869Q3   \n",
       "364158  327910  B0075JTJ42  A20SW5W6FQU0TY   \n",
       "364159  461154  B0002NVKZ4   A94YB71KEDA3X   \n",
       "364160  148075  B001R3BQNY  A1EAVF2W1QBTU1   \n",
       "364161   98294  B0002LY6W0  A1BX08Y0GIT5RU   \n",
       "364162  423201  B0055RU9RC   A1PLO6OW6O2Z1   \n",
       "364163  330055  B0057QFOK8   AFRQ2IIV4MBLK   \n",
       "364164  469063  B00750E0X6  A2CPS5MWG87O7E   \n",
       "364165  298945  B0012C2GFM  A2T28XGN21AZ0A   \n",
       "364166  552637  B0012EYELE   AWQOTHBNJBSVB   \n",
       "364167  306008  B0058CGLH6  A3QRR5YN6ALFPG   \n",
       "364168  336872  B0012KB4U2   AGQBI6601XH2R   \n",
       "364169  566798  B001PQTYN2  A3OTHWG8LLCLMU   \n",
       "364170  384161  B000EVWQZW  A2PCNXBSKCABG5   \n",
       "\n",
       "                                             ProfileName  \\\n",
       "0                                        shari zychinski   \n",
       "1                                     Nicholas A Mesiano   \n",
       "2                                       Elizabeth Medina   \n",
       "3                                        Vincent P. Ross   \n",
       "4                               The Phantom of the Opera   \n",
       "5                                           Judy L. Eans   \n",
       "6                                                    Wes   \n",
       "7                                            Buttersugar   \n",
       "8                                       Jeremy Robertson   \n",
       "9                                                 jerome   \n",
       "10                                                jerome   \n",
       "11                                                Robbie   \n",
       "12                                             B G Chase   \n",
       "13                                             Kim Nason   \n",
       "14                                      Stephanie Manley   \n",
       "15                                      Stephanie Manley   \n",
       "16                                         Justin Howard   \n",
       "17                                      Bruce Lee Pullen   \n",
       "18                        E. Thompson \"Soooooper Genius\"   \n",
       "19                                            \"dmab6395\"   \n",
       "20                                     will@socialaw.com   \n",
       "21                                        Joanna Daneman   \n",
       "22                                      Guy De Federicis   \n",
       "23                                      Lynwood E. Hines   \n",
       "24                                                  Joey   \n",
       "25                                           Dan Crevier   \n",
       "26                                                 AARON   \n",
       "27                                            A Customer   \n",
       "28                                     Rosemarie E Smith   \n",
       "29                                         KAY N. FOWLER   \n",
       "...                                                  ...   \n",
       "364141                                  James W. Shondel   \n",
       "364142                                      The Prufessa   \n",
       "364143                             Krystalyn A Kirschner   \n",
       "364144                                   Kenneth R. Hunt   \n",
       "364145    notAyesperson \"Always in search of good books\"   \n",
       "364146                                         Charles h   \n",
       "364147                  Ann L. Everett \"Grandmother Ann\"   \n",
       "364148    notAyesperson \"Always in search of good books\"   \n",
       "364149                            Debra Sandifer \"lldcs\"   \n",
       "364150                            J. Kurz \"J. Q. Public\"   \n",
       "364151                                       M. Spalding   \n",
       "364152                              S. Jensen \"gardener\"   \n",
       "364153                                         hollis101   \n",
       "364154                               Bellingham Bookworm   \n",
       "364155                                               Ace   \n",
       "364156                                          N. Clark   \n",
       "364157                                          EmoMiami   \n",
       "364158                                   felipe restrepo   \n",
       "364159                                               Joy   \n",
       "364160                                  M. Mack \"mack85\"   \n",
       "364161  L. Nguyen \"Always on the lookout for a good d...   \n",
       "364162                            Debra Sandifer \"lldcs\"   \n",
       "364163                  Itserk Noddyl \"Dedicated Reader\"   \n",
       "364164                                       k.kollevoll   \n",
       "364165                                 Hubert Farnsworth   \n",
       "364166                             Gregory E. Grant \"GG\"   \n",
       "364167                                     james a riche   \n",
       "364168                                             DaniC   \n",
       "364169                        PACKERS FAN \"Gordon Boone\"   \n",
       "364170                                              Whit   \n",
       "\n",
       "        HelpfulnessNumerator  HelpfulnessDenominator     Score  \\\n",
       "0                          0                       0  positive   \n",
       "1                          2                       2  positive   \n",
       "2                          0                       0  positive   \n",
       "3                          1                       2  positive   \n",
       "4                          0                       0  positive   \n",
       "5                          2                       2  positive   \n",
       "6                         19                      23  negative   \n",
       "7                          0                       0  positive   \n",
       "8                          2                       3  positive   \n",
       "9                          0                       3  positive   \n",
       "10                         0                       1  positive   \n",
       "11                         7                       7  positive   \n",
       "12                        10                      10  positive   \n",
       "13                         7                       8  positive   \n",
       "14                         8                       8  positive   \n",
       "15                        26                      28  positive   \n",
       "16                         2                       2  positive   \n",
       "17                         5                       5  positive   \n",
       "18                        18                      18  positive   \n",
       "19                         0                       1  positive   \n",
       "20                         1                       2  positive   \n",
       "21                        25                      27  positive   \n",
       "22                         1                      12  negative   \n",
       "23                        21                      23  negative   \n",
       "24                         2                       3  positive   \n",
       "25                        11                      12  positive   \n",
       "26                         0                       0  positive   \n",
       "27                         2                       2  positive   \n",
       "28                         5                       7  positive   \n",
       "29                         0                       0  positive   \n",
       "...                      ...                     ...       ...   \n",
       "364141                     0                       0  positive   \n",
       "364142                     0                       0  positive   \n",
       "364143                     0                       0  positive   \n",
       "364144                     0                       0  positive   \n",
       "364145                     0                       0  negative   \n",
       "364146                     0                       0  negative   \n",
       "364147                     0                       0  positive   \n",
       "364148                     0                       0  negative   \n",
       "364149                     0                       0  negative   \n",
       "364150                     0                       0  positive   \n",
       "364151                     0                       0  positive   \n",
       "364152                     0                       0  positive   \n",
       "364153                     0                       0  positive   \n",
       "364154                     0                       0  positive   \n",
       "364155                     0                       0  positive   \n",
       "364156                     0                       0  negative   \n",
       "364157                     0                       0  positive   \n",
       "364158                     0                       0  positive   \n",
       "364159                     0                       0  positive   \n",
       "364160                     0                       0  positive   \n",
       "364161                     0                       0  positive   \n",
       "364162                     0                       0  positive   \n",
       "364163                     0                       0  positive   \n",
       "364164                     0                       0  negative   \n",
       "364165                     0                       0  negative   \n",
       "364166                     0                       0  negative   \n",
       "364167                     0                       0  negative   \n",
       "364168                     0                       0  positive   \n",
       "364169                     1                       1  positive   \n",
       "364170                     0                       0  positive   \n",
       "\n",
       "                       Time  \\\n",
       "0       1999-10-08 00:00:00   \n",
       "1       1999-10-25 00:00:00   \n",
       "2       1999-12-02 00:00:00   \n",
       "3       1999-12-06 00:00:00   \n",
       "4       2000-01-03 00:00:00   \n",
       "5       2000-01-09 00:00:00   \n",
       "6       2000-01-19 00:00:00   \n",
       "7       2000-01-24 00:00:00   \n",
       "8       2000-02-26 00:00:00   \n",
       "9       2000-06-03 00:00:00   \n",
       "10      2000-06-03 00:00:00   \n",
       "11      2000-06-23 00:00:00   \n",
       "12      2000-06-29 00:00:00   \n",
       "13      2000-07-31 00:00:00   \n",
       "14      2000-08-09 00:00:00   \n",
       "15      2000-08-09 00:00:00   \n",
       "16      2000-08-15 00:00:00   \n",
       "17      2000-10-03 00:00:00   \n",
       "18      2000-12-05 00:00:00   \n",
       "19      2000-12-19 00:00:00   \n",
       "20      2000-12-30 00:00:00   \n",
       "21      2001-02-22 00:00:00   \n",
       "22      2001-06-11 00:00:00   \n",
       "23      2001-08-08 00:00:00   \n",
       "24      2001-09-24 00:00:00   \n",
       "25      2001-10-23 00:00:00   \n",
       "26      2001-10-26 00:00:00   \n",
       "27      2001-12-26 00:00:00   \n",
       "28      2002-01-06 00:00:00   \n",
       "29      2002-02-04 00:00:00   \n",
       "...                     ...   \n",
       "364141  2012-10-26 00:00:00   \n",
       "364142  2012-10-26 00:00:00   \n",
       "364143  2012-10-26 00:00:00   \n",
       "364144  2012-10-26 00:00:00   \n",
       "364145  2012-10-26 00:00:00   \n",
       "364146  2012-10-26 00:00:00   \n",
       "364147  2012-10-26 00:00:00   \n",
       "364148  2012-10-26 00:00:00   \n",
       "364149  2012-10-26 00:00:00   \n",
       "364150  2012-10-26 00:00:00   \n",
       "364151  2012-10-26 00:00:00   \n",
       "364152  2012-10-26 00:00:00   \n",
       "364153  2012-10-26 00:00:00   \n",
       "364154  2012-10-26 00:00:00   \n",
       "364155  2012-10-26 00:00:00   \n",
       "364156  2012-10-26 00:00:00   \n",
       "364157  2012-10-26 00:00:00   \n",
       "364158  2012-10-26 00:00:00   \n",
       "364159  2012-10-26 00:00:00   \n",
       "364160  2012-10-26 00:00:00   \n",
       "364161  2012-10-26 00:00:00   \n",
       "364162  2012-10-26 00:00:00   \n",
       "364163  2012-10-26 00:00:00   \n",
       "364164  2012-10-26 00:00:00   \n",
       "364165  2012-10-26 00:00:00   \n",
       "364166  2012-10-26 00:00:00   \n",
       "364167  2012-10-26 00:00:00   \n",
       "364168  2012-10-26 00:00:00   \n",
       "364169  2012-10-26 00:00:00   \n",
       "364170  2012-10-26 00:00:00   \n",
       "\n",
       "                                                  Summary  \\\n",
       "0                               EVERY book is educational   \n",
       "1       This whole series is great way to spend time w...   \n",
       "2                                    Entertainingl Funny!   \n",
       "3                                 A modern day fairy tale   \n",
       "4                                              FANTASTIC!   \n",
       "5                                                   GREAT   \n",
       "6         WARNING: CLAMSHELL EDITION IS EDITED TV VERSION   \n",
       "7                                  A sure death for flies   \n",
       "8                Bettlejuice...Bettlejuice...BETTLEJUICE!   \n",
       "9           Research - Beatlejuice video - French version   \n",
       "10                                               Research   \n",
       "11                                          Great Product   \n",
       "12                         WOW Make your own 'slickers' !   \n",
       "13                               End your Gopher Problems   \n",
       "14                                       Very easy to use   \n",
       "15                                           A must have!   \n",
       "16      A fresh, original film from master storyteller...   \n",
       "17           Fabulous Comedic Fanasy Directed by a Master   \n",
       "18                                      Who Needs Wilton?   \n",
       "19                                                  FUNNY   \n",
       "20                                    A Afterlife Success   \n",
       "21      Make your own Martha Stewart style cakes and c...   \n",
       "22                      CASPER IS THE GHOST WITH THE MOST   \n",
       "23                              Great movie, terrible DVD   \n",
       "24      Beetlejuice is a greatmovie, but they cheated ...   \n",
       "25                                   Nice, bright colors!   \n",
       "26                 Beetlejuice! Beetlejuice! Beatlejuice!   \n",
       "27                                     It Was a favorite!   \n",
       "28                              A little piece of heaven.   \n",
       "29                  Beetlejuice - Great Fun for Everyone!   \n",
       "...                                                   ...   \n",
       "364141                                   The perfect pop!   \n",
       "364142                          Gives Me The Focus I Need   \n",
       "364143                                       Perfect Gift   \n",
       "364144                               Subtle yet effective   \n",
       "364145                            One of the better one's   \n",
       "364146                                    bot very cheesy   \n",
       "364147                    Sesame seed packets from Amazon   \n",
       "364148                                          Expensive   \n",
       "364149                                    Not very tasty!   \n",
       "364150               You won't believe what you'll catch!   \n",
       "364151                                       Outstanding!   \n",
       "364152                              Just what I expected!   \n",
       "364153                    Fantastic Instant Refried beans   \n",
       "364154                  One of my favorite K-cups flavors   \n",
       "364155                    Cee Cee LOOOVES it, This I Know   \n",
       "364156                       Steer Clear-not as described   \n",
       "364157                       If you like mint candy......   \n",
       "364158                                               Nice   \n",
       "364159                                 Our pantry staple!   \n",
       "364160                    WoW I was a Phsyco path at work   \n",
       "364161                  The BEST fig spread on the market   \n",
       "364162                                           Love it!   \n",
       "364163                                              Yum!!   \n",
       "364164                                not what i expected   \n",
       "364165                  Super healthy but tastes like ass   \n",
       "364166                    Couldn't tell you how it tasted   \n",
       "364167  If you like Campbells Pepper pot soup then don...   \n",
       "364168                              Both cats love these!   \n",
       "364169                                              Great   \n",
       "364170                                      Versatile Mix   \n",
       "\n",
       "                                                     Text  \\\n",
       "0       this witty little book makes my son laugh at l...   \n",
       "1       I can remember seeing the show when it aired o...   \n",
       "2       Beetlejuice is a well written movie ..... ever...   \n",
       "3       A twist of rumplestiskin captured on film, sta...   \n",
       "4       Beetlejuice is an excellent and funny movie. K...   \n",
       "5       THIS IS ONE MOVIE THAT SHOULD BE IN YOUR MOVIE...   \n",
       "6       I, myself always enjoyed this movie, it's very...   \n",
       "7       I bought a few of these after my apartment was...   \n",
       "8       What happens when you say his name three times...   \n",
       "9       I'm getting crazy.I'm looking for Beatlejuice ...   \n",
       "10      I'm getting crazy.<p>Is it really impossible t...   \n",
       "11      This was a really good idea and the final prod...   \n",
       "12      I just received my shipment and could hardly w...   \n",
       "13      I have just recently purchased the Woodstream ...   \n",
       "14      This are so much easier to use than the Wilson...   \n",
       "15      These are easy to use, they do not make a mess...   \n",
       "16      This is such a great film, I don't even know h...   \n",
       "17      Beetlejuice is an awe-inspiring wonderfully am...   \n",
       "18      I'm sick of scads of nasty toothpicks all over...   \n",
       "19      I THOUGHT THIS MOVIE WAS SO FUNNY, MICHAEL KEA...   \n",
       "20      Many movies, have dealt with the figure of dea...   \n",
       "21      I don't know why anyone would ever use those l...   \n",
       "22      Michael Keaton brings no distinguishing charac...   \n",
       "23      I am continually amazed at the shoddy treatmen...   \n",
       "24      Just to warn you. when in trying to trick you ...   \n",
       "25      I bought these to decorate some dia de los mue...   \n",
       "26      Winona Ryder is HOT! HOT! HOT! as the gothic d...   \n",
       "27      This was a favorite book of mine when I was a ...   \n",
       "28      For years I have been trying to simulate a tru...   \n",
       "29      When vacationing Adam and Barbara Maitland mee...   \n",
       "...                                                   ...   \n",
       "364141  These lollipops are are well done, look exactl...   \n",
       "364142  This past summer I started experimenting with ...   \n",
       "364143  I got these to give out in a goodie bag for th...   \n",
       "364144  Though I, like many, aren't happy with the pri...   \n",
       "364145  I tried one stick of this, and two other flavo...   \n",
       "364146  Got this about a month ago.first of all it sme...   \n",
       "364147  I particularly like this method of packaging. ...   \n",
       "364148  This is too expensive and very tough and salty...   \n",
       "364149  I love Arnold Plamer's and Starbucks has the b...   \n",
       "364150  I have been using this product for many years....   \n",
       "364151  Fantastic flavor! The dark chocolate is creamy...   \n",
       "364152  I bought these in order to make vanilla and ka...   \n",
       "364153  Fantastic Instant Refried Beans have been a st...   \n",
       "364154  This is one of my favorite k-cup flavors.  The...   \n",
       "364155  The only reason I am giving it 4 stars instead...   \n",
       "364156  I wanted to try different K cups and didnt wan...   \n",
       "364157  This is the best hard mint candy in the world....   \n",
       "364158  Super give me full recovery after training in ...   \n",
       "364159  I first tried these last year and absolutely f...   \n",
       "364160  Finally I was a physo path at work! I go in at...   \n",
       "364161  This is my go to spread when I serve a cheese ...   \n",
       "364162  My dog has digestive issues and this product w...   \n",
       "364163  I go through a lot of this garlic olive oil - ...   \n",
       "364164  when i ordered this i expected a big box full ...   \n",
       "364165  I have no idea what these people are thinking ...   \n",
       "364166  The bottle was not sealed, and when I opened t...   \n",
       "364167  Not at all like pepper pot soup, it is just a ...   \n",
       "364168  They only like this brand and flavor of treat....   \n",
       "364169  If you like a great , hot, sauce then buy this...   \n",
       "364170  This mix makes a good bread or can also be use...   \n",
       "\n",
       "                                              CleanedText  \\\n",
       "0       witti littl book make son laugh loud recit car...   \n",
       "1       rememb see show air televis year ago child sis...   \n",
       "2       beetlejuic well written movi everyth excel act...   \n",
       "3       twist rumplestiskin captur film star michael k...   \n",
       "4       beetlejuic excel funni movi keaton hilari wack...   \n",
       "5       one movi movi collect fill comedi action whate...   \n",
       "6       alway enjoy movi funni entertain didnt hesit p...   \n",
       "7       bought apart infest fruit fli hour trap mani f...   \n",
       "8       happen say name three time michael keaten star...   \n",
       "9       get crazi look beatlejuic french version video...   \n",
       "10      get crazi realli imposs today find french vhs ...   \n",
       "11      realli good idea final product outstand use de...   \n",
       "12      receiv shipment could hard wait tri product lo...   \n",
       "13      recent purchas woodstream corp gopher trap wit...   \n",
       "14      much easier use wilson past color color vibran...   \n",
       "15      easi use make mess offer vibrant color taint d...   \n",
       "16      great film dont even know sum first complet or...   \n",
       "17      beetlejuic wonder amus comed romp explor incre...   \n",
       "18      sick scad nasti toothpick counter tint concept...   \n",
       "19      thought movi funni michael keaton beetlejuic r...   \n",
       "20      mani movi dealt figur death dead good angel cl...   \n",
       "21      dont know anyon would ever use littl liquid fo...   \n",
       "22      michael keaton bring distinguish characterist ...   \n",
       "23      continu amaz shoddi treatment movi get dvd rel...   \n",
       "24      warn tri trick widescreen format compani made ...   \n",
       "25      bought decor dia los muerto skull ice ateco fo...   \n",
       "26      winona ryder hot hot hot gothic princess doom ...   \n",
       "27      favorit book mine littl girl would read time m...   \n",
       "28      year tri simul truli italian espresso cappucci...   \n",
       "29      vacat adam barbara maitland meet demis kill lo...   \n",
       "...                                                   ...   \n",
       "364141  lollipop well done look exact like pictur sing...   \n",
       "364142  past summer start experi product claim give fo...   \n",
       "364143  got give goodi bag holiday coupl extra cours a...   \n",
       "364144  though like mani arent happi price work ive dr...   \n",
       "364145  tri one stick two flavor salmon tough break ha...   \n",
       "364146  got month ago first smell horribl tast pepperi...   \n",
       "364147  particular like method packag dont use lot mos...   \n",
       "364148  expens tough salti tri piec care much even tra...   \n",
       "364149  love arnold plamer starbuck best black tea lem...   \n",
       "364150  use product mani year great method control ins...   \n",
       "364151  fantast flavor dark chocol creami rich bitter ...   \n",
       "364152  bought order make vanilla kahlua christma gift...   \n",
       "364153  fantast instant refri bean stapl famili near y...   \n",
       "364154  one favorit flavor coffe roast mild right amou...   \n",
       "364155  reason give star instead star strang design su...   \n",
       "364156  want tri differ cup didnt want buy entir box c...   \n",
       "364157  best hard mint candi world expens though cant ...   \n",
       "364158  super give full recoveri train gym nice flavor...   \n",
       "364159  first tri last year absolut fell love fresh mu...   \n",
       "364160  final physo path work normali tire put packet ...   \n",
       "364161  spread serv chees platter goe well soft chees ...   \n",
       "364162  dog digest issu product work great sure love t...   \n",
       "364163  lot garlic oliv oil use mani savori dish husba...   \n",
       "364164  order expect big box full fortun cooki like on...   \n",
       "364165  idea peopl think say stuff tast great must wor...   \n",
       "364166  bottl seal open cover black crusti stuff top g...   \n",
       "364167  like pepper pot soup crab soup littl flavor wa...   \n",
       "364168  like brand flavor treat wont soft version one ...   \n",
       "364169  like great hot sauc buy spici heat isnt like d...   \n",
       "364170  mix make good bread also use make pop over nea...   \n",
       "\n",
       "                                              NONSTEMDATA  \n",
       "0       [witty, little, book, makes, son, laugh, loud,...  \n",
       "1       [remember, seeing, show, aired, television, ye...  \n",
       "2       [beetlejuice, well, written, movie, everything...  \n",
       "3       [twist, rumplestiskin, captured, film, starrin...  \n",
       "4       [beetlejuice, excellent, funny, movie, keaton,...  \n",
       "5       [one, movie, movie, collection, filled, comedy...  \n",
       "6       [always, enjoyed, movie, funny, entertaining, ...  \n",
       "7       [bought, apartment, infested, fruit, flies, ho...  \n",
       "8       [happens, say, name, three, times, michael, ke...  \n",
       "9       [im, getting, crazy, im, looking, beatlejuice,...  \n",
       "10      [im, getting, crazy, really, impossible, today...  \n",
       "11      [really, good, idea, final, product, outstandi...  \n",
       "12      [received, shipment, could, hardly, wait, try,...  \n",
       "13      [recently, purchased, woodstream, corp, 0610, ...  \n",
       "14      [much, easier, use, wilson, paste, colors, col...  \n",
       "15      [easy, use, make, mess, offer, vibrant, colors...  \n",
       "16      [great, film, dont, even, know, sum, first, co...  \n",
       "17      [beetlejuice, awe-inspiring, wonderfully, amus...  \n",
       "18      [im, sick, scads, nasty, toothpicks, counter, ...  \n",
       "19      [thought, movie, funny, michael, keaton, beetl...  \n",
       "20      [many, movies, dealt, figure, death, dead, goo...  \n",
       "21      [dont, know, anyone, would, ever, use, little,...  \n",
       "22      [michael, keaton, brings, distinguishing, char...  \n",
       "23      [continually, amazed, shoddy, treatment, movie...  \n",
       "24      [warn, trying, trick, widescreen, format, comp...  \n",
       "25      [bought, decorate, dia, de, los, muertos, skul...  \n",
       "26      [winona, ryder, hot, hot, hot, gothic, death-r...  \n",
       "27      [favorite, book, mine, little, girl, would, re...  \n",
       "28      [years, trying, simulate, truly, italian, espr...  \n",
       "29      [vacationing, adam, barbara, maitland, meet, d...  \n",
       "...                                                   ...  \n",
       "364141  [lollipops, well, done, look, exactly, like, p...  \n",
       "364142  [past, summer, started, experimenting, product...  \n",
       "364143  [got, give, goodie, bag, holidays, couple, ext...  \n",
       "364144  [though, like, many, arent, happy, price, work...  \n",
       "364145  [tried, one, stick, two, flavors, salmon, toug...  \n",
       "364146  [got, month, ago, first, smells, horrible, tas...  \n",
       "364147  [particularly, like, method, packaging, dont, ...  \n",
       "364148  [expensive, tough, salty, tried, piece, care, ...  \n",
       "364149  [love, arnold, plamers, starbucks, best, black...  \n",
       "364150  [using, product, many, years, great, non-poiso...  \n",
       "364151  [fantastic, flavor, dark, chocolate, creamy, r...  \n",
       "364152  [bought, order, make, vanilla, kahlua, christm...  \n",
       "364153  [fantastic, instant, refried, beans, staple, f...  \n",
       "364154  [one, favorite, k-cup, flavors, coffee, roast,...  \n",
       "364155  [reason, giving, 4, stars, instead, 5, stars, ...  \n",
       "364156  [wanted, try, different, k, cups, didnt, want,...  \n",
       "364157  [best, hard, mint, candy, world, expensive, th...  \n",
       "364158  [super, give, full, recovery, training, gym, n...  \n",
       "364159  [first, tried, last, year, absolutely, fell, l...  \n",
       "364160  [finally, physo, path, work, go, 3:30am, norma...  \n",
       "364161  [go, spread, serve, cheese, platter, goes, wel...  \n",
       "364162  [dog, digestive, issues, product, works, great...  \n",
       "364163  [go, lot, garlic, olive, oil, -, using, many, ...  \n",
       "364164  [ordered, expected, big, box, full, fortune, c...  \n",
       "364165  [idea, people, thinking, saying, stuff, tastes...  \n",
       "364166  [bottle, sealed, opened, cover, black, crusty,...  \n",
       "364167  [like, pepper, pot, soup, crab, soup, little, ...  \n",
       "364168  [like, brand, flavor, treat, wont, go, soft, v...  \n",
       "364169  [like, great, hot, sauce, buy, spicy, heat, is...  \n",
       "364170  [mix, makes, good, bread, also, used, make, po...  \n",
       "\n",
       "[364171 rows x 12 columns]"
      ]
     },
     "execution_count": 27,
     "metadata": {
      "tags": []
     },
     "output_type": "execute_result"
    }
   ],
   "source": [
    "final"
   ]
  },
  {
   "cell_type": "code",
   "execution_count": 69,
   "metadata": {
    "colab": {
     "base_uri": "https://localhost:8080/",
     "height": 70
    },
    "colab_type": "code",
    "id": "apxPHw-jpxtx",
    "outputId": "3f1db6fb-2753-4708-80cd-d2dde7e30202"
   },
   "outputs": [
    {
     "data": {
      "text/plain": [
       "array([\"this witty little book makes my son laugh at loud. i recite it in the car as we're driving along and he always can sing the refrain. he's learned about whales, India, drooping roses:  i love all the new words this book  introduces and the silliness of it all.  this is a classic book i am  willing to bet my son will STILL be able to recite from memory when he is  in college\"],\n",
       "      dtype=object)"
      ]
     },
     "execution_count": 69,
     "metadata": {
      "tags": []
     },
     "output_type": "execute_result"
    }
   ],
   "source": [
    "final['Text'].values[0:1]"
   ]
  },
  {
   "cell_type": "code",
   "execution_count": 0,
   "metadata": {
    "colab": {},
    "colab_type": "code",
    "id": "IrSyRYKMJJSC"
   },
   "outputs": [],
   "source": []
  },
  {
   "cell_type": "code",
   "execution_count": 0,
   "metadata": {
    "colab": {},
    "colab_type": "code",
    "id": "ZjgrZP2kXI0Z"
   },
   "outputs": [],
   "source": [
    "from sklearn.feature_extraction.text import TfidfVectorizer\n",
    "\n",
    "tfidf_vect = TfidfVectorizer(ngram_range=(1,2))\n",
    "final_tfidf_sample=final_string_tfidf[0:10000]\n",
    "final_tfidf_sent = tfidf_vect.fit_transform(final_tfidf_sample)\n"
   ]
  },
  {
   "cell_type": "code",
   "execution_count": 0,
   "metadata": {
    "colab": {},
    "colab_type": "code",
    "id": "HHzOEYYY8Zw8"
   },
   "outputs": [],
   "source": [
    "from gensim.models import KeyedVectors\n",
    "from gensim.models import KeyedVectors\n",
    "\n",
    "w2v_model = gensim.models.Word2Vec(list_of_sent,min_count=5,size=50, workers=4)"
   ]
  },
  {
   "cell_type": "code",
   "execution_count": 0,
   "metadata": {
    "colab": {},
    "colab_type": "code",
    "id": "ofj4G9kzeBQJ"
   },
   "outputs": [],
   "source": [
    "features = tfidf_vect.get_feature_names()\n",
    "w2v_words=list(w2v_model.wv.vocab)\n",
    "row=0\n",
    "\n",
    "tfidf_sent_vectors = []; \n",
    "for sent in list_of_sent[0:10000]:\n",
    "    weight_sum =0;\n",
    "\n",
    "    sent_vec = np.zeros(50) \n",
    "    for word in sent:\n",
    "        if ((word in w2v_words) and (word in features)):\n",
    "            vec = w2v_model.wv[word]\n",
    "            \n",
    "            tf_idf =final_tfidf_sent[row ,features.index(word)]\n",
    "            sent_vec += (vec * tf_idf)\n",
    "            weight_sum += tf_idf\n",
    "    if weight_sum != 0:\n",
    "        sent_vec /= weight_sum\n",
    "    tfidf_sent_vectors.append(sent_vec) \n",
    "    row += 1"
   ]
  },
  {
   "cell_type": "code",
   "execution_count": 0,
   "metadata": {
    "colab": {},
    "colab_type": "code",
    "id": "B9Qe3cj-lFXJ"
   },
   "outputs": [],
   "source": [
    "tfidf_sent_vectors =np.array(tfidf_sent_vectors)"
   ]
  },
  {
   "cell_type": "code",
   "execution_count": 33,
   "metadata": {
    "colab": {
     "base_uri": "https://localhost:8080/",
     "height": 235
    },
    "colab_type": "code",
    "id": "15m0CK1y801A",
    "outputId": "e4325b3f-2700-4477-c5ff-17cec7543152"
   },
   "outputs": [
    {
     "data": {
      "text/plain": [
       "array([[-0.74585898, -0.17011142, -0.2524059 , ..., -0.58171347,\n",
       "         0.01811575, -0.02361078],\n",
       "       [-0.86884607, -0.50484847,  0.03927412, ..., -1.03084286,\n",
       "        -0.27437974,  0.07811461],\n",
       "       [-0.42516225,  0.46613403, -0.17591183, ..., -1.08507517,\n",
       "         1.22869167, -0.18830133],\n",
       "       ...,\n",
       "       [-0.29927134,  2.17011415,  0.63708749, ...,  0.86018123,\n",
       "        -1.12709263, -0.74605387],\n",
       "       [ 0.26359387,  1.84206938,  0.03616659, ...,  0.75132746,\n",
       "        -0.11150809, -1.10461932],\n",
       "       [ 0.05884532,  1.53456036,  1.35095256, ...,  1.57463049,\n",
       "        -0.14038508, -0.93378691]])"
      ]
     },
     "execution_count": 33,
     "metadata": {
      "tags": []
     },
     "output_type": "execute_result"
    }
   ],
   "source": [
    "tfidf_sent_vectors"
   ]
  },
  {
   "cell_type": "code",
   "execution_count": 0,
   "metadata": {
    "colab": {},
    "colab_type": "code",
    "id": "d6D__vvpfbKk"
   },
   "outputs": [],
   "source": [
    "from sklearn.model_selection import train_test_split\n",
    "X_train,X_test,Y_train,Y_test=train_test_split(tfidf_sent_vectors,final_score,test_size=0.3,shuffle=False)"
   ]
  },
  {
   "cell_type": "code",
   "execution_count": 0,
   "metadata": {
    "colab": {},
    "colab_type": "code",
    "id": "YcT1qnNlfbV9"
   },
   "outputs": [],
   "source": [
    "from sklearn import preprocessing\n",
    "tfidf_w2v_X_train= preprocessing.normalize(X_train)\n",
    "tfidf_w2v_X_test = preprocessing.normalize(X_test)"
   ]
  },
  {
   "cell_type": "code",
   "execution_count": 37,
   "metadata": {
    "colab": {
     "base_uri": "https://localhost:8080/",
     "height": 34
    },
    "colab_type": "code",
    "id": "-Oc3K5nbfbio",
    "outputId": "0b3eae4c-76de-4da3-9a78-1cc0c48d9d23"
   },
   "outputs": [
    {
     "data": {
      "text/plain": [
       "(7000, 50)"
      ]
     },
     "execution_count": 37,
     "metadata": {
      "tags": []
     },
     "output_type": "execute_result"
    }
   ],
   "source": [
    "tfidf_w2v_X_train.shape"
   ]
  },
  {
   "cell_type": "markdown",
   "metadata": {
    "colab_type": "text",
    "id": "CaDTozO09yJd"
   },
   "source": [
    "# GRID SEARCH CV"
   ]
  },
  {
   "cell_type": "code",
   "execution_count": 38,
   "metadata": {
    "colab": {
     "base_uri": "https://localhost:8080/",
     "height": 50
    },
    "colab_type": "code",
    "id": "bWUdSXTL9wqt",
    "outputId": "2e6f15e0-4211-4300-eaf1-c1eb4e9100c8"
   },
   "outputs": [
    {
     "name": "stdout",
     "output_type": "stream",
     "text": [
      "Fitting 3 folds for each of 50 candidates, totalling 150 fits\n"
     ]
    },
    {
     "name": "stderr",
     "output_type": "stream",
     "text": [
      "[Parallel(n_jobs=1)]: Done 150 out of 150 | elapsed:   21.2s finished\n"
     ]
    }
   ],
   "source": [
    "bestHyperparameter = bestLambda(tfidf_w2v_X_train,Y_train,tfidf_w2v_X_test,Y_test)"
   ]
  },
  {
   "cell_type": "code",
   "execution_count": 39,
   "metadata": {
    "colab": {
     "base_uri": "https://localhost:8080/",
     "height": 34
    },
    "colab_type": "code",
    "id": "nFiQ5er9coGx",
    "outputId": "133b7403-7123-4f4d-efa8-f686e917187d"
   },
   "outputs": [
    {
     "name": "stdout",
     "output_type": "stream",
     "text": [
      "BEST HYPERPARAMETER WITH GRID SEARCH CV IS {'C': 3, 'penalty': 'l2'}\n"
     ]
    }
   ],
   "source": [
    "print(\"BEST HYPERPARAMETER WITH GRID SEARCH CV IS\",bestHyperparameter)"
   ]
  },
  {
   "cell_type": "markdown",
   "metadata": {
    "colab_type": "text",
    "id": "rVew0K90c1i0"
   },
   "source": [
    "# Random SEARCH CV"
   ]
  },
  {
   "cell_type": "code",
   "execution_count": 40,
   "metadata": {
    "colab": {
     "base_uri": "https://localhost:8080/",
     "height": 50
    },
    "colab_type": "code",
    "id": "xAl5x6fHc7Y3",
    "outputId": "ae79c8c0-e35a-4223-c770-7a2a3f3deb7b"
   },
   "outputs": [
    {
     "name": "stdout",
     "output_type": "stream",
     "text": [
      "Fitting 3 folds for each of 10 candidates, totalling 30 fits\n"
     ]
    },
    {
     "name": "stderr",
     "output_type": "stream",
     "text": [
      "[Parallel(n_jobs=1)]: Done  30 out of  30 | elapsed:    4.6s finished\n"
     ]
    }
   ],
   "source": [
    "bestHyperparameterR = bestLambdaR(tfidf_w2v_X_train,Y_train,tfidf_w2v_X_test,Y_test)"
   ]
  },
  {
   "cell_type": "code",
   "execution_count": 41,
   "metadata": {
    "colab": {
     "base_uri": "https://localhost:8080/",
     "height": 34
    },
    "colab_type": "code",
    "id": "1zVwYoSUdHF_",
    "outputId": "ec718ad3-6843-4d4b-c9df-c517b49d8d32"
   },
   "outputs": [
    {
     "name": "stdout",
     "output_type": "stream",
     "text": [
      "BEST HYPERPARAMETER WITH Random SEARCH CV IS {'C': 3, 'penalty': 'l2'}\n"
     ]
    }
   ],
   "source": [
    "print(\"BEST HYPERPARAMETER WITH Random SEARCH CV IS\",bestHyperparameter)"
   ]
  },
  {
   "cell_type": "markdown",
   "metadata": {
    "colab_type": "text",
    "id": "XegIpLGOdP71"
   },
   "source": [
    "# LOGISTIC REGRESSION WITH L2 regularizer"
   ]
  },
  {
   "cell_type": "code",
   "execution_count": 43,
   "metadata": {
    "colab": {
     "base_uri": "https://localhost:8080/",
     "height": 252
    },
    "colab_type": "code",
    "id": "GNXC_Bhuden4",
    "outputId": "b17e2799-595a-4877-de5b-68b8c1e4e293"
   },
   "outputs": [
    {
     "name": "stdout",
     "output_type": "stream",
     "text": [
      " accuracy with C = 3  is  92.03\n",
      "F1 score with C = 3  is  73.09\n",
      "Recall with C = 3  is  68.22\n",
      "Precision with C = 3  is  84.37\n",
      "\n",
      " Classification report  with C = 3  is \n",
      "               precision    recall  f1-score   support\n",
      "\n",
      "   negative       0.76      0.38      0.51       322\n",
      "   positive       0.93      0.99      0.96      2678\n",
      "\n",
      "avg / total       0.91      0.92      0.91      3000\n",
      "\n",
      "no. of non zero elements = 50\n"
     ]
    }
   ],
   "source": [
    "LogisticRwithL2(tfidf_w2v_X_train,Y_train,tfidf_w2v_X_test,Y_test,3)"
   ]
  },
  {
   "cell_type": "markdown",
   "metadata": {
    "colab_type": "text",
    "id": "7eNwHq1ndsyY"
   },
   "source": [
    "# LOGISTIC REGRESSION WITH L1 regularizer\n",
    "\n"
   ]
  },
  {
   "cell_type": "code",
   "execution_count": 44,
   "metadata": {
    "colab": {
     "base_uri": "https://localhost:8080/",
     "height": 252
    },
    "colab_type": "code",
    "id": "nNfVJjeAdyqa",
    "outputId": "bcbc6840-4905-4280-bb63-cb51d5699422"
   },
   "outputs": [
    {
     "name": "stdout",
     "output_type": "stream",
     "text": [
      " accuracy with C = 3  is  91.93\n",
      "F1 score with C = 3  is  73.11\n",
      "Recall with C = 3  is  68.43\n",
      "Precision with C = 3  is  83.41\n",
      "\n",
      " Classification report  with C = 3  is \n",
      "               precision    recall  f1-score   support\n",
      "\n",
      "   negative       0.74      0.39      0.51       322\n",
      "   positive       0.93      0.98      0.96      2678\n",
      "\n",
      "avg / total       0.91      0.92      0.91      3000\n",
      "\n",
      "no. of non zero elements = 46\n"
     ]
    }
   ],
   "source": [
    "LogisticRwithL1(tfidf_w2v_X_train,Y_train,tfidf_w2v_X_test,Y_test,3)"
   ]
  },
  {
   "cell_type": "markdown",
   "metadata": {
    "colab_type": "text",
    "id": "LSYgA7JHd5Ml"
   },
   "source": [
    "# SPARCITY CHECK WITH DECREASE IN C"
   ]
  },
  {
   "cell_type": "code",
   "execution_count": 51,
   "metadata": {
    "colab": {
     "base_uri": "https://localhost:8080/",
     "height": 252
    },
    "colab_type": "code",
    "id": "o4MZmb5XeG51",
    "outputId": "905d0a07-a5f1-462b-f733-50e6505b1a68"
   },
   "outputs": [
    {
     "name": "stdout",
     "output_type": "stream",
     "text": [
      " accuracy with C = 15  is  92.03\n",
      "F1 score with C = 15  is  73.59\n",
      "Recall with C = 15  is  68.9\n",
      "Precision with C = 15  is  83.69\n",
      "\n",
      " Classification report  with C = 15  is \n",
      "               precision    recall  f1-score   support\n",
      "\n",
      "   negative       0.74      0.39      0.52       322\n",
      "   positive       0.93      0.98      0.96      2678\n",
      "\n",
      "avg / total       0.91      0.92      0.91      3000\n",
      "\n",
      "no. of non zero elements = 49\n"
     ]
    }
   ],
   "source": [
    "LogisticRwithL1(tfidf_w2v_X_train,Y_train,tfidf_w2v_X_test,Y_test,15)"
   ]
  },
  {
   "cell_type": "code",
   "execution_count": 52,
   "metadata": {
    "colab": {
     "base_uri": "https://localhost:8080/",
     "height": 252
    },
    "colab_type": "code",
    "id": "FQ1hj2GieSBg",
    "outputId": "cdc8fa2d-14c2-4437-bd32-7d3d8d6ff94c"
   },
   "outputs": [
    {
     "name": "stdout",
     "output_type": "stream",
     "text": [
      " accuracy with C = 10  is  92.0\n",
      "F1 score with C = 10  is  73.43\n",
      "Recall with C = 10  is  68.74\n",
      "Precision with C = 10  is  83.6\n",
      "\n",
      " Classification report  with C = 10  is \n",
      "               precision    recall  f1-score   support\n",
      "\n",
      "   negative       0.74      0.39      0.51       322\n",
      "   positive       0.93      0.98      0.96      2678\n",
      "\n",
      "avg / total       0.91      0.92      0.91      3000\n",
      "\n",
      "no. of non zero elements = 48\n"
     ]
    }
   ],
   "source": [
    "LogisticRwithL1(tfidf_w2v_X_train,Y_train,tfidf_w2v_X_test,Y_test,10)"
   ]
  },
  {
   "cell_type": "code",
   "execution_count": 53,
   "metadata": {
    "colab": {
     "base_uri": "https://localhost:8080/",
     "height": 252
    },
    "colab_type": "code",
    "id": "-Cs08HvUeSOV",
    "outputId": "ac172027-3449-4329-8ddd-342090a8c716"
   },
   "outputs": [
    {
     "name": "stdout",
     "output_type": "stream",
     "text": [
      " accuracy with C = 5  is  91.97\n",
      "F1 score with C = 5  is  73.27\n",
      "Recall with C = 5  is  68.59\n",
      "Precision with C = 5  is  83.5\n",
      "\n",
      " Classification report  with C = 5  is \n",
      "               precision    recall  f1-score   support\n",
      "\n",
      "   negative       0.74      0.39      0.51       322\n",
      "   positive       0.93      0.98      0.96      2678\n",
      "\n",
      "avg / total       0.91      0.92      0.91      3000\n",
      "\n",
      "no. of non zero elements = 46\n"
     ]
    }
   ],
   "source": [
    "LogisticRwithL1(tfidf_w2v_X_train,Y_train,tfidf_w2v_X_test,Y_test,5)"
   ]
  },
  {
   "cell_type": "code",
   "execution_count": 0,
   "metadata": {
    "colab": {},
    "colab_type": "code",
    "id": "EUjh1v-oeqMY"
   },
   "outputs": [],
   "source": []
  },
  {
   "cell_type": "markdown",
   "metadata": {
    "colab_type": "text",
    "id": "d5sCEmtSeqa1"
   },
   "source": [
    "# AS YOU CAN SEE THAT WITH DECREASE IN C ,SPARCITY IS INCREASING"
   ]
  },
  {
   "cell_type": "code",
   "execution_count": 0,
   "metadata": {
    "colab": {},
    "colab_type": "code",
    "id": "AhdzsuzZe0p3"
   },
   "outputs": [],
   "source": []
  },
  {
   "cell_type": "markdown",
   "metadata": {
    "colab_type": "text",
    "id": "gdMrOQQje7yF"
   },
   "source": [
    "# PERTUBATION TEST"
   ]
  },
  {
   "cell_type": "code",
   "execution_count": 63,
   "metadata": {
    "colab": {
     "base_uri": "https://localhost:8080/",
     "height": 454
    },
    "colab_type": "code",
    "id": "SPBnAx62e_cI",
    "outputId": "0795792e-0e40-4cfc-c259-ca1a12166d47"
   },
   "outputs": [
    {
     "name": "stdout",
     "output_type": "stream",
     "text": [
      "*********************************\n",
      "[-2.27618422  1.57265171 -1.39025384  0.95291766  0.28913755  3.07552392\n",
      " -0.77270053 -2.63494492 -0.5345029  -0.6022193   1.77390796  2.48785043\n",
      " -3.56442401  1.91186116 -0.10728409 -5.12963009  0.97718958 -1.90992516\n",
      "  2.64287064  0.49231273  2.97571883 -2.10782559 -1.64429481  2.62885937\n",
      " -1.68586137 -1.60632283 -0.09692658  1.8622881  -0.46768575  1.13516915\n",
      "  0.89824821  0.63186167  3.0092558  -3.18111764 -0.75845429 -2.85533663\n",
      "  3.98341613 -0.14450428  1.05981456 -1.26827113  4.69777116  1.00799074\n",
      " -0.89297664  1.10592854  1.33877832  0.04408528 -0.53538392 -1.06590311\n",
      "  1.77034341 -3.0148527 ]\n",
      "[-2.27618422  1.57265171 -1.39025384  0.95291766  0.28913755  3.07552392\n",
      " -0.77270053 -2.63494492 -0.5345029  -0.6022193   1.77390796  2.48785043\n",
      " -3.56442401  1.91186116 -0.10728409 -5.12963009  0.97718958 -1.90992516\n",
      "  2.64287064  0.49231273  2.97571883 -2.10782559 -1.64429481  2.62885937\n",
      " -1.68586137 -1.60632283 -0.09692658  1.8622881  -0.46768575  1.13516915\n",
      "  0.89824821  0.63186167  3.0092558  -3.18111764 -0.75845429 -2.85533663\n",
      "  3.98341613 -0.14450428  1.05981456 -1.26827113  4.69777116  1.00799074\n",
      " -0.89297664  1.10592854  1.33877832  0.04408528 -0.53538392 -1.06590311\n",
      "  1.77034341 -3.0148527 ]\n",
      "No. of non zero elements 50\n",
      "*********************************\n",
      "*********************************\n",
      "*********************************\n",
      "*********************************\n",
      "*********************************\n",
      "2\n"
     ]
    }
   ],
   "source": [
    "from sklearn.linear_model import LogisticRegression\n",
    "lr =  LogisticRegression(C=3,penalty='l2')\n",
    "lr.fit(tfidf_w2v_X_train,Y_train)\n",
    "print('*********************************')\n",
    "\n",
    "print(lr.coef_[0])\n",
    "weights= lr.coef_[0]\n",
    "weights = weights[0:50]\n",
    "print(weights)\n",
    "print(\"No. of non zero elements\",np.count_nonzero(lr.coef_[0]))\n",
    "print('*********************************')\n",
    "\n",
    "from scipy.sparse import find\n",
    "tfidf_w2v_X_trainE = tfidf_w2v_X_train\n",
    "epsilon = np.random.uniform(low=0.0,high=0.01,size=(find(tfidf_w2v_X_trainE)[0].size))\n",
    "a,b,c=find(tfidf_w2v_X_train)\n",
    "tfidf_w2v_X_trainE[a,b] = epsilon + tfidf_w2v_X_trainE[a,b]\n",
    "print('*********************************')\n",
    "\n",
    "from sklearn.linear_model import LogisticRegression\n",
    "lr1 =  LogisticRegression(C=27,penalty='l2')\n",
    "lr1.fit(tfidf_w2v_X_trainE,Y_train)\n",
    "print('*********************************')\n",
    "\n",
    "weights2=lr1.coef_[0]\n",
    "weights2=weights2[:50]\n",
    "print('*********************************')\n",
    "\n",
    "difference = (abs(weights - weights2)/weights)*100\n",
    "print('*********************************')\n",
    "\n",
    "print(difference[np.where(difference >30)].size)"
   ]
  },
  {
   "cell_type": "code",
   "execution_count": 0,
   "metadata": {
    "colab": {},
    "colab_type": "code",
    "id": "p1juY4pqk8jI"
   },
   "outputs": [],
   "source": []
  },
  {
   "cell_type": "markdown",
   "metadata": {
    "colab_type": "text",
    "id": "e_TSbgUnk872"
   },
   "source": [
    "# AS there are only 2 features that are changing with more than 30% therefore there in no multicollinearity"
   ]
  },
  {
   "cell_type": "markdown",
   "metadata": {
    "colab_type": "text",
    "id": "hQfo6TF8lJbf"
   },
   "source": [
    "# final conclusion"
   ]
  },
  {
   "cell_type": "markdown",
   "metadata": {
    "colab_type": "text",
    "id": "IHHZtpMx3ARd"
   },
   "source": [
    "![alt text](https://)"
   ]
  },
  {
   "cell_type": "code",
   "execution_count": 0,
   "metadata": {
    "colab": {},
    "colab_type": "code",
    "id": "lgHdIb7y9doP"
   },
   "outputs": [],
   "source": [
    "from google.colab import files\n",
    "from IPython.display import Image"
   ]
  },
  {
   "cell_type": "code",
   "execution_count": 126,
   "metadata": {
    "colab": {
     "base_uri": "https://localhost:8080/",
     "height": 73,
     "resources": {
      "http://localhost:8080/nbextensions/google.colab/files.js": {
       "data": "Ly8gQ29weXJpZ2h0IDIwMTcgR29vZ2xlIExMQwovLwovLyBMaWNlbnNlZCB1bmRlciB0aGUgQXBhY2hlIExpY2Vuc2UsIFZlcnNpb24gMi4wICh0aGUgIkxpY2Vuc2UiKTsKLy8geW91IG1heSBub3QgdXNlIHRoaXMgZmlsZSBleGNlcHQgaW4gY29tcGxpYW5jZSB3aXRoIHRoZSBMaWNlbnNlLgovLyBZb3UgbWF5IG9idGFpbiBhIGNvcHkgb2YgdGhlIExpY2Vuc2UgYXQKLy8KLy8gICAgICBodHRwOi8vd3d3LmFwYWNoZS5vcmcvbGljZW5zZXMvTElDRU5TRS0yLjAKLy8KLy8gVW5sZXNzIHJlcXVpcmVkIGJ5IGFwcGxpY2FibGUgbGF3IG9yIGFncmVlZCB0byBpbiB3cml0aW5nLCBzb2Z0d2FyZQovLyBkaXN0cmlidXRlZCB1bmRlciB0aGUgTGljZW5zZSBpcyBkaXN0cmlidXRlZCBvbiBhbiAiQVMgSVMiIEJBU0lTLAovLyBXSVRIT1VUIFdBUlJBTlRJRVMgT1IgQ09ORElUSU9OUyBPRiBBTlkgS0lORCwgZWl0aGVyIGV4cHJlc3Mgb3IgaW1wbGllZC4KLy8gU2VlIHRoZSBMaWNlbnNlIGZvciB0aGUgc3BlY2lmaWMgbGFuZ3VhZ2UgZ292ZXJuaW5nIHBlcm1pc3Npb25zIGFuZAovLyBsaW1pdGF0aW9ucyB1bmRlciB0aGUgTGljZW5zZS4KCi8qKgogKiBAZmlsZW92ZXJ2aWV3IEhlbHBlcnMgZm9yIGdvb2dsZS5jb2xhYiBQeXRob24gbW9kdWxlLgogKi8KKGZ1bmN0aW9uKHNjb3BlKSB7CmZ1bmN0aW9uIHNwYW4odGV4dCwgc3R5bGVBdHRyaWJ1dGVzID0ge30pIHsKICBjb25zdCBlbGVtZW50ID0gZG9jdW1lbnQuY3JlYXRlRWxlbWVudCgnc3BhbicpOwogIGVsZW1lbnQudGV4dENvbnRlbnQgPSB0ZXh0OwogIGZvciAoY29uc3Qga2V5IG9mIE9iamVjdC5rZXlzKHN0eWxlQXR0cmlidXRlcykpIHsKICAgIGVsZW1lbnQuc3R5bGVba2V5XSA9IHN0eWxlQXR0cmlidXRlc1trZXldOwogIH0KICByZXR1cm4gZWxlbWVudDsKfQoKLy8gTWF4IG51bWJlciBvZiBieXRlcyB3aGljaCB3aWxsIGJlIHVwbG9hZGVkIGF0IGEgdGltZS4KY29uc3QgTUFYX1BBWUxPQURfU0laRSA9IDEwMCAqIDEwMjQ7Ci8vIE1heCBhbW91bnQgb2YgdGltZSB0byBibG9jayB3YWl0aW5nIGZvciB0aGUgdXNlci4KY29uc3QgRklMRV9DSEFOR0VfVElNRU9VVF9NUyA9IDMwICogMTAwMDsKCmZ1bmN0aW9uIF91cGxvYWRGaWxlcyhpbnB1dElkLCBvdXRwdXRJZCkgewogIGNvbnN0IHN0ZXBzID0gdXBsb2FkRmlsZXNTdGVwKGlucHV0SWQsIG91dHB1dElkKTsKICBjb25zdCBvdXRwdXRFbGVtZW50ID0gZG9jdW1lbnQuZ2V0RWxlbWVudEJ5SWQob3V0cHV0SWQpOwogIC8vIENhY2hlIHN0ZXBzIG9uIHRoZSBvdXRwdXRFbGVtZW50IHRvIG1ha2UgaXQgYXZhaWxhYmxlIGZvciB0aGUgbmV4dCBjYWxsCiAgLy8gdG8gdXBsb2FkRmlsZXNDb250aW51ZSBmcm9tIFB5dGhvbi4KICBvdXRwdXRFbGVtZW50LnN0ZXBzID0gc3RlcHM7CgogIHJldHVybiBfdXBsb2FkRmlsZXNDb250aW51ZShvdXRwdXRJZCk7Cn0KCi8vIFRoaXMgaXMgcm91Z2hseSBhbiBhc3luYyBnZW5lcmF0b3IgKG5vdCBzdXBwb3J0ZWQgaW4gdGhlIGJyb3dzZXIgeWV0KSwKLy8gd2hlcmUgdGhlcmUgYXJlIG11bHRpcGxlIGFzeW5jaHJvbm91cyBzdGVwcyBhbmQgdGhlIFB5dGhvbiBzaWRlIGlzIGdvaW5nCi8vIHRvIHBvbGwgZm9yIGNvbXBsZXRpb24gb2YgZWFjaCBzdGVwLgovLyBUaGlzIHVzZXMgYSBQcm9taXNlIHRvIGJsb2NrIHRoZSBweXRob24gc2lkZSBvbiBjb21wbGV0aW9uIG9mIGVhY2ggc3RlcCwKLy8gdGhlbiBwYXNzZXMgdGhlIHJlc3VsdCBvZiB0aGUgcHJldmlvdXMgc3RlcCBhcyB0aGUgaW5wdXQgdG8gdGhlIG5leHQgc3RlcC4KZnVuY3Rpb24gX3VwbG9hZEZpbGVzQ29udGludWUob3V0cHV0SWQpIHsKICBjb25zdCBvdXRwdXRFbGVtZW50ID0gZG9jdW1lbnQuZ2V0RWxlbWVudEJ5SWQob3V0cHV0SWQpOwogIGNvbnN0IHN0ZXBzID0gb3V0cHV0RWxlbWVudC5zdGVwczsKCiAgY29uc3QgbmV4dCA9IHN0ZXBzLm5leHQob3V0cHV0RWxlbWVudC5sYXN0UHJvbWlzZVZhbHVlKTsKICByZXR1cm4gUHJvbWlzZS5yZXNvbHZlKG5leHQudmFsdWUucHJvbWlzZSkudGhlbigodmFsdWUpID0+IHsKICAgIC8vIENhY2hlIHRoZSBsYXN0IHByb21pc2UgdmFsdWUgdG8gbWFrZSBpdCBhdmFpbGFibGUgdG8gdGhlIG5leHQKICAgIC8vIHN0ZXAgb2YgdGhlIGdlbmVyYXRvci4KICAgIG91dHB1dEVsZW1lbnQubGFzdFByb21pc2VWYWx1ZSA9IHZhbHVlOwogICAgcmV0dXJuIG5leHQudmFsdWUucmVzcG9uc2U7CiAgfSk7Cn0KCi8qKgogKiBHZW5lcmF0b3IgZnVuY3Rpb24gd2hpY2ggaXMgY2FsbGVkIGJldHdlZW4gZWFjaCBhc3luYyBzdGVwIG9mIHRoZSB1cGxvYWQKICogcHJvY2Vzcy4KICogQHBhcmFtIHtzdHJpbmd9IGlucHV0SWQgRWxlbWVudCBJRCBvZiB0aGUgaW5wdXQgZmlsZSBwaWNrZXIgZWxlbWVudC4KICogQHBhcmFtIHtzdHJpbmd9IG91dHB1dElkIEVsZW1lbnQgSUQgb2YgdGhlIG91dHB1dCBkaXNwbGF5LgogKiBAcmV0dXJuIHshSXRlcmFibGU8IU9iamVjdD59IEl0ZXJhYmxlIG9mIG5leHQgc3RlcHMuCiAqLwpmdW5jdGlvbiogdXBsb2FkRmlsZXNTdGVwKGlucHV0SWQsIG91dHB1dElkKSB7CiAgY29uc3QgaW5wdXRFbGVtZW50ID0gZG9jdW1lbnQuZ2V0RWxlbWVudEJ5SWQoaW5wdXRJZCk7CiAgaW5wdXRFbGVtZW50LmRpc2FibGVkID0gZmFsc2U7CgogIGNvbnN0IG91dHB1dEVsZW1lbnQgPSBkb2N1bWVudC5nZXRFbGVtZW50QnlJZChvdXRwdXRJZCk7CiAgb3V0cHV0RWxlbWVudC5pbm5lckhUTUwgPSAnJzsKCiAgY29uc3QgcGlja2VkUHJvbWlzZSA9IG5ldyBQcm9taXNlKChyZXNvbHZlKSA9PiB7CiAgICBpbnB1dEVsZW1lbnQuYWRkRXZlbnRMaXN0ZW5lcignY2hhbmdlJywgKGUpID0+IHsKICAgICAgcmVzb2x2ZShlLnRhcmdldC5maWxlcyk7CiAgICB9KTsKICB9KTsKCiAgY29uc3QgY2FuY2VsID0gZG9jdW1lbnQuY3JlYXRlRWxlbWVudCgnYnV0dG9uJyk7CiAgaW5wdXRFbGVtZW50LnBhcmVudEVsZW1lbnQuYXBwZW5kQ2hpbGQoY2FuY2VsKTsKICBjYW5jZWwudGV4dENvbnRlbnQgPSAnQ2FuY2VsIHVwbG9hZCc7CiAgY29uc3QgY2FuY2VsUHJvbWlzZSA9IG5ldyBQcm9taXNlKChyZXNvbHZlKSA9PiB7CiAgICBjYW5jZWwub25jbGljayA9ICgpID0+IHsKICAgICAgcmVzb2x2ZShudWxsKTsKICAgIH07CiAgfSk7CgogIC8vIENhbmNlbCB1cGxvYWQgaWYgdXNlciBoYXNuJ3QgcGlja2VkIGFueXRoaW5nIGluIHRpbWVvdXQuCiAgY29uc3QgdGltZW91dFByb21pc2UgPSBuZXcgUHJvbWlzZSgocmVzb2x2ZSkgPT4gewogICAgc2V0VGltZW91dCgoKSA9PiB7CiAgICAgIHJlc29sdmUobnVsbCk7CiAgICB9LCBGSUxFX0NIQU5HRV9USU1FT1VUX01TKTsKICB9KTsKCiAgLy8gV2FpdCBmb3IgdGhlIHVzZXIgdG8gcGljayB0aGUgZmlsZXMuCiAgY29uc3QgZmlsZXMgPSB5aWVsZCB7CiAgICBwcm9taXNlOiBQcm9taXNlLnJhY2UoW3BpY2tlZFByb21pc2UsIHRpbWVvdXRQcm9taXNlLCBjYW5jZWxQcm9taXNlXSksCiAgICByZXNwb25zZTogewogICAgICBhY3Rpb246ICdzdGFydGluZycsCiAgICB9CiAgfTsKCiAgaWYgKCFmaWxlcykgewogICAgcmV0dXJuIHsKICAgICAgcmVzcG9uc2U6IHsKICAgICAgICBhY3Rpb246ICdjb21wbGV0ZScsCiAgICAgIH0KICAgIH07CiAgfQoKICBjYW5jZWwucmVtb3ZlKCk7CgogIC8vIERpc2FibGUgdGhlIGlucHV0IGVsZW1lbnQgc2luY2UgZnVydGhlciBwaWNrcyBhcmUgbm90IGFsbG93ZWQuCiAgaW5wdXRFbGVtZW50LmRpc2FibGVkID0gdHJ1ZTsKCiAgZm9yIChjb25zdCBmaWxlIG9mIGZpbGVzKSB7CiAgICBjb25zdCBsaSA9IGRvY3VtZW50LmNyZWF0ZUVsZW1lbnQoJ2xpJyk7CiAgICBsaS5hcHBlbmQoc3BhbihmaWxlLm5hbWUsIHtmb250V2VpZ2h0OiAnYm9sZCd9KSk7CiAgICBsaS5hcHBlbmQoc3BhbigKICAgICAgICBgKCR7ZmlsZS50eXBlIHx8ICduL2EnfSkgLSAke2ZpbGUuc2l6ZX0gYnl0ZXMsIGAgKwogICAgICAgIGBsYXN0IG1vZGlmaWVkOiAkewogICAgICAgICAgICBmaWxlLmxhc3RNb2RpZmllZERhdGUgPyBmaWxlLmxhc3RNb2RpZmllZERhdGUudG9Mb2NhbGVEYXRlU3RyaW5nKCkgOgogICAgICAgICAgICAgICAgICAgICAgICAgICAgICAgICAgICAnbi9hJ30gLSBgKSk7CiAgICBjb25zdCBwZXJjZW50ID0gc3BhbignMCUgZG9uZScpOwogICAgbGkuYXBwZW5kQ2hpbGQocGVyY2VudCk7CgogICAgb3V0cHV0RWxlbWVudC5hcHBlbmRDaGlsZChsaSk7CgogICAgY29uc3QgZmlsZURhdGFQcm9taXNlID0gbmV3IFByb21pc2UoKHJlc29sdmUpID0+IHsKICAgICAgY29uc3QgcmVhZGVyID0gbmV3IEZpbGVSZWFkZXIoKTsKICAgICAgcmVhZGVyLm9ubG9hZCA9IChlKSA9PiB7CiAgICAgICAgcmVzb2x2ZShlLnRhcmdldC5yZXN1bHQpOwogICAgICB9OwogICAgICByZWFkZXIucmVhZEFzQXJyYXlCdWZmZXIoZmlsZSk7CiAgICB9KTsKICAgIC8vIFdhaXQgZm9yIHRoZSBkYXRhIHRvIGJlIHJlYWR5LgogICAgbGV0IGZpbGVEYXRhID0geWllbGQgewogICAgICBwcm9taXNlOiBmaWxlRGF0YVByb21pc2UsCiAgICAgIHJlc3BvbnNlOiB7CiAgICAgICAgYWN0aW9uOiAnY29udGludWUnLAogICAgICB9CiAgICB9OwoKICAgIC8vIFVzZSBhIGNodW5rZWQgc2VuZGluZyB0byBhdm9pZCBtZXNzYWdlIHNpemUgbGltaXRzLiBTZWUgYi82MjExNTY2MC4KICAgIGxldCBwb3NpdGlvbiA9IDA7CiAgICB3aGlsZSAocG9zaXRpb24gPCBmaWxlRGF0YS5ieXRlTGVuZ3RoKSB7CiAgICAgIGNvbnN0IGxlbmd0aCA9IE1hdGgubWluKGZpbGVEYXRhLmJ5dGVMZW5ndGggLSBwb3NpdGlvbiwgTUFYX1BBWUxPQURfU0laRSk7CiAgICAgIGNvbnN0IGNodW5rID0gbmV3IFVpbnQ4QXJyYXkoZmlsZURhdGEsIHBvc2l0aW9uLCBsZW5ndGgpOwogICAgICBwb3NpdGlvbiArPSBsZW5ndGg7CgogICAgICBjb25zdCBiYXNlNjQgPSBidG9hKFN0cmluZy5mcm9tQ2hhckNvZGUuYXBwbHkobnVsbCwgY2h1bmspKTsKICAgICAgeWllbGQgewogICAgICAgIHJlc3BvbnNlOiB7CiAgICAgICAgICBhY3Rpb246ICdhcHBlbmQnLAogICAgICAgICAgZmlsZTogZmlsZS5uYW1lLAogICAgICAgICAgZGF0YTogYmFzZTY0LAogICAgICAgIH0sCiAgICAgIH07CiAgICAgIHBlcmNlbnQudGV4dENvbnRlbnQgPQogICAgICAgICAgYCR7TWF0aC5yb3VuZCgocG9zaXRpb24gLyBmaWxlRGF0YS5ieXRlTGVuZ3RoKSAqIDEwMCl9JSBkb25lYDsKICAgIH0KICB9CgogIC8vIEFsbCBkb25lLgogIHlpZWxkIHsKICAgIHJlc3BvbnNlOiB7CiAgICAgIGFjdGlvbjogJ2NvbXBsZXRlJywKICAgIH0KICB9Owp9CgpzY29wZS5nb29nbGUgPSBzY29wZS5nb29nbGUgfHwge307CnNjb3BlLmdvb2dsZS5jb2xhYiA9IHNjb3BlLmdvb2dsZS5jb2xhYiB8fCB7fTsKc2NvcGUuZ29vZ2xlLmNvbGFiLl9maWxlcyA9IHsKICBfdXBsb2FkRmlsZXMsCiAgX3VwbG9hZEZpbGVzQ29udGludWUsCn07Cn0pKHNlbGYpOwo=",
       "headers": [
        [
         "content-type",
         "application/javascript"
        ]
       ],
       "ok": true,
       "status": 200,
       "status_text": ""
      }
     }
    },
    "colab_type": "code",
    "id": "UVZYUBMy-Nry",
    "outputId": "510ec1de-1745-466f-dc44-2d52b0ef25dd"
   },
   "outputs": [
    {
     "data": {
      "text/html": [
       "\n",
       "     <input type=\"file\" id=\"files-0f0105db-8824-4619-ada0-ddc987443ebc\" name=\"files[]\" multiple disabled />\n",
       "     <output id=\"result-0f0105db-8824-4619-ada0-ddc987443ebc\">\n",
       "      Upload widget is only available when the cell has been executed in the\n",
       "      current browser session. Please rerun this cell to enable.\n",
       "      </output>\n",
       "      <script src=\"/nbextensions/google.colab/files.js\"></script> "
      ],
      "text/plain": [
       "<IPython.core.display.HTML object>"
      ]
     },
     "metadata": {
      "tags": []
     },
     "output_type": "display_data"
    },
    {
     "name": "stdout",
     "output_type": "stream",
     "text": [
      "Saving Screenshot (5745).png to Screenshot (5745) (1).png\n"
     ]
    }
   ],
   "source": [
    "uploaded = files.upload()\n",
    "\n"
   ]
  },
  {
   "cell_type": "code",
   "execution_count": 128,
   "metadata": {
    "colab": {
     "base_uri": "https://localhost:8080/",
     "height": 350
    },
    "colab_type": "code",
    "id": "dT413J0k-VNo",
    "outputId": "5362ffca-3fb1-4368-9b24-84813a0d2234"
   },
   "outputs": [
    {
     "data": {
      "image/png": "[encoded data removed]",
      "text/plain": [
       "<IPython.core.display.Image object>"
      ]
     },
     "execution_count": 128,
     "metadata": {
      "image/png": {
       "width": 1000
      },
      "tags": []
     },
     "output_type": "execute_result"
    }
   ],
   "source": [
    "Image(\"Screenshot (5745).png\", width=1000)\n",
    "\n"
   ]
  },
  {
   "cell_type": "markdown",
   "metadata": {
    "colab_type": "text",
    "id": "3a1bRohh2_5P"
   },
   "source": []
  }
 ],
 "metadata": {
  "colab": {
   "collapsed_sections": [],
   "name": "Untitled14.ipynb",
   "provenance": [],
   "version": "0.3.2"
  },
  "kernelspec": {
   "display_name": "Python 3",
   "language": "python",
   "name": "python3"
  },
  "language_info": {
   "codemirror_mode": {
    "name": "ipython",
    "version": 3
   },
   "file_extension": ".py",
   "mimetype": "text/x-python",
   "name": "python",
   "nbconvert_exporter": "python",
   "pygments_lexer": "ipython3",
   "version": "3.6.5"
  }
 },
 "nbformat": 4,
 "nbformat_minor": 1
}
