{
 "cells": [
  {
   "cell_type": "code",
   "execution_count": 0,
   "metadata": {
    "colab": {},
    "colab_type": "code",
    "id": "msXoovqHak7n"
   },
   "outputs": [],
   "source": [
    "%matplotlib inline\n",
    "import warnings\n",
    "warnings.filterwarnings(\"ignore\")\n",
    "import sqlite3\n",
    "import pandas as pd\n",
    "import numpy as np\n",
    "import string\n",
    "import matplotlib.pyplot as plt\n",
    "import seaborn as sns\n",
    "import gensim\n",
    "from sklearn.feature_extraction.text import CountVectorizer\n",
    "from sklearn.feature_extraction.text import TfidfTransformer\n",
    "from sklearn.feature_extraction.text import TfidfVectorizer\n",
    "from sklearn.metrics import confusion_matrix,auc,accuracy_score\n",
    "from nltk.stem.porter import PorterStemmer\n",
    "import re\n",
    "from nltk.corpus import stopwords\n",
    "from nltk.stem import PorterStemmer\n",
    "from nltk.stem.wordnet import WordNetLemmatizer\n",
    "from gensim.models import Word2Vec\n",
    "from gensim.models import KeyedVectors\n",
    "import pickle\n",
    "con = sqlite3.connect(\"drive/Colab Notebooks/database.sqlite\") \n",
    "filtered_data = pd.read_sql_query(\"\"\" SELECT * FROM Reviews WHERE Score != 3 \"\"\", con) \n",
    "def partition(x):\n",
    "    if x < 3:\n",
    "        return 'negative'\n",
    "    return 'positive'\n",
    "\n",
    "#changing reviews with score less than 3 to be positive and vice-versa\n",
    "actualScore = filtered_data['Score']\n",
    "positiveNegative = actualScore.map(partition) \n",
    "filtered_data['Score'] = positiveNegative"
   ]
  },
  {
   "cell_type": "code",
   "execution_count": 0,
   "metadata": {
    "colab": {},
    "colab_type": "code",
    "id": "uOgUoXdBVPAv"
   },
   "outputs": [],
   "source": []
  },
  {
   "cell_type": "code",
   "execution_count": 0,
   "metadata": {
    "colab": {},
    "colab_type": "code",
    "id": "KVagY97kiluA"
   },
   "outputs": [],
   "source": [
    "import pickle\n",
    "def savetofile(obj,filename):\n",
    "    pickle.dump(obj,open(filename+\".p\",\"wb\"))\n",
    "def openfromfile(filename):\n",
    "    temp = pickle.load(open(filename+\".p\",\"rb\"))\n",
    "    return temp"
   ]
  },
  {
   "cell_type": "code",
   "execution_count": 0,
   "metadata": {
    "colab": {},
    "colab_type": "code",
    "id": "GRCjft-dj5u0"
   },
   "outputs": [],
   "source": []
  },
  {
   "cell_type": "code",
   "execution_count": 0,
   "metadata": {
    "colab": {},
    "colab_type": "code",
    "id": "N6HoeZUxBm0F"
   },
   "outputs": [],
   "source": [
    "from sklearn.metrics import accuracy_score\n",
    "from sklearn.metrics import confusion_matrix\n",
    "from sklearn.metrics import precision_score\n",
    "from sklearn.metrics import f1_score\n",
    "from sklearn.metrics import recall_score\n"
   ]
  },
  {
   "cell_type": "code",
   "execution_count": 0,
   "metadata": {
    "colab": {},
    "colab_type": "code",
    "id": "xqaNF0utd1zI"
   },
   "outputs": [],
   "source": [
    "!pip3 install gensim"
   ]
  },
  {
   "cell_type": "code",
   "execution_count": 9,
   "metadata": {
    "colab": {
     "base_uri": "https://localhost:8080/",
     "height": 3780
    },
    "colab_type": "code",
    "id": "BG0uCahGfAke",
    "outputId": "260d1eb4-2dac-4d3b-8d56-599399613963"
   },
   "outputs": [
    {
     "data": {
      "text/html": [
       "<div>\n",
       "<style scoped>\n",
       "    .dataframe tbody tr th:only-of-type {\n",
       "        vertical-align: middle;\n",
       "    }\n",
       "\n",
       "    .dataframe tbody tr th {\n",
       "        vertical-align: top;\n",
       "    }\n",
       "\n",
       "    .dataframe thead th {\n",
       "        text-align: right;\n",
       "    }\n",
       "</style>\n",
       "<table border=\"1\" class=\"dataframe\">\n",
       "  <thead>\n",
       "    <tr style=\"text-align: right;\">\n",
       "      <th></th>\n",
       "      <th>Id</th>\n",
       "      <th>ProductId</th>\n",
       "      <th>UserId</th>\n",
       "      <th>ProfileName</th>\n",
       "      <th>HelpfulnessNumerator</th>\n",
       "      <th>HelpfulnessDenominator</th>\n",
       "      <th>Score</th>\n",
       "      <th>Time</th>\n",
       "      <th>Summary</th>\n",
       "      <th>Text</th>\n",
       "    </tr>\n",
       "  </thead>\n",
       "  <tbody>\n",
       "    <tr>\n",
       "      <th>0</th>\n",
       "      <td>1</td>\n",
       "      <td>B001E4KFG0</td>\n",
       "      <td>A3SGXH7AUHU8GW</td>\n",
       "      <td>delmartian</td>\n",
       "      <td>1</td>\n",
       "      <td>1</td>\n",
       "      <td>positive</td>\n",
       "      <td>1303862400</td>\n",
       "      <td>Good Quality Dog Food</td>\n",
       "      <td>I have bought several of the Vitality canned d...</td>\n",
       "    </tr>\n",
       "    <tr>\n",
       "      <th>1</th>\n",
       "      <td>2</td>\n",
       "      <td>B00813GRG4</td>\n",
       "      <td>A1D87F6ZCVE5NK</td>\n",
       "      <td>dll pa</td>\n",
       "      <td>0</td>\n",
       "      <td>0</td>\n",
       "      <td>negative</td>\n",
       "      <td>1346976000</td>\n",
       "      <td>Not as Advertised</td>\n",
       "      <td>Product arrived labeled as Jumbo Salted Peanut...</td>\n",
       "    </tr>\n",
       "    <tr>\n",
       "      <th>2</th>\n",
       "      <td>3</td>\n",
       "      <td>B000LQOCH0</td>\n",
       "      <td>ABXLMWJIXXAIN</td>\n",
       "      <td>Natalia Corres \"Natalia Corres\"</td>\n",
       "      <td>1</td>\n",
       "      <td>1</td>\n",
       "      <td>positive</td>\n",
       "      <td>1219017600</td>\n",
       "      <td>\"Delight\" says it all</td>\n",
       "      <td>This is a confection that has been around a fe...</td>\n",
       "    </tr>\n",
       "    <tr>\n",
       "      <th>3</th>\n",
       "      <td>4</td>\n",
       "      <td>B000UA0QIQ</td>\n",
       "      <td>A395BORC6FGVXV</td>\n",
       "      <td>Karl</td>\n",
       "      <td>3</td>\n",
       "      <td>3</td>\n",
       "      <td>negative</td>\n",
       "      <td>1307923200</td>\n",
       "      <td>Cough Medicine</td>\n",
       "      <td>If you are looking for the secret ingredient i...</td>\n",
       "    </tr>\n",
       "    <tr>\n",
       "      <th>4</th>\n",
       "      <td>5</td>\n",
       "      <td>B006K2ZZ7K</td>\n",
       "      <td>A1UQRSCLF8GW1T</td>\n",
       "      <td>Michael D. Bigham \"M. Wassir\"</td>\n",
       "      <td>0</td>\n",
       "      <td>0</td>\n",
       "      <td>positive</td>\n",
       "      <td>1350777600</td>\n",
       "      <td>Great taffy</td>\n",
       "      <td>Great taffy at a great price.  There was a wid...</td>\n",
       "    </tr>\n",
       "    <tr>\n",
       "      <th>5</th>\n",
       "      <td>6</td>\n",
       "      <td>B006K2ZZ7K</td>\n",
       "      <td>ADT0SRK1MGOEU</td>\n",
       "      <td>Twoapennything</td>\n",
       "      <td>0</td>\n",
       "      <td>0</td>\n",
       "      <td>positive</td>\n",
       "      <td>1342051200</td>\n",
       "      <td>Nice Taffy</td>\n",
       "      <td>I got a wild hair for taffy and ordered this f...</td>\n",
       "    </tr>\n",
       "    <tr>\n",
       "      <th>6</th>\n",
       "      <td>7</td>\n",
       "      <td>B006K2ZZ7K</td>\n",
       "      <td>A1SP2KVKFXXRU1</td>\n",
       "      <td>David C. Sullivan</td>\n",
       "      <td>0</td>\n",
       "      <td>0</td>\n",
       "      <td>positive</td>\n",
       "      <td>1340150400</td>\n",
       "      <td>Great!  Just as good as the expensive brands!</td>\n",
       "      <td>This saltwater taffy had great flavors and was...</td>\n",
       "    </tr>\n",
       "    <tr>\n",
       "      <th>7</th>\n",
       "      <td>8</td>\n",
       "      <td>B006K2ZZ7K</td>\n",
       "      <td>A3JRGQVEQN31IQ</td>\n",
       "      <td>Pamela G. Williams</td>\n",
       "      <td>0</td>\n",
       "      <td>0</td>\n",
       "      <td>positive</td>\n",
       "      <td>1336003200</td>\n",
       "      <td>Wonderful, tasty taffy</td>\n",
       "      <td>This taffy is so good.  It is very soft and ch...</td>\n",
       "    </tr>\n",
       "    <tr>\n",
       "      <th>8</th>\n",
       "      <td>9</td>\n",
       "      <td>B000E7L2R4</td>\n",
       "      <td>A1MZYO9TZK0BBI</td>\n",
       "      <td>R. James</td>\n",
       "      <td>1</td>\n",
       "      <td>1</td>\n",
       "      <td>positive</td>\n",
       "      <td>1322006400</td>\n",
       "      <td>Yay Barley</td>\n",
       "      <td>Right now I'm mostly just sprouting this so my...</td>\n",
       "    </tr>\n",
       "    <tr>\n",
       "      <th>9</th>\n",
       "      <td>10</td>\n",
       "      <td>B00171APVA</td>\n",
       "      <td>A21BT40VZCCYT4</td>\n",
       "      <td>Carol A. Reed</td>\n",
       "      <td>0</td>\n",
       "      <td>0</td>\n",
       "      <td>positive</td>\n",
       "      <td>1351209600</td>\n",
       "      <td>Healthy Dog Food</td>\n",
       "      <td>This is a very healthy dog food. Good for thei...</td>\n",
       "    </tr>\n",
       "    <tr>\n",
       "      <th>10</th>\n",
       "      <td>11</td>\n",
       "      <td>B0001PB9FE</td>\n",
       "      <td>A3HDKO7OW0QNK4</td>\n",
       "      <td>Canadian Fan</td>\n",
       "      <td>1</td>\n",
       "      <td>1</td>\n",
       "      <td>positive</td>\n",
       "      <td>1107820800</td>\n",
       "      <td>The Best Hot Sauce in the World</td>\n",
       "      <td>I don't know if it's the cactus or the tequila...</td>\n",
       "    </tr>\n",
       "    <tr>\n",
       "      <th>11</th>\n",
       "      <td>12</td>\n",
       "      <td>B0009XLVG0</td>\n",
       "      <td>A2725IB4YY9JEB</td>\n",
       "      <td>A Poeng \"SparkyGoHome\"</td>\n",
       "      <td>4</td>\n",
       "      <td>4</td>\n",
       "      <td>positive</td>\n",
       "      <td>1282867200</td>\n",
       "      <td>My cats LOVE this \"diet\" food better than thei...</td>\n",
       "      <td>One of my boys needed to lose some weight and ...</td>\n",
       "    </tr>\n",
       "    <tr>\n",
       "      <th>12</th>\n",
       "      <td>13</td>\n",
       "      <td>B0009XLVG0</td>\n",
       "      <td>A327PCT23YH90</td>\n",
       "      <td>LT</td>\n",
       "      <td>1</td>\n",
       "      <td>1</td>\n",
       "      <td>negative</td>\n",
       "      <td>1339545600</td>\n",
       "      <td>My Cats Are Not Fans of the New Food</td>\n",
       "      <td>My cats have been happily eating Felidae Plati...</td>\n",
       "    </tr>\n",
       "    <tr>\n",
       "      <th>13</th>\n",
       "      <td>14</td>\n",
       "      <td>B001GVISJM</td>\n",
       "      <td>A18ECVX2RJ7HUE</td>\n",
       "      <td>willie \"roadie\"</td>\n",
       "      <td>2</td>\n",
       "      <td>2</td>\n",
       "      <td>positive</td>\n",
       "      <td>1288915200</td>\n",
       "      <td>fresh and greasy!</td>\n",
       "      <td>good flavor! these came securely packed... the...</td>\n",
       "    </tr>\n",
       "    <tr>\n",
       "      <th>14</th>\n",
       "      <td>15</td>\n",
       "      <td>B001GVISJM</td>\n",
       "      <td>A2MUGFV2TDQ47K</td>\n",
       "      <td>Lynrie \"Oh HELL no\"</td>\n",
       "      <td>4</td>\n",
       "      <td>5</td>\n",
       "      <td>positive</td>\n",
       "      <td>1268352000</td>\n",
       "      <td>Strawberry Twizzlers - Yummy</td>\n",
       "      <td>The Strawberry Twizzlers are my guilty pleasur...</td>\n",
       "    </tr>\n",
       "    <tr>\n",
       "      <th>15</th>\n",
       "      <td>16</td>\n",
       "      <td>B001GVISJM</td>\n",
       "      <td>A1CZX3CP8IKQIJ</td>\n",
       "      <td>Brian A. Lee</td>\n",
       "      <td>4</td>\n",
       "      <td>5</td>\n",
       "      <td>positive</td>\n",
       "      <td>1262044800</td>\n",
       "      <td>Lots of twizzlers, just what you expect.</td>\n",
       "      <td>My daughter loves twizzlers and this shipment ...</td>\n",
       "    </tr>\n",
       "    <tr>\n",
       "      <th>16</th>\n",
       "      <td>17</td>\n",
       "      <td>B001GVISJM</td>\n",
       "      <td>A3KLWF6WQ5BNYO</td>\n",
       "      <td>Erica Neathery</td>\n",
       "      <td>0</td>\n",
       "      <td>0</td>\n",
       "      <td>negative</td>\n",
       "      <td>1348099200</td>\n",
       "      <td>poor taste</td>\n",
       "      <td>I love eating them and they are good for watch...</td>\n",
       "    </tr>\n",
       "    <tr>\n",
       "      <th>17</th>\n",
       "      <td>18</td>\n",
       "      <td>B001GVISJM</td>\n",
       "      <td>AFKW14U97Z6QO</td>\n",
       "      <td>Becca</td>\n",
       "      <td>0</td>\n",
       "      <td>0</td>\n",
       "      <td>positive</td>\n",
       "      <td>1345075200</td>\n",
       "      <td>Love it!</td>\n",
       "      <td>I am very satisfied with my Twizzler purchase....</td>\n",
       "    </tr>\n",
       "    <tr>\n",
       "      <th>18</th>\n",
       "      <td>19</td>\n",
       "      <td>B001GVISJM</td>\n",
       "      <td>A2A9X58G2GTBLP</td>\n",
       "      <td>Wolfee1</td>\n",
       "      <td>0</td>\n",
       "      <td>0</td>\n",
       "      <td>positive</td>\n",
       "      <td>1324598400</td>\n",
       "      <td>GREAT SWEET CANDY!</td>\n",
       "      <td>Twizzlers, Strawberry my childhood favorite ca...</td>\n",
       "    </tr>\n",
       "    <tr>\n",
       "      <th>19</th>\n",
       "      <td>20</td>\n",
       "      <td>B001GVISJM</td>\n",
       "      <td>A3IV7CL2C13K2U</td>\n",
       "      <td>Greg</td>\n",
       "      <td>0</td>\n",
       "      <td>0</td>\n",
       "      <td>positive</td>\n",
       "      <td>1318032000</td>\n",
       "      <td>Home delivered twizlers</td>\n",
       "      <td>Candy was delivered very fast and was purchase...</td>\n",
       "    </tr>\n",
       "    <tr>\n",
       "      <th>20</th>\n",
       "      <td>21</td>\n",
       "      <td>B001GVISJM</td>\n",
       "      <td>A1WO0KGLPR5PV6</td>\n",
       "      <td>mom2emma</td>\n",
       "      <td>0</td>\n",
       "      <td>0</td>\n",
       "      <td>positive</td>\n",
       "      <td>1313452800</td>\n",
       "      <td>Always fresh</td>\n",
       "      <td>My husband is a Twizzlers addict.  We've bough...</td>\n",
       "    </tr>\n",
       "    <tr>\n",
       "      <th>21</th>\n",
       "      <td>22</td>\n",
       "      <td>B001GVISJM</td>\n",
       "      <td>AZOF9E17RGZH8</td>\n",
       "      <td>Tammy Anderson</td>\n",
       "      <td>0</td>\n",
       "      <td>0</td>\n",
       "      <td>positive</td>\n",
       "      <td>1308960000</td>\n",
       "      <td>TWIZZLERS</td>\n",
       "      <td>I bought these for my husband who is currently...</td>\n",
       "    </tr>\n",
       "    <tr>\n",
       "      <th>22</th>\n",
       "      <td>23</td>\n",
       "      <td>B001GVISJM</td>\n",
       "      <td>ARYVQL4N737A1</td>\n",
       "      <td>Charles Brown</td>\n",
       "      <td>0</td>\n",
       "      <td>0</td>\n",
       "      <td>positive</td>\n",
       "      <td>1304899200</td>\n",
       "      <td>Delicious product!</td>\n",
       "      <td>I can remember buying this candy as a kid and ...</td>\n",
       "    </tr>\n",
       "    <tr>\n",
       "      <th>23</th>\n",
       "      <td>24</td>\n",
       "      <td>B001GVISJM</td>\n",
       "      <td>AJ613OLZZUG7V</td>\n",
       "      <td>Mare's</td>\n",
       "      <td>0</td>\n",
       "      <td>0</td>\n",
       "      <td>positive</td>\n",
       "      <td>1304467200</td>\n",
       "      <td>Twizzlers</td>\n",
       "      <td>I love this candy.  After weight watchers I ha...</td>\n",
       "    </tr>\n",
       "    <tr>\n",
       "      <th>24</th>\n",
       "      <td>25</td>\n",
       "      <td>B001GVISJM</td>\n",
       "      <td>A22P2J09NJ9HKE</td>\n",
       "      <td>S. Cabanaugh \"jilly pepper\"</td>\n",
       "      <td>0</td>\n",
       "      <td>0</td>\n",
       "      <td>positive</td>\n",
       "      <td>1295481600</td>\n",
       "      <td>Please sell these in Mexico!!</td>\n",
       "      <td>I have lived out of the US for over 7 yrs now,...</td>\n",
       "    </tr>\n",
       "    <tr>\n",
       "      <th>25</th>\n",
       "      <td>26</td>\n",
       "      <td>B001GVISJM</td>\n",
       "      <td>A3FONPR03H3PJS</td>\n",
       "      <td>Deborah S. Linzer \"Cat Lady\"</td>\n",
       "      <td>0</td>\n",
       "      <td>0</td>\n",
       "      <td>positive</td>\n",
       "      <td>1288310400</td>\n",
       "      <td>Twizzlers - Strawberry</td>\n",
       "      <td>Product received is as advertised.&lt;br /&gt;&lt;br /&gt;...</td>\n",
       "    </tr>\n",
       "    <tr>\n",
       "      <th>26</th>\n",
       "      <td>27</td>\n",
       "      <td>B001GVISJM</td>\n",
       "      <td>A3RXAU2N8KV45G</td>\n",
       "      <td>lady21</td>\n",
       "      <td>0</td>\n",
       "      <td>1</td>\n",
       "      <td>negative</td>\n",
       "      <td>1332633600</td>\n",
       "      <td>Nasty No flavor</td>\n",
       "      <td>The candy is just red , No flavor . Just  plan...</td>\n",
       "    </tr>\n",
       "    <tr>\n",
       "      <th>27</th>\n",
       "      <td>28</td>\n",
       "      <td>B001GVISJM</td>\n",
       "      <td>AAAS38B98HMIK</td>\n",
       "      <td>Heather Dube</td>\n",
       "      <td>0</td>\n",
       "      <td>1</td>\n",
       "      <td>positive</td>\n",
       "      <td>1331856000</td>\n",
       "      <td>Great Bargain for the Price</td>\n",
       "      <td>I was so glad Amazon carried these batteries. ...</td>\n",
       "    </tr>\n",
       "    <tr>\n",
       "      <th>28</th>\n",
       "      <td>29</td>\n",
       "      <td>B00144C10S</td>\n",
       "      <td>A2F4LZVGFLD1OB</td>\n",
       "      <td>DaisyH</td>\n",
       "      <td>0</td>\n",
       "      <td>0</td>\n",
       "      <td>positive</td>\n",
       "      <td>1338854400</td>\n",
       "      <td>YUMMY!</td>\n",
       "      <td>I got this for my Mum who is not diabetic but ...</td>\n",
       "    </tr>\n",
       "    <tr>\n",
       "      <th>29</th>\n",
       "      <td>30</td>\n",
       "      <td>B0001PB9FY</td>\n",
       "      <td>A3HDKO7OW0QNK4</td>\n",
       "      <td>Canadian Fan</td>\n",
       "      <td>1</td>\n",
       "      <td>1</td>\n",
       "      <td>positive</td>\n",
       "      <td>1107820800</td>\n",
       "      <td>The Best Hot Sauce in the World</td>\n",
       "      <td>I don't know if it's the cactus or the tequila...</td>\n",
       "    </tr>\n",
       "    <tr>\n",
       "      <th>...</th>\n",
       "      <td>...</td>\n",
       "      <td>...</td>\n",
       "      <td>...</td>\n",
       "      <td>...</td>\n",
       "      <td>...</td>\n",
       "      <td>...</td>\n",
       "      <td>...</td>\n",
       "      <td>...</td>\n",
       "      <td>...</td>\n",
       "      <td>...</td>\n",
       "    </tr>\n",
       "    <tr>\n",
       "      <th>525784</th>\n",
       "      <td>568425</td>\n",
       "      <td>B001FPT1WM</td>\n",
       "      <td>A291HTT117RVS9</td>\n",
       "      <td>MadisonVeggie \"Lynette in Wisconsin\"</td>\n",
       "      <td>2</td>\n",
       "      <td>2</td>\n",
       "      <td>positive</td>\n",
       "      <td>1333411200</td>\n",
       "      <td>Unusual, even for a violet candy</td>\n",
       "      <td>I've tried several violet flavored candies in ...</td>\n",
       "    </tr>\n",
       "    <tr>\n",
       "      <th>525785</th>\n",
       "      <td>568426</td>\n",
       "      <td>B001FPT1WM</td>\n",
       "      <td>A1TRJQBYQFZW4</td>\n",
       "      <td>Brad</td>\n",
       "      <td>2</td>\n",
       "      <td>2</td>\n",
       "      <td>positive</td>\n",
       "      <td>1325376000</td>\n",
       "      <td>Very good</td>\n",
       "      <td>This candy has a very good flavor. It is quite...</td>\n",
       "    </tr>\n",
       "    <tr>\n",
       "      <th>525786</th>\n",
       "      <td>568427</td>\n",
       "      <td>B001FPT1WM</td>\n",
       "      <td>A2F25C6QCKJ3HL</td>\n",
       "      <td>Jill</td>\n",
       "      <td>1</td>\n",
       "      <td>1</td>\n",
       "      <td>negative</td>\n",
       "      <td>1341532800</td>\n",
       "      <td>rip off</td>\n",
       "      <td>The candy is tasty, but they totally scam you ...</td>\n",
       "    </tr>\n",
       "    <tr>\n",
       "      <th>525787</th>\n",
       "      <td>568428</td>\n",
       "      <td>B001FPT1WM</td>\n",
       "      <td>A7VLVCQJIROTF</td>\n",
       "      <td>Lorraine \"DamnSwank\"</td>\n",
       "      <td>1</td>\n",
       "      <td>1</td>\n",
       "      <td>positive</td>\n",
       "      <td>1340323200</td>\n",
       "      <td>The search has ended!</td>\n",
       "      <td>I had been looking for the violet candy with t...</td>\n",
       "    </tr>\n",
       "    <tr>\n",
       "      <th>525788</th>\n",
       "      <td>568429</td>\n",
       "      <td>B001FPT1WM</td>\n",
       "      <td>A1YGG6T4YJZWC1</td>\n",
       "      <td>bethany \"birds and more birds\"</td>\n",
       "      <td>1</td>\n",
       "      <td>1</td>\n",
       "      <td>positive</td>\n",
       "      <td>1340236800</td>\n",
       "      <td>very tasty</td>\n",
       "      <td>these are very pricey so i only enjoy them now...</td>\n",
       "    </tr>\n",
       "    <tr>\n",
       "      <th>525789</th>\n",
       "      <td>568430</td>\n",
       "      <td>B001FPT1WM</td>\n",
       "      <td>AW7HIV8I53FE4</td>\n",
       "      <td>Herb Schulsinger \"Bach Because!\"</td>\n",
       "      <td>1</td>\n",
       "      <td>1</td>\n",
       "      <td>positive</td>\n",
       "      <td>1338508800</td>\n",
       "      <td>Violet French Hard Candy</td>\n",
       "      <td>These candies have a mild flavor, when compare...</td>\n",
       "    </tr>\n",
       "    <tr>\n",
       "      <th>525790</th>\n",
       "      <td>568431</td>\n",
       "      <td>B001FPT1WM</td>\n",
       "      <td>A1XDMZMMOAMR7</td>\n",
       "      <td>nyxport</td>\n",
       "      <td>0</td>\n",
       "      <td>0</td>\n",
       "      <td>positive</td>\n",
       "      <td>1345161600</td>\n",
       "      <td>delicious</td>\n",
       "      <td>This product is a bit pricey for the amt. rece...</td>\n",
       "    </tr>\n",
       "    <tr>\n",
       "      <th>525791</th>\n",
       "      <td>568432</td>\n",
       "      <td>B003XUL27E</td>\n",
       "      <td>A32Y0419QFGVHM</td>\n",
       "      <td>Kevin Mitchell</td>\n",
       "      <td>0</td>\n",
       "      <td>0</td>\n",
       "      <td>negative</td>\n",
       "      <td>1319673600</td>\n",
       "      <td>Mostly water</td>\n",
       "      <td>Definitely not worth buying flavored water wit...</td>\n",
       "    </tr>\n",
       "    <tr>\n",
       "      <th>525792</th>\n",
       "      <td>568433</td>\n",
       "      <td>B003XUL27E</td>\n",
       "      <td>A1YKXVGAIA8952</td>\n",
       "      <td>NC65</td>\n",
       "      <td>0</td>\n",
       "      <td>0</td>\n",
       "      <td>negative</td>\n",
       "      <td>1319500800</td>\n",
       "      <td>No Good</td>\n",
       "      <td>I thought this soup would be more like a chill...</td>\n",
       "    </tr>\n",
       "    <tr>\n",
       "      <th>525793</th>\n",
       "      <td>568434</td>\n",
       "      <td>B003XUL27E</td>\n",
       "      <td>A1JUG9WCN1A52Z</td>\n",
       "      <td>maudlin666</td>\n",
       "      <td>0</td>\n",
       "      <td>0</td>\n",
       "      <td>negative</td>\n",
       "      <td>1311638400</td>\n",
       "      <td>Tastes horrible!</td>\n",
       "      <td>I just bought this soup today at my local groc...</td>\n",
       "    </tr>\n",
       "    <tr>\n",
       "      <th>525794</th>\n",
       "      <td>568435</td>\n",
       "      <td>B003XUL27E</td>\n",
       "      <td>ABGQPE97ZVYJ3</td>\n",
       "      <td>Katherine Kelly</td>\n",
       "      <td>0</td>\n",
       "      <td>0</td>\n",
       "      <td>negative</td>\n",
       "      <td>1306368000</td>\n",
       "      <td>Not so good</td>\n",
       "      <td>This soup is mostly broth. Although it has a k...</td>\n",
       "    </tr>\n",
       "    <tr>\n",
       "      <th>525795</th>\n",
       "      <td>568436</td>\n",
       "      <td>B003XUL27E</td>\n",
       "      <td>A2PSB4WQHH46HN</td>\n",
       "      <td>carlyowu</td>\n",
       "      <td>0</td>\n",
       "      <td>2</td>\n",
       "      <td>negative</td>\n",
       "      <td>1285718400</td>\n",
       "      <td>Where's the tortellini?</td>\n",
       "      <td>It is mostly broth, with the advertised 3/4 cu...</td>\n",
       "    </tr>\n",
       "    <tr>\n",
       "      <th>525796</th>\n",
       "      <td>568437</td>\n",
       "      <td>B000NY4SAG</td>\n",
       "      <td>A3ODWHC3EMMWTT</td>\n",
       "      <td>K. Brennan \"Baking fool\"</td>\n",
       "      <td>10</td>\n",
       "      <td>10</td>\n",
       "      <td>positive</td>\n",
       "      <td>1229731200</td>\n",
       "      <td>Baker's Ammonia Small quantity</td>\n",
       "      <td>In the past, I would have to buy a large quant...</td>\n",
       "    </tr>\n",
       "    <tr>\n",
       "      <th>525797</th>\n",
       "      <td>568438</td>\n",
       "      <td>B000NY4SAG</td>\n",
       "      <td>A1RKKPSXF9QIZF</td>\n",
       "      <td>Allen \"RcDriver\"</td>\n",
       "      <td>4</td>\n",
       "      <td>4</td>\n",
       "      <td>positive</td>\n",
       "      <td>1233792000</td>\n",
       "      <td>Good buy.</td>\n",
       "      <td>Ammonium bicarbonate in a nice little package....</td>\n",
       "    </tr>\n",
       "    <tr>\n",
       "      <th>525798</th>\n",
       "      <td>568439</td>\n",
       "      <td>B000NY4SAG</td>\n",
       "      <td>A3M89SF0SSOGBK</td>\n",
       "      <td>Robert Goode \"GrampaG\"</td>\n",
       "      <td>3</td>\n",
       "      <td>3</td>\n",
       "      <td>positive</td>\n",
       "      <td>1316995200</td>\n",
       "      <td>Baking Ammonia that Works</td>\n",
       "      <td>If you haven't ever used Ammonium Bicarbonate ...</td>\n",
       "    </tr>\n",
       "    <tr>\n",
       "      <th>525799</th>\n",
       "      <td>568440</td>\n",
       "      <td>B000NY4SAG</td>\n",
       "      <td>A34GDV49ZZQKXG</td>\n",
       "      <td>Donald M. Cook</td>\n",
       "      <td>0</td>\n",
       "      <td>5</td>\n",
       "      <td>positive</td>\n",
       "      <td>1280102400</td>\n",
       "      <td>a-ok</td>\n",
       "      <td>We need this for a recipe my wife is intereste...</td>\n",
       "    </tr>\n",
       "    <tr>\n",
       "      <th>525800</th>\n",
       "      <td>568441</td>\n",
       "      <td>B005ZC0RRO</td>\n",
       "      <td>A2TO5R8QLIITEF</td>\n",
       "      <td>SAK</td>\n",
       "      <td>1</td>\n",
       "      <td>1</td>\n",
       "      <td>positive</td>\n",
       "      <td>1323734400</td>\n",
       "      <td>Delicious, all natural and allergy free treats!</td>\n",
       "      <td>Indie Candy's gummies are absolutely delicious...</td>\n",
       "    </tr>\n",
       "    <tr>\n",
       "      <th>525801</th>\n",
       "      <td>568442</td>\n",
       "      <td>B000NY8O9M</td>\n",
       "      <td>AZRHU8CP5XKMF</td>\n",
       "      <td>David L. Brown</td>\n",
       "      <td>0</td>\n",
       "      <td>0</td>\n",
       "      <td>positive</td>\n",
       "      <td>1264204800</td>\n",
       "      <td>Great For Fast Gulasch!</td>\n",
       "      <td>Quick and easy! Had similar Gulasch in Guest H...</td>\n",
       "    </tr>\n",
       "    <tr>\n",
       "      <th>525802</th>\n",
       "      <td>568443</td>\n",
       "      <td>B006T7TKZO</td>\n",
       "      <td>A3BOURUK79CYY5</td>\n",
       "      <td>BIH</td>\n",
       "      <td>0</td>\n",
       "      <td>0</td>\n",
       "      <td>positive</td>\n",
       "      <td>1338854400</td>\n",
       "      <td>Great Cafe Latte</td>\n",
       "      <td>This product is great.  Gives you so much ener...</td>\n",
       "    </tr>\n",
       "    <tr>\n",
       "      <th>525803</th>\n",
       "      <td>568444</td>\n",
       "      <td>B000H7K114</td>\n",
       "      <td>A2AGSSZR9V7XST</td>\n",
       "      <td>Peter</td>\n",
       "      <td>0</td>\n",
       "      <td>0</td>\n",
       "      <td>positive</td>\n",
       "      <td>1281744000</td>\n",
       "      <td>Excellent Tea</td>\n",
       "      <td>I love this tea.  I first discovered the pleas...</td>\n",
       "    </tr>\n",
       "    <tr>\n",
       "      <th>525804</th>\n",
       "      <td>568445</td>\n",
       "      <td>B001EO7N10</td>\n",
       "      <td>A2SD7TY3IOX69B</td>\n",
       "      <td>BayBay \"BayBay Knows Best\"</td>\n",
       "      <td>3</td>\n",
       "      <td>3</td>\n",
       "      <td>positive</td>\n",
       "      <td>1245369600</td>\n",
       "      <td>Best Value for Chinese 5 Spice</td>\n",
       "      <td>As a foodie, I use a lot of Chinese 5 Spice po...</td>\n",
       "    </tr>\n",
       "    <tr>\n",
       "      <th>525805</th>\n",
       "      <td>568446</td>\n",
       "      <td>B001EO7N10</td>\n",
       "      <td>A2E5C8TTAED4CQ</td>\n",
       "      <td>S. Linkletter</td>\n",
       "      <td>2</td>\n",
       "      <td>2</td>\n",
       "      <td>positive</td>\n",
       "      <td>1268006400</td>\n",
       "      <td>Five Spice Powder</td>\n",
       "      <td>You can make this mix yourself, but the Star A...</td>\n",
       "    </tr>\n",
       "    <tr>\n",
       "      <th>525806</th>\n",
       "      <td>568447</td>\n",
       "      <td>B001EO7N10</td>\n",
       "      <td>A2P9W8T7NTLG2Z</td>\n",
       "      <td>Andy</td>\n",
       "      <td>0</td>\n",
       "      <td>0</td>\n",
       "      <td>negative</td>\n",
       "      <td>1328918400</td>\n",
       "      <td>Mixed wrong</td>\n",
       "      <td>I had ordered some of these a few months back ...</td>\n",
       "    </tr>\n",
       "    <tr>\n",
       "      <th>525807</th>\n",
       "      <td>568448</td>\n",
       "      <td>B001EO7N10</td>\n",
       "      <td>APWCOAVILK94B</td>\n",
       "      <td>Real Named Person \"wowzee\"</td>\n",
       "      <td>0</td>\n",
       "      <td>0</td>\n",
       "      <td>positive</td>\n",
       "      <td>1322524800</td>\n",
       "      <td>If its all natural, this is like panacea of Sp...</td>\n",
       "      <td>Hoping there is no MSG in this, this tastes ex...</td>\n",
       "    </tr>\n",
       "    <tr>\n",
       "      <th>525808</th>\n",
       "      <td>568449</td>\n",
       "      <td>B001EO7N10</td>\n",
       "      <td>A1F6BHEYB7R6R7</td>\n",
       "      <td>James Braley</td>\n",
       "      <td>0</td>\n",
       "      <td>0</td>\n",
       "      <td>positive</td>\n",
       "      <td>1308096000</td>\n",
       "      <td>Very large ground spice jars.</td>\n",
       "      <td>My only complaint is that there's so much of i...</td>\n",
       "    </tr>\n",
       "    <tr>\n",
       "      <th>525809</th>\n",
       "      <td>568450</td>\n",
       "      <td>B001EO7N10</td>\n",
       "      <td>A28KG5XORO54AY</td>\n",
       "      <td>Lettie D. Carter</td>\n",
       "      <td>0</td>\n",
       "      <td>0</td>\n",
       "      <td>positive</td>\n",
       "      <td>1299628800</td>\n",
       "      <td>Will not do without</td>\n",
       "      <td>Great for sesame chicken..this is a good if no...</td>\n",
       "    </tr>\n",
       "    <tr>\n",
       "      <th>525810</th>\n",
       "      <td>568451</td>\n",
       "      <td>B003S1WTCU</td>\n",
       "      <td>A3I8AFVPEE8KI5</td>\n",
       "      <td>R. Sawyer</td>\n",
       "      <td>0</td>\n",
       "      <td>0</td>\n",
       "      <td>negative</td>\n",
       "      <td>1331251200</td>\n",
       "      <td>disappointed</td>\n",
       "      <td>I'm disappointed with the flavor. The chocolat...</td>\n",
       "    </tr>\n",
       "    <tr>\n",
       "      <th>525811</th>\n",
       "      <td>568452</td>\n",
       "      <td>B004I613EE</td>\n",
       "      <td>A121AA1GQV751Z</td>\n",
       "      <td>pksd \"pk_007\"</td>\n",
       "      <td>2</td>\n",
       "      <td>2</td>\n",
       "      <td>positive</td>\n",
       "      <td>1329782400</td>\n",
       "      <td>Perfect for our maltipoo</td>\n",
       "      <td>These stars are small, so you can give 10-15 o...</td>\n",
       "    </tr>\n",
       "    <tr>\n",
       "      <th>525812</th>\n",
       "      <td>568453</td>\n",
       "      <td>B004I613EE</td>\n",
       "      <td>A3IBEVCTXKNOH</td>\n",
       "      <td>Kathy A. Welch \"katwel\"</td>\n",
       "      <td>1</td>\n",
       "      <td>1</td>\n",
       "      <td>positive</td>\n",
       "      <td>1331596800</td>\n",
       "      <td>Favorite Training and reward treat</td>\n",
       "      <td>These are the BEST treats for training and rew...</td>\n",
       "    </tr>\n",
       "    <tr>\n",
       "      <th>525813</th>\n",
       "      <td>568454</td>\n",
       "      <td>B001LR2CU2</td>\n",
       "      <td>A3LGQPJCZVL9UC</td>\n",
       "      <td>srfell17</td>\n",
       "      <td>0</td>\n",
       "      <td>0</td>\n",
       "      <td>positive</td>\n",
       "      <td>1338422400</td>\n",
       "      <td>Great Honey</td>\n",
       "      <td>I am very satisfied ,product is as advertised,...</td>\n",
       "    </tr>\n",
       "  </tbody>\n",
       "</table>\n",
       "<p>525814 rows × 10 columns</p>\n",
       "</div>"
      ],
      "text/plain": [
       "            Id   ProductId          UserId  \\\n",
       "0            1  B001E4KFG0  A3SGXH7AUHU8GW   \n",
       "1            2  B00813GRG4  A1D87F6ZCVE5NK   \n",
       "2            3  B000LQOCH0   ABXLMWJIXXAIN   \n",
       "3            4  B000UA0QIQ  A395BORC6FGVXV   \n",
       "4            5  B006K2ZZ7K  A1UQRSCLF8GW1T   \n",
       "5            6  B006K2ZZ7K   ADT0SRK1MGOEU   \n",
       "6            7  B006K2ZZ7K  A1SP2KVKFXXRU1   \n",
       "7            8  B006K2ZZ7K  A3JRGQVEQN31IQ   \n",
       "8            9  B000E7L2R4  A1MZYO9TZK0BBI   \n",
       "9           10  B00171APVA  A21BT40VZCCYT4   \n",
       "10          11  B0001PB9FE  A3HDKO7OW0QNK4   \n",
       "11          12  B0009XLVG0  A2725IB4YY9JEB   \n",
       "12          13  B0009XLVG0   A327PCT23YH90   \n",
       "13          14  B001GVISJM  A18ECVX2RJ7HUE   \n",
       "14          15  B001GVISJM  A2MUGFV2TDQ47K   \n",
       "15          16  B001GVISJM  A1CZX3CP8IKQIJ   \n",
       "16          17  B001GVISJM  A3KLWF6WQ5BNYO   \n",
       "17          18  B001GVISJM   AFKW14U97Z6QO   \n",
       "18          19  B001GVISJM  A2A9X58G2GTBLP   \n",
       "19          20  B001GVISJM  A3IV7CL2C13K2U   \n",
       "20          21  B001GVISJM  A1WO0KGLPR5PV6   \n",
       "21          22  B001GVISJM   AZOF9E17RGZH8   \n",
       "22          23  B001GVISJM   ARYVQL4N737A1   \n",
       "23          24  B001GVISJM   AJ613OLZZUG7V   \n",
       "24          25  B001GVISJM  A22P2J09NJ9HKE   \n",
       "25          26  B001GVISJM  A3FONPR03H3PJS   \n",
       "26          27  B001GVISJM  A3RXAU2N8KV45G   \n",
       "27          28  B001GVISJM   AAAS38B98HMIK   \n",
       "28          29  B00144C10S  A2F4LZVGFLD1OB   \n",
       "29          30  B0001PB9FY  A3HDKO7OW0QNK4   \n",
       "...        ...         ...             ...   \n",
       "525784  568425  B001FPT1WM  A291HTT117RVS9   \n",
       "525785  568426  B001FPT1WM   A1TRJQBYQFZW4   \n",
       "525786  568427  B001FPT1WM  A2F25C6QCKJ3HL   \n",
       "525787  568428  B001FPT1WM   A7VLVCQJIROTF   \n",
       "525788  568429  B001FPT1WM  A1YGG6T4YJZWC1   \n",
       "525789  568430  B001FPT1WM   AW7HIV8I53FE4   \n",
       "525790  568431  B001FPT1WM   A1XDMZMMOAMR7   \n",
       "525791  568432  B003XUL27E  A32Y0419QFGVHM   \n",
       "525792  568433  B003XUL27E  A1YKXVGAIA8952   \n",
       "525793  568434  B003XUL27E  A1JUG9WCN1A52Z   \n",
       "525794  568435  B003XUL27E   ABGQPE97ZVYJ3   \n",
       "525795  568436  B003XUL27E  A2PSB4WQHH46HN   \n",
       "525796  568437  B000NY4SAG  A3ODWHC3EMMWTT   \n",
       "525797  568438  B000NY4SAG  A1RKKPSXF9QIZF   \n",
       "525798  568439  B000NY4SAG  A3M89SF0SSOGBK   \n",
       "525799  568440  B000NY4SAG  A34GDV49ZZQKXG   \n",
       "525800  568441  B005ZC0RRO  A2TO5R8QLIITEF   \n",
       "525801  568442  B000NY8O9M   AZRHU8CP5XKMF   \n",
       "525802  568443  B006T7TKZO  A3BOURUK79CYY5   \n",
       "525803  568444  B000H7K114  A2AGSSZR9V7XST   \n",
       "525804  568445  B001EO7N10  A2SD7TY3IOX69B   \n",
       "525805  568446  B001EO7N10  A2E5C8TTAED4CQ   \n",
       "525806  568447  B001EO7N10  A2P9W8T7NTLG2Z   \n",
       "525807  568448  B001EO7N10   APWCOAVILK94B   \n",
       "525808  568449  B001EO7N10  A1F6BHEYB7R6R7   \n",
       "525809  568450  B001EO7N10  A28KG5XORO54AY   \n",
       "525810  568451  B003S1WTCU  A3I8AFVPEE8KI5   \n",
       "525811  568452  B004I613EE  A121AA1GQV751Z   \n",
       "525812  568453  B004I613EE   A3IBEVCTXKNOH   \n",
       "525813  568454  B001LR2CU2  A3LGQPJCZVL9UC   \n",
       "\n",
       "                                 ProfileName  HelpfulnessNumerator  \\\n",
       "0                                 delmartian                     1   \n",
       "1                                     dll pa                     0   \n",
       "2            Natalia Corres \"Natalia Corres\"                     1   \n",
       "3                                       Karl                     3   \n",
       "4              Michael D. Bigham \"M. Wassir\"                     0   \n",
       "5                             Twoapennything                     0   \n",
       "6                          David C. Sullivan                     0   \n",
       "7                         Pamela G. Williams                     0   \n",
       "8                                   R. James                     1   \n",
       "9                              Carol A. Reed                     0   \n",
       "10                              Canadian Fan                     1   \n",
       "11                    A Poeng \"SparkyGoHome\"                     4   \n",
       "12                                        LT                     1   \n",
       "13                           willie \"roadie\"                     2   \n",
       "14                       Lynrie \"Oh HELL no\"                     4   \n",
       "15                              Brian A. Lee                     4   \n",
       "16                            Erica Neathery                     0   \n",
       "17                                     Becca                     0   \n",
       "18                                   Wolfee1                     0   \n",
       "19                                      Greg                     0   \n",
       "20                                  mom2emma                     0   \n",
       "21                            Tammy Anderson                     0   \n",
       "22                             Charles Brown                     0   \n",
       "23                                    Mare's                     0   \n",
       "24               S. Cabanaugh \"jilly pepper\"                     0   \n",
       "25              Deborah S. Linzer \"Cat Lady\"                     0   \n",
       "26                                    lady21                     0   \n",
       "27                              Heather Dube                     0   \n",
       "28                                    DaisyH                     0   \n",
       "29                              Canadian Fan                     1   \n",
       "...                                      ...                   ...   \n",
       "525784  MadisonVeggie \"Lynette in Wisconsin\"                     2   \n",
       "525785                                  Brad                     2   \n",
       "525786                                  Jill                     1   \n",
       "525787                  Lorraine \"DamnSwank\"                     1   \n",
       "525788        bethany \"birds and more birds\"                     1   \n",
       "525789      Herb Schulsinger \"Bach Because!\"                     1   \n",
       "525790                               nyxport                     0   \n",
       "525791                        Kevin Mitchell                     0   \n",
       "525792                                  NC65                     0   \n",
       "525793                            maudlin666                     0   \n",
       "525794                       Katherine Kelly                     0   \n",
       "525795                              carlyowu                     0   \n",
       "525796              K. Brennan \"Baking fool\"                    10   \n",
       "525797                      Allen \"RcDriver\"                     4   \n",
       "525798                Robert Goode \"GrampaG\"                     3   \n",
       "525799                        Donald M. Cook                     0   \n",
       "525800                                   SAK                     1   \n",
       "525801                        David L. Brown                     0   \n",
       "525802                                   BIH                     0   \n",
       "525803                                 Peter                     0   \n",
       "525804            BayBay \"BayBay Knows Best\"                     3   \n",
       "525805                         S. Linkletter                     2   \n",
       "525806                                  Andy                     0   \n",
       "525807            Real Named Person \"wowzee\"                     0   \n",
       "525808                          James Braley                     0   \n",
       "525809                      Lettie D. Carter                     0   \n",
       "525810                             R. Sawyer                     0   \n",
       "525811                         pksd \"pk_007\"                     2   \n",
       "525812               Kathy A. Welch \"katwel\"                     1   \n",
       "525813                              srfell17                     0   \n",
       "\n",
       "        HelpfulnessDenominator     Score        Time  \\\n",
       "0                            1  positive  1303862400   \n",
       "1                            0  negative  1346976000   \n",
       "2                            1  positive  1219017600   \n",
       "3                            3  negative  1307923200   \n",
       "4                            0  positive  1350777600   \n",
       "5                            0  positive  1342051200   \n",
       "6                            0  positive  1340150400   \n",
       "7                            0  positive  1336003200   \n",
       "8                            1  positive  1322006400   \n",
       "9                            0  positive  1351209600   \n",
       "10                           1  positive  1107820800   \n",
       "11                           4  positive  1282867200   \n",
       "12                           1  negative  1339545600   \n",
       "13                           2  positive  1288915200   \n",
       "14                           5  positive  1268352000   \n",
       "15                           5  positive  1262044800   \n",
       "16                           0  negative  1348099200   \n",
       "17                           0  positive  1345075200   \n",
       "18                           0  positive  1324598400   \n",
       "19                           0  positive  1318032000   \n",
       "20                           0  positive  1313452800   \n",
       "21                           0  positive  1308960000   \n",
       "22                           0  positive  1304899200   \n",
       "23                           0  positive  1304467200   \n",
       "24                           0  positive  1295481600   \n",
       "25                           0  positive  1288310400   \n",
       "26                           1  negative  1332633600   \n",
       "27                           1  positive  1331856000   \n",
       "28                           0  positive  1338854400   \n",
       "29                           1  positive  1107820800   \n",
       "...                        ...       ...         ...   \n",
       "525784                       2  positive  1333411200   \n",
       "525785                       2  positive  1325376000   \n",
       "525786                       1  negative  1341532800   \n",
       "525787                       1  positive  1340323200   \n",
       "525788                       1  positive  1340236800   \n",
       "525789                       1  positive  1338508800   \n",
       "525790                       0  positive  1345161600   \n",
       "525791                       0  negative  1319673600   \n",
       "525792                       0  negative  1319500800   \n",
       "525793                       0  negative  1311638400   \n",
       "525794                       0  negative  1306368000   \n",
       "525795                       2  negative  1285718400   \n",
       "525796                      10  positive  1229731200   \n",
       "525797                       4  positive  1233792000   \n",
       "525798                       3  positive  1316995200   \n",
       "525799                       5  positive  1280102400   \n",
       "525800                       1  positive  1323734400   \n",
       "525801                       0  positive  1264204800   \n",
       "525802                       0  positive  1338854400   \n",
       "525803                       0  positive  1281744000   \n",
       "525804                       3  positive  1245369600   \n",
       "525805                       2  positive  1268006400   \n",
       "525806                       0  negative  1328918400   \n",
       "525807                       0  positive  1322524800   \n",
       "525808                       0  positive  1308096000   \n",
       "525809                       0  positive  1299628800   \n",
       "525810                       0  negative  1331251200   \n",
       "525811                       2  positive  1329782400   \n",
       "525812                       1  positive  1331596800   \n",
       "525813                       0  positive  1338422400   \n",
       "\n",
       "                                                  Summary  \\\n",
       "0                                   Good Quality Dog Food   \n",
       "1                                       Not as Advertised   \n",
       "2                                   \"Delight\" says it all   \n",
       "3                                          Cough Medicine   \n",
       "4                                             Great taffy   \n",
       "5                                              Nice Taffy   \n",
       "6           Great!  Just as good as the expensive brands!   \n",
       "7                                  Wonderful, tasty taffy   \n",
       "8                                              Yay Barley   \n",
       "9                                        Healthy Dog Food   \n",
       "10                        The Best Hot Sauce in the World   \n",
       "11      My cats LOVE this \"diet\" food better than thei...   \n",
       "12                   My Cats Are Not Fans of the New Food   \n",
       "13                                      fresh and greasy!   \n",
       "14                           Strawberry Twizzlers - Yummy   \n",
       "15               Lots of twizzlers, just what you expect.   \n",
       "16                                             poor taste   \n",
       "17                                               Love it!   \n",
       "18                                     GREAT SWEET CANDY!   \n",
       "19                                Home delivered twizlers   \n",
       "20                                           Always fresh   \n",
       "21                                              TWIZZLERS   \n",
       "22                                     Delicious product!   \n",
       "23                                              Twizzlers   \n",
       "24                          Please sell these in Mexico!!   \n",
       "25                                 Twizzlers - Strawberry   \n",
       "26                                        Nasty No flavor   \n",
       "27                            Great Bargain for the Price   \n",
       "28                                                 YUMMY!   \n",
       "29                        The Best Hot Sauce in the World   \n",
       "...                                                   ...   \n",
       "525784                   Unusual, even for a violet candy   \n",
       "525785                                          Very good   \n",
       "525786                                            rip off   \n",
       "525787                              The search has ended!   \n",
       "525788                                         very tasty   \n",
       "525789                           Violet French Hard Candy   \n",
       "525790                                          delicious   \n",
       "525791                                       Mostly water   \n",
       "525792                                            No Good   \n",
       "525793                                   Tastes horrible!   \n",
       "525794                                        Not so good   \n",
       "525795                            Where's the tortellini?   \n",
       "525796                     Baker's Ammonia Small quantity   \n",
       "525797                                          Good buy.   \n",
       "525798                          Baking Ammonia that Works   \n",
       "525799                                               a-ok   \n",
       "525800    Delicious, all natural and allergy free treats!   \n",
       "525801                            Great For Fast Gulasch!   \n",
       "525802                                   Great Cafe Latte   \n",
       "525803                                      Excellent Tea   \n",
       "525804                     Best Value for Chinese 5 Spice   \n",
       "525805                                  Five Spice Powder   \n",
       "525806                                        Mixed wrong   \n",
       "525807  If its all natural, this is like panacea of Sp...   \n",
       "525808                      Very large ground spice jars.   \n",
       "525809                                Will not do without   \n",
       "525810                                       disappointed   \n",
       "525811                           Perfect for our maltipoo   \n",
       "525812                 Favorite Training and reward treat   \n",
       "525813                                        Great Honey   \n",
       "\n",
       "                                                     Text  \n",
       "0       I have bought several of the Vitality canned d...  \n",
       "1       Product arrived labeled as Jumbo Salted Peanut...  \n",
       "2       This is a confection that has been around a fe...  \n",
       "3       If you are looking for the secret ingredient i...  \n",
       "4       Great taffy at a great price.  There was a wid...  \n",
       "5       I got a wild hair for taffy and ordered this f...  \n",
       "6       This saltwater taffy had great flavors and was...  \n",
       "7       This taffy is so good.  It is very soft and ch...  \n",
       "8       Right now I'm mostly just sprouting this so my...  \n",
       "9       This is a very healthy dog food. Good for thei...  \n",
       "10      I don't know if it's the cactus or the tequila...  \n",
       "11      One of my boys needed to lose some weight and ...  \n",
       "12      My cats have been happily eating Felidae Plati...  \n",
       "13      good flavor! these came securely packed... the...  \n",
       "14      The Strawberry Twizzlers are my guilty pleasur...  \n",
       "15      My daughter loves twizzlers and this shipment ...  \n",
       "16      I love eating them and they are good for watch...  \n",
       "17      I am very satisfied with my Twizzler purchase....  \n",
       "18      Twizzlers, Strawberry my childhood favorite ca...  \n",
       "19      Candy was delivered very fast and was purchase...  \n",
       "20      My husband is a Twizzlers addict.  We've bough...  \n",
       "21      I bought these for my husband who is currently...  \n",
       "22      I can remember buying this candy as a kid and ...  \n",
       "23      I love this candy.  After weight watchers I ha...  \n",
       "24      I have lived out of the US for over 7 yrs now,...  \n",
       "25      Product received is as advertised.<br /><br />...  \n",
       "26      The candy is just red , No flavor . Just  plan...  \n",
       "27      I was so glad Amazon carried these batteries. ...  \n",
       "28      I got this for my Mum who is not diabetic but ...  \n",
       "29      I don't know if it's the cactus or the tequila...  \n",
       "...                                                   ...  \n",
       "525784  I've tried several violet flavored candies in ...  \n",
       "525785  This candy has a very good flavor. It is quite...  \n",
       "525786  The candy is tasty, but they totally scam you ...  \n",
       "525787  I had been looking for the violet candy with t...  \n",
       "525788  these are very pricey so i only enjoy them now...  \n",
       "525789  These candies have a mild flavor, when compare...  \n",
       "525790  This product is a bit pricey for the amt. rece...  \n",
       "525791  Definitely not worth buying flavored water wit...  \n",
       "525792  I thought this soup would be more like a chill...  \n",
       "525793  I just bought this soup today at my local groc...  \n",
       "525794  This soup is mostly broth. Although it has a k...  \n",
       "525795  It is mostly broth, with the advertised 3/4 cu...  \n",
       "525796  In the past, I would have to buy a large quant...  \n",
       "525797  Ammonium bicarbonate in a nice little package....  \n",
       "525798  If you haven't ever used Ammonium Bicarbonate ...  \n",
       "525799  We need this for a recipe my wife is intereste...  \n",
       "525800  Indie Candy's gummies are absolutely delicious...  \n",
       "525801  Quick and easy! Had similar Gulasch in Guest H...  \n",
       "525802  This product is great.  Gives you so much ener...  \n",
       "525803  I love this tea.  I first discovered the pleas...  \n",
       "525804  As a foodie, I use a lot of Chinese 5 Spice po...  \n",
       "525805  You can make this mix yourself, but the Star A...  \n",
       "525806  I had ordered some of these a few months back ...  \n",
       "525807  Hoping there is no MSG in this, this tastes ex...  \n",
       "525808  My only complaint is that there's so much of i...  \n",
       "525809  Great for sesame chicken..this is a good if no...  \n",
       "525810  I'm disappointed with the flavor. The chocolat...  \n",
       "525811  These stars are small, so you can give 10-15 o...  \n",
       "525812  These are the BEST treats for training and rew...  \n",
       "525813  I am very satisfied ,product is as advertised,...  \n",
       "\n",
       "[525814 rows x 10 columns]"
      ]
     },
     "execution_count": 9,
     "metadata": {
      "tags": []
     },
     "output_type": "execute_result"
    }
   ],
   "source": [
    "filtered_data\n"
   ]
  },
  {
   "cell_type": "code",
   "execution_count": 7,
   "metadata": {
    "colab": {
     "base_uri": "https://localhost:8080/",
     "height": 121
    },
    "colab_type": "code",
    "id": "1I7AV75lfKw_",
    "outputId": "b60d0a0c-2e84-478a-b4c4-3e366ee5f03d"
   },
   "outputs": [
    {
     "name": "stdout",
     "output_type": "stream",
     "text": [
      "[nltk_data] Downloading package stopwords to /root/nltk_data...\n",
      "[nltk_data]   Unzipping corpora/stopwords.zip.\n",
      "{\"doesn't\", 'yours', 'o', 'those', 'themselves', \"needn't\", 'have', 'here', 'myself', 'on', 'them', \"haven't\", 'then', 'while', 'as', 'again', 'own', 'mightn', \"you're\", 'wouldn', 'my', 'hers', 'am', 'not', 'aren', 's', 'into', 'it', 'do', 'having', 'i', 'didn', 'between', 'an', 'down', 've', 'some', \"aren't\", 'were', 'has', 'which', \"wasn't\", 'above', 'wasn', 'ma', 'up', 'off', 'him', \"won't\", \"should've\", 'why', 'her', 'that', 'other', 'from', 'both', 'but', 'ourselves', 'such', 'does', 'if', \"don't\", 'the', 'haven', 'about', 'by', 'be', 'under', 'nor', 'itself', 'at', 'herself', 'weren', 'ain', \"hasn't\", 'who', \"couldn't\", 'for', 'too', 'y', 'all', \"shan't\", 'what', \"it's\", 'until', \"isn't\", 'doesn', 'where', 'now', 're', 'needn', 'further', 'so', 'will', 'm', 'did', 'was', 'doing', 'same', 'than', 'yourselves', \"mustn't\", 'himself', 'don', 'had', 'there', 'hasn', 'll', 'any', 'should', 'yourself', 'or', 'with', 'each', 'is', 'and', 'more', 'before', 'been', 'you', 'just', 'won', 'd', 'his', 'of', 'their', \"that'll\", 'no', 'whom', \"mightn't\", 'your', 'a', \"hadn't\", 'through', \"wouldn't\", 'after', 'few', 'shouldn', \"you'll\", 'theirs', 'our', 'isn', 'very', 'shan', 'ours', 'when', \"she's\", 'hadn', 'its', \"didn't\", \"shouldn't\", 'are', 'to', 'over', 'how', 'can', 'during', 'below', 'mustn', 'this', 'out', 'me', 'most', 'against', 'they', 'once', \"you'd\", 'because', 'couldn', 'we', 'being', \"you've\", 'in', 'these', 'she', 'only', 't', \"weren't\", 'he'}\n",
      "************************************\n",
      "tasti\n"
     ]
    }
   ],
   "source": [
    "import nltk\n",
    "nltk.download('stopwords')\n",
    "sno=nltk.stem.SnowballStemmer('english')\n",
    "stop = set(stopwords.words('english'))\n",
    "def cleanhtml(sentence):\n",
    "  cleanr=re.compile('<.*?>')\n",
    "  cleantext=re.sub(cleanr,' ',sentence)\n",
    "  return cleantext\n",
    "def cleanpunc(sentence):\n",
    "  cleaned = re.sub(r'[?|!|\\'|\"|#]',r'',sentence)\n",
    "  cleaned = re.sub(r'[.|,|)|(|\\|/]',r' ',cleaned) \n",
    "  return cleaned\n",
    "print(stop)\n",
    "print('************************************')\n",
    "print(sno.stem('tasty'))   "
   ]
  },
  {
   "cell_type": "code",
   "execution_count": 0,
   "metadata": {
    "colab": {},
    "colab_type": "code",
    "id": "1V3C4YlphFa2"
   },
   "outputs": [],
   "source": [
    "sorted_data=filtered_data.sort_values('ProductId', axis=0, ascending=True, inplace=False, kind='quicksort', na_position='last')\n",
    "final = sorted_data.drop_duplicates(subset= { 'UserId', 'ProfileName', 'Time',  'Text'})"
   ]
  },
  {
   "cell_type": "code",
   "execution_count": 0,
   "metadata": {
    "colab": {},
    "colab_type": "code",
    "id": "Jv926gG6hH--"
   },
   "outputs": [],
   "source": [
    "final=final[final.HelpfulnessNumerator<=final.HelpfulnessDenominator]"
   ]
  },
  {
   "cell_type": "markdown",
   "metadata": {
    "colab_type": "text",
    "id": "m-VaGKaBhKro"
   },
   "source": [
    "# Time based splitting"
   ]
  },
  {
   "cell_type": "code",
   "execution_count": 0,
   "metadata": {
    "colab": {},
    "colab_type": "code",
    "id": "iE-YJaj1hO7v"
   },
   "outputs": [],
   "source": [
    "import datetime\n",
    "from tqdm import tqdm"
   ]
  },
  {
   "cell_type": "code",
   "execution_count": 0,
   "metadata": {
    "colab": {},
    "colab_type": "code",
    "id": "WlC5_dunhSvW"
   },
   "outputs": [],
   "source": [
    "final['Time'] = final['Time'].map(lambda t:datetime.datetime.fromtimestamp(int(t)).strftime('%Y-%m-%d %H:%M:%S'))"
   ]
  },
  {
   "cell_type": "code",
   "execution_count": 12,
   "metadata": {
    "colab": {
     "base_uri": "https://localhost:8080/",
     "height": 118
    },
    "colab_type": "code",
    "id": "d86PH8fphSy_",
    "outputId": "1220bc25-4519-44b6-a191-cf49514dbb93"
   },
   "outputs": [
    {
     "data": {
      "text/plain": [
       "138706    1999-10-08 00:00:00\n",
       "138688    2007-11-11 00:00:00\n",
       "138689    2007-10-04 00:00:00\n",
       "138690    2004-02-06 00:00:00\n",
       "138691    2002-04-10 00:00:00\n",
       "Name: Time, dtype: object"
      ]
     },
     "execution_count": 12,
     "metadata": {
      "tags": []
     },
     "output_type": "execute_result"
    }
   ],
   "source": [
    "final[\"Time\"].head()"
   ]
  },
  {
   "cell_type": "code",
   "execution_count": 0,
   "metadata": {
    "colab": {},
    "colab_type": "code",
    "id": "xDLs8w-ahS6o"
   },
   "outputs": [],
   "source": [
    "final=final.sort_values('Time',axis=0,kind=\"quicksort\", ascending=True).reset_index(drop=True)"
   ]
  },
  {
   "cell_type": "code",
   "execution_count": 14,
   "metadata": {
    "colab": {
     "base_uri": "https://localhost:8080/",
     "height": 34
    },
    "colab_type": "code",
    "id": "V_BVDApEh7n_",
    "outputId": "863cb0e9-18e1-4a8c-c116-3ae2b7f432b2"
   },
   "outputs": [
    {
     "name": "stderr",
     "output_type": "stream",
     "text": [
      "100%|██████████| 364171/364171 [08:22<00:00, 724.02it/s]\n"
     ]
    }
   ],
   "source": [
    "i=0\n",
    "str1=' '\n",
    "final_string=[]\n",
    "all_positive_words=[] # store words from +ve reviews here\n",
    "all_negative_words=[] # store words from -ve reviews here.\n",
    "s=''\n",
    "for sent in tqdm(final['Text'].values):\n",
    "    filtered_sentence=[]\n",
    "    #print(sent);\n",
    "    sent=cleanhtml(sent) # remove HTMl tags\n",
    "    for w in sent.split():\n",
    "        for cleaned_words in cleanpunc(w).split():\n",
    "            if((cleaned_words.isalpha()) & (len(cleaned_words)>2)):    \n",
    "                if(cleaned_words.lower() not in stop):\n",
    "                    s=(sno.stem(cleaned_words.lower())).encode('utf8')\n",
    "                    filtered_sentence.append(s)\n",
    "                    if (final['Score'].values)[i] == 'positive': \n",
    "                        all_positive_words.append(s) #list of all words used to describe positive reviews\n",
    "                    if(final['Score'].values)[i] == 'negative':\n",
    "                        all_negative_words.append(s) #list of all words used to describe negative reviews reviews\n",
    "                else:\n",
    "                    continue\n",
    "            else:\n",
    "                continue \n",
    "    #print(filtered_sentence)\n",
    "    str1 = b\" \".join(filtered_sentence) #final string of cleaned words\n",
    "    #print(\"***********************************************************************\")\n",
    "    \n",
    "    final_string.append(str1)\n",
    "    i+=1\n",
    "      \n",
    "  \n"
   ]
  },
  {
   "cell_type": "code",
   "execution_count": 0,
   "metadata": {
    "colab": {},
    "colab_type": "code",
    "id": "Uh0m8gSPlorM"
   },
   "outputs": [],
   "source": [
    "savetofile(final_string,'final_string')"
   ]
  },
  {
   "cell_type": "code",
   "execution_count": 0,
   "metadata": {
    "colab": {},
    "colab_type": "code",
    "id": "wSIZH3lzilvc"
   },
   "outputs": [],
   "source": [
    "savetofile(all_positive_words,'all_positive_words')"
   ]
  },
  {
   "cell_type": "code",
   "execution_count": 0,
   "metadata": {
    "colab": {},
    "colab_type": "code",
    "id": "s0YTQkW_ilvf"
   },
   "outputs": [],
   "source": [
    "savetofile(all_negative_words,'all_negative_words')"
   ]
  },
  {
   "cell_type": "code",
   "execution_count": 13,
   "metadata": {
    "colab": {
     "base_uri": "https://localhost:8080/",
     "height": 34
    },
    "colab_type": "code",
    "id": "VkqQXWg-ilvi",
    "outputId": "73cb386e-7a4a-4b18-8b4b-081152eb12d8"
   },
   "outputs": [
    {
     "data": {
      "text/plain": [
       "364171"
      ]
     },
     "execution_count": 13,
     "metadata": {
      "tags": []
     },
     "output_type": "execute_result"
    }
   ],
   "source": [
    "len(final_string)"
   ]
  },
  {
   "cell_type": "code",
   "execution_count": 0,
   "metadata": {
    "colab": {},
    "colab_type": "code",
    "id": "PoHYQ6i-kr1w"
   },
   "outputs": [],
   "source": [
    "final['CleanedText']=final_string #adding a column of CleanedText which displays the data after pre-processing of the review \n",
    "final['CleanedText']=final['CleanedText'].str.decode(\"utf-8\")"
   ]
  },
  {
   "cell_type": "code",
   "execution_count": 0,
   "metadata": {
    "colab": {},
    "colab_type": "code",
    "id": "O1zYM-aCilvy"
   },
   "outputs": [],
   "source": [
    "final_sample=final['CleanedText'].values[0:30000]\n",
    "final_score=final['Score'].values[0:30000]"
   ]
  },
  {
   "cell_type": "code",
   "execution_count": 20,
   "metadata": {
    "colab": {
     "base_uri": "https://localhost:8080/",
     "height": 70
    },
    "colab_type": "code",
    "id": "zzMdPul_ksBv",
    "outputId": "ee140ea3-adb0-46fb-9d8a-95acccae5d42"
   },
   "outputs": [
    {
     "name": "stdout",
     "output_type": "stream",
     "text": [
      "Most Common Positive Words :  [(b'like', 139429), (b'tast', 129047), (b'good', 112766), (b'flavor', 109624), (b'love', 107357), (b'use', 103888), (b'great', 103870), (b'one', 96726), (b'product', 91033), (b'tri', 86791), (b'tea', 83888), (b'coffe', 78814), (b'make', 75107), (b'get', 72125), (b'food', 64802), (b'would', 55568), (b'time', 55264), (b'buy', 54198), (b'realli', 52715), (b'eat', 52004)]\n",
      "Most Common Negative Words :  [(b'tast', 34585), (b'like', 32330), (b'product', 28218), (b'one', 20569), (b'flavor', 19575), (b'would', 17972), (b'tri', 17753), (b'use', 15302), (b'good', 15041), (b'coffe', 14716), (b'get', 13786), (b'buy', 13752), (b'order', 12871), (b'food', 12754), (b'dont', 11877), (b'tea', 11665), (b'even', 11085), (b'box', 10844), (b'amazon', 10073), (b'make', 9840)]\n"
     ]
    }
   ],
   "source": [
    "freq_dist_positive=nltk.FreqDist(all_positive_words)\n",
    "freq_dist_negative=nltk.FreqDist(all_negative_words)\n",
    "print(\"Most Common Positive Words : \",freq_dist_positive.most_common(20))\n",
    "print(\"Most Common Negative Words : \",freq_dist_negative.most_common(20))"
   ]
  },
  {
   "cell_type": "code",
   "execution_count": 0,
   "metadata": {
    "colab": {},
    "colab_type": "code",
    "id": "Thd0NgE_h7yd"
   },
   "outputs": [],
   "source": []
  },
  {
   "cell_type": "markdown",
   "metadata": {
    "colab_type": "text",
    "id": "pxEMQ-n0l-KA"
   },
   "source": [
    "# FUNCTION FOR knn"
   ]
  },
  {
   "cell_type": "code",
   "execution_count": 0,
   "metadata": {
    "colab": {},
    "colab_type": "code",
    "id": "QVZAbsgXmC3K"
   },
   "outputs": [],
   "source": [
    "\n",
    "def KNNCLASSIFIER(X_train,Y_train,X_test,Y_test,optimum_k):\n",
    "    from sklearn.metrics import accuracy_score\n",
    "    from sklearn.metrics import confusion_matrix\n",
    "    from sklearn.metrics import precision_score\n",
    "    from sklearn.metrics import f1_score\n",
    "    from sklearn.metrics import recall_score\n",
    "    from sklearn.metrics import classification_report,confusion_matrix,accuracy_score\n",
    "\n",
    "    from sklearn.neighbors import KNeighborsClassifier\n",
    "    clf=KNeighborsClassifier(n_neighbors=optimum_k,algorithm='brute')\n",
    "    clf.fit(X_train,Y_train)\n",
    "    pred = clf.predict(X_test)\n",
    "    print(' accuracy with k =',optimum_k,' is ' ,np.round((accuracy_score(Y_test, pred)*100),decimals = 2))\n",
    "    print('F1 score with k=',optimum_k,' is ' , np.round((f1_score(Y_test, pred,average= 'macro')*100),decimals = 2))\n",
    "    print('Recall with k =',optimum_k,' is ' , np.round((recall_score(Y_test, pred,average= 'macro')*100),decimals = 2))\n",
    "    print('Precision with k =',optimum_k,' is ' , np.round((precision_score(Y_test, pred,average= 'macro')*100),decimals = 2))\n",
    "    print ('\\n Classification report  with k =',optimum_k,' is \\n ' , classification_report(Y_test,pred)) \n",
    "   \n",
    "    df_cm = pd.DataFrame(confusion_matrix(Y_test, pred), range(2),range(2))\n",
    "    sns.set(font_scale=1.4)\n",
    "    sns.heatmap(df_cm, annot=True,annot_kws={\"size\": 18}, fmt='g')\n",
    "    print(\"**************************\")\n",
    "    print(\"train_score is\",clf.score(X_train,Y_train))\n",
    "    print(\"***************************\")\n",
    "    print(\"test_score is\",clf.score(X_test,Y_test))"
   ]
  },
  {
   "cell_type": "code",
   "execution_count": 0,
   "metadata": {
    "colab": {},
    "colab_type": "code",
    "id": "AI34zB5eilwN"
   },
   "outputs": [],
   "source": [
    "def KNNCLASSIFIERwithKDTREE(X_train,Y_train,X_test,Y_test,optimum_k):\n",
    "    from sklearn.metrics import accuracy_score\n",
    "    from sklearn.metrics import confusion_matrix\n",
    "    from sklearn.metrics import precision_score\n",
    "    from sklearn.metrics import f1_score\n",
    "    from sklearn.metrics import recall_score\n",
    "    from sklearn.metrics import classification_report,confusion_matrix,accuracy_score\n",
    "\n",
    "    from sklearn.neighbors import KNeighborsClassifier\n",
    "    clf=KNeighborsClassifier(n_neighbors=optimum_k,algorithm='kd_tree')\n",
    "    clf.fit(X_train,Y_train)\n",
    "    pred = clf.predict(X_test)\n",
    "    print(' accuracy with k =',optimum_k,' is ' ,np.round((accuracy_score(Y_test, pred)*100),decimals = 2))\n",
    "    print('F1 score with k=',optimum_k,' is ' , np.round((f1_score(Y_test, pred,average= 'macro')*100),decimals = 2))\n",
    "    print('Recall with k =',optimum_k,' is ' , np.round((recall_score(Y_test, pred,average= 'macro')*100),decimals = 2))\n",
    "    print('Precision with k =',optimum_k,' is ' , np.round((precision_score(Y_test, pred,average= 'macro')*100),decimals = 2))\n",
    "    print ('\\n Classification report  with k =',optimum_k,' is \\n ' , classification_report(Y_test,pred)) \n",
    "   \n",
    "    df_cm = pd.DataFrame(confusion_matrix(Y_test, pred), range(2),range(2))\n",
    "    sns.set(font_scale=1.4)\n",
    "    sns.heatmap(df_cm, annot=True,annot_kws={\"size\": 18}, fmt='g')\n",
    "    print(\"**************************\")\n",
    "    print(\"train_score is\",clf.score(X_train,Y_train))\n",
    "    print(\"***************************\")\n",
    "    print(\"test_score is\",clf.score(X_test,Y_test))"
   ]
  },
  {
   "cell_type": "code",
   "execution_count": 0,
   "metadata": {
    "colab": {},
    "colab_type": "code",
    "id": "OKz-Q4KqilwT"
   },
   "outputs": [],
   "source": []
  },
  {
   "cell_type": "markdown",
   "metadata": {
    "colab_type": "text",
    "id": "mjWymexjl7jY"
   },
   "source": [
    "# CROSS VALIDATION FOR  OPTIMAL K"
   ]
  },
  {
   "cell_type": "code",
   "execution_count": 0,
   "metadata": {
    "colab": {},
    "colab_type": "code",
    "id": "AE7mXEaqq-3J"
   },
   "outputs": [],
   "source": [
    "def optimal_k(X_train,Y_train):\n",
    "    List = list(range(0,20))\n",
    "    neighbors = list(filter(lambda x: x % 2 != 0, List))\n",
    "    \n",
    "    lb = preprocessing.LabelBinarizer()\n",
    "    Y_train = np.array([number[0] for number in lb.fit_transform(Y_train)])\n",
    "    cv_scores = []\n",
    "    from sklearn.neighbors import KNeighborsClassifier\n",
    "    from sklearn.cross_validation import cross_val_score\n",
    "\n",
    "    for k in tqdm(neighbors):\n",
    "     \n",
    "      knn = KNeighborsClassifier(n_neighbors=k)\n",
    "      scores = cross_val_score(knn, X_train, Y_train, cv=10, scoring='f1')\n",
    "      cv_scores.append(scores.mean())\n",
    "\n",
    "    MSE = [1 - x for x in cv_scores]\n",
    "\n",
    "    optimal_k = neighbors[MSE.index(min(MSE))]\n",
    "    print('\\nThe optimal number of neighbors is %d.' % optimal_k)\n",
    "\n",
    "\n",
    "    plt.figure(figsize=(10,6))\n",
    "    plt.plot(list(filter(lambda x: x % 2 != 0, List)),MSE,color='blue', linestyle='dashed', marker='o',\n",
    "             markerfacecolor='red', markersize=10)\n",
    "    plt.title('Error Rate vs. K Value')\n",
    "    plt.xlabel('K')\n",
    "    plt.ylabel('Error Rate')\n",
    "\n",
    "    print(\"the misclassification error for each k value is : \", np.round(MSE,3))\n",
    "    \n",
    "    return optimal_k"
   ]
  },
  {
   "cell_type": "markdown",
   "metadata": {
    "colab_type": "text",
    "id": "EsqMYyBfrhyb"
   },
   "source": [
    "# Bag of words -(LINEAR CLASSIFIER)"
   ]
  },
  {
   "cell_type": "code",
   "execution_count": 0,
   "metadata": {
    "colab": {},
    "colab_type": "code",
    "id": "jkgN20kUrkS6"
   },
   "outputs": [],
   "source": [
    "from sklearn.model_selection import train_test_split\n",
    "X_train,X_test,Y_train,Y_test=train_test_split(final_sample,final_score,test_size=0.3,shuffle=False)"
   ]
  },
  {
   "cell_type": "code",
   "execution_count": 0,
   "metadata": {
    "colab": {},
    "colab_type": "code",
    "id": "UxsJuNwQilwg"
   },
   "outputs": [],
   "source": [
    "from sklearn.feature_extraction.text import CountVectorizer\n",
    "\n",
    "count_vect = CountVectorizer(ngram_range=(1,1))\n",
    "Vocabulary = count_vect.fit_transform(X_train)\n"
   ]
  },
  {
   "cell_type": "code",
   "execution_count": 0,
   "metadata": {
    "colab": {},
    "colab_type": "code",
    "id": "qZEZ-Z4Rilwl"
   },
   "outputs": [],
   "source": [
    "bow_X_train=count_vect.transform(X_train)\n",
    "bow_X_test=count_vect.transform(X_test)"
   ]
  },
  {
   "cell_type": "code",
   "execution_count": 0,
   "metadata": {
    "colab": {},
    "colab_type": "code",
    "id": "Ep0tEAlJilwo"
   },
   "outputs": [],
   "source": [
    "from sklearn import preprocessing \n",
    "bow_X_train= preprocessing.normalize(bow_X_train)\n",
    "bow_X_test = preprocessing.normalize(bow_X_test)\n"
   ]
  },
  {
   "cell_type": "code",
   "execution_count": 27,
   "metadata": {
    "colab": {
     "base_uri": "https://localhost:8080/",
     "height": 541
    },
    "colab_type": "code",
    "id": "ZbPts2-Zilwr",
    "outputId": "63e4cc9c-2864-41ea-d527-9fc4d3354986"
   },
   "outputs": [
    {
     "name": "stderr",
     "output_type": "stream",
     "text": [
      "/usr/local/lib/python3.6/dist-packages/sklearn/cross_validation.py:41: DeprecationWarning: This module was deprecated in version 0.18 in favor of the model_selection module into which all the refactored classes and functions are moved. Also note that the interface of the new CV iterators are different from that of this module. This module will be removed in 0.20.\n",
      "  \"This module will be removed in 0.20.\", DeprecationWarning)\n",
      "100%|██████████| 10/10 [03:14<00:00, 19.90s/it]"
     ]
    },
    {
     "name": "stdout",
     "output_type": "stream",
     "text": [
      "\n",
      "The optimal number of neighbors is 11.\n",
      "the misclassification error for each k value is :  [0.078 0.061 0.057 0.055 0.055 0.055 0.056 0.056 0.056 0.057]\n"
     ]
    },
    {
     "name": "stderr",
     "output_type": "stream",
     "text": [
      "\n"
     ]
    },
    {
     "data": {
      "text/plain": [
       "11"
      ]
     },
     "execution_count": 27,
     "metadata": {
      "tags": []
     },
     "output_type": "execute_result"
    },
    {
     "data": {
      "image/png": "[encoded data removed]",
      "text/plain": [
       "<matplotlib.figure.Figure at 0x7f895ff87320>"
      ]
     },
     "metadata": {
      "tags": []
     },
     "output_type": "display_data"
    }
   ],
   "source": [
    "optimal_k(bow_X_train,Y_train)"
   ]
  },
  {
   "cell_type": "markdown",
   "metadata": {
    "colab_type": "text",
    "id": "3xMQmTmBilwv"
   },
   "source": [
    "# KNEIGHBORS CLASSIFIER for BOW"
   ]
  },
  {
   "cell_type": "code",
   "execution_count": 28,
   "metadata": {
    "colab": {
     "base_uri": "https://localhost:8080/",
     "height": 637
    },
    "colab_type": "code",
    "id": "6-ZI6km0ilww",
    "outputId": "3902ff22-c14d-4b31-80f9-b33792afbdc1"
   },
   "outputs": [
    {
     "name": "stdout",
     "output_type": "stream",
     "text": [
      " accuracy with k = 11  is  90.12\n",
      "F1 score with k= 11  is  54.1\n",
      "Recall with k = 11  is  53.55\n",
      "Precision with k = 11  is  83.46\n",
      "\n",
      " Classification report  with k = 11  is \n",
      "               precision    recall  f1-score   support\n",
      "\n",
      "   negative       0.77      0.07      0.13       937\n",
      "   positive       0.90      1.00      0.95      8063\n",
      "\n",
      "avg / total       0.89      0.90      0.86      9000\n",
      "\n",
      "**************************\n",
      "train_score is 0.9013809523809524\n",
      "***************************\n",
      "test_score is 0.9012222222222223\n"
     ]
    },
    {
     "data": {
      "image/png": "[encoded data removed]",
      "text/plain": [
       "<matplotlib.figure.Figure at 0x7f895ff87780>"
      ]
     },
     "metadata": {
      "tags": []
     },
     "output_type": "display_data"
    }
   ],
   "source": [
    " KNNCLASSIFIER(bow_X_train,Y_train,bow_X_test,Y_test,11)"
   ]
  },
  {
   "cell_type": "code",
   "execution_count": 0,
   "metadata": {
    "colab": {},
    "colab_type": "code",
    "id": "bqVziUVprN2r"
   },
   "outputs": [],
   "source": [
    "from sklearn.decomposition import TruncatedSVD\n",
    "tsvd = TruncatedSVD(n_components=300)\n",
    "\n",
    "Vocabulary = tsvd.fit_transform(bow_X_train)\n",
    "bow_X_Train_tsvd=tsvd.transform(bow_X_train)\n",
    "bow_X_Test_tsvd = tsvd.transform(bow_X_test)"
   ]
  },
  {
   "cell_type": "code",
   "execution_count": 29,
   "metadata": {
    "colab": {
     "base_uri": "https://localhost:8080/",
     "height": 34
    },
    "colab_type": "code",
    "id": "BDI1n1rEu0F8",
    "outputId": "97e91b5a-b331-4772-ce13-9c138983d310"
   },
   "outputs": [
    {
     "data": {
      "text/plain": [
       "(21000, 300)"
      ]
     },
     "execution_count": 29,
     "metadata": {
      "tags": []
     },
     "output_type": "execute_result"
    }
   ],
   "source": [
    "bow_X_Train_tsvd.shape"
   ]
  },
  {
   "cell_type": "code",
   "execution_count": 30,
   "metadata": {
    "colab": {
     "base_uri": "https://localhost:8080/",
     "height": 637
    },
    "colab_type": "code",
    "id": "TqR7YjVWilw3",
    "outputId": "8becb48f-e0d9-4ba9-ea95-97e0fe595303"
   },
   "outputs": [
    {
     "name": "stdout",
     "output_type": "stream",
     "text": [
      " accuracy with k = 11  is  89.13\n",
      "F1 score with k= 11  is  54.87\n",
      "Recall with k = 11  is  53.99\n",
      "Precision with k = 11  is  65.54\n",
      "\n",
      " Classification report  with k = 11  is \n",
      "               precision    recall  f1-score   support\n",
      "\n",
      "   negative       0.41      0.10      0.16       937\n",
      "   positive       0.90      0.98      0.94      8063\n",
      "\n",
      "avg / total       0.85      0.89      0.86      9000\n",
      "\n",
      "**************************\n",
      "train_score is 0.8970952380952381\n",
      "***************************\n",
      "test_score is 0.8913333333333333\n"
     ]
    },
    {
     "data": {
      "image/png": "[encoded data removed]",
      "text/plain": [
       "<matplotlib.figure.Figure at 0x7fa7c6299358>"
      ]
     },
     "metadata": {
      "tags": []
     },
     "output_type": "display_data"
    }
   ],
   "source": [
    "KNNCLASSIFIERwithKDTREE(bow_X_Train_tsvd,Y_train,bow_X_Test_tsvd,Y_test,11)"
   ]
  },
  {
   "cell_type": "code",
   "execution_count": 0,
   "metadata": {
    "colab": {},
    "colab_type": "code",
    "id": "x5k691Zyilw6"
   },
   "outputs": [],
   "source": []
  },
  {
   "cell_type": "markdown",
   "metadata": {
    "colab_type": "text",
    "id": "PLRiprDvwj5l"
   },
   "source": [
    "## Linear Classifier for TFIDF"
   ]
  },
  {
   "cell_type": "code",
   "execution_count": 0,
   "metadata": {
    "colab": {},
    "colab_type": "code",
    "id": "SK8Xrjguw4kd"
   },
   "outputs": [],
   "source": [
    "from sklearn.model_selection import train_test_split\n",
    "X_train,X_test,Y_train,Y_test=train_test_split(final_sample,final_score,test_size=0.3,shuffle=False)"
   ]
  },
  {
   "cell_type": "code",
   "execution_count": 0,
   "metadata": {
    "colab": {},
    "colab_type": "code",
    "id": "uatQptN3xvWp"
   },
   "outputs": [],
   "source": [
    "from sklearn.feature_extraction.text import TfidfVectorizer\n",
    "\n",
    "tfidf_vect = TfidfVectorizer()\n",
    "Vocabulary = tfidf_vect.fit_transform(X_train)\n"
   ]
  },
  {
   "cell_type": "code",
   "execution_count": 0,
   "metadata": {
    "colab": {},
    "colab_type": "code",
    "id": "CmXVZOGqxvZx"
   },
   "outputs": [],
   "source": [
    "tfidf_X_train=tfidf_vect.transform(X_train)\n",
    "tfidf_X_test=tfidf_vect.transform(X_test)"
   ]
  },
  {
   "cell_type": "code",
   "execution_count": 0,
   "metadata": {
    "colab": {},
    "colab_type": "code",
    "id": "tbnqABb5xvct"
   },
   "outputs": [],
   "source": [
    "from sklearn import preprocessing \n",
    "tfidf_X_train= preprocessing.normalize(tfidf_X_train)\n",
    "tfidf_X_test = preprocessing.normalize(tfidf_X_test)"
   ]
  },
  {
   "cell_type": "code",
   "execution_count": 35,
   "metadata": {
    "colab": {
     "base_uri": "https://localhost:8080/",
     "height": 34
    },
    "colab_type": "code",
    "id": "A6-AqafIAC84",
    "outputId": "888912e5-3fe4-4ac2-b37a-d1002b5ff2ff"
   },
   "outputs": [
    {
     "data": {
      "text/plain": [
       "(21000, 18689)"
      ]
     },
     "execution_count": 35,
     "metadata": {
      "tags": []
     },
     "output_type": "execute_result"
    }
   ],
   "source": [
    "tfidf_X_train.shape"
   ]
  },
  {
   "cell_type": "code",
   "execution_count": 35,
   "metadata": {
    "colab": {
     "base_uri": "https://localhost:8080/",
     "height": 498
    },
    "colab_type": "code",
    "id": "bt5neJGRilxW",
    "outputId": "7400dc43-a090-4a00-9a95-d521c27d6228"
   },
   "outputs": [
    {
     "name": "stderr",
     "output_type": "stream",
     "text": [
      "100%|██████████| 10/10 [03:18<00:00, 20.34s/it]"
     ]
    },
    {
     "name": "stdout",
     "output_type": "stream",
     "text": [
      "\n",
      "The optimal number of neighbors is 9.\n",
      "the misclassification error for each k value is :  [0.081 0.06  0.055 0.055 0.054 0.055 0.055 0.055 0.055 0.055]\n"
     ]
    },
    {
     "name": "stderr",
     "output_type": "stream",
     "text": [
      "\n"
     ]
    },
    {
     "data": {
      "text/plain": [
       "9"
      ]
     },
     "execution_count": 35,
     "metadata": {
      "tags": []
     },
     "output_type": "execute_result"
    },
    {
     "data": {
      "image/png": "[encoded data removed]",
      "text/plain": [
       "<matplotlib.figure.Figure at 0x7f895dc774e0>"
      ]
     },
     "metadata": {
      "tags": []
     },
     "output_type": "display_data"
    }
   ],
   "source": [
    "optimal_k(tfidf_X_train,Y_train)"
   ]
  },
  {
   "cell_type": "code",
   "execution_count": 36,
   "metadata": {
    "colab": {
     "base_uri": "https://localhost:8080/",
     "height": 637
    },
    "colab_type": "code",
    "id": "Wpu_hRONilxZ",
    "outputId": "8ea1ad66-d517-41d3-ef2e-fc371f621b30"
   },
   "outputs": [
    {
     "name": "stdout",
     "output_type": "stream",
     "text": [
      " accuracy with k = 9  is  90.28\n",
      "F1 score with k= 9  is  55.31\n",
      "Recall with k = 9  is  54.25\n",
      "Precision with k = 9  is  85.39\n",
      "\n",
      " Classification report  with k = 9  is \n",
      "               precision    recall  f1-score   support\n",
      "\n",
      "   negative       0.80      0.09      0.16       937\n",
      "   positive       0.90      1.00      0.95      8063\n",
      "\n",
      "avg / total       0.89      0.90      0.87      9000\n",
      "\n",
      "**************************\n",
      "train_score is 0.9051904761904762\n",
      "***************************\n",
      "test_score is 0.9027777777777778\n"
     ]
    },
    {
     "data": {
      "image/png": "[encoded data removed]",
      "text/plain": [
       "<matplotlib.figure.Figure at 0x7f895dcccb00>"
      ]
     },
     "metadata": {
      "tags": []
     },
     "output_type": "display_data"
    }
   ],
   "source": [
    " KNNCLASSIFIER(tfidf_X_train,Y_train,tfidf_X_test,Y_test,9)"
   ]
  },
  {
   "cell_type": "code",
   "execution_count": 0,
   "metadata": {
    "colab": {},
    "colab_type": "code",
    "id": "rwr04bFZv5Vx"
   },
   "outputs": [],
   "source": [
    "from sklearn.decomposition import TruncatedSVD\n",
    "tsvd = TruncatedSVD(n_components=300)\n",
    "\n",
    "Vocabulary = tsvd.fit_transform(tfidf_X_train)\n",
    "tfidf_X_Train_tsvd=tsvd.transform(tfidf_X_train)\n",
    "tfidf_X_Test_tsvd = tsvd.transform(tfidf_X_test)"
   ]
  },
  {
   "cell_type": "code",
   "execution_count": 37,
   "metadata": {
    "colab": {
     "base_uri": "https://localhost:8080/",
     "height": 637
    },
    "colab_type": "code",
    "id": "_4KnatPg7RVS",
    "outputId": "7132eae0-7cbf-4adb-9ecf-1de992ea6057"
   },
   "outputs": [
    {
     "name": "stdout",
     "output_type": "stream",
     "text": [
      " accuracy with k = 9  is  88.8\n",
      "F1 score with k= 9  is  54.15\n",
      "Recall with k = 9  is  53.52\n",
      "Precision with k = 9  is  62.71\n",
      "\n",
      " Classification report  with k = 9  is \n",
      "               precision    recall  f1-score   support\n",
      "\n",
      "   negative       0.35      0.09      0.14       937\n",
      "   positive       0.90      0.98      0.94      8063\n",
      "\n",
      "avg / total       0.85      0.89      0.86      9000\n",
      "\n",
      "**************************\n",
      "train_score is 0.8999047619047619\n",
      "***************************\n",
      "test_score is 0.888\n"
     ]
    },
    {
     "data": {
      "image/png": "[encoded data removed]",
      "text/plain": [
       "<matplotlib.figure.Figure at 0x7fa7c12fe198>"
      ]
     },
     "metadata": {
      "tags": []
     },
     "output_type": "display_data"
    }
   ],
   "source": [
    "KNNCLASSIFIERwithKDTREE(tfidf_X_Train_tsvd ,Y_train,tfidf_X_Test_tsvd,Y_test,9)"
   ]
  },
  {
   "cell_type": "code",
   "execution_count": 0,
   "metadata": {
    "colab": {},
    "colab_type": "code",
    "id": "nutt0Hy0ilyW"
   },
   "outputs": [],
   "source": []
  },
  {
   "cell_type": "markdown",
   "metadata": {
    "colab_type": "text",
    "id": "Aopk6cX16Lk9"
   },
   "source": [
    "# Word 2 vec"
   ]
  },
  {
   "cell_type": "code",
   "execution_count": 0,
   "metadata": {
    "colab": {},
    "colab_type": "code",
    "id": "F2vFS4J4e8y6"
   },
   "outputs": [],
   "source": [
    "from sklearn.model_selection import train_test_split\n",
    "\n",
    "X_TRAIN,Y_TRAIN,X_TEST,Y_TEST = train_test_split(final_sample,final_score,test_size=0.3,shuffle=False)"
   ]
  },
  {
   "cell_type": "code",
   "execution_count": 23,
   "metadata": {
    "colab": {
     "base_uri": "https://localhost:8080/",
     "height": 34
    },
    "colab_type": "code",
    "id": "EAM40xENilyZ",
    "outputId": "8735c1bd-3fc8-4cf1-aedf-d74e2e00b6b1"
   },
   "outputs": [
    {
     "name": "stderr",
     "output_type": "stream",
     "text": [
      "100%|██████████| 21000/21000 [00:00<00:00, 39103.65it/s]\n"
     ]
    }
   ],
   "source": [
    "i=0\n",
    "list_of_sent1=[]\n",
    "for sent in tqdm(X_TRAIN):\n",
    "    \n",
    "    list_of_sent1.append(sent.split())"
   ]
  },
  {
   "cell_type": "code",
   "execution_count": 0,
   "metadata": {
    "colab": {},
    "colab_type": "code",
    "id": "zlTumdHby5O4"
   },
   "outputs": [],
   "source": [
    "w2v_model = gensim.models.Word2Vec(list_of_sent1,min_count=5,size=50, workers=4)"
   ]
  },
  {
   "cell_type": "code",
   "execution_count": 31,
   "metadata": {
    "colab": {
     "base_uri": "https://localhost:8080/",
     "height": 185
    },
    "colab_type": "code",
    "id": "ygnY_QikzQgv",
    "outputId": "218c0144-729c-4ba1-b074-45372f2e36b6"
   },
   "outputs": [
    {
     "data": {
      "text/plain": [
       "[('weird', 0.7680763602256775),\n",
       " ('prefer', 0.7477862238883972),\n",
       " ('normal', 0.7422328591346741),\n",
       " ('nasti', 0.733617901802063),\n",
       " ('horribl', 0.7307159304618835),\n",
       " ('aw', 0.729770302772522),\n",
       " ('real', 0.7209131717681885),\n",
       " ('think', 0.7150565385818481),\n",
       " ('sort', 0.714433491230011),\n",
       " ('bland', 0.7003095746040344)]"
      ]
     },
     "execution_count": 31,
     "metadata": {
      "tags": []
     },
     "output_type": "execute_result"
    }
   ],
   "source": [
    "w2v_model.most_similar(\"like\")"
   ]
  },
  {
   "cell_type": "code",
   "execution_count": 0,
   "metadata": {
    "colab": {},
    "colab_type": "code",
    "id": "LVl4DRGpilyl"
   },
   "outputs": [],
   "source": [
    "w2v_words = list(w2v_model.wv.vocab)\n"
   ]
  },
  {
   "cell_type": "code",
   "execution_count": 33,
   "metadata": {
    "colab": {
     "base_uri": "https://localhost:8080/",
     "height": 67
    },
    "colab_type": "code",
    "id": "h06O1cF7zQt3",
    "outputId": "fe9d053a-4ada-49a8-ee67-0e090036e7c1"
   },
   "outputs": [
    {
     "name": "stderr",
     "output_type": "stream",
     "text": [
      "100%|██████████| 21000/21000 [00:20<00:00, 1012.84it/s]"
     ]
    },
    {
     "name": "stdout",
     "output_type": "stream",
     "text": [
      "21000\n",
      "50\n"
     ]
    },
    {
     "name": "stderr",
     "output_type": "stream",
     "text": [
      "\n"
     ]
    }
   ],
   "source": [
    "sent_vectors = []; \n",
    "for sent in tqdm(list_of_sent1): \n",
    "    sent_vec = np.zeros(50)\n",
    "    cnt_words =0; \n",
    "    for word in sent:\n",
    "        if word in w2v_words:\n",
    "            vec = w2v_model.wv[word]\n",
    "            sent_vec += vec\n",
    "            cnt_words += 1\n",
    "    if cnt_words != 0:\n",
    "        sent_vec /= cnt_words\n",
    "    sent_vectors.append(sent_vec)\n",
    "print(len(sent_vectors))\n",
    "print(len(sent_vectors[0]))"
   ]
  },
  {
   "cell_type": "code",
   "execution_count": 0,
   "metadata": {
    "colab": {},
    "colab_type": "code",
    "id": "XORTMeMbAkc9"
   },
   "outputs": [],
   "source": [
    "savetofile(sent_vectors,\"sent_vectors\")"
   ]
  },
  {
   "cell_type": "markdown",
   "metadata": {
    "colab_type": "text",
    "id": "KjPR8rcAilyq"
   },
   "source": [
    "# AVG WORD2VEC"
   ]
  },
  {
   "cell_type": "code",
   "execution_count": 0,
   "metadata": {
    "colab": {},
    "colab_type": "code",
    "id": "PFjo5K42y5Si"
   },
   "outputs": [],
   "source": [
    "final_w2v_sample = np.array(sent_vectors)\n",
    "\n",
    "final_score_vec=final['Score'].values[0:len(final_w2v_sample)]\n",
    "from sklearn.model_selection import train_test_split\n",
    "X_train,X_test,Y_train,Y_test=train_test_split(final_w2v_sample,final_score_vec,test_size=0.3,shuffle=False)"
   ]
  },
  {
   "cell_type": "code",
   "execution_count": 0,
   "metadata": {
    "colab": {},
    "colab_type": "code",
    "id": "-Uk3IEGSilys"
   },
   "outputs": [],
   "source": [
    "from sklearn import preprocessing \n",
    "avgw2v_X_train= preprocessing.normalize(X_train)\n",
    "avgw2v_X_test = preprocessing.normalize(X_test)"
   ]
  },
  {
   "cell_type": "code",
   "execution_count": 41,
   "metadata": {
    "colab": {
     "base_uri": "https://localhost:8080/",
     "height": 487
    },
    "colab_type": "code",
    "id": "00FohWUUoWlG",
    "outputId": "e65ce4af-80a7-424f-a1da-64cf1c281b5d"
   },
   "outputs": [
    {
     "name": "stderr",
     "output_type": "stream",
     "text": [
      "100%|██████████| 10/10 [03:36<00:00, 24.28s/it]"
     ]
    },
    {
     "name": "stdout",
     "output_type": "stream",
     "text": [
      "\n",
      "The optimal number of neighbors is 9.\n",
      "the misclassification error for each k value is :  [0.08  0.062 0.058 0.056 0.054 0.055 0.055 0.055 0.055 0.055]\n"
     ]
    },
    {
     "name": "stderr",
     "output_type": "stream",
     "text": [
      "\n"
     ]
    },
    {
     "data": {
      "text/plain": [
       "9"
      ]
     },
     "execution_count": 41,
     "metadata": {
      "tags": []
     },
     "output_type": "execute_result"
    },
    {
     "data": {
      "image/png": "[encoded data removed]",
      "text/plain": [
       "<matplotlib.figure.Figure at 0x7f2d7e7af978>"
      ]
     },
     "metadata": {
      "tags": []
     },
     "output_type": "display_data"
    }
   ],
   "source": [
    "optimal_k(avgw2v_X_train,Y_train)"
   ]
  },
  {
   "cell_type": "code",
   "execution_count": 42,
   "metadata": {
    "colab": {
     "base_uri": "https://localhost:8080/",
     "height": 637
    },
    "colab_type": "code",
    "id": "BdDXIhHrilyv",
    "outputId": "bbfd821c-f2b5-4a34-e1ac-b66aeae643d3"
   },
   "outputs": [
    {
     "name": "stdout",
     "output_type": "stream",
     "text": [
      " accuracy with k = 9  is  89.14\n",
      "F1 score with k= 9  is  57.59\n",
      "Recall with k = 9  is  55.83\n",
      "Precision with k = 9  is  71.53\n",
      "\n",
      " Classification report  with k = 9  is \n",
      "               precision    recall  f1-score   support\n",
      "\n",
      "   negative       0.53      0.13      0.21       694\n",
      "   positive       0.90      0.99      0.94      5606\n",
      "\n",
      "avg / total       0.86      0.89      0.86      6300\n",
      "\n",
      "**************************\n",
      "train_score is 0.9096598639455782\n",
      "***************************\n",
      "test_score is 0.8914285714285715\n"
     ]
    },
    {
     "data": {
      "image/png": "[encoded data removed]",
      "text/plain": [
       "<matplotlib.figure.Figure at 0x7f2d821f04a8>"
      ]
     },
     "metadata": {
      "tags": []
     },
     "output_type": "display_data"
    }
   ],
   "source": [
    "KNNCLASSIFIER(avgw2v_X_train,Y_train,avgw2v_X_test,Y_test,9)"
   ]
  },
  {
   "cell_type": "code",
   "execution_count": 47,
   "metadata": {
    "colab": {
     "base_uri": "https://localhost:8080/",
     "height": 637
    },
    "colab_type": "code",
    "id": "fJNXfRF7ily2",
    "outputId": "43032a88-cb10-48fb-85be-ca2441382968"
   },
   "outputs": [
    {
     "name": "stdout",
     "output_type": "stream",
     "text": [
      " accuracy with k = 9  is  89.14\n",
      "F1 score with k= 9  is  57.59\n",
      "Recall with k = 9  is  55.83\n",
      "Precision with k = 9  is  71.53\n",
      "\n",
      " Classification report  with k = 9  is \n",
      "               precision    recall  f1-score   support\n",
      "\n",
      "   negative       0.53      0.13      0.21       694\n",
      "   positive       0.90      0.99      0.94      5606\n",
      "\n",
      "avg / total       0.86      0.89      0.86      6300\n",
      "\n",
      "**************************\n",
      "train_score is 0.9096598639455782\n",
      "***************************\n",
      "test_score is 0.8914285714285715\n"
     ]
    },
    {
     "data": {
      "image/png": "[encoded data removed]",
      "text/plain": [
       "<matplotlib.figure.Figure at 0x7f2d7e5d3588>"
      ]
     },
     "metadata": {
      "tags": []
     },
     "output_type": "display_data"
    }
   ],
   "source": [
    "KNNCLASSIFIERwithKDTREE(avgw2v_X_train,Y_train,avgw2v_X_test,Y_test,9)"
   ]
  },
  {
   "cell_type": "code",
   "execution_count": 45,
   "metadata": {
    "colab": {
     "base_uri": "https://localhost:8080/",
     "height": 34
    },
    "colab_type": "code",
    "id": "URvdVAtzily3",
    "outputId": "52bfae44-36b4-4644-8f45-39c84411f2b7"
   },
   "outputs": [
    {
     "data": {
      "text/plain": [
       "(14700, 50)"
      ]
     },
     "execution_count": 45,
     "metadata": {
      "tags": []
     },
     "output_type": "execute_result"
    }
   ],
   "source": [
    "avgw2v_X_train.shape"
   ]
  },
  {
   "cell_type": "markdown",
   "metadata": {
    "colab_type": "text",
    "id": "ZupAiFSnilzV"
   },
   "source": [
    "# TFIDF WORD 2 Vec"
   ]
  },
  {
   "cell_type": "code",
   "execution_count": 0,
   "metadata": {
    "colab": {},
    "colab_type": "code",
    "id": "Xzab9uXuilzV"
   },
   "outputs": [],
   "source": [
    "from sklearn.feature_extraction.text import TfidfVectorizer\n",
    "\n"
   ]
  },
  {
   "cell_type": "code",
   "execution_count": 0,
   "metadata": {
    "colab": {},
    "colab_type": "code",
    "id": "MBj3SQYoilzh"
   },
   "outputs": [],
   "source": [
    "model = TfidfVectorizer()\n",
    "tf_idf_matrix = model.fit_transform(final['CleanedText'].values)\n",
    "# we are converting a dictionary with word as a key, and the idf as a value\n",
    "dictionary = dict(zip(model.get_feature_names(), list(model.idf_)))"
   ]
  },
  {
   "cell_type": "code",
   "execution_count": 29,
   "metadata": {
    "colab": {
     "base_uri": "https://localhost:8080/",
     "height": 34
    },
    "colab_type": "code",
    "id": "3UETNz0Vilzn",
    "outputId": "dd128d9a-4560-4bac-9981-65ad72940093"
   },
   "outputs": [
    {
     "name": "stderr",
     "output_type": "stream",
     "text": [
      "100%|██████████| 21000/21000 [00:31<00:00, 660.13it/s]\n"
     ]
    }
   ],
   "source": [
    "tfidf_feat = model.get_feature_names() # tfidf words/col-names\n",
    "# final_tf_idf is the sparse matrix with row= sentence, col=word and cell_val = tfidf\n",
    "\n",
    "tfidf_sent_vectors = []; # the tfidf-w2v for each sentence/review is stored in this list\n",
    "row=0;\n",
    "for sent in tqdm(list_of_sent1): # for each review/sentence \n",
    "    sent_vec = np.zeros(50) # as word vectors are of zero length\n",
    "    weight_sum =0; # num of words with a valid vector in the sentence/review\n",
    "    for word in sent: # for each word in a review/sentence\n",
    "        if word in w2v_words:\n",
    "            vec = w2v_model.wv[word]\n",
    "#            \n",
    "            tf_idf = dictionary[word]*sent.count(word)\n",
    "            sent_vec += (vec * tf_idf)\n",
    "            weight_sum += tf_idf\n",
    "    if weight_sum != 0:\n",
    "        sent_vec /= weight_sum\n",
    "    tfidf_sent_vectors.append(sent_vec)\n",
    "    row += 1"
   ]
  },
  {
   "cell_type": "code",
   "execution_count": 0,
   "metadata": {
    "colab": {},
    "colab_type": "code",
    "id": "A3vzTrVVuCQ6"
   },
   "outputs": [],
   "source": [
    "savetofile (tfidf_sent_vectors,'tfidf_sent_vectors')"
   ]
  },
  {
   "cell_type": "code",
   "execution_count": 0,
   "metadata": {
    "colab": {},
    "colab_type": "code",
    "id": "041BAAqlilzo"
   },
   "outputs": [],
   "source": [
    "final_tfidf_sample=tfidf_sent_vectors\n",
    "final_score_vec=final['Score'].values[0:len(final_tfidf_sample)]"
   ]
  },
  {
   "cell_type": "code",
   "execution_count": 0,
   "metadata": {
    "colab": {},
    "colab_type": "code",
    "id": "gkMhirGFilzp"
   },
   "outputs": [],
   "source": [
    "from sklearn.model_selection import train_test_split\n",
    "X_train,X_test,Y_train,Y_test=train_test_split(final_tfidf_sample,final_score_vec,test_size=0.3,shuffle=False)"
   ]
  },
  {
   "cell_type": "code",
   "execution_count": 0,
   "metadata": {
    "colab": {},
    "colab_type": "code",
    "id": "E_9vyv-Jilzr"
   },
   "outputs": [],
   "source": [
    "from sklearn import preprocessing\n",
    "tfidf_w2v_X_train= preprocessing.normalize(X_train)\n",
    "tfidf_w2v_X_test= preprocessing.normalize(X_test)"
   ]
  },
  {
   "cell_type": "code",
   "execution_count": 54,
   "metadata": {
    "colab": {
     "base_uri": "https://localhost:8080/",
     "height": 498
    },
    "colab_type": "code",
    "id": "0JCaez5Vilzs",
    "outputId": "8fafd1ce-d87c-4f27-bde9-21e77ededcae"
   },
   "outputs": [
    {
     "name": "stderr",
     "output_type": "stream",
     "text": [
      "100%|██████████| 10/10 [03:50<00:00, 24.28s/it]"
     ]
    },
    {
     "name": "stdout",
     "output_type": "stream",
     "text": [
      "\n",
      "The optimal number of neighbors is 17.\n",
      "the misclassification error for each k value is :  [0.084 0.064 0.06  0.058 0.057 0.057 0.057 0.056 0.056 0.056]\n"
     ]
    },
    {
     "name": "stderr",
     "output_type": "stream",
     "text": [
      "\n"
     ]
    },
    {
     "data": {
      "text/plain": [
       "17"
      ]
     },
     "execution_count": 54,
     "metadata": {
      "tags": []
     },
     "output_type": "execute_result"
    },
    {
     "data": {
      "image/png": "[encoded data removed]",
      "text/plain": [
       "<matplotlib.figure.Figure at 0x7f2ded64e898>"
      ]
     },
     "metadata": {
      "tags": []
     },
     "output_type": "display_data"
    }
   ],
   "source": [
    "optimal_k(tfidf_w2v_X_train,Y_train)"
   ]
  },
  {
   "cell_type": "code",
   "execution_count": 55,
   "metadata": {
    "colab": {
     "base_uri": "https://localhost:8080/",
     "height": 637
    },
    "colab_type": "code",
    "id": "93IfJird4IwU",
    "outputId": "6a49a447-acff-49d8-87ac-17ce31d5aa67"
   },
   "outputs": [
    {
     "name": "stdout",
     "output_type": "stream",
     "text": [
      " accuracy with k = 17  is  89.21\n",
      "F1 score with k= 17  is  55.95\n",
      "Recall with k = 17  is  54.73\n",
      "Precision with k = 17  is  72.62\n",
      "\n",
      " Classification report  with k = 17  is \n",
      "               precision    recall  f1-score   support\n",
      "\n",
      "   negative       0.55      0.11      0.18       694\n",
      "   positive       0.90      0.99      0.94      5606\n",
      "\n",
      "avg / total       0.86      0.89      0.86      6300\n",
      "\n",
      "**************************\n",
      "train_score is 0.9002721088435374\n",
      "***************************\n",
      "test_score is 0.8920634920634921\n"
     ]
    },
    {
     "data": {
      "image/png": "[encoded data removed]",
      "text/plain": [
       "<matplotlib.figure.Figure at 0x7f2d7e517390>"
      ]
     },
     "metadata": {
      "tags": []
     },
     "output_type": "display_data"
    }
   ],
   "source": [
    "KNNCLASSIFIER(tfidf_w2v_X_train,Y_train,tfidf_w2v_X_test,Y_test,17)"
   ]
  },
  {
   "cell_type": "code",
   "execution_count": 37,
   "metadata": {
    "colab": {
     "base_uri": "https://localhost:8080/",
     "height": 637
    },
    "colab_type": "code",
    "id": "XG0Hmwzl4b1e",
    "outputId": "f56f965e-8c48-4473-8229-b5b45b1cec1a"
   },
   "outputs": [
    {
     "name": "stdout",
     "output_type": "stream",
     "text": [
      " accuracy with k = 17  is  89.1\n",
      "F1 score with k= 17  is  54.83\n",
      "Recall with k = 17  is  54.04\n",
      "Precision with k = 17  is  71.37\n",
      "\n",
      " Classification report  with k = 17  is \n",
      "               precision    recall  f1-score   support\n",
      "\n",
      "   negative       0.53      0.09      0.15       694\n",
      "   positive       0.90      0.99      0.94      5606\n",
      "\n",
      "avg / total       0.86      0.89      0.86      6300\n",
      "\n",
      "**************************\n",
      "train_score is 0.8991156462585034\n",
      "***************************\n",
      "test_score is 0.8909523809523809\n"
     ]
    },
    {
     "data": {
      "image/png": "[encoded data removed]",
      "text/plain": [
       "<matplotlib.figure.Figure at 0x7fe257ff9278>"
      ]
     },
     "metadata": {
      "tags": []
     },
     "output_type": "display_data"
    }
   ],
   "source": [
    "KNNCLASSIFIERwithKDTREE(tfidf_w2v_X_train,Y_train,tfidf_w2v_X_test,Y_test,17)"
   ]
  },
  {
   "cell_type": "markdown",
   "metadata": {},
   "source": [
    "# PERFORMANCE TABLE FOR KNN with BRUTE FORCE"
   ]
  },
  {
   "cell_type": "markdown",
   "metadata": {
    "colab": {},
    "colab_type": "code",
    "id": "N7LN8UUWilzw"
   },
   "source": [
    "|VECTORIZER | OPTIMAL K | TRAIN SCORE | TEST SCORE |\n",
    "| --- | --- | --- | --- |\n",
    "| BOW | 11 | 0.90 | 0.90 |\n",
    "| tfidf | 9 | 0.90 | 0.90 |\n",
    "| avg w2v | 9 | 0.90 | 0.89 |\n",
    "| tfidf w2v | 17 | 0.90 | 0.89 |\n"
   ]
  },
  {
   "cell_type": "markdown",
   "metadata": {},
   "source": [
    "# PERFORMANCE TABLE FOR KNN with KDTREE"
   ]
  },
  {
   "cell_type": "markdown",
   "metadata": {
    "colab": {},
    "colab_type": "code",
    "id": "g0qFQ48xilzz"
   },
   "source": [
    "|VECTORIZER | OPTIMAL K | TRAIN SCORE | TEST SCORE |\n",
    "| --- | --- | --- | --- |\n",
    "| BOW | 11 | 0.89 | 0.89 |\n",
    "| tfidf | 9 | 0.89 | 0.88 |\n",
    "| avg w2v | 9 | 0.90 | 0.89 |\n",
    "| tfidf w2v | 17 | 0.89 | 0.89 |"
   ]
  }
 ],
 "metadata": {
  "colab": {
   "collapsed_sections": [],
   "name": "KNNnew(RAHUL )",
   "provenance": [],
   "version": "0.3.2"
  },
  "kernelspec": {
   "display_name": "Python 3",
   "language": "python",
   "name": "python3"
  },
  "language_info": {
   "codemirror_mode": {
    "name": "ipython",
    "version": 3
   },
   "file_extension": ".py",
   "mimetype": "text/x-python",
   "name": "python",
   "nbconvert_exporter": "python",
   "pygments_lexer": "ipython3",
   "version": "3.6.5"
  }
 },
 "nbformat": 4,
 "nbformat_minor": 1
}
